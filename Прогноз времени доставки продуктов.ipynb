{
 "cells": [
  {
   "cell_type": "markdown",
   "id": "510aaead",
   "metadata": {},
   "source": [
    "**Прогноз времени доставки продуктов интрнет сервисом**"
   ]
  },
  {
   "cell_type": "markdown",
   "id": "04bdbb92",
   "metadata": {
    "toc": true
   },
   "source": [
    "<h1>Содержание<span class=\"tocSkip\"></span></h1>\n",
    "<div class=\"toc\"><ul class=\"toc-item\"><li><span><a href=\"#1.-Загрузка-необходимых-библиотек\" data-toc-modified-id=\"1.-Загрузка-необходимых-библиотек-1\">1. Загрузка необходимых библиотек</a></span></li><li><span><a href=\"#2.-Формирование-базы-данных,-выборка-и-получение-из-неё-датафрейма\" data-toc-modified-id=\"2.-Формирование-базы-данных,-выборка-и-получение-из-неё-датафрейма-2\">2. Формирование базы данных, выборка и получение из неё датафрейма</a></span></li><li><span><a href=\"#3.-Формирование-датафрейма-заказов\" data-toc-modified-id=\"3.-Формирование-датафрейма-заказов-3\">3. Формирование датафрейма заказов</a></span></li><li><span><a href=\"#4.-Формирование-признакового-датасета\" data-toc-modified-id=\"4.-Формирование-признакового-датасета-4\">4. Формирование признакового датасета</a></span><ul class=\"toc-item\"><li><span><a href=\"#4.1.-Выбор-признаков-и-группировка-датасета\" data-toc-modified-id=\"4.1.-Выбор-признаков-и-группировка-датасета-4.1\">4.1. Выбор признаков и группировка датасета</a></span></li><li><span><a href=\"#4.2.-Распределения-в-датасете\" data-toc-modified-id=\"4.2.-Распределения-в-датасете-4.2\">4.2. Распределения в датасете</a></span></li></ul></li><li><span><a href=\"#5.-Оптимизация-кодирования-и-нормализация-признаков-датасета\" data-toc-modified-id=\"5.-Оптимизация-кодирования-и-нормализация-признаков-датасета-5\">5. Оптимизация кодирования и нормализация признаков датасета</a></span></li><li><span><a href=\"#6.-Построение-алгоритмов-прогнозирования\" data-toc-modified-id=\"6.-Построение-алгоритмов-прогнозирования-6\">6. Построение алгоритмов прогнозирования</a></span><ul class=\"toc-item\"><li><span><a href=\"#6.1.-Общие-положения-для-алгоритмов-моделирования\" data-toc-modified-id=\"6.1.-Общие-положения-для-алгоритмов-моделирования-6.1\">6.1. Общие положения для алгоритмов моделирования</a></span></li><li><span><a href=\"#6.2.-Модель-&quot;Линейная-регресия&quot;\" data-toc-modified-id=\"6.2.-Модель-&quot;Линейная-регресия&quot;-6.2\">6.2. Модель \"Линейная регресия\"</a></span></li><li><span><a href=\"#6.3.-Модель-&quot;Дерево-приня-решения&quot;\" data-toc-modified-id=\"6.3.-Модель-&quot;Дерево-приня-решения&quot;-6.3\">6.3. Модель \"Дерево приня решения\"</a></span></li><li><span><a href=\"#6.4.-Модель-&quot;Случайный-лес-деревьев&quot;\" data-toc-modified-id=\"6.4.-Модель-&quot;Случайный-лес-деревьев&quot;-6.4\">6.4. Модель \"Случайный лес деревьев\"</a></span></li><li><span><a href=\"#6.5.-Укрупнение-диапазона-прогноза-дней-поставки\" data-toc-modified-id=\"6.5.-Укрупнение-диапазона-прогноза-дней-поставки-6.5\">6.5. Укрупнение диапазона прогноза дней поставки</a></span></li></ul></li></ul></div>"
   ]
  },
  {
   "cell_type": "markdown",
   "id": "637ed925",
   "metadata": {},
   "source": [
    "# 1. Загрузка необходимых библиотек"
   ]
  },
  {
   "cell_type": "code",
   "execution_count": 1,
   "id": "2f0f595a",
   "metadata": {
    "ExecuteTime": {
     "end_time": "2023-07-17T21:46:52.017960Z",
     "start_time": "2023-07-17T21:46:50.629311Z"
    }
   },
   "outputs": [],
   "source": [
    "# Импортируем библиотеки\n",
    "import pandas as pd\n",
    "import os\n",
    "import sqlite3\n",
    "import datetime as dt\n",
    "import typing as t\n",
    "\n",
    "from sklearn.impute import SimpleImputer # стратегия заполнения пропусков\n",
    "from sklearn.preprocessing import OneHotEncoder, OrdinalEncoder # кодирование категариальных фичей\n",
    "from sklearn.preprocessing import StandardScaler, MinMaxScaler # стратегии нормализации значений фичей\n",
    "\n",
    "from sklearn.linear_model import LinearRegression, LogisticRegression\n",
    "from sklearn.tree import DecisionTreeRegressor, DecisionTreeClassifier\n",
    "from sklearn.ensemble import RandomForestRegressor, RandomForestClassifier\n",
    "\n",
    "from sklearn.model_selection import cross_val_predict # механизм кросс-валидации\n",
    "from sklearn.metrics import mean_squared_error, roc_auc_score # метрика качества MSE, ROC_AUC"
   ]
  },
  {
   "cell_type": "markdown",
   "id": "84d3b3fd",
   "metadata": {},
   "source": [
    "# 2. Формирование базы данных, выборка и получение из неё датафрейма"
   ]
  },
  {
   "cell_type": "markdown",
   "id": "19b7e425",
   "metadata": {
    "ExecuteTime": {
     "end_time": "2023-07-10T16:20:13.061973Z",
     "start_time": "2023-07-10T16:20:08.122042Z"
    }
   },
   "source": [
    "Из-за большого объёма результата суммарного запроса к удалённой базе данных средства удалённого исполнения запроса \"зависают\". Для формировании базы локально - база скачена с удалённого сервера таблицами"
   ]
  },
  {
   "cell_type": "code",
   "execution_count": 2,
   "id": "75cc1aa7",
   "metadata": {
    "ExecuteTime": {
     "end_time": "2023-07-17T21:46:54.052477Z",
     "start_time": "2023-07-17T21:46:54.049130Z"
    }
   },
   "outputs": [],
   "source": [
    "# Читаем таблицs базы данных из файлов *.csv\n",
    "data_path = './Data/'\n",
    "tables = [elem[:-4] for elem in os.listdir(data_path) if elem[-4:] == '.csv']"
   ]
  },
  {
   "cell_type": "code",
   "execution_count": 3,
   "id": "59ca8b34",
   "metadata": {
    "ExecuteTime": {
     "end_time": "2023-07-17T21:46:55.208138Z",
     "start_time": "2023-07-17T21:46:55.199086Z"
    }
   },
   "outputs": [
    {
     "data": {
      "text/plain": [
       "['customers',\n",
       " 'products',\n",
       " 'orders',\n",
       " 'delivery_info',\n",
       " 'orders_product',\n",
       " 'app_sess']"
      ]
     },
     "execution_count": 3,
     "metadata": {},
     "output_type": "execute_result"
    }
   ],
   "source": [
    "tables"
   ]
  },
  {
   "cell_type": "code",
   "execution_count": 4,
   "id": "66a101d4",
   "metadata": {
    "ExecuteTime": {
     "end_time": "2023-07-17T21:46:56.256151Z",
     "start_time": "2023-07-17T21:46:56.117467Z"
    }
   },
   "outputs": [
    {
     "name": "stdout",
     "output_type": "stream",
     "text": [
      "База данных подключена\n",
      "\n",
      "Заполнены таблицы:\n",
      " - customers (500, 7), дубликатов 0, путсых ячеек 0;\n",
      " - products (15, 4), дубликатов 0, путсых ячеек 0;\n",
      " - orders (2950, 4), дубликатов 0, путсых ячеек 0;\n",
      " - delivery_info (3039, 4), дубликатов 0, путсых ячеек 0;\n",
      " - orders_product (5990, 3), дубликатов 0, путсых ячеек 0;\n",
      " - app_sess (5336, 5), дубликатов 0, путсых ячеек 84;\n",
      "\n",
      "Соединение с базой данных закрыто\n"
     ]
    }
   ],
   "source": [
    "# Создаём локальную базу данных (для экономии времени - без ограничений первичных ключей и типов полей)\n",
    "connection = sqlite3.connect(f'{data_path}skillbox')\n",
    "print('База данных подключена\\n')\n",
    "print('Заполнены таблицы:')\n",
    "for table in tables:\n",
    "    df = pd.read_csv(f'{data_path}{table}.csv')\n",
    "    df.to_sql(f'{table}', connection, if_exists='replace', index=False)\n",
    "    print(f' - {table} {df.shape}, '\n",
    "          f'дубликатов {len(df[df.duplicated()])}, '\n",
    "          f'путсых ячеек {df.isnull().sum().sum()};')\n",
    "cursor = connection.cursor()\n",
    "connection.close()\n",
    "print('\\nСоединение с базой данных закрыто')"
   ]
  },
  {
   "cell_type": "markdown",
   "id": "e8bd0871",
   "metadata": {},
   "source": [
    "# 3. Формирование датафрейма заказов"
   ]
  },
  {
   "cell_type": "code",
   "execution_count": 5,
   "id": "dd9aab8f",
   "metadata": {
    "ExecuteTime": {
     "end_time": "2023-07-17T21:46:58.452778Z",
     "start_time": "2023-07-17T21:46:58.449377Z"
    }
   },
   "outputs": [],
   "source": [
    "# Формируем запрос, объединяющий заказы и совокупное время их доставки\n",
    "# (убираем данные по заказам, в которых есть хотя бы одна не доставленная позиция)\n",
    "query_1 = \"\"\"\n",
    "            SELECT  o.order_id,\n",
    "                    o.order_dt,\n",
    "                    JULIANDAY(d.delivery_dt) - JULIANDAY(o.order_dt) as lead_time_per_day,\n",
    "                    o.payment_method\n",
    "            FROM orders o\n",
    "            INNER JOIN delivery_info d -- выбираем только заказы, на которые были назначены доставки (63% заказов)\n",
    "                    ON o.order_id = d.order_id\n",
    "            GROUP BY o.order_id\n",
    "            HAVING MIN(d.is_completed_flg) == 1 -- выбираем только заказы с полностью завершённой доставкой (24 заказов)\n",
    "            \n",
    "        \"\"\""
   ]
  },
  {
   "cell_type": "code",
   "execution_count": 6,
   "id": "3b521e31",
   "metadata": {
    "ExecuteTime": {
     "end_time": "2023-07-17T21:46:59.511456Z",
     "start_time": "2023-07-17T21:46:59.508349Z"
    }
   },
   "outputs": [],
   "source": [
    "# Формируем запрос, объединяющий заказы и продукты\n",
    "# (убираем данные по заказам, в которых есть хотя бы одна не доставленная позиция)\n",
    "query_2 = \"\"\"SELECT  op.order_id,\n",
    "                     op.product_id,\n",
    "                     op.amount,\n",
    "                     p.product_name,\n",
    "                     p.product_group_name,\n",
    "                     p.price\n",
    "            FROM orders_product op\n",
    "            INNER JOIN products p\n",
    "                    ON op.product_id = p.product_id\"\"\""
   ]
  },
  {
   "cell_type": "code",
   "execution_count": 7,
   "id": "e4f27cf0",
   "metadata": {
    "ExecuteTime": {
     "end_time": "2023-07-17T21:47:00.506730Z",
     "start_time": "2023-07-17T21:47:00.469749Z"
    }
   },
   "outputs": [
    {
     "name": "stdout",
     "output_type": "stream",
     "text": [
      "База данных подключена\n",
      "Датафрейм заполнен фичами и параметрами для расчёта целевой переменной\n",
      "Соединение с базой данных закрыто\n"
     ]
    }
   ],
   "source": [
    "# Заполняем датафрейм результатами запроса\n",
    "connection = sqlite3.connect(f'{data_path}skillbox')\n",
    "print('База данных подключена')\n",
    "# Загрузим датасет с заказами и временем доставки\n",
    "df_1 = pd.read_sql_query(query_1, connection)\n",
    "df_2 = pd.read_sql_query(query_2, connection)\n",
    "print('Датафрейм заполнен фичами и параметрами для расчёта целевой переменной')\n",
    "connection.close()\n",
    "print('Соединение с базой данных закрыто')"
   ]
  },
  {
   "cell_type": "code",
   "execution_count": 8,
   "id": "8adb71e9",
   "metadata": {
    "ExecuteTime": {
     "end_time": "2023-07-17T21:47:01.506748Z",
     "start_time": "2023-07-17T21:47:01.443238Z"
    }
   },
   "outputs": [
    {
     "data": {
      "text/html": [
       "<div>\n",
       "<style scoped>\n",
       "    .dataframe tbody tr th:only-of-type {\n",
       "        vertical-align: middle;\n",
       "    }\n",
       "\n",
       "    .dataframe tbody tr th {\n",
       "        vertical-align: top;\n",
       "    }\n",
       "\n",
       "    .dataframe thead th {\n",
       "        text-align: right;\n",
       "    }\n",
       "</style>\n",
       "<table border=\"1\" class=\"dataframe\">\n",
       "  <thead>\n",
       "    <tr style=\"text-align: right;\">\n",
       "      <th></th>\n",
       "      <th>order_id</th>\n",
       "      <th>product_id</th>\n",
       "      <th>amount</th>\n",
       "      <th>product_name</th>\n",
       "      <th>product_group_name</th>\n",
       "      <th>price</th>\n",
       "      <th>order_dt</th>\n",
       "      <th>lead_time_per_day</th>\n",
       "      <th>payment_method</th>\n",
       "      <th>total_price</th>\n",
       "      <th>day_week_order</th>\n",
       "      <th>day_month_order</th>\n",
       "      <th>month_order</th>\n",
       "    </tr>\n",
       "  </thead>\n",
       "  <tbody>\n",
       "    <tr>\n",
       "      <th>0</th>\n",
       "      <td>56277</td>\n",
       "      <td>2</td>\n",
       "      <td>31</td>\n",
       "      <td>Штаны</td>\n",
       "      <td>Одежда</td>\n",
       "      <td>2100</td>\n",
       "      <td>2020-11-27</td>\n",
       "      <td>27</td>\n",
       "      <td>0</td>\n",
       "      <td>65100</td>\n",
       "      <td>5</td>\n",
       "      <td>27</td>\n",
       "      <td>11</td>\n",
       "    </tr>\n",
       "    <tr>\n",
       "      <th>1</th>\n",
       "      <td>56277</td>\n",
       "      <td>8</td>\n",
       "      <td>31</td>\n",
       "      <td>Часы напольные</td>\n",
       "      <td>Часы</td>\n",
       "      <td>500</td>\n",
       "      <td>2020-11-27</td>\n",
       "      <td>27</td>\n",
       "      <td>0</td>\n",
       "      <td>15500</td>\n",
       "      <td>5</td>\n",
       "      <td>27</td>\n",
       "      <td>11</td>\n",
       "    </tr>\n",
       "    <tr>\n",
       "      <th>2</th>\n",
       "      <td>56277</td>\n",
       "      <td>14</td>\n",
       "      <td>9</td>\n",
       "      <td>Сок</td>\n",
       "      <td>Напитки</td>\n",
       "      <td>100</td>\n",
       "      <td>2020-11-27</td>\n",
       "      <td>27</td>\n",
       "      <td>0</td>\n",
       "      <td>900</td>\n",
       "      <td>5</td>\n",
       "      <td>27</td>\n",
       "      <td>11</td>\n",
       "    </tr>\n",
       "    <tr>\n",
       "      <th>3</th>\n",
       "      <td>56277</td>\n",
       "      <td>5</td>\n",
       "      <td>41</td>\n",
       "      <td>Часы наручные</td>\n",
       "      <td>Часы</td>\n",
       "      <td>1000</td>\n",
       "      <td>2020-11-27</td>\n",
       "      <td>27</td>\n",
       "      <td>0</td>\n",
       "      <td>41000</td>\n",
       "      <td>5</td>\n",
       "      <td>27</td>\n",
       "      <td>11</td>\n",
       "    </tr>\n",
       "    <tr>\n",
       "      <th>4</th>\n",
       "      <td>63941</td>\n",
       "      <td>12</td>\n",
       "      <td>18</td>\n",
       "      <td>Круассан</td>\n",
       "      <td>Продукты</td>\n",
       "      <td>50</td>\n",
       "      <td>2021-07-30</td>\n",
       "      <td>8</td>\n",
       "      <td>1</td>\n",
       "      <td>900</td>\n",
       "      <td>5</td>\n",
       "      <td>30</td>\n",
       "      <td>7</td>\n",
       "    </tr>\n",
       "    <tr>\n",
       "      <th>...</th>\n",
       "      <td>...</td>\n",
       "      <td>...</td>\n",
       "      <td>...</td>\n",
       "      <td>...</td>\n",
       "      <td>...</td>\n",
       "      <td>...</td>\n",
       "      <td>...</td>\n",
       "      <td>...</td>\n",
       "      <td>...</td>\n",
       "      <td>...</td>\n",
       "      <td>...</td>\n",
       "      <td>...</td>\n",
       "      <td>...</td>\n",
       "    </tr>\n",
       "    <tr>\n",
       "      <th>1409</th>\n",
       "      <td>71233</td>\n",
       "      <td>15</td>\n",
       "      <td>35</td>\n",
       "      <td>Вода</td>\n",
       "      <td>Напитки</td>\n",
       "      <td>20</td>\n",
       "      <td>2021-07-09</td>\n",
       "      <td>10</td>\n",
       "      <td>1</td>\n",
       "      <td>700</td>\n",
       "      <td>5</td>\n",
       "      <td>9</td>\n",
       "      <td>7</td>\n",
       "    </tr>\n",
       "    <tr>\n",
       "      <th>1410</th>\n",
       "      <td>14624</td>\n",
       "      <td>6</td>\n",
       "      <td>8</td>\n",
       "      <td>Часы с кукушкой</td>\n",
       "      <td>Часы</td>\n",
       "      <td>90000</td>\n",
       "      <td>2022-06-27</td>\n",
       "      <td>56</td>\n",
       "      <td>0</td>\n",
       "      <td>720000</td>\n",
       "      <td>1</td>\n",
       "      <td>27</td>\n",
       "      <td>6</td>\n",
       "    </tr>\n",
       "    <tr>\n",
       "      <th>1411</th>\n",
       "      <td>75540</td>\n",
       "      <td>3</td>\n",
       "      <td>26</td>\n",
       "      <td>Юбка</td>\n",
       "      <td>Одежда</td>\n",
       "      <td>10000</td>\n",
       "      <td>2022-04-17</td>\n",
       "      <td>58</td>\n",
       "      <td>0</td>\n",
       "      <td>260000</td>\n",
       "      <td>7</td>\n",
       "      <td>17</td>\n",
       "      <td>4</td>\n",
       "    </tr>\n",
       "    <tr>\n",
       "      <th>1412</th>\n",
       "      <td>18828</td>\n",
       "      <td>1</td>\n",
       "      <td>12</td>\n",
       "      <td>Носки</td>\n",
       "      <td>Одежда</td>\n",
       "      <td>500</td>\n",
       "      <td>2021-12-10</td>\n",
       "      <td>37</td>\n",
       "      <td>1</td>\n",
       "      <td>6000</td>\n",
       "      <td>5</td>\n",
       "      <td>10</td>\n",
       "      <td>12</td>\n",
       "    </tr>\n",
       "    <tr>\n",
       "      <th>1413</th>\n",
       "      <td>68807</td>\n",
       "      <td>5</td>\n",
       "      <td>46</td>\n",
       "      <td>Часы наручные</td>\n",
       "      <td>Часы</td>\n",
       "      <td>1000</td>\n",
       "      <td>2023-03-23</td>\n",
       "      <td>18</td>\n",
       "      <td>1</td>\n",
       "      <td>46000</td>\n",
       "      <td>4</td>\n",
       "      <td>23</td>\n",
       "      <td>3</td>\n",
       "    </tr>\n",
       "  </tbody>\n",
       "</table>\n",
       "<p>1414 rows × 13 columns</p>\n",
       "</div>"
      ],
      "text/plain": [
       "      order_id  product_id  amount     product_name product_group_name  price  \\\n",
       "0        56277           2      31            Штаны             Одежда   2100   \n",
       "1        56277           8      31   Часы напольные               Часы    500   \n",
       "2        56277          14       9              Сок            Напитки    100   \n",
       "3        56277           5      41    Часы наручные               Часы   1000   \n",
       "4        63941          12      18         Круассан           Продукты     50   \n",
       "...        ...         ...     ...              ...                ...    ...   \n",
       "1409     71233          15      35             Вода            Напитки     20   \n",
       "1410     14624           6       8  Часы с кукушкой               Часы  90000   \n",
       "1411     75540           3      26             Юбка             Одежда  10000   \n",
       "1412     18828           1      12            Носки             Одежда    500   \n",
       "1413     68807           5      46    Часы наручные               Часы   1000   \n",
       "\n",
       "        order_dt  lead_time_per_day  payment_method  total_price  \\\n",
       "0     2020-11-27                 27               0        65100   \n",
       "1     2020-11-27                 27               0        15500   \n",
       "2     2020-11-27                 27               0          900   \n",
       "3     2020-11-27                 27               0        41000   \n",
       "4     2021-07-30                  8               1          900   \n",
       "...          ...                ...             ...          ...   \n",
       "1409  2021-07-09                 10               1          700   \n",
       "1410  2022-06-27                 56               0       720000   \n",
       "1411  2022-04-17                 58               0       260000   \n",
       "1412  2021-12-10                 37               1         6000   \n",
       "1413  2023-03-23                 18               1        46000   \n",
       "\n",
       "      day_week_order  day_month_order  month_order  \n",
       "0                  5               27           11  \n",
       "1                  5               27           11  \n",
       "2                  5               27           11  \n",
       "3                  5               27           11  \n",
       "4                  5               30            7  \n",
       "...              ...              ...          ...  \n",
       "1409               5                9            7  \n",
       "1410               1               27            6  \n",
       "1411               7               17            4  \n",
       "1412               5               10           12  \n",
       "1413               4               23            3  \n",
       "\n",
       "[1414 rows x 13 columns]"
      ]
     },
     "execution_count": 8,
     "metadata": {},
     "output_type": "execute_result"
    }
   ],
   "source": [
    "# Объеденим в единый датафрейм: заказы, время их выполенния и сведения о продуктах в заказе\n",
    "df_3 = df_2.merge(df_1)\n",
    "df_3['total_price'] = df_3.amount * df_3.price\n",
    "df_3['payment_method'] = df_3['payment_method'].apply(lambda x: 1 if  x == 'online' else 0)\n",
    "df_3['day_week_order'] = df_3['order_dt'].apply(lambda x: dt.datetime.strptime(x, '%Y-%m-%d').isoweekday())\n",
    "df_3['day_month_order'] = df_3['order_dt'].apply(lambda x: dt.datetime.strptime(x, '%Y-%m-%d').day)\n",
    "df_3['month_order'] = df_3['order_dt'].apply(lambda x: dt.datetime.strptime(x, '%Y-%m-%d').month)\n",
    "df_3['lead_time_per_day'] = df_3['lead_time_per_day'].astype(int)\n",
    "df_3"
   ]
  },
  {
   "cell_type": "markdown",
   "id": "04aecf7e",
   "metadata": {},
   "source": [
    "# 4. Формирование признакового датасета"
   ]
  },
  {
   "cell_type": "markdown",
   "id": "0b915e51",
   "metadata": {},
   "source": [
    "## 4.1. Выбор признаков и группировка датасета"
   ]
  },
  {
   "cell_type": "markdown",
   "id": "67d43a84",
   "metadata": {},
   "source": [
    "**Признаки, которые могут отражать поведенческие патерны связанные с временем исполнения заказа**:  \n",
    "- метод платежа (поведенческая особенность покупателя, который может определять набор товаров),\n",
    "- количество групп товаров в заказе (разное время комплектование и/или доставки),\n",
    "- количество отдельных наименований товаров в заказе (разное время комплектование и/или доставки),\n",
    "- совокупное количество наименований товаров в заказе (разное время комплектование и/или доставки),\n",
    "- средняя цена товаров в заказе (разные цены характеризуют разнообразее комплектов товаров в заказе),\n",
    "- совокупная стоимость заказа (характеризует размер заказа),\n",
    "- параметры даты заказа: \"день недели\"/\"число месяца\"/\"месяц года\" (характеризуют рабочие дни, загрузку доставки, сезонность)."
   ]
  },
  {
   "cell_type": "code",
   "execution_count": 9,
   "id": "05718bfb",
   "metadata": {
    "ExecuteTime": {
     "end_time": "2023-07-17T21:47:05.276221Z",
     "start_time": "2023-07-17T21:47:05.250092Z"
    },
    "scrolled": true
   },
   "outputs": [
    {
     "data": {
      "text/html": [
       "<div>\n",
       "<style scoped>\n",
       "    .dataframe tbody tr th:only-of-type {\n",
       "        vertical-align: middle;\n",
       "    }\n",
       "\n",
       "    .dataframe tbody tr th {\n",
       "        vertical-align: top;\n",
       "    }\n",
       "\n",
       "    .dataframe thead th {\n",
       "        text-align: right;\n",
       "    }\n",
       "</style>\n",
       "<table border=\"1\" class=\"dataframe\">\n",
       "  <thead>\n",
       "    <tr style=\"text-align: right;\">\n",
       "      <th></th>\n",
       "      <th>day_week</th>\n",
       "      <th>day_month</th>\n",
       "      <th>month</th>\n",
       "      <th>pay_meth</th>\n",
       "      <th>group_count</th>\n",
       "      <th>prod_count</th>\n",
       "      <th>amount</th>\n",
       "      <th>avg_price</th>\n",
       "      <th>total_price</th>\n",
       "      <th>lead_time_per_day</th>\n",
       "    </tr>\n",
       "    <tr>\n",
       "      <th>order_id</th>\n",
       "      <th></th>\n",
       "      <th></th>\n",
       "      <th></th>\n",
       "      <th></th>\n",
       "      <th></th>\n",
       "      <th></th>\n",
       "      <th></th>\n",
       "      <th></th>\n",
       "      <th></th>\n",
       "      <th></th>\n",
       "    </tr>\n",
       "  </thead>\n",
       "  <tbody>\n",
       "    <tr>\n",
       "      <th>87</th>\n",
       "      <td>3</td>\n",
       "      <td>26</td>\n",
       "      <td>2</td>\n",
       "      <td>1</td>\n",
       "      <td>1</td>\n",
       "      <td>1</td>\n",
       "      <td>41</td>\n",
       "      <td>15000.000000</td>\n",
       "      <td>615000</td>\n",
       "      <td>60</td>\n",
       "    </tr>\n",
       "    <tr>\n",
       "      <th>109</th>\n",
       "      <td>2</td>\n",
       "      <td>13</td>\n",
       "      <td>9</td>\n",
       "      <td>0</td>\n",
       "      <td>2</td>\n",
       "      <td>2</td>\n",
       "      <td>69</td>\n",
       "      <td>510.000000</td>\n",
       "      <td>21960</td>\n",
       "      <td>51</td>\n",
       "    </tr>\n",
       "    <tr>\n",
       "      <th>184</th>\n",
       "      <td>7</td>\n",
       "      <td>30</td>\n",
       "      <td>8</td>\n",
       "      <td>1</td>\n",
       "      <td>1</td>\n",
       "      <td>2</td>\n",
       "      <td>77</td>\n",
       "      <td>6050.000000</td>\n",
       "      <td>540900</td>\n",
       "      <td>43</td>\n",
       "    </tr>\n",
       "    <tr>\n",
       "      <th>237</th>\n",
       "      <td>6</td>\n",
       "      <td>11</td>\n",
       "      <td>12</td>\n",
       "      <td>0</td>\n",
       "      <td>2</td>\n",
       "      <td>3</td>\n",
       "      <td>60</td>\n",
       "      <td>5023.333333</td>\n",
       "      <td>181380</td>\n",
       "      <td>33</td>\n",
       "    </tr>\n",
       "    <tr>\n",
       "      <th>276</th>\n",
       "      <td>7</td>\n",
       "      <td>26</td>\n",
       "      <td>6</td>\n",
       "      <td>1</td>\n",
       "      <td>1</td>\n",
       "      <td>1</td>\n",
       "      <td>47</td>\n",
       "      <td>5.000000</td>\n",
       "      <td>235</td>\n",
       "      <td>5</td>\n",
       "    </tr>\n",
       "    <tr>\n",
       "      <th>...</th>\n",
       "      <td>...</td>\n",
       "      <td>...</td>\n",
       "      <td>...</td>\n",
       "      <td>...</td>\n",
       "      <td>...</td>\n",
       "      <td>...</td>\n",
       "      <td>...</td>\n",
       "      <td>...</td>\n",
       "      <td>...</td>\n",
       "      <td>...</td>\n",
       "    </tr>\n",
       "    <tr>\n",
       "      <th>97756</th>\n",
       "      <td>7</td>\n",
       "      <td>16</td>\n",
       "      <td>4</td>\n",
       "      <td>0</td>\n",
       "      <td>2</td>\n",
       "      <td>4</td>\n",
       "      <td>88</td>\n",
       "      <td>5150.000000</td>\n",
       "      <td>428000</td>\n",
       "      <td>59</td>\n",
       "    </tr>\n",
       "    <tr>\n",
       "      <th>97860</th>\n",
       "      <td>5</td>\n",
       "      <td>3</td>\n",
       "      <td>9</td>\n",
       "      <td>0</td>\n",
       "      <td>3</td>\n",
       "      <td>5</td>\n",
       "      <td>127</td>\n",
       "      <td>3720.000000</td>\n",
       "      <td>272550</td>\n",
       "      <td>24</td>\n",
       "    </tr>\n",
       "    <tr>\n",
       "      <th>98129</th>\n",
       "      <td>5</td>\n",
       "      <td>29</td>\n",
       "      <td>10</td>\n",
       "      <td>1</td>\n",
       "      <td>1</td>\n",
       "      <td>1</td>\n",
       "      <td>49</td>\n",
       "      <td>500.000000</td>\n",
       "      <td>24500</td>\n",
       "      <td>32</td>\n",
       "    </tr>\n",
       "    <tr>\n",
       "      <th>99166</th>\n",
       "      <td>7</td>\n",
       "      <td>30</td>\n",
       "      <td>10</td>\n",
       "      <td>0</td>\n",
       "      <td>4</td>\n",
       "      <td>4</td>\n",
       "      <td>73</td>\n",
       "      <td>392.500000</td>\n",
       "      <td>20850</td>\n",
       "      <td>52</td>\n",
       "    </tr>\n",
       "    <tr>\n",
       "      <th>99305</th>\n",
       "      <td>6</td>\n",
       "      <td>22</td>\n",
       "      <td>4</td>\n",
       "      <td>1</td>\n",
       "      <td>2</td>\n",
       "      <td>2</td>\n",
       "      <td>90</td>\n",
       "      <td>525.000000</td>\n",
       "      <td>51050</td>\n",
       "      <td>45</td>\n",
       "    </tr>\n",
       "  </tbody>\n",
       "</table>\n",
       "<p>615 rows × 10 columns</p>\n",
       "</div>"
      ],
      "text/plain": [
       "          day_week  day_month  month  pay_meth  group_count  prod_count  \\\n",
       "order_id                                                                  \n",
       "87               3         26      2         1            1           1   \n",
       "109              2         13      9         0            2           2   \n",
       "184              7         30      8         1            1           2   \n",
       "237              6         11     12         0            2           3   \n",
       "276              7         26      6         1            1           1   \n",
       "...            ...        ...    ...       ...          ...         ...   \n",
       "97756            7         16      4         0            2           4   \n",
       "97860            5          3      9         0            3           5   \n",
       "98129            5         29     10         1            1           1   \n",
       "99166            7         30     10         0            4           4   \n",
       "99305            6         22      4         1            2           2   \n",
       "\n",
       "          amount     avg_price  total_price  lead_time_per_day  \n",
       "order_id                                                        \n",
       "87            41  15000.000000       615000                 60  \n",
       "109           69    510.000000        21960                 51  \n",
       "184           77   6050.000000       540900                 43  \n",
       "237           60   5023.333333       181380                 33  \n",
       "276           47      5.000000          235                  5  \n",
       "...          ...           ...          ...                ...  \n",
       "97756         88   5150.000000       428000                 59  \n",
       "97860        127   3720.000000       272550                 24  \n",
       "98129         49    500.000000        24500                 32  \n",
       "99166         73    392.500000        20850                 52  \n",
       "99305         90    525.000000        51050                 45  \n",
       "\n",
       "[615 rows x 10 columns]"
      ]
     },
     "execution_count": 9,
     "metadata": {},
     "output_type": "execute_result"
    }
   ],
   "source": [
    "# Сгруппируем заказы, сформировав их признаки и целевую переменную\n",
    "df = df_3.groupby('order_id').agg({\n",
    "                                   'day_week_order': 'max',\n",
    "                                   'day_month_order': 'max',\n",
    "                                   'month_order': 'max',\n",
    "                                   'payment_method': 'max',\n",
    "                                   'product_group_name': 'nunique',\n",
    "                                   'product_name': 'nunique',\n",
    "                                   'amount': 'sum',\n",
    "                                   'price': 'mean',\n",
    "                                   'total_price': 'sum',\n",
    "                                   'lead_time_per_day': 'max'\n",
    "                                  })\n",
    "# Переименуем столбцы в более краткие и понятные названия\n",
    "df.rename(columns={\n",
    "                   'day_week_order': 'day_week',\n",
    "                   'day_month_order': 'day_month',\n",
    "                   'month_order': 'month',\n",
    "                   'payment_method': 'pay_meth',\n",
    "                   'product_group_name': 'group_count',\n",
    "                   'product_name': 'prod_count',\n",
    "                   'price': 'avg_price',\n",
    "                  },\n",
    "          inplace=True)\n",
    "df"
   ]
  },
  {
   "cell_type": "markdown",
   "id": "3a52fad1",
   "metadata": {},
   "source": [
    "## 4.2. Распределения в датасете"
   ]
  },
  {
   "cell_type": "code",
   "execution_count": 10,
   "id": "91a408f2",
   "metadata": {
    "ExecuteTime": {
     "end_time": "2023-07-17T21:47:08.403408Z",
     "start_time": "2023-07-17T21:47:07.468258Z"
    }
   },
   "outputs": [
    {
     "data": {
      "image/png": "[encoded data removed]",
      "text/plain": [
       "<Figure size 640x480 with 1 Axes>"
      ]
     },
     "metadata": {},
     "output_type": "display_data"
    }
   ],
   "source": [
    "# Распределение таргета датасета (дни доставки заказов)\n",
    "df.lead_time_per_day.hist();"
   ]
  },
  {
   "cell_type": "markdown",
   "id": "1893153f",
   "metadata": {},
   "source": [
    "**Вывод:** В датасете, принятом для обучения - таргет распределён приблизительно равномерно по всем знаячениям с отклонением +-30%."
   ]
  },
  {
   "cell_type": "code",
   "execution_count": 11,
   "id": "1de3ef90",
   "metadata": {
    "ExecuteTime": {
     "end_time": "2023-07-17T21:47:10.187359Z",
     "start_time": "2023-07-17T21:47:10.062779Z"
    }
   },
   "outputs": [
    {
     "data": {
      "image/png": "[encoded data removed]",
      "text/plain": [
       "<Figure size 640x480 with 1 Axes>"
      ]
     },
     "metadata": {},
     "output_type": "display_data"
    }
   ],
   "source": [
    "# Распределение дней недели, в которые делается заказ (дни доставки заказов)\n",
    "df.day_week.hist();"
   ]
  },
  {
   "cell_type": "code",
   "execution_count": 12,
   "id": "35b2bb83",
   "metadata": {
    "ExecuteTime": {
     "end_time": "2023-07-17T21:47:11.110413Z",
     "start_time": "2023-07-17T21:47:10.978840Z"
    }
   },
   "outputs": [
    {
     "data": {
      "image/png": "[encoded data removed]",
      "text/plain": [
       "<Figure size 640x480 with 1 Axes>"
      ]
     },
     "metadata": {},
     "output_type": "display_data"
    }
   ],
   "source": [
    "# Распределение дней месяцв, в которые делается заказ (дни доставки заказов)\n",
    "df.day_month.hist();"
   ]
  },
  {
   "cell_type": "code",
   "execution_count": 13,
   "id": "8fa0f53e",
   "metadata": {
    "ExecuteTime": {
     "end_time": "2023-07-17T21:47:12.090369Z",
     "start_time": "2023-07-17T21:47:11.961164Z"
    }
   },
   "outputs": [
    {
     "data": {
      "image/png": "[encoded data removed]",
      "text/plain": [
       "<Figure size 640x480 with 1 Axes>"
      ]
     },
     "metadata": {},
     "output_type": "display_data"
    }
   ],
   "source": [
    "# Распределение дней месяца, в которые делается заказ (дни доставки заказов)\n",
    "df.month.hist();"
   ]
  },
  {
   "cell_type": "markdown",
   "id": "9646d663",
   "metadata": {},
   "source": [
    "**Вывод:** в холодные месяцы года заказы фактически удваются, что свидетельствует о том что покупателям комфортнее делать заказы из дома в холожные периоды."
   ]
  },
  {
   "cell_type": "code",
   "execution_count": 14,
   "id": "93cb0914",
   "metadata": {
    "ExecuteTime": {
     "end_time": "2023-07-17T21:47:14.417369Z",
     "start_time": "2023-07-17T21:47:14.287013Z"
    }
   },
   "outputs": [
    {
     "data": {
      "image/png": "[encoded data removed]",
      "text/plain": [
       "<Figure size 640x480 with 1 Axes>"
      ]
     },
     "metadata": {},
     "output_type": "display_data"
    }
   ],
   "source": [
    "# Распределение методов оплаты заказа\n",
    "df.pay_meth.hist();"
   ]
  },
  {
   "cell_type": "markdown",
   "id": "6faa6a70",
   "metadata": {},
   "source": [
    "**Вывод:** Покупателей оплачивающих 'online' незначительно меньше, чем оплачивающих 'offline'."
   ]
  },
  {
   "cell_type": "code",
   "execution_count": 15,
   "id": "84235e13",
   "metadata": {
    "ExecuteTime": {
     "end_time": "2023-07-17T21:47:16.217025Z",
     "start_time": "2023-07-17T21:47:16.076501Z"
    }
   },
   "outputs": [
    {
     "data": {
      "image/png": "[encoded data removed]",
      "text/plain": [
       "<Figure size 640x480 with 1 Axes>"
      ]
     },
     "metadata": {},
     "output_type": "display_data"
    }
   ],
   "source": [
    "# Распределение количества названий групп товаров в заказе\n",
    "df.group_count.hist();"
   ]
  },
  {
   "cell_type": "markdown",
   "id": "f34ef277",
   "metadata": {},
   "source": [
    "**Вывод:** В основном покупатели делают заказы из 2, 1 или 3 групп товаров. Заказы с товарами из более 3 групп явлются редкими."
   ]
  },
  {
   "cell_type": "code",
   "execution_count": 16,
   "id": "29eeee21",
   "metadata": {
    "ExecuteTime": {
     "end_time": "2023-07-17T21:47:18.004356Z",
     "start_time": "2023-07-17T21:47:17.865389Z"
    }
   },
   "outputs": [
    {
     "data": {
      "image/png": "[encoded data removed]",
      "text/plain": [
       "<Figure size 640x480 with 1 Axes>"
      ]
     },
     "metadata": {},
     "output_type": "display_data"
    }
   ],
   "source": [
    "# Распределение количества названий товаров в заказе\n",
    "df.prod_count.hist();"
   ]
  },
  {
   "cell_type": "markdown",
   "id": "2f62a9f5",
   "metadata": {},
   "source": [
    "**Вывод:** В основном покупатели заказывают по 1, 2 или 3 названия товара. Заказы более 5 названий товаров являются редкими."
   ]
  },
  {
   "cell_type": "code",
   "execution_count": 17,
   "id": "53794022",
   "metadata": {
    "ExecuteTime": {
     "end_time": "2023-07-17T21:47:19.860894Z",
     "start_time": "2023-07-17T21:47:19.714529Z"
    }
   },
   "outputs": [
    {
     "data": {
      "image/png": "[encoded data removed]",
      "text/plain": [
       "<Figure size 640x480 with 1 Axes>"
      ]
     },
     "metadata": {},
     "output_type": "display_data"
    }
   ],
   "source": [
    "# Распределение количесвта товаров в заказе\n",
    "df.amount.hist();"
   ]
  },
  {
   "cell_type": "markdown",
   "id": "c38ee6fa",
   "metadata": {},
   "source": [
    "**Вывод:** В основном покупатели заказывают около 50 товаров на один заказ. Заказы с колечеством более 140 шт. товаров являются редкими."
   ]
  },
  {
   "cell_type": "code",
   "execution_count": 18,
   "id": "d8c9f2e1",
   "metadata": {
    "ExecuteTime": {
     "end_time": "2023-07-17T21:47:21.950808Z",
     "start_time": "2023-07-17T21:47:21.809716Z"
    }
   },
   "outputs": [
    {
     "data": {
      "image/png": "[encoded data removed]",
      "text/plain": [
       "<Figure size 640x480 with 1 Axes>"
      ]
     },
     "metadata": {},
     "output_type": "display_data"
    }
   ],
   "source": [
    "# Распределение средней цены заказа\n",
    "df.avg_price.hist();"
   ]
  },
  {
   "cell_type": "markdown",
   "id": "cf9f71dd",
   "metadata": {
    "ExecuteTime": {
     "end_time": "2023-07-15T20:34:06.700157Z",
     "start_time": "2023-07-15T20:34:06.694664Z"
    }
   },
   "source": [
    "**Вывод**: В основном цена заказа не более 35 тыс. Более дорогие заказы явлются редкими."
   ]
  },
  {
   "cell_type": "code",
   "execution_count": 19,
   "id": "d50acc67",
   "metadata": {
    "ExecuteTime": {
     "end_time": "2023-07-17T21:47:23.675867Z",
     "start_time": "2023-07-17T21:47:23.544437Z"
    }
   },
   "outputs": [
    {
     "data": {
      "image/png": "[encoded data removed]",
      "text/plain": [
       "<Figure size 640x480 with 1 Axes>"
      ]
     },
     "metadata": {},
     "output_type": "display_data"
    }
   ],
   "source": [
    "# Распределение полной стоимости заказаов\n",
    "df.total_price.hist();"
   ]
  },
  {
   "cell_type": "markdown",
   "id": "af051d37",
   "metadata": {
    "ExecuteTime": {
     "end_time": "2023-07-15T20:34:39.358295Z",
     "start_time": "2023-07-15T20:34:39.352232Z"
    }
   },
   "source": [
    "**Вывод**: В основном стоимости заказа не превышают 1 млн., более дорогие заказы явлются редкими."
   ]
  },
  {
   "cell_type": "code",
   "execution_count": 20,
   "id": "ee193d2c",
   "metadata": {
    "ExecuteTime": {
     "end_time": "2023-07-17T21:47:25.235804Z",
     "start_time": "2023-07-17T21:47:25.218940Z"
    }
   },
   "outputs": [
    {
     "data": {
      "text/html": [
       "<div>\n",
       "<style scoped>\n",
       "    .dataframe tbody tr th:only-of-type {\n",
       "        vertical-align: middle;\n",
       "    }\n",
       "\n",
       "    .dataframe tbody tr th {\n",
       "        vertical-align: top;\n",
       "    }\n",
       "\n",
       "    .dataframe thead th {\n",
       "        text-align: right;\n",
       "    }\n",
       "</style>\n",
       "<table border=\"1\" class=\"dataframe\">\n",
       "  <thead>\n",
       "    <tr style=\"text-align: right;\">\n",
       "      <th></th>\n",
       "      <th>day_week</th>\n",
       "      <th>day_month</th>\n",
       "      <th>month</th>\n",
       "      <th>pay_meth</th>\n",
       "      <th>group_count</th>\n",
       "      <th>prod_count</th>\n",
       "      <th>amount</th>\n",
       "      <th>avg_price</th>\n",
       "      <th>total_price</th>\n",
       "      <th>lead_time_per_day</th>\n",
       "    </tr>\n",
       "    <tr>\n",
       "      <th>order_id</th>\n",
       "      <th></th>\n",
       "      <th></th>\n",
       "      <th></th>\n",
       "      <th></th>\n",
       "      <th></th>\n",
       "      <th></th>\n",
       "      <th></th>\n",
       "      <th></th>\n",
       "      <th></th>\n",
       "      <th></th>\n",
       "    </tr>\n",
       "  </thead>\n",
       "  <tbody>\n",
       "    <tr>\n",
       "      <th>87</th>\n",
       "      <td>3</td>\n",
       "      <td>26</td>\n",
       "      <td>2</td>\n",
       "      <td>1</td>\n",
       "      <td>1</td>\n",
       "      <td>1</td>\n",
       "      <td>41</td>\n",
       "      <td>15000.000000</td>\n",
       "      <td>615000</td>\n",
       "      <td>60</td>\n",
       "    </tr>\n",
       "    <tr>\n",
       "      <th>109</th>\n",
       "      <td>2</td>\n",
       "      <td>13</td>\n",
       "      <td>9</td>\n",
       "      <td>0</td>\n",
       "      <td>2</td>\n",
       "      <td>2</td>\n",
       "      <td>69</td>\n",
       "      <td>510.000000</td>\n",
       "      <td>21960</td>\n",
       "      <td>51</td>\n",
       "    </tr>\n",
       "    <tr>\n",
       "      <th>184</th>\n",
       "      <td>7</td>\n",
       "      <td>30</td>\n",
       "      <td>8</td>\n",
       "      <td>1</td>\n",
       "      <td>1</td>\n",
       "      <td>2</td>\n",
       "      <td>77</td>\n",
       "      <td>6050.000000</td>\n",
       "      <td>540900</td>\n",
       "      <td>43</td>\n",
       "    </tr>\n",
       "    <tr>\n",
       "      <th>237</th>\n",
       "      <td>6</td>\n",
       "      <td>11</td>\n",
       "      <td>12</td>\n",
       "      <td>0</td>\n",
       "      <td>2</td>\n",
       "      <td>3</td>\n",
       "      <td>60</td>\n",
       "      <td>5023.333333</td>\n",
       "      <td>181380</td>\n",
       "      <td>33</td>\n",
       "    </tr>\n",
       "    <tr>\n",
       "      <th>276</th>\n",
       "      <td>7</td>\n",
       "      <td>26</td>\n",
       "      <td>6</td>\n",
       "      <td>1</td>\n",
       "      <td>1</td>\n",
       "      <td>1</td>\n",
       "      <td>47</td>\n",
       "      <td>5.000000</td>\n",
       "      <td>235</td>\n",
       "      <td>5</td>\n",
       "    </tr>\n",
       "    <tr>\n",
       "      <th>...</th>\n",
       "      <td>...</td>\n",
       "      <td>...</td>\n",
       "      <td>...</td>\n",
       "      <td>...</td>\n",
       "      <td>...</td>\n",
       "      <td>...</td>\n",
       "      <td>...</td>\n",
       "      <td>...</td>\n",
       "      <td>...</td>\n",
       "      <td>...</td>\n",
       "    </tr>\n",
       "    <tr>\n",
       "      <th>97368</th>\n",
       "      <td>3</td>\n",
       "      <td>14</td>\n",
       "      <td>4</td>\n",
       "      <td>1</td>\n",
       "      <td>3</td>\n",
       "      <td>3</td>\n",
       "      <td>32</td>\n",
       "      <td>30333.333333</td>\n",
       "      <td>195000</td>\n",
       "      <td>14</td>\n",
       "    </tr>\n",
       "    <tr>\n",
       "      <th>97756</th>\n",
       "      <td>7</td>\n",
       "      <td>16</td>\n",
       "      <td>4</td>\n",
       "      <td>0</td>\n",
       "      <td>2</td>\n",
       "      <td>4</td>\n",
       "      <td>88</td>\n",
       "      <td>5150.000000</td>\n",
       "      <td>428000</td>\n",
       "      <td>59</td>\n",
       "    </tr>\n",
       "    <tr>\n",
       "      <th>97860</th>\n",
       "      <td>5</td>\n",
       "      <td>3</td>\n",
       "      <td>9</td>\n",
       "      <td>0</td>\n",
       "      <td>3</td>\n",
       "      <td>5</td>\n",
       "      <td>127</td>\n",
       "      <td>3720.000000</td>\n",
       "      <td>272550</td>\n",
       "      <td>24</td>\n",
       "    </tr>\n",
       "    <tr>\n",
       "      <th>98129</th>\n",
       "      <td>5</td>\n",
       "      <td>29</td>\n",
       "      <td>10</td>\n",
       "      <td>1</td>\n",
       "      <td>1</td>\n",
       "      <td>1</td>\n",
       "      <td>49</td>\n",
       "      <td>500.000000</td>\n",
       "      <td>24500</td>\n",
       "      <td>32</td>\n",
       "    </tr>\n",
       "    <tr>\n",
       "      <th>99305</th>\n",
       "      <td>6</td>\n",
       "      <td>22</td>\n",
       "      <td>4</td>\n",
       "      <td>1</td>\n",
       "      <td>2</td>\n",
       "      <td>2</td>\n",
       "      <td>90</td>\n",
       "      <td>525.000000</td>\n",
       "      <td>51050</td>\n",
       "      <td>45</td>\n",
       "    </tr>\n",
       "  </tbody>\n",
       "</table>\n",
       "<p>484 rows × 10 columns</p>\n",
       "</div>"
      ],
      "text/plain": [
       "          day_week  day_month  month  pay_meth  group_count  prod_count  \\\n",
       "order_id                                                                  \n",
       "87               3         26      2         1            1           1   \n",
       "109              2         13      9         0            2           2   \n",
       "184              7         30      8         1            1           2   \n",
       "237              6         11     12         0            2           3   \n",
       "276              7         26      6         1            1           1   \n",
       "...            ...        ...    ...       ...          ...         ...   \n",
       "97368            3         14      4         1            3           3   \n",
       "97756            7         16      4         0            2           4   \n",
       "97860            5          3      9         0            3           5   \n",
       "98129            5         29     10         1            1           1   \n",
       "99305            6         22      4         1            2           2   \n",
       "\n",
       "          amount     avg_price  total_price  lead_time_per_day  \n",
       "order_id                                                        \n",
       "87            41  15000.000000       615000                 60  \n",
       "109           69    510.000000        21960                 51  \n",
       "184           77   6050.000000       540900                 43  \n",
       "237           60   5023.333333       181380                 33  \n",
       "276           47      5.000000          235                  5  \n",
       "...          ...           ...          ...                ...  \n",
       "97368         32  30333.333333       195000                 14  \n",
       "97756         88   5150.000000       428000                 59  \n",
       "97860        127   3720.000000       272550                 24  \n",
       "98129         49    500.000000        24500                 32  \n",
       "99305         90    525.000000        51050                 45  \n",
       "\n",
       "[484 rows x 10 columns]"
      ]
     },
     "execution_count": 20,
     "metadata": {},
     "output_type": "execute_result"
    }
   ],
   "source": [
    "# Исключим из датасета записи со значпниями, которые редкие (то есть выбросами) и могут переобучить модель\n",
    "df = df[(df.group_count<4) & (df.prod_count<6) & (df.amount<141)\n",
    "        & (df.avg_price<35000) & (df.total_price<1000000)]\n",
    "df"
   ]
  },
  {
   "cell_type": "markdown",
   "id": "c15179db",
   "metadata": {},
   "source": [
    "# 5. Оптимизация кодирования и нормализация признаков датасета"
   ]
  },
  {
   "cell_type": "code",
   "execution_count": 21,
   "id": "df3015f8",
   "metadata": {
    "ExecuteTime": {
     "end_time": "2023-07-17T21:47:27.119099Z",
     "start_time": "2023-07-17T21:47:27.110763Z"
    },
    "scrolled": false
   },
   "outputs": [
    {
     "data": {
      "text/plain": [
       "day_week               7\n",
       "day_month             31\n",
       "month                 12\n",
       "pay_meth               2\n",
       "group_count            3\n",
       "prod_count             5\n",
       "amount               122\n",
       "avg_price            155\n",
       "total_price          409\n",
       "lead_time_per_day     60\n",
       "dtype: int64"
      ]
     },
     "execution_count": 21,
     "metadata": {},
     "output_type": "execute_result"
    }
   ],
   "source": [
    "# Количесвто уникальных значений в каждом имеющемся признаке\n",
    "df.nunique()"
   ]
  },
  {
   "cell_type": "markdown",
   "id": "90fddab7",
   "metadata": {},
   "source": [
    "**Выбранные стратегии дополнительной кодировки признаков и таргета**:\n",
    "1. Для повышения эффективности точности обучения модели - признаки `group_count` и `prod_count` возмозно закодировать стратегией OneHotEncoder, так как количество уникальных значений у них небольшое;  \n",
    "2. В связи с большим количесвтом уникальных значений у признаков `day_week`, `day_month`, `month`, `amount`, `avg_price`, `total_price` для экономии вычислительных ресурсов их кодировка стратегией OneHotEncoder не целесообразна. Данные признаки уже факически закодированы по принципу OrdinalEncoder. Для уравнивания влияния данных признаков при обучении проведём их нормализацию;  \n",
    "3. Признак `pay_meth` кодировать не надо, так как он уже закодирован как бинарный (то есть кодировка максимально эффективна);\n",
    "4. Целевая переменная `lead_time_per_day` остаётся в формате `int` и в дополнительнорй кодировке не нуждается, так как будет прогнозироваться регрессией."
   ]
  },
  {
   "cell_type": "code",
   "execution_count": 22,
   "id": "26fc6c4c",
   "metadata": {
    "ExecuteTime": {
     "end_time": "2023-07-17T21:47:28.762907Z",
     "start_time": "2023-07-17T21:47:28.734568Z"
    }
   },
   "outputs": [
    {
     "data": {
      "text/html": [
       "<div>\n",
       "<style scoped>\n",
       "    .dataframe tbody tr th:only-of-type {\n",
       "        vertical-align: middle;\n",
       "    }\n",
       "\n",
       "    .dataframe tbody tr th {\n",
       "        vertical-align: top;\n",
       "    }\n",
       "\n",
       "    .dataframe thead th {\n",
       "        text-align: right;\n",
       "    }\n",
       "</style>\n",
       "<table border=\"1\" class=\"dataframe\">\n",
       "  <thead>\n",
       "    <tr style=\"text-align: right;\">\n",
       "      <th></th>\n",
       "      <th>day_week</th>\n",
       "      <th>day_month</th>\n",
       "      <th>month</th>\n",
       "      <th>pay_meth</th>\n",
       "      <th>amount</th>\n",
       "      <th>avg_price</th>\n",
       "      <th>total_price</th>\n",
       "      <th>lead_time_per_day</th>\n",
       "      <th>group_count_1</th>\n",
       "      <th>group_count_2</th>\n",
       "      <th>group_count_3</th>\n",
       "      <th>prod_count_1</th>\n",
       "      <th>prod_count_2</th>\n",
       "      <th>prod_count_3</th>\n",
       "      <th>prod_count_4</th>\n",
       "      <th>prod_count_5</th>\n",
       "    </tr>\n",
       "    <tr>\n",
       "      <th>order_id</th>\n",
       "      <th></th>\n",
       "      <th></th>\n",
       "      <th></th>\n",
       "      <th></th>\n",
       "      <th></th>\n",
       "      <th></th>\n",
       "      <th></th>\n",
       "      <th></th>\n",
       "      <th></th>\n",
       "      <th></th>\n",
       "      <th></th>\n",
       "      <th></th>\n",
       "      <th></th>\n",
       "      <th></th>\n",
       "      <th></th>\n",
       "      <th></th>\n",
       "    </tr>\n",
       "  </thead>\n",
       "  <tbody>\n",
       "    <tr>\n",
       "      <th>87</th>\n",
       "      <td>3</td>\n",
       "      <td>26</td>\n",
       "      <td>2</td>\n",
       "      <td>1</td>\n",
       "      <td>41</td>\n",
       "      <td>15000.000000</td>\n",
       "      <td>615000</td>\n",
       "      <td>60</td>\n",
       "      <td>1.0</td>\n",
       "      <td>0.0</td>\n",
       "      <td>0.0</td>\n",
       "      <td>1.0</td>\n",
       "      <td>0.0</td>\n",
       "      <td>0.0</td>\n",
       "      <td>0.0</td>\n",
       "      <td>0.0</td>\n",
       "    </tr>\n",
       "    <tr>\n",
       "      <th>109</th>\n",
       "      <td>2</td>\n",
       "      <td>13</td>\n",
       "      <td>9</td>\n",
       "      <td>0</td>\n",
       "      <td>69</td>\n",
       "      <td>510.000000</td>\n",
       "      <td>21960</td>\n",
       "      <td>51</td>\n",
       "      <td>0.0</td>\n",
       "      <td>1.0</td>\n",
       "      <td>0.0</td>\n",
       "      <td>0.0</td>\n",
       "      <td>1.0</td>\n",
       "      <td>0.0</td>\n",
       "      <td>0.0</td>\n",
       "      <td>0.0</td>\n",
       "    </tr>\n",
       "    <tr>\n",
       "      <th>184</th>\n",
       "      <td>7</td>\n",
       "      <td>30</td>\n",
       "      <td>8</td>\n",
       "      <td>1</td>\n",
       "      <td>77</td>\n",
       "      <td>6050.000000</td>\n",
       "      <td>540900</td>\n",
       "      <td>43</td>\n",
       "      <td>1.0</td>\n",
       "      <td>0.0</td>\n",
       "      <td>0.0</td>\n",
       "      <td>0.0</td>\n",
       "      <td>1.0</td>\n",
       "      <td>0.0</td>\n",
       "      <td>0.0</td>\n",
       "      <td>0.0</td>\n",
       "    </tr>\n",
       "    <tr>\n",
       "      <th>237</th>\n",
       "      <td>6</td>\n",
       "      <td>11</td>\n",
       "      <td>12</td>\n",
       "      <td>0</td>\n",
       "      <td>60</td>\n",
       "      <td>5023.333333</td>\n",
       "      <td>181380</td>\n",
       "      <td>33</td>\n",
       "      <td>0.0</td>\n",
       "      <td>1.0</td>\n",
       "      <td>0.0</td>\n",
       "      <td>0.0</td>\n",
       "      <td>0.0</td>\n",
       "      <td>1.0</td>\n",
       "      <td>0.0</td>\n",
       "      <td>0.0</td>\n",
       "    </tr>\n",
       "    <tr>\n",
       "      <th>276</th>\n",
       "      <td>7</td>\n",
       "      <td>26</td>\n",
       "      <td>6</td>\n",
       "      <td>1</td>\n",
       "      <td>47</td>\n",
       "      <td>5.000000</td>\n",
       "      <td>235</td>\n",
       "      <td>5</td>\n",
       "      <td>1.0</td>\n",
       "      <td>0.0</td>\n",
       "      <td>0.0</td>\n",
       "      <td>1.0</td>\n",
       "      <td>0.0</td>\n",
       "      <td>0.0</td>\n",
       "      <td>0.0</td>\n",
       "      <td>0.0</td>\n",
       "    </tr>\n",
       "  </tbody>\n",
       "</table>\n",
       "</div>"
      ],
      "text/plain": [
       "          day_week  day_month  month  pay_meth  amount     avg_price  \\\n",
       "order_id                                                               \n",
       "87               3         26      2         1      41  15000.000000   \n",
       "109              2         13      9         0      69    510.000000   \n",
       "184              7         30      8         1      77   6050.000000   \n",
       "237              6         11     12         0      60   5023.333333   \n",
       "276              7         26      6         1      47      5.000000   \n",
       "\n",
       "          total_price  lead_time_per_day  group_count_1  group_count_2  \\\n",
       "order_id                                                                 \n",
       "87             615000                 60            1.0            0.0   \n",
       "109             21960                 51            0.0            1.0   \n",
       "184            540900                 43            1.0            0.0   \n",
       "237            181380                 33            0.0            1.0   \n",
       "276               235                  5            1.0            0.0   \n",
       "\n",
       "          group_count_3  prod_count_1  prod_count_2  prod_count_3  \\\n",
       "order_id                                                            \n",
       "87                  0.0           1.0           0.0           0.0   \n",
       "109                 0.0           0.0           1.0           0.0   \n",
       "184                 0.0           0.0           1.0           0.0   \n",
       "237                 0.0           0.0           0.0           1.0   \n",
       "276                 0.0           1.0           0.0           0.0   \n",
       "\n",
       "          prod_count_4  prod_count_5  \n",
       "order_id                              \n",
       "87                 0.0           0.0  \n",
       "109                0.0           0.0  \n",
       "184                0.0           0.0  \n",
       "237                0.0           0.0  \n",
       "276                0.0           0.0  "
      ]
     },
     "execution_count": 22,
     "metadata": {},
     "output_type": "execute_result"
    }
   ],
   "source": [
    "# Кодируем признаки group_count и prod_count сратегией OneHotEncoder\n",
    "for col in ['group_count', 'prod_count']:\n",
    "    ohe = OneHotEncoder(handle_unknown='ignore')\n",
    "    x_ohe = ohe.fit_transform(df[[col]])\n",
    "    encoder_df = pd.DataFrame(index= df.index, data=x_ohe.toarray(),\n",
    "                              columns=[str(col)+'_'+str(elem) for elem in ohe.categories_[0]])\n",
    "    df = df.join(encoder_df)\n",
    "    df.drop(columns=[col], axis=1, inplace=True)\n",
    "df.head(5)"
   ]
  },
  {
   "cell_type": "code",
   "execution_count": 23,
   "id": "45c22311",
   "metadata": {
    "ExecuteTime": {
     "end_time": "2023-07-17T21:47:29.604598Z",
     "start_time": "2023-07-17T21:47:29.564279Z"
    }
   },
   "outputs": [
    {
     "data": {
      "text/html": [
       "<div>\n",
       "<style scoped>\n",
       "    .dataframe tbody tr th:only-of-type {\n",
       "        vertical-align: middle;\n",
       "    }\n",
       "\n",
       "    .dataframe tbody tr th {\n",
       "        vertical-align: top;\n",
       "    }\n",
       "\n",
       "    .dataframe thead th {\n",
       "        text-align: right;\n",
       "    }\n",
       "</style>\n",
       "<table border=\"1\" class=\"dataframe\">\n",
       "  <thead>\n",
       "    <tr style=\"text-align: right;\">\n",
       "      <th></th>\n",
       "      <th>day_week</th>\n",
       "      <th>day_month</th>\n",
       "      <th>month</th>\n",
       "      <th>pay_meth</th>\n",
       "      <th>amount</th>\n",
       "      <th>avg_price</th>\n",
       "      <th>total_price</th>\n",
       "      <th>lead_time_per_day</th>\n",
       "      <th>group_count_1</th>\n",
       "      <th>group_count_2</th>\n",
       "      <th>group_count_3</th>\n",
       "      <th>prod_count_1</th>\n",
       "      <th>prod_count_2</th>\n",
       "      <th>prod_count_3</th>\n",
       "      <th>prod_count_4</th>\n",
       "      <th>prod_count_5</th>\n",
       "    </tr>\n",
       "    <tr>\n",
       "      <th>order_id</th>\n",
       "      <th></th>\n",
       "      <th></th>\n",
       "      <th></th>\n",
       "      <th></th>\n",
       "      <th></th>\n",
       "      <th></th>\n",
       "      <th></th>\n",
       "      <th></th>\n",
       "      <th></th>\n",
       "      <th></th>\n",
       "      <th></th>\n",
       "      <th></th>\n",
       "      <th></th>\n",
       "      <th></th>\n",
       "      <th></th>\n",
       "      <th></th>\n",
       "    </tr>\n",
       "  </thead>\n",
       "  <tbody>\n",
       "    <tr>\n",
       "      <th>87</th>\n",
       "      <td>0.333333</td>\n",
       "      <td>0.833333</td>\n",
       "      <td>0.090909</td>\n",
       "      <td>1</td>\n",
       "      <td>0.289855</td>\n",
       "      <td>0.445462</td>\n",
       "      <td>0.654947</td>\n",
       "      <td>60</td>\n",
       "      <td>1.0</td>\n",
       "      <td>0.0</td>\n",
       "      <td>0.0</td>\n",
       "      <td>1.0</td>\n",
       "      <td>0.0</td>\n",
       "      <td>0.0</td>\n",
       "      <td>0.0</td>\n",
       "      <td>0.0</td>\n",
       "    </tr>\n",
       "    <tr>\n",
       "      <th>109</th>\n",
       "      <td>0.166667</td>\n",
       "      <td>0.400000</td>\n",
       "      <td>0.727273</td>\n",
       "      <td>0</td>\n",
       "      <td>0.492754</td>\n",
       "      <td>0.015002</td>\n",
       "      <td>0.023371</td>\n",
       "      <td>51</td>\n",
       "      <td>0.0</td>\n",
       "      <td>1.0</td>\n",
       "      <td>0.0</td>\n",
       "      <td>0.0</td>\n",
       "      <td>1.0</td>\n",
       "      <td>0.0</td>\n",
       "      <td>0.0</td>\n",
       "      <td>0.0</td>\n",
       "    </tr>\n",
       "    <tr>\n",
       "      <th>184</th>\n",
       "      <td>1.000000</td>\n",
       "      <td>0.966667</td>\n",
       "      <td>0.636364</td>\n",
       "      <td>1</td>\n",
       "      <td>0.550725</td>\n",
       "      <td>0.179581</td>\n",
       "      <td>0.576032</td>\n",
       "      <td>43</td>\n",
       "      <td>1.0</td>\n",
       "      <td>0.0</td>\n",
       "      <td>0.0</td>\n",
       "      <td>0.0</td>\n",
       "      <td>1.0</td>\n",
       "      <td>0.0</td>\n",
       "      <td>0.0</td>\n",
       "      <td>0.0</td>\n",
       "    </tr>\n",
       "    <tr>\n",
       "      <th>237</th>\n",
       "      <td>0.833333</td>\n",
       "      <td>0.333333</td>\n",
       "      <td>1.000000</td>\n",
       "      <td>0</td>\n",
       "      <td>0.427536</td>\n",
       "      <td>0.149082</td>\n",
       "      <td>0.193150</td>\n",
       "      <td>33</td>\n",
       "      <td>0.0</td>\n",
       "      <td>1.0</td>\n",
       "      <td>0.0</td>\n",
       "      <td>0.0</td>\n",
       "      <td>0.0</td>\n",
       "      <td>1.0</td>\n",
       "      <td>0.0</td>\n",
       "      <td>0.0</td>\n",
       "    </tr>\n",
       "    <tr>\n",
       "      <th>276</th>\n",
       "      <td>1.000000</td>\n",
       "      <td>0.833333</td>\n",
       "      <td>0.454545</td>\n",
       "      <td>1</td>\n",
       "      <td>0.333333</td>\n",
       "      <td>0.000000</td>\n",
       "      <td>0.000234</td>\n",
       "      <td>5</td>\n",
       "      <td>1.0</td>\n",
       "      <td>0.0</td>\n",
       "      <td>0.0</td>\n",
       "      <td>1.0</td>\n",
       "      <td>0.0</td>\n",
       "      <td>0.0</td>\n",
       "      <td>0.0</td>\n",
       "      <td>0.0</td>\n",
       "    </tr>\n",
       "  </tbody>\n",
       "</table>\n",
       "</div>"
      ],
      "text/plain": [
       "          day_week  day_month     month  pay_meth    amount  avg_price  \\\n",
       "order_id                                                                 \n",
       "87        0.333333   0.833333  0.090909         1  0.289855   0.445462   \n",
       "109       0.166667   0.400000  0.727273         0  0.492754   0.015002   \n",
       "184       1.000000   0.966667  0.636364         1  0.550725   0.179581   \n",
       "237       0.833333   0.333333  1.000000         0  0.427536   0.149082   \n",
       "276       1.000000   0.833333  0.454545         1  0.333333   0.000000   \n",
       "\n",
       "          total_price  lead_time_per_day  group_count_1  group_count_2  \\\n",
       "order_id                                                                 \n",
       "87           0.654947                 60            1.0            0.0   \n",
       "109          0.023371                 51            0.0            1.0   \n",
       "184          0.576032                 43            1.0            0.0   \n",
       "237          0.193150                 33            0.0            1.0   \n",
       "276          0.000234                  5            1.0            0.0   \n",
       "\n",
       "          group_count_3  prod_count_1  prod_count_2  prod_count_3  \\\n",
       "order_id                                                            \n",
       "87                  0.0           1.0           0.0           0.0   \n",
       "109                 0.0           0.0           1.0           0.0   \n",
       "184                 0.0           0.0           1.0           0.0   \n",
       "237                 0.0           0.0           0.0           1.0   \n",
       "276                 0.0           1.0           0.0           0.0   \n",
       "\n",
       "          prod_count_4  prod_count_5  \n",
       "order_id                              \n",
       "87                 0.0           0.0  \n",
       "109                0.0           0.0  \n",
       "184                0.0           0.0  \n",
       "237                0.0           0.0  \n",
       "276                0.0           0.0  "
      ]
     },
     "execution_count": 23,
     "metadata": {},
     "output_type": "execute_result"
    }
   ],
   "source": [
    "# Нормализуем признаки day_week, day_month, month, amount, avg_price, total_price\n",
    "for col in ['day_week', 'day_month', 'month', 'amount', 'avg_price', 'total_price']:\n",
    "    mmsc = MinMaxScaler()\n",
    "    df[col] = mmsc.fit_transform(df[[col]])\n",
    "df.head(5)"
   ]
  },
  {
   "cell_type": "markdown",
   "id": "845a75bc",
   "metadata": {},
   "source": [
    "# 6. Построение алгоритмов прогнозирования"
   ]
  },
  {
   "cell_type": "markdown",
   "id": "2347158d",
   "metadata": {},
   "source": [
    "## 6.1. Общие положения для алгоритмов моделирования"
   ]
  },
  {
   "cell_type": "code",
   "execution_count": 24,
   "id": "63008f58",
   "metadata": {
    "ExecuteTime": {
     "end_time": "2023-07-17T21:47:32.536257Z",
     "start_time": "2023-07-17T21:47:32.528784Z"
    }
   },
   "outputs": [],
   "source": [
    "# Функция расчёта метрики ROC AUC\n",
    "def multipli_roc_auc(y: pd.DataFrame, y_pred: pd.DataFrame) -> t.NoReturn:\n",
    "    \"\"\"\n",
    "    Функция расчётм метрики ROC AUC для мультиклассов в предсказаниях\n",
    "    Параметры:\n",
    "        y (DataFrame):      вектор фактических значений целевой переменной\n",
    "        y_pred (DataFrame): вектор предсказанных значений целевой переменной\n",
    "    \"\"\"\n",
    "    df = pd.DataFrame(data={'y': list(y), 'y_pred': [round(ry) for ry in list(y_pred)]})\n",
    "    dfs = list()\n",
    "    for positive in set(y):\n",
    "        df['y_positive'] = df['y'].apply(lambda x: 1 if x == positive else 0)\n",
    "        df['y_pred_positive'] = df['y_pred'].apply(lambda x: 1 if x == positive else 0)\n",
    "        metric = round(roc_auc_score(df['y_positive'], df['y_pred_positive']), 2)\n",
    "        dfs.append(metric)\n",
    "    multimetric = round(sum(dfs) / len(dfs), 3)\n",
    "    print(f'Мульти метрика ROC AUC: {multimetric}')\n",
    "    print(f'Мульти метрика    Gini: {round(2 * multimetric - 1, 3)}')"
   ]
  },
  {
   "cell_type": "code",
   "execution_count": 25,
   "id": "64285825",
   "metadata": {
    "ExecuteTime": {
     "end_time": "2023-07-17T21:47:33.774782Z",
     "start_time": "2023-07-17T21:47:33.770398Z"
    }
   },
   "outputs": [
    {
     "name": "stdout",
     "output_type": "stream",
     "text": [
      "1 2 3 4 5 6 7 8 9 10 11 12 13 14 15 16 17 18 19 20 21 22 23 24 25 26 27 28 29 30 31 32 33 34 35 36 37 38 39 40 41 42 43 44 45 46 47 48 49 50 51 52 53 54 55 56 57 58 59 60\n"
     ]
    }
   ],
   "source": [
    "# Значения целевой переменной в обучающих данных\n",
    "print(' '.join([str(elem) for elem in sorted((df.lead_time_per_day.unique()))]))"
   ]
  },
  {
   "cell_type": "markdown",
   "id": "65f81b49",
   "metadata": {},
   "source": [
    "Поскольку:  \n",
    "1) целевая переменная измеряется непрерывными целыми числами - наиболее целесообразно применять алгоритм прогнозирования \"регресссия\",  \n",
    "2) диапазон изменения целевой переменной незначителен - натболее целесообразно выбрать метрику MSE и ROC AUC  \n",
    "\n",
    "Дополнительно: При получении прогнозов результат работы обученной модели целесообразно округлять до целого числа. Учитывая важность соответсвия `ожиданий клиента` и `прогноза периода доставки заказов` - целесообрахно в продакшене результаты прогноза дней доставки округлять до целого числа вверх."
   ]
  },
  {
   "cell_type": "code",
   "execution_count": 26,
   "id": "848fd6f1",
   "metadata": {
    "ExecuteTime": {
     "end_time": "2023-07-17T21:47:35.988040Z",
     "start_time": "2023-07-17T21:47:35.984066Z"
    }
   },
   "outputs": [],
   "source": [
    "# Зададим данные для обучения\n",
    "X = df.drop(['lead_time_per_day'], axis=1)\n",
    "y = df['lead_time_per_day']"
   ]
  },
  {
   "cell_type": "markdown",
   "id": "4a373186",
   "metadata": {},
   "source": [
    "## 6.2. Модель \"Линейная регресия\""
   ]
  },
  {
   "cell_type": "code",
   "execution_count": 27,
   "id": "984fe018",
   "metadata": {
    "ExecuteTime": {
     "end_time": "2023-07-17T21:47:40.469869Z",
     "start_time": "2023-07-17T21:47:38.376408Z"
    }
   },
   "outputs": [
    {
     "name": "stdout",
     "output_type": "stream",
     "text": [
      "Метрика MSE: 17.040830243576966\n",
      "Мульти метрика ROC AUC: 0.499\n",
      "Мульти метрика    Gini: -0.002\n"
     ]
    }
   ],
   "source": [
    "# Обучим модель \"Линейная регресия\"\n",
    "lr = LinearRegression()\n",
    "lr.fit(X, y)\n",
    "y_pred = lr.predict(X)\n",
    "print(f'Метрика MSE: {mean_squared_error(y_pred, y, squared=False)}')\n",
    "# Выведем мульти метрику ROC_AUC\n",
    "multipli_roc_auc(y, y_pred)"
   ]
  },
  {
   "cell_type": "code",
   "execution_count": 28,
   "id": "5f1b190f",
   "metadata": {
    "ExecuteTime": {
     "end_time": "2023-07-17T21:47:41.795313Z",
     "start_time": "2023-07-17T21:47:41.654836Z"
    }
   },
   "outputs": [
    {
     "name": "stdout",
     "output_type": "stream",
     "text": [
      "Метрика MSE: 17.575911590780855\n",
      "Мульти метрика ROC AUC: 0.501\n",
      "Мульти метрика    Gini: 0.002\n"
     ]
    }
   ],
   "source": [
    "# Проверка качества обучения модели кросс-валидацией\n",
    "y_pred = cross_val_predict(lr, X, y)\n",
    "print(f'Метрика MSE: {mean_squared_error(y_pred, y, squared=False)}')\n",
    "# Выведем мульти метрику ROC_AUC\n",
    "multipli_roc_auc(y, y_pred)"
   ]
  },
  {
   "cell_type": "markdown",
   "id": "c120b96b",
   "metadata": {},
   "source": [
    "**Вывод:** Значнеие ошибки прогнозирования при кроссвалидации значительно не изменилось, значит модель обучена корректно"
   ]
  },
  {
   "cell_type": "markdown",
   "id": "4c1d0ea3",
   "metadata": {},
   "source": [
    "## 6.3. Модель \"Дерево приня решения\""
   ]
  },
  {
   "cell_type": "code",
   "execution_count": 29,
   "id": "3ab5e6a1",
   "metadata": {
    "ExecuteTime": {
     "end_time": "2023-07-17T21:47:54.779220Z",
     "start_time": "2023-07-17T21:47:54.641775Z"
    }
   },
   "outputs": [
    {
     "name": "stdout",
     "output_type": "stream",
     "text": [
      "Метрика MSE: 0.0\n",
      "Мульти метрика ROC AUC: 1.0\n",
      "Мульти метрика    Gini: 1.0\n"
     ]
    }
   ],
   "source": [
    "# Обучим модель \"Дерево принятия решения\"\n",
    "tr = DecisionTreeRegressor()\n",
    "tr.fit(X, y)\n",
    "y_pred = tr.predict(X)\n",
    "print(f'Метрика MSE: {mean_squared_error(y_pred, y, squared=False)}')\n",
    "# Выведем мульти метрику ROC_AUC\n",
    "multipli_roc_auc(y, y_pred)"
   ]
  },
  {
   "cell_type": "markdown",
   "id": "ed44f5a0",
   "metadata": {},
   "source": [
    "**Вывод:** 100% точность предсказаний модели свидетельсвует о переобучении"
   ]
  },
  {
   "cell_type": "code",
   "execution_count": 30,
   "id": "7faaa123",
   "metadata": {
    "ExecuteTime": {
     "end_time": "2023-07-17T21:47:57.223830Z",
     "start_time": "2023-07-17T21:47:57.059585Z"
    }
   },
   "outputs": [
    {
     "name": "stdout",
     "output_type": "stream",
     "text": [
      "Метрика MSE: 24.59221135856091\n",
      "Мульти метрика ROC AUC: 0.494\n",
      "Мульти метрика    Gini: -0.012\n"
     ]
    }
   ],
   "source": [
    "# Проверка качества обучения модели кросс-валидацией\n",
    "y_pred = cross_val_predict(tr, X, y)\n",
    "print(f'Метрика MSE: {mean_squared_error(y_pred, y, squared=False)}')\n",
    "# Выведем мульти метрику ROC_AUC\n",
    "multipli_roc_auc(y, y_pred)"
   ]
  },
  {
   "cell_type": "markdown",
   "id": "52ebb38f",
   "metadata": {},
   "source": [
    "**Вывод**: Алгоритм склонен к переобучению, так как при кросвалидации появилась ошибка предсказаний, которая полностью отсутсвовала при прогнозировании моделью, обученной на всей выборке. Обучение с неограниченной глубиной дерева при кроссвалижации показывает ошибку предсказаний моделью \"Дерево принятия решения\" большую чем моделью \"Линейная регрессия\""
   ]
  },
  {
   "cell_type": "code",
   "execution_count": 31,
   "id": "99ad5366",
   "metadata": {
    "ExecuteTime": {
     "end_time": "2023-07-17T21:48:04.507318Z",
     "start_time": "2023-07-17T21:48:04.381837Z"
    }
   },
   "outputs": [
    {
     "name": "stdout",
     "output_type": "stream",
     "text": [
      "Метрика MSE: 17.188195139962236\n",
      "Мульти метрика ROC AUC: 0.501\n",
      "Мульти метрика    Gini: 0.002\n"
     ]
    }
   ],
   "source": [
    "# Ограничим глубину дерева для исклоючения переобучения модели\n",
    "tr = DecisionTreeRegressor(max_depth=1)\n",
    "tr.fit(X, y)\n",
    "y_pred = tr.predict(X)\n",
    "print(f'Метрика MSE: {mean_squared_error(y_pred, y, squared=False)}')\n",
    "# Выведем мульти метрику ROC_AUC\n",
    "multipli_roc_auc(y, y_pred)"
   ]
  },
  {
   "cell_type": "code",
   "execution_count": 32,
   "id": "8fe2a8f5",
   "metadata": {
    "ExecuteTime": {
     "end_time": "2023-07-17T21:48:08.504382Z",
     "start_time": "2023-07-17T21:48:08.357099Z"
    }
   },
   "outputs": [
    {
     "name": "stdout",
     "output_type": "stream",
     "text": [
      "Метрика MSE: 17.67235726669406\n",
      "Мульти метрика ROC AUC: 0.5\n",
      "Мульти метрика    Gini: 0.0\n"
     ]
    }
   ],
   "source": [
    "# Проверка качества обучения модели кросс-валидацией\n",
    "y_pred = cross_val_predict(tr, X, y)\n",
    "print(f'Метрика MSE: {mean_squared_error(y_pred, y, squared=False)}')\n",
    "# Выведем мульти метрику ROC_AUC\n",
    "multipli_roc_auc(y, y_pred)"
   ]
  },
  {
   "cell_type": "markdown",
   "id": "85719980",
   "metadata": {},
   "source": [
    "**Вывод**: Алгоритм \"Дерево принятия решений\" при ограничении глубины обучается лучше алгоритма \"Линейная регрессия\""
   ]
  },
  {
   "cell_type": "markdown",
   "id": "2d0966d8",
   "metadata": {},
   "source": [
    "## 6.4. Модель \"Случайный лес деревьев\""
   ]
  },
  {
   "cell_type": "code",
   "execution_count": 33,
   "id": "0ed1af67",
   "metadata": {
    "ExecuteTime": {
     "end_time": "2023-07-17T21:48:14.356567Z",
     "start_time": "2023-07-17T21:48:14.101007Z"
    }
   },
   "outputs": [
    {
     "name": "stdout",
     "output_type": "stream",
     "text": [
      "Метрика MSE: 17.114894963332098\n",
      "Мульти метрика ROC AUC: 0.498\n",
      "Мульти метрика    Gini: -0.004\n"
     ]
    }
   ],
   "source": [
    "# Обучим модель \"Дерево принятия решения\"\n",
    "rfr = RandomForestRegressor(max_depth=1)\n",
    "rfr.fit(X, y)\n",
    "y_pred = rfr.predict(X)\n",
    "print(f'Метрика MSE: {mean_squared_error(y_pred, y, squared=False)}')\n",
    "# Выведем мульти метрику ROC_AUC\n",
    "multipli_roc_auc(y, y_pred)"
   ]
  },
  {
   "cell_type": "markdown",
   "id": "2164bf6d",
   "metadata": {},
   "source": [
    "**Вывод:** точность предсказаний модели очень высокая, что может свидетельсвовать о переобучении"
   ]
  },
  {
   "cell_type": "code",
   "execution_count": 34,
   "id": "0cd7a1f3",
   "metadata": {
    "ExecuteTime": {
     "end_time": "2023-07-17T21:48:18.922631Z",
     "start_time": "2023-07-17T21:48:18.295779Z"
    }
   },
   "outputs": [
    {
     "name": "stdout",
     "output_type": "stream",
     "text": [
      "Метрика MSE: 17.410919877631994\n",
      "Мульти метрика ROC AUC: 0.498\n",
      "Мульти метрика    Gini: -0.004\n"
     ]
    }
   ],
   "source": [
    "# Проверка качества обучения модели кросс-валидацией\n",
    "y_pred = cross_val_predict(rfr, X, y)\n",
    "print(f'Метрика MSE: {mean_squared_error(y_pred, y, squared=False)}')\n",
    "# Выведем мульти метрику ROC_AUC\n",
    "multipli_roc_auc(y, y_pred)"
   ]
  },
  {
   "cell_type": "markdown",
   "id": "bf4104bf",
   "metadata": {},
   "source": [
    "**Вывод:** Алгоритм \"Случайный лес деревьев\" при ограничении глубины обучается лучше алгоритма \"Дерево принятия решения\". При этом низкое значение характеристики ROC AUC показывает что модель предсказывает значения классов или недостаточно точно или неполно."
   ]
  },
  {
   "cell_type": "markdown",
   "id": "da572c2a",
   "metadata": {},
   "source": [
    "## 6.5. Укрупнение диапазона прогноза дней поставки"
   ]
  },
  {
   "cell_type": "markdown",
   "id": "047c0288",
   "metadata": {},
   "source": [
    "Поскольку среднеквадратичное отклонение показывает ошибку прогноза около 10% от реальных велечин - для повышения качества прогноза с целью снижения недовольства клиентов задержкой доставки относительно прогнозного времени целесообразно укрупнить целевые значния до диапазонов нескольких дней."
   ]
  },
  {
   "cell_type": "code",
   "execution_count": 35,
   "id": "41e12159",
   "metadata": {
    "ExecuteTime": {
     "end_time": "2023-07-17T21:48:34.929273Z",
     "start_time": "2023-07-17T21:48:34.899610Z"
    }
   },
   "outputs": [
    {
     "data": {
      "text/html": [
       "<div>\n",
       "<style scoped>\n",
       "    .dataframe tbody tr th:only-of-type {\n",
       "        vertical-align: middle;\n",
       "    }\n",
       "\n",
       "    .dataframe tbody tr th {\n",
       "        vertical-align: top;\n",
       "    }\n",
       "\n",
       "    .dataframe thead th {\n",
       "        text-align: right;\n",
       "    }\n",
       "</style>\n",
       "<table border=\"1\" class=\"dataframe\">\n",
       "  <thead>\n",
       "    <tr style=\"text-align: right;\">\n",
       "      <th></th>\n",
       "      <th>day_week</th>\n",
       "      <th>day_month</th>\n",
       "      <th>month</th>\n",
       "      <th>pay_meth</th>\n",
       "      <th>amount</th>\n",
       "      <th>avg_price</th>\n",
       "      <th>total_price</th>\n",
       "      <th>lead_time_per_day</th>\n",
       "      <th>group_count_1</th>\n",
       "      <th>group_count_2</th>\n",
       "      <th>group_count_3</th>\n",
       "      <th>prod_count_1</th>\n",
       "      <th>prod_count_2</th>\n",
       "      <th>prod_count_3</th>\n",
       "      <th>prod_count_4</th>\n",
       "      <th>prod_count_5</th>\n",
       "    </tr>\n",
       "    <tr>\n",
       "      <th>order_id</th>\n",
       "      <th></th>\n",
       "      <th></th>\n",
       "      <th></th>\n",
       "      <th></th>\n",
       "      <th></th>\n",
       "      <th></th>\n",
       "      <th></th>\n",
       "      <th></th>\n",
       "      <th></th>\n",
       "      <th></th>\n",
       "      <th></th>\n",
       "      <th></th>\n",
       "      <th></th>\n",
       "      <th></th>\n",
       "      <th></th>\n",
       "      <th></th>\n",
       "    </tr>\n",
       "  </thead>\n",
       "  <tbody>\n",
       "    <tr>\n",
       "      <th>87</th>\n",
       "      <td>0.333333</td>\n",
       "      <td>0.833333</td>\n",
       "      <td>0.090909</td>\n",
       "      <td>1</td>\n",
       "      <td>0.289855</td>\n",
       "      <td>0.445462</td>\n",
       "      <td>0.654947</td>\n",
       "      <td>12</td>\n",
       "      <td>1.0</td>\n",
       "      <td>0.0</td>\n",
       "      <td>0.0</td>\n",
       "      <td>1.0</td>\n",
       "      <td>0.0</td>\n",
       "      <td>0.0</td>\n",
       "      <td>0.0</td>\n",
       "      <td>0.0</td>\n",
       "    </tr>\n",
       "    <tr>\n",
       "      <th>109</th>\n",
       "      <td>0.166667</td>\n",
       "      <td>0.400000</td>\n",
       "      <td>0.727273</td>\n",
       "      <td>0</td>\n",
       "      <td>0.492754</td>\n",
       "      <td>0.015002</td>\n",
       "      <td>0.023371</td>\n",
       "      <td>11</td>\n",
       "      <td>0.0</td>\n",
       "      <td>1.0</td>\n",
       "      <td>0.0</td>\n",
       "      <td>0.0</td>\n",
       "      <td>1.0</td>\n",
       "      <td>0.0</td>\n",
       "      <td>0.0</td>\n",
       "      <td>0.0</td>\n",
       "    </tr>\n",
       "    <tr>\n",
       "      <th>184</th>\n",
       "      <td>1.000000</td>\n",
       "      <td>0.966667</td>\n",
       "      <td>0.636364</td>\n",
       "      <td>1</td>\n",
       "      <td>0.550725</td>\n",
       "      <td>0.179581</td>\n",
       "      <td>0.576032</td>\n",
       "      <td>9</td>\n",
       "      <td>1.0</td>\n",
       "      <td>0.0</td>\n",
       "      <td>0.0</td>\n",
       "      <td>0.0</td>\n",
       "      <td>1.0</td>\n",
       "      <td>0.0</td>\n",
       "      <td>0.0</td>\n",
       "      <td>0.0</td>\n",
       "    </tr>\n",
       "    <tr>\n",
       "      <th>237</th>\n",
       "      <td>0.833333</td>\n",
       "      <td>0.333333</td>\n",
       "      <td>1.000000</td>\n",
       "      <td>0</td>\n",
       "      <td>0.427536</td>\n",
       "      <td>0.149082</td>\n",
       "      <td>0.193150</td>\n",
       "      <td>7</td>\n",
       "      <td>0.0</td>\n",
       "      <td>1.0</td>\n",
       "      <td>0.0</td>\n",
       "      <td>0.0</td>\n",
       "      <td>0.0</td>\n",
       "      <td>1.0</td>\n",
       "      <td>0.0</td>\n",
       "      <td>0.0</td>\n",
       "    </tr>\n",
       "    <tr>\n",
       "      <th>276</th>\n",
       "      <td>1.000000</td>\n",
       "      <td>0.833333</td>\n",
       "      <td>0.454545</td>\n",
       "      <td>1</td>\n",
       "      <td>0.333333</td>\n",
       "      <td>0.000000</td>\n",
       "      <td>0.000234</td>\n",
       "      <td>1</td>\n",
       "      <td>1.0</td>\n",
       "      <td>0.0</td>\n",
       "      <td>0.0</td>\n",
       "      <td>1.0</td>\n",
       "      <td>0.0</td>\n",
       "      <td>0.0</td>\n",
       "      <td>0.0</td>\n",
       "      <td>0.0</td>\n",
       "    </tr>\n",
       "    <tr>\n",
       "      <th>...</th>\n",
       "      <td>...</td>\n",
       "      <td>...</td>\n",
       "      <td>...</td>\n",
       "      <td>...</td>\n",
       "      <td>...</td>\n",
       "      <td>...</td>\n",
       "      <td>...</td>\n",
       "      <td>...</td>\n",
       "      <td>...</td>\n",
       "      <td>...</td>\n",
       "      <td>...</td>\n",
       "      <td>...</td>\n",
       "      <td>...</td>\n",
       "      <td>...</td>\n",
       "      <td>...</td>\n",
       "      <td>...</td>\n",
       "    </tr>\n",
       "    <tr>\n",
       "      <th>97368</th>\n",
       "      <td>0.333333</td>\n",
       "      <td>0.433333</td>\n",
       "      <td>0.272727</td>\n",
       "      <td>1</td>\n",
       "      <td>0.224638</td>\n",
       "      <td>0.900975</td>\n",
       "      <td>0.207655</td>\n",
       "      <td>3</td>\n",
       "      <td>0.0</td>\n",
       "      <td>0.0</td>\n",
       "      <td>1.0</td>\n",
       "      <td>0.0</td>\n",
       "      <td>0.0</td>\n",
       "      <td>1.0</td>\n",
       "      <td>0.0</td>\n",
       "      <td>0.0</td>\n",
       "    </tr>\n",
       "    <tr>\n",
       "      <th>97756</th>\n",
       "      <td>1.000000</td>\n",
       "      <td>0.500000</td>\n",
       "      <td>0.272727</td>\n",
       "      <td>0</td>\n",
       "      <td>0.630435</td>\n",
       "      <td>0.152844</td>\n",
       "      <td>0.455795</td>\n",
       "      <td>12</td>\n",
       "      <td>0.0</td>\n",
       "      <td>1.0</td>\n",
       "      <td>0.0</td>\n",
       "      <td>0.0</td>\n",
       "      <td>0.0</td>\n",
       "      <td>0.0</td>\n",
       "      <td>1.0</td>\n",
       "      <td>0.0</td>\n",
       "    </tr>\n",
       "    <tr>\n",
       "      <th>97860</th>\n",
       "      <td>0.666667</td>\n",
       "      <td>0.066667</td>\n",
       "      <td>0.727273</td>\n",
       "      <td>0</td>\n",
       "      <td>0.913043</td>\n",
       "      <td>0.110363</td>\n",
       "      <td>0.290244</td>\n",
       "      <td>5</td>\n",
       "      <td>0.0</td>\n",
       "      <td>0.0</td>\n",
       "      <td>1.0</td>\n",
       "      <td>0.0</td>\n",
       "      <td>0.0</td>\n",
       "      <td>0.0</td>\n",
       "      <td>0.0</td>\n",
       "      <td>1.0</td>\n",
       "    </tr>\n",
       "    <tr>\n",
       "      <th>98129</th>\n",
       "      <td>0.666667</td>\n",
       "      <td>0.933333</td>\n",
       "      <td>0.818182</td>\n",
       "      <td>1</td>\n",
       "      <td>0.347826</td>\n",
       "      <td>0.014705</td>\n",
       "      <td>0.026076</td>\n",
       "      <td>7</td>\n",
       "      <td>1.0</td>\n",
       "      <td>0.0</td>\n",
       "      <td>0.0</td>\n",
       "      <td>1.0</td>\n",
       "      <td>0.0</td>\n",
       "      <td>0.0</td>\n",
       "      <td>0.0</td>\n",
       "      <td>0.0</td>\n",
       "    </tr>\n",
       "    <tr>\n",
       "      <th>99305</th>\n",
       "      <td>0.833333</td>\n",
       "      <td>0.700000</td>\n",
       "      <td>0.272727</td>\n",
       "      <td>1</td>\n",
       "      <td>0.644928</td>\n",
       "      <td>0.015448</td>\n",
       "      <td>0.054351</td>\n",
       "      <td>9</td>\n",
       "      <td>0.0</td>\n",
       "      <td>1.0</td>\n",
       "      <td>0.0</td>\n",
       "      <td>0.0</td>\n",
       "      <td>1.0</td>\n",
       "      <td>0.0</td>\n",
       "      <td>0.0</td>\n",
       "      <td>0.0</td>\n",
       "    </tr>\n",
       "  </tbody>\n",
       "</table>\n",
       "<p>484 rows × 16 columns</p>\n",
       "</div>"
      ],
      "text/plain": [
       "          day_week  day_month     month  pay_meth    amount  avg_price  \\\n",
       "order_id                                                                 \n",
       "87        0.333333   0.833333  0.090909         1  0.289855   0.445462   \n",
       "109       0.166667   0.400000  0.727273         0  0.492754   0.015002   \n",
       "184       1.000000   0.966667  0.636364         1  0.550725   0.179581   \n",
       "237       0.833333   0.333333  1.000000         0  0.427536   0.149082   \n",
       "276       1.000000   0.833333  0.454545         1  0.333333   0.000000   \n",
       "...            ...        ...       ...       ...       ...        ...   \n",
       "97368     0.333333   0.433333  0.272727         1  0.224638   0.900975   \n",
       "97756     1.000000   0.500000  0.272727         0  0.630435   0.152844   \n",
       "97860     0.666667   0.066667  0.727273         0  0.913043   0.110363   \n",
       "98129     0.666667   0.933333  0.818182         1  0.347826   0.014705   \n",
       "99305     0.833333   0.700000  0.272727         1  0.644928   0.015448   \n",
       "\n",
       "          total_price  lead_time_per_day  group_count_1  group_count_2  \\\n",
       "order_id                                                                 \n",
       "87           0.654947                 12            1.0            0.0   \n",
       "109          0.023371                 11            0.0            1.0   \n",
       "184          0.576032                  9            1.0            0.0   \n",
       "237          0.193150                  7            0.0            1.0   \n",
       "276          0.000234                  1            1.0            0.0   \n",
       "...               ...                ...            ...            ...   \n",
       "97368        0.207655                  3            0.0            0.0   \n",
       "97756        0.455795                 12            0.0            1.0   \n",
       "97860        0.290244                  5            0.0            0.0   \n",
       "98129        0.026076                  7            1.0            0.0   \n",
       "99305        0.054351                  9            0.0            1.0   \n",
       "\n",
       "          group_count_3  prod_count_1  prod_count_2  prod_count_3  \\\n",
       "order_id                                                            \n",
       "87                  0.0           1.0           0.0           0.0   \n",
       "109                 0.0           0.0           1.0           0.0   \n",
       "184                 0.0           0.0           1.0           0.0   \n",
       "237                 0.0           0.0           0.0           1.0   \n",
       "276                 0.0           1.0           0.0           0.0   \n",
       "...                 ...           ...           ...           ...   \n",
       "97368               1.0           0.0           0.0           1.0   \n",
       "97756               0.0           0.0           0.0           0.0   \n",
       "97860               1.0           0.0           0.0           0.0   \n",
       "98129               0.0           1.0           0.0           0.0   \n",
       "99305               0.0           0.0           1.0           0.0   \n",
       "\n",
       "          prod_count_4  prod_count_5  \n",
       "order_id                              \n",
       "87                 0.0           0.0  \n",
       "109                0.0           0.0  \n",
       "184                0.0           0.0  \n",
       "237                0.0           0.0  \n",
       "276                0.0           0.0  \n",
       "...                ...           ...  \n",
       "97368              0.0           0.0  \n",
       "97756              1.0           0.0  \n",
       "97860              0.0           1.0  \n",
       "98129              0.0           0.0  \n",
       "99305              0.0           0.0  \n",
       "\n",
       "[484 rows x 16 columns]"
      ]
     },
     "execution_count": 35,
     "metadata": {},
     "output_type": "execute_result"
    }
   ],
   "source": [
    "# Укрупняем таргет от 1 дня до 5 дней\n",
    "def day_range(day: int) -> int:\n",
    "    \"\"\"\n",
    "        Функция приведения количества дней доставки к диапазонам количества дней доставки товара\n",
    "        \n",
    "        Параметры:\n",
    "            day (int): количество дней доставки\n",
    "        Выходные параметры (int)\n",
    "    \"\"\"\n",
    "    dr = 0\n",
    "    DAY_RNGE = 5\n",
    "    for ran in range(12):\n",
    "        if day in range((ran*DAY_RNGE+1), (ran*DAY_RNGE+1)+DAY_RNGE):\n",
    "            dr = ran+1\n",
    "            break\n",
    "    return dr\n",
    "\n",
    "\n",
    "df['lead_time_per_day'] = df['lead_time_per_day'].apply(lambda x: day_range(x))\n",
    "df"
   ]
  },
  {
   "cell_type": "code",
   "execution_count": 36,
   "id": "7db9e9e9",
   "metadata": {
    "ExecuteTime": {
     "end_time": "2023-07-17T21:48:36.791867Z",
     "start_time": "2023-07-17T21:48:36.787657Z"
    }
   },
   "outputs": [],
   "source": [
    "# Зададим обновлённые данные для обучения на датасете с таргетом,\n",
    "# преобразованным в укрупнённые диапазоны дней доставки\n",
    "X = df.drop(['lead_time_per_day'], axis=1)\n",
    "y = df['lead_time_per_day']"
   ]
  },
  {
   "cell_type": "code",
   "execution_count": 37,
   "id": "0f5e8147",
   "metadata": {
    "ExecuteTime": {
     "end_time": "2023-07-17T21:48:38.905627Z",
     "start_time": "2023-07-17T21:48:38.621406Z"
    }
   },
   "outputs": [
    {
     "name": "stdout",
     "output_type": "stream",
     "text": [
      "Метрика MSE: 1.3708645549795113\n",
      "Мульти метрика ROC AUC: 0.586\n",
      "Мульти метрика    Gini: 0.172\n"
     ]
    }
   ],
   "source": [
    "# Обучим лучшую модель (Случайный лес)\n",
    "rfr = RandomForestRegressor()\n",
    "rfr.fit(X, y)\n",
    "y_pred = rfr.predict(X)\n",
    "print(f'Метрика MSE: {mean_squared_error(y_pred, y, squared=False)}')\n",
    "# Выведем мульти метрику ROC_AUC\n",
    "multipli_roc_auc(y, y_pred)"
   ]
  },
  {
   "cell_type": "code",
   "execution_count": 39,
   "id": "56b773c4",
   "metadata": {
    "ExecuteTime": {
     "end_time": "2023-07-17T21:49:24.828339Z",
     "start_time": "2023-07-17T21:49:23.894302Z"
    }
   },
   "outputs": [
    {
     "name": "stdout",
     "output_type": "stream",
     "text": [
      "Метрика MSE: 3.706702355918519\n",
      "Мульти метрика ROC AUC: 0.503\n",
      "Мульти метрика    Gini: 0.006\n"
     ]
    }
   ],
   "source": [
    "# Проверка качества обучения модели кросс-валидацией\n",
    "y_pred = cross_val_predict(rfr, X, y)\n",
    "print(f'Метрика MSE: {mean_squared_error(y_pred, y, squared=False)}')\n",
    "# Выведем мульти метрику ROC_AUC\n",
    "multipli_roc_auc(y, y_pred)"
   ]
  },
  {
   "cell_type": "markdown",
   "id": "5aae26d4",
   "metadata": {},
   "source": [
    "**Вывод:** Укрупнение диапазонов целевой переменной значительно улучшило качество предсказаний, что видно из знаений метрик MSE и ROC AUC"
   ]
  }
 ],
 "metadata": {
  "kernelspec": {
   "display_name": "Python 3 (ipykernel)",
   "language": "python",
   "name": "python3"
  },
  "language_info": {
   "codemirror_mode": {
    "name": "ipython",
    "version": 3
   },
   "file_extension": ".py",
   "mimetype": "text/x-python",
   "name": "python",
   "nbconvert_exporter": "python",
   "pygments_lexer": "ipython3",
   "version": "3.9.13"
  },
  "toc": {
   "base_numbering": 1,
   "nav_menu": {},
   "number_sections": false,
   "sideBar": true,
   "skip_h1_title": false,
   "title_cell": "Содержание",
   "title_sidebar": "Contents",
   "toc_cell": true,
   "toc_position": {},
   "toc_section_display": true,
   "toc_window_display": false
  },
  "varInspector": {
   "cols": {
    "lenName": 16,
    "lenType": 16,
    "lenVar": 40
   },
   "kernels_config": {
    "python": {
     "delete_cmd_postfix": "",
     "delete_cmd_prefix": "del ",
     "library": "var_list.py",
     "varRefreshCmd": "print(var_dic_list())"
    },
    "r": {
     "delete_cmd_postfix": ") ",
     "delete_cmd_prefix": "rm(",
     "library": "var_list.r",
     "varRefreshCmd": "cat(var_dic_list()) "
    }
   },
   "types_to_exclude": [
    "module",
    "function",
    "builtin_function_or_method",
    "instance",
    "_Feature"
   ],
   "window_display": false
  }
 },
 "nbformat": 4,
 "nbformat_minor": 5
}
