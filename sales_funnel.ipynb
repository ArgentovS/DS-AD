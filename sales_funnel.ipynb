{
 "cells": [
  {
   "cell_type": "markdown",
   "id": "5ff7e187",
   "metadata": {},
   "source": [
    "Ноутбук 03.03.23  \n",
    "**Построение и сследование метрик брендов**\n",
    "Аргентов Сергей, г.Липецк  \n",
    "https://argentov.pro"
   ]
  },
  {
   "cell_type": "markdown",
   "id": "2096da3b",
   "metadata": {
    "toc": true
   },
   "source": [
    "<h1>СОДЕРЖАНИЕ<span class=\"tocSkip\"></span></h1>\n",
    "<div class=\"toc\"><ul class=\"toc-item\"><li><span><a href=\"#Раздел-1.-Группировка-данных-из-разных-источников-(модуль-7)\" data-toc-modified-id=\"Раздел-1.-Группировка-данных-из-разных-источников-(модуль-7)-1\">Раздел 1. Группировка данных из разных источников (модуль 7)</a></span></li><li><span><a href=\"#Раздел-2.-Поиск-аномалий-и-фалсификаций-данных-(модуль-8)\" data-toc-modified-id=\"Раздел-2.-Поиск-аномалий-и-фалсификаций-данных-(модуль-8)-2\">Раздел 2. Поиск аномалий и фалсификаций данных (модуль 8)</a></span><ul class=\"toc-item\"><li><span><a href=\"#2.1.-Проверим-и-удалим-в-данных-пропуски-и-ошибки-в-названиях-элементов-колонок-(просто-удалить-строки-с-пропусками-недостаточно)\" data-toc-modified-id=\"2.1.-Проверим-и-удалим-в-данных-пропуски-и-ошибки-в-названиях-элементов-колонок-(просто-удалить-строки-с-пропусками-недостаточно)-2.1\">2.1. Проверим и удалим в данных пропуски и ошибки в названиях элементов колонок (просто удалить строки с пропусками недостаточно)</a></span></li><li><span><a href=\"#2.2.-Проверка-наличия-строк,-соответствующих-каналу-'other'\" data-toc-modified-id=\"2.2.-Проверка-наличия-строк,-соответствующих-каналу-'other'-2.2\">2.2. Проверка наличия строк, соответствующих каналу 'other'</a></span></li><li><span><a href=\"#2.3.-Считаем,-сколько-уникальных-пользователей-зафиксировано-по-каждому-рекламному-каналу-в-разрезе-этапов-воронки-продаж\" data-toc-modified-id=\"2.3.-Считаем,-сколько-уникальных-пользователей-зафиксировано-по-каждому-рекламному-каналу-в-разрезе-этапов-воронки-продаж-2.3\">2.3. Считаем, сколько уникальных пользователей зафиксировано по каждому рекламному каналу в разрезе этапов воронки продаж</a></span></li><li><span><a href=\"#2.4.-Выявлене-ботов--и-иного-фрода-по-каждому-рекламному-каналу\" data-toc-modified-id=\"2.4.-Выявлене-ботов--и-иного-фрода-по-каждому-рекламному-каналу-2.4\">2.4. Выявлене ботов  и иного фрода по каждому рекламному каналу</a></span></li><li><span><a href=\"#2.5.-Построение-гистограммы-числа-действий,-совершаемых-пользователями-в-один-момент-времени\" data-toc-modified-id=\"2.5.-Построение-гистограммы-числа-действий,-совершаемых-пользователями-в-один-момент-времени-2.5\">2.5. Построение гистограммы числа действий, совершаемых пользователями в один момент времени</a></span></li><li><span><a href=\"#2.6.-Расчёт-процента-фродовых-пользователей-от-общего-числа-и-сохранение-фродовых-данных-в-отдельную-таблицу\" data-toc-modified-id=\"2.6.-Расчёт-процента-фродовых-пользователей-от-общего-числа-и-сохранение-фродовых-данных-в-отдельную-таблицу-2.6\">2.6. Расчёт процента фродовых пользователей от общего числа и сохранение фродовых данных в отдельную таблицу</a></span></li><li><span><a href=\"#2.7.-Дополнительно:-выявление-неконсистентных-данных-хроноологии-этапов-воронки-продаж\" data-toc-modified-id=\"2.7.-Дополнительно:-выявление-неконсистентных-данных-хроноологии-этапов-воронки-продаж-2.7\">2.7. Дополнительно: выявление неконсистентных данных хроноологии этапов воронки продаж</a></span><ul class=\"toc-item\"><li><span><a href=\"#2.7.1.-Последовательный-расчёт-по-всему-датасету-(55-минут-на-Intel-Core-i7)\" data-toc-modified-id=\"2.7.1.-Последовательный-расчёт-по-всему-датасету-(55-минут-на-Intel-Core-i7)-2.7.1\">2.7.1. Последовательный расчёт по всему датасету (55 минут на Intel Core i7)</a></span></li><li><span><a href=\"#2.7.2.-Оптимизированный-параллельный-расчёт-датасета-на-7-ядрах-CPU--(15-минут-на-Intel-Core-i7)\" data-toc-modified-id=\"2.7.2.-Оптимизированный-параллельный-расчёт-датасета-на-7-ядрах-CPU--(15-минут-на-Intel-Core-i7)-2.7.2\">2.7.2. Оптимизированный параллельный расчёт датасета на 7 ядрах CPU  (15 минут на Intel Core i7)</a></span></li></ul></li></ul></li><li><span><a href=\"#Раздел-3.-Факторный-анализ-(модуль-9)\" data-toc-modified-id=\"Раздел-3.-Факторный-анализ-(модуль-9)-3\">Раздел 3. Факторный анализ (модуль 9)</a></span><ul class=\"toc-item\"><li><span><a href=\"#3.1.-Кодировка-значений\" data-toc-modified-id=\"3.1.-Кодировка-значений-3.1\">3.1. Кодировка значений</a></span></li><li><span><a href=\"#3.2.-Расчёт-корреляций\" data-toc-modified-id=\"3.2.-Расчёт-корреляций-3.2\">3.2. Расчёт корреляций</a></span></li><li><span><a href=\"#3.3.-Факторный-анализ\" data-toc-modified-id=\"3.3.-Факторный-анализ-3.3\">3.3. Факторный анализ</a></span></li></ul></li></ul></div>"
   ]
  },
  {
   "cell_type": "markdown",
   "id": "4e60e7ea",
   "metadata": {},
   "source": [
    "# Раздел 1. Группировка данных из разных источников (модуль 7)"
   ]
  },
  {
   "cell_type": "code",
   "execution_count": 2,
   "id": "2848d731",
   "metadata": {
    "ExecuteTime": {
     "end_time": "2023-04-11T14:05:36.537072Z",
     "start_time": "2023-04-11T14:05:34.122702Z"
    }
   },
   "outputs": [],
   "source": [
    "# Загружаем библиотеки\n",
    "import os\n",
    "import pandas as pd\n",
    "import sqlite3 as bd\n",
    "import numpy as np\n",
    "import matplotlib.pyplot as plt\n",
    "import seaborn as sns\n",
    "import datetime as dt\n",
    "import time\n",
    "from tqdm import tqdm"
   ]
  },
  {
   "cell_type": "code",
   "execution_count": 24,
   "id": "bd4dd54f",
   "metadata": {
    "ExecuteTime": {
     "end_time": "2023-04-04T09:28:20.892340Z",
     "start_time": "2023-04-04T09:28:20.883471Z"
    },
    "scrolled": true
   },
   "outputs": [
    {
     "data": {
      "text/plain": [
       "['rich.xlsx',\n",
       " 'other.csv',\n",
       " 'organic_traffic.csv',\n",
       " 'video.csv',\n",
       " 'native.csv',\n",
       " 'search.csv',\n",
       " 'banner.xlsx',\n",
       " 'partner_network.csv',\n",
       " 'advertising_information.json']"
      ]
     },
     "execution_count": 24,
     "metadata": {},
     "output_type": "execute_result"
    }
   ],
   "source": [
    "# Посмотрим список имеющихся файлов\n",
    "os.listdir('./Данные для кейса/')"
   ]
  },
  {
   "cell_type": "code",
   "execution_count": 25,
   "id": "5160ba6c",
   "metadata": {
    "ExecuteTime": {
     "end_time": "2023-04-04T09:28:21.310394Z",
     "start_time": "2023-04-04T09:28:21.283928Z"
    }
   },
   "outputs": [
    {
     "data": {
      "text/html": [
       "<div>\n",
       "<style scoped>\n",
       "    .dataframe tbody tr th:only-of-type {\n",
       "        vertical-align: middle;\n",
       "    }\n",
       "\n",
       "    .dataframe tbody tr th {\n",
       "        vertical-align: top;\n",
       "    }\n",
       "\n",
       "    .dataframe thead th {\n",
       "        text-align: right;\n",
       "    }\n",
       "</style>\n",
       "<table border=\"1\" class=\"dataframe\">\n",
       "  <thead>\n",
       "    <tr style=\"text-align: right;\">\n",
       "      <th></th>\n",
       "      <th>ad_channel</th>\n",
       "      <th>price</th>\n",
       "    </tr>\n",
       "  </thead>\n",
       "  <tbody>\n",
       "    <tr>\n",
       "      <th>0</th>\n",
       "      <td>search</td>\n",
       "      <td>1.50</td>\n",
       "    </tr>\n",
       "    <tr>\n",
       "      <th>1</th>\n",
       "      <td>banner</td>\n",
       "      <td>0.50</td>\n",
       "    </tr>\n",
       "    <tr>\n",
       "      <th>2</th>\n",
       "      <td>video</td>\n",
       "      <td>0.75</td>\n",
       "    </tr>\n",
       "    <tr>\n",
       "      <th>3</th>\n",
       "      <td>native</td>\n",
       "      <td>2.00</td>\n",
       "    </tr>\n",
       "    <tr>\n",
       "      <th>4</th>\n",
       "      <td>partner_network</td>\n",
       "      <td>1.00</td>\n",
       "    </tr>\n",
       "    <tr>\n",
       "      <th>5</th>\n",
       "      <td>rich</td>\n",
       "      <td>2.50</td>\n",
       "    </tr>\n",
       "    <tr>\n",
       "      <th>6</th>\n",
       "      <td>organic_traffic</td>\n",
       "      <td>0.00</td>\n",
       "    </tr>\n",
       "    <tr>\n",
       "      <th>7</th>\n",
       "      <td>other</td>\n",
       "      <td>NaN</td>\n",
       "    </tr>\n",
       "  </tbody>\n",
       "</table>\n",
       "</div>"
      ],
      "text/plain": [
       "        ad_channel  price\n",
       "0           search   1.50\n",
       "1           banner   0.50\n",
       "2            video   0.75\n",
       "3           native   2.00\n",
       "4  partner_network   1.00\n",
       "5             rich   2.50\n",
       "6  organic_traffic   0.00\n",
       "7            other    NaN"
      ]
     },
     "execution_count": 25,
     "metadata": {},
     "output_type": "execute_result"
    }
   ],
   "source": [
    "# Загружаем цены по каналам\n",
    "df_price = pd.read_json('./Данные для кейса/advertising_information.json')\n",
    "df_price"
   ]
  },
  {
   "cell_type": "code",
   "execution_count": 26,
   "id": "f313d933",
   "metadata": {
    "ExecuteTime": {
     "end_time": "2023-04-04T09:28:55.659540Z",
     "start_time": "2023-04-04T09:28:21.734720Z"
    }
   },
   "outputs": [],
   "source": [
    "# Загружаем файлы и добавляем данные о цене и названии канала,\n",
    "# а также, после ознакомления с данными и фичами, припарируем данные \n",
    "dfs = dict()\n",
    "    \n",
    "for i, file in enumerate(os.listdir('./Данные для кейса/')):\n",
    "    \n",
    "    def add_fit(file_name):\n",
    "        # Добавим название канала\n",
    "        dfs[file_name]['ad_channel'] = file_name\n",
    "        # Добавим цену\n",
    "        dfs[file_name]['price'] = df_price['price'].\\\n",
    "            values[df_price[df_price['ad_channel'] == file_name].index][0]\n",
    "        # Удалим неинформативную колонку 'Unnamed: 0' (при наличии)\n",
    "        if 'Unnamed: 0' in dfs[file_name].columns:\n",
    "            dfs[file_name].drop(['Unnamed: 0'], axis=1, inplace=True)\n",
    "        # Для единообразия приведём данные в колонке 'funnel_stage' в нижний регистр\n",
    "        dfs[file_name]['funnel_stage'] = dfs[file_name]['funnel_stage'].\\\n",
    "                                         apply(lambda x: x.lower())\n",
    "    \n",
    "    file_name = file.split('.')[0]\n",
    "    file_ext = file.split('.')[1]\n",
    "          \n",
    "    if file_ext == 'xlsx':\n",
    "        dfs[file_name] = pd.read_excel('./Данные для кейса/' + str(file))\n",
    "        add_fit(file_name)\n",
    "    if file_ext == 'csv':\n",
    "        if file_name == 'organic_traffic':\n",
    "            dfs[file_name] = pd.read_csv('./Данные для кейса/' + str(file),\n",
    "                                         names=['user_id', 'funnel_stage',\n",
    "                                                'timestamp', 'profit', 'os'])\n",
    "        elif file_name == 'partner_network':\n",
    "            dfs[file_name] = pd.read_csv('./Данные для кейса/' + str(file),\n",
    "                                         names=['Unnamed: 0',\n",
    "                                                'user_id', 'funnel_stage',\n",
    "                                                 'timestamp', 'profit', 'os'])\n",
    "        else:\n",
    "            dfs[file_name] = pd.read_csv('./Данные для кейса/' + str(file))\n",
    "        add_fit(file_name)"
   ]
  },
  {
   "cell_type": "code",
   "execution_count": 27,
   "id": "f69e20cd",
   "metadata": {
    "ExecuteTime": {
     "end_time": "2023-04-04T09:28:56.065491Z",
     "start_time": "2023-04-04T09:28:56.047633Z"
    },
    "cell_style": "center"
   },
   "outputs": [
    {
     "name": "stdout",
     "output_type": "stream",
     "text": [
      "\n",
      "    user_id funnel_stage  timestamp  profit   os ad_channel  price\n",
      "0   263061     interest     150020     NaN  iOS       rich    2.5\n",
      "\n",
      "    user_id   funnel_stage  timestamp  profit   os ad_channel  price\n",
      "0   619081  consideration     150013     NaN  iOS      other    NaN\n",
      "\n",
      "    user_id funnel_stage  timestamp  profit       os       ad_channel  price\n",
      "3   897013     interest     150000     NaN  Android  organic_traffic    0.0\n",
      "\n",
      "    user_id   funnel_stage  timestamp  profit       os ad_channel  price\n",
      "0   111649  consideration     150000     NaN  Android      video   0.75\n",
      "\n",
      "    user_id funnel_stage  timestamp  profit       os ad_channel  price\n",
      "0   991236     interest     150000     NaN  Android     native    2.0\n",
      "\n",
      "    user_id funnel_stage  timestamp  profit   os ad_channel  price\n",
      "0   387356     interest     150000     NaN  iOS     search    1.5\n",
      "\n",
      "    user_id funnel_stage  timestamp  profit       os ad_channel  price\n",
      "0   219687     interest     150000     NaN  Android     banner    0.5\n",
      "\n",
      "    user_id funnel_stage  timestamp  profit   os       ad_channel  price\n",
      "0   829539     interest     150003     NaN  iOS  partner_network    1.0\n"
     ]
    }
   ],
   "source": [
    "for elem in dfs:\n",
    "    print('\\n', dfs[elem].head(1))"
   ]
  },
  {
   "cell_type": "code",
   "execution_count": 28,
   "id": "e3f7a9f1",
   "metadata": {
    "ExecuteTime": {
     "end_time": "2023-04-04T09:28:59.052555Z",
     "start_time": "2023-04-04T09:28:56.303560Z"
    }
   },
   "outputs": [
    {
     "name": "stdout",
     "output_type": "stream",
     "text": [
      "<class 'pandas.core.frame.DataFrame'>\n",
      "RangeIndex: 997107 entries, 0 to 997106\n",
      "Data columns (total 7 columns):\n",
      " #   Column        Non-Null Count   Dtype  \n",
      "---  ------        --------------   -----  \n",
      " 0   user_id       997107 non-null  int64  \n",
      " 1   funnel_stage  997107 non-null  object \n",
      " 2   timestamp     997107 non-null  int64  \n",
      " 3   profit        4877 non-null    float64\n",
      " 4   os            997107 non-null  object \n",
      " 5   ad_channel    997107 non-null  object \n",
      " 6   price         991739 non-null  float64\n",
      "dtypes: float64(2), int64(2), object(3)\n",
      "memory usage: 53.3+ MB\n"
     ]
    }
   ],
   "source": [
    "# Объединяем датафреймый, удалям дубликаты и сортируем по столбцу 'timestamp'\n",
    "df = pd.concat([dfs[elem] for elem in dfs], axis=0).\\\n",
    "    drop_duplicates().sort_values(by=['timestamp']).reset_index(drop=True)\n",
    "df.info()"
   ]
  },
  {
   "cell_type": "code",
   "execution_count": 29,
   "id": "c2400faa",
   "metadata": {
    "ExecuteTime": {
     "end_time": "2023-04-04T09:28:59.455479Z",
     "start_time": "2023-04-04T09:28:59.435021Z"
    }
   },
   "outputs": [
    {
     "data": {
      "text/html": [
       "<div>\n",
       "<style scoped>\n",
       "    .dataframe tbody tr th:only-of-type {\n",
       "        vertical-align: middle;\n",
       "    }\n",
       "\n",
       "    .dataframe tbody tr th {\n",
       "        vertical-align: top;\n",
       "    }\n",
       "\n",
       "    .dataframe thead th {\n",
       "        text-align: right;\n",
       "    }\n",
       "</style>\n",
       "<table border=\"1\" class=\"dataframe\">\n",
       "  <thead>\n",
       "    <tr style=\"text-align: right;\">\n",
       "      <th></th>\n",
       "      <th>user_id</th>\n",
       "      <th>funnel_stage</th>\n",
       "      <th>timestamp</th>\n",
       "      <th>profit</th>\n",
       "      <th>os</th>\n",
       "      <th>ad_channel</th>\n",
       "      <th>price</th>\n",
       "    </tr>\n",
       "  </thead>\n",
       "  <tbody>\n",
       "    <tr>\n",
       "      <th>0</th>\n",
       "      <td>928373</td>\n",
       "      <td>interest</td>\n",
       "      <td>150000</td>\n",
       "      <td>NaN</td>\n",
       "      <td>iOS</td>\n",
       "      <td>banner</td>\n",
       "      <td>0.5</td>\n",
       "    </tr>\n",
       "    <tr>\n",
       "      <th>1</th>\n",
       "      <td>230119</td>\n",
       "      <td>interest</td>\n",
       "      <td>150000</td>\n",
       "      <td>NaN</td>\n",
       "      <td>iOS</td>\n",
       "      <td>search</td>\n",
       "      <td>1.5</td>\n",
       "    </tr>\n",
       "    <tr>\n",
       "      <th>2</th>\n",
       "      <td>619571</td>\n",
       "      <td>consideration</td>\n",
       "      <td>150000</td>\n",
       "      <td>NaN</td>\n",
       "      <td>iOS</td>\n",
       "      <td>search</td>\n",
       "      <td>1.5</td>\n",
       "    </tr>\n",
       "    <tr>\n",
       "      <th>3</th>\n",
       "      <td>387356</td>\n",
       "      <td>interest</td>\n",
       "      <td>150000</td>\n",
       "      <td>NaN</td>\n",
       "      <td>iOS</td>\n",
       "      <td>search</td>\n",
       "      <td>1.5</td>\n",
       "    </tr>\n",
       "    <tr>\n",
       "      <th>4</th>\n",
       "      <td>219687</td>\n",
       "      <td>interest</td>\n",
       "      <td>150000</td>\n",
       "      <td>NaN</td>\n",
       "      <td>Android</td>\n",
       "      <td>banner</td>\n",
       "      <td>0.5</td>\n",
       "    </tr>\n",
       "    <tr>\n",
       "      <th>...</th>\n",
       "      <td>...</td>\n",
       "      <td>...</td>\n",
       "      <td>...</td>\n",
       "      <td>...</td>\n",
       "      <td>...</td>\n",
       "      <td>...</td>\n",
       "      <td>...</td>\n",
       "    </tr>\n",
       "    <tr>\n",
       "      <th>997102</th>\n",
       "      <td>929180</td>\n",
       "      <td>intent</td>\n",
       "      <td>224682</td>\n",
       "      <td>NaN</td>\n",
       "      <td>iOS</td>\n",
       "      <td>search</td>\n",
       "      <td>1.5</td>\n",
       "    </tr>\n",
       "    <tr>\n",
       "      <th>997103</th>\n",
       "      <td>1034498</td>\n",
       "      <td>intent</td>\n",
       "      <td>225430</td>\n",
       "      <td>NaN</td>\n",
       "      <td>iOS</td>\n",
       "      <td>search</td>\n",
       "      <td>1.5</td>\n",
       "    </tr>\n",
       "    <tr>\n",
       "      <th>997104</th>\n",
       "      <td>947521</td>\n",
       "      <td>consideration</td>\n",
       "      <td>225482</td>\n",
       "      <td>NaN</td>\n",
       "      <td>Android</td>\n",
       "      <td>organic_traffic</td>\n",
       "      <td>0.0</td>\n",
       "    </tr>\n",
       "    <tr>\n",
       "      <th>997105</th>\n",
       "      <td>720354</td>\n",
       "      <td>purchase</td>\n",
       "      <td>225495</td>\n",
       "      <td>50.0</td>\n",
       "      <td>Android</td>\n",
       "      <td>organic_traffic</td>\n",
       "      <td>0.0</td>\n",
       "    </tr>\n",
       "    <tr>\n",
       "      <th>997106</th>\n",
       "      <td>151184</td>\n",
       "      <td>interest</td>\n",
       "      <td>225688</td>\n",
       "      <td>NaN</td>\n",
       "      <td>iOS</td>\n",
       "      <td>search</td>\n",
       "      <td>1.5</td>\n",
       "    </tr>\n",
       "  </tbody>\n",
       "</table>\n",
       "<p>997107 rows × 7 columns</p>\n",
       "</div>"
      ],
      "text/plain": [
       "        user_id   funnel_stage  timestamp  profit       os       ad_channel  \\\n",
       "0        928373       interest     150000     NaN      iOS           banner   \n",
       "1        230119       interest     150000     NaN      iOS           search   \n",
       "2        619571  consideration     150000     NaN      iOS           search   \n",
       "3        387356       interest     150000     NaN      iOS           search   \n",
       "4        219687       interest     150000     NaN  Android           banner   \n",
       "...         ...            ...        ...     ...      ...              ...   \n",
       "997102   929180         intent     224682     NaN      iOS           search   \n",
       "997103  1034498         intent     225430     NaN      iOS           search   \n",
       "997104   947521  consideration     225482     NaN  Android  organic_traffic   \n",
       "997105   720354       purchase     225495    50.0  Android  organic_traffic   \n",
       "997106   151184       interest     225688     NaN      iOS           search   \n",
       "\n",
       "        price  \n",
       "0         0.5  \n",
       "1         1.5  \n",
       "2         1.5  \n",
       "3         1.5  \n",
       "4         0.5  \n",
       "...       ...  \n",
       "997102    1.5  \n",
       "997103    1.5  \n",
       "997104    0.0  \n",
       "997105    0.0  \n",
       "997106    1.5  \n",
       "\n",
       "[997107 rows x 7 columns]"
      ]
     },
     "execution_count": 29,
     "metadata": {},
     "output_type": "execute_result"
    }
   ],
   "source": [
    "# Выведем резултатирующий датафрейм\n",
    "df"
   ]
  },
  {
   "cell_type": "code",
   "execution_count": 30,
   "id": "69cb7044",
   "metadata": {
    "ExecuteTime": {
     "end_time": "2023-04-04T09:30:36.680580Z",
     "start_time": "2023-04-04T09:28:59.743919Z"
    }
   },
   "outputs": [],
   "source": [
    "# Записываем результаты в xlsx-файл\n",
    "with pd.ExcelWriter('Результаты по модулям.xlsx', mode='w') as writer:\n",
    "    df.to_excel(writer, sheet_name='Данные (модуль 7)')"
   ]
  },
  {
   "cell_type": "code",
   "execution_count": 31,
   "id": "79926d5b",
   "metadata": {
    "ExecuteTime": {
     "end_time": "2023-04-04T09:30:40.183851Z",
     "start_time": "2023-04-04T09:30:36.922087Z"
    }
   },
   "outputs": [
    {
     "name": "stdout",
     "output_type": "stream",
     "text": [
      "База данных создана и подключена\n",
      "Таблица заполнена\n",
      "Соединение с базой данных закрыто\n"
     ]
    }
   ],
   "source": [
    "# Создаём в базе SQLite3 хранилище и таблицу с данными результирующего датасета\n",
    "connection = bd.connect('metrics.db')\n",
    "print(\"База данных создана и подключена\")\n",
    "df.to_sql(\"table_data\", connection, if_exists=\"replace\", index=False)\n",
    "connection.commit()\n",
    "print(\"Таблица заполнена\")\n",
    "connection.close()\n",
    "print(\"Соединение с базой данных закрыто\")"
   ]
  },
  {
   "cell_type": "markdown",
   "id": "33578a77",
   "metadata": {},
   "source": [
    "  "
   ]
  },
  {
   "cell_type": "markdown",
   "id": "2bf3f541",
   "metadata": {},
   "source": [
    "# Раздел 2. Поиск аномалий и фалсификаций данных (модуль 8)"
   ]
  },
  {
   "cell_type": "code",
   "execution_count": 2,
   "id": "a4533805",
   "metadata": {
    "ExecuteTime": {
     "end_time": "2023-04-04T15:46:55.248317Z",
     "start_time": "2023-04-04T15:46:49.170602Z"
    }
   },
   "outputs": [
    {
     "data": {
      "text/html": [
       "<div>\n",
       "<style scoped>\n",
       "    .dataframe tbody tr th:only-of-type {\n",
       "        vertical-align: middle;\n",
       "    }\n",
       "\n",
       "    .dataframe tbody tr th {\n",
       "        vertical-align: top;\n",
       "    }\n",
       "\n",
       "    .dataframe thead th {\n",
       "        text-align: right;\n",
       "    }\n",
       "</style>\n",
       "<table border=\"1\" class=\"dataframe\">\n",
       "  <thead>\n",
       "    <tr style=\"text-align: right;\">\n",
       "      <th></th>\n",
       "      <th>user_id</th>\n",
       "      <th>funnel_stage</th>\n",
       "      <th>timestamp</th>\n",
       "      <th>profit</th>\n",
       "      <th>os</th>\n",
       "      <th>ad_channel</th>\n",
       "      <th>price</th>\n",
       "    </tr>\n",
       "  </thead>\n",
       "  <tbody>\n",
       "    <tr>\n",
       "      <th>0</th>\n",
       "      <td>928373</td>\n",
       "      <td>interest</td>\n",
       "      <td>150000</td>\n",
       "      <td>NaN</td>\n",
       "      <td>iOS</td>\n",
       "      <td>banner</td>\n",
       "      <td>0.5</td>\n",
       "    </tr>\n",
       "    <tr>\n",
       "      <th>1</th>\n",
       "      <td>230119</td>\n",
       "      <td>interest</td>\n",
       "      <td>150000</td>\n",
       "      <td>NaN</td>\n",
       "      <td>iOS</td>\n",
       "      <td>search</td>\n",
       "      <td>1.5</td>\n",
       "    </tr>\n",
       "    <tr>\n",
       "      <th>2</th>\n",
       "      <td>619571</td>\n",
       "      <td>consideration</td>\n",
       "      <td>150000</td>\n",
       "      <td>NaN</td>\n",
       "      <td>iOS</td>\n",
       "      <td>search</td>\n",
       "      <td>1.5</td>\n",
       "    </tr>\n",
       "  </tbody>\n",
       "</table>\n",
       "</div>"
      ],
      "text/plain": [
       "   user_id   funnel_stage  timestamp  profit   os ad_channel  price\n",
       "0   928373       interest     150000     NaN  iOS     banner    0.5\n",
       "1   230119       interest     150000     NaN  iOS     search    1.5\n",
       "2   619571  consideration     150000     NaN  iOS     search    1.5"
      ]
     },
     "execution_count": 2,
     "metadata": {},
     "output_type": "execute_result"
    }
   ],
   "source": [
    "# Прочитаем данные из базы данных\n",
    "connection = bd.connect('metrics.db')\n",
    "df = pd.read_sql(\"SELECT * FROM table_data\", connection)\n",
    "connection.close()\n",
    "df.head(3)"
   ]
  },
  {
   "cell_type": "markdown",
   "id": "d456919b",
   "metadata": {},
   "source": [
    "## 2.1. Проверим и удалим в данных пропуски и ошибки в названиях элементов колонок (просто удалить строки с пропусками недостаточно)"
   ]
  },
  {
   "cell_type": "code",
   "execution_count": 3,
   "id": "1e06de15",
   "metadata": {
    "ExecuteTime": {
     "end_time": "2023-04-04T15:46:55.921877Z",
     "start_time": "2023-04-04T15:46:55.466333Z"
    },
    "scrolled": true
   },
   "outputs": [
    {
     "name": "stdout",
     "output_type": "stream",
     "text": [
      "<class 'pandas.core.frame.DataFrame'>\n",
      "RangeIndex: 997107 entries, 0 to 997106\n",
      "Data columns (total 7 columns):\n",
      " #   Column        Non-Null Count   Dtype  \n",
      "---  ------        --------------   -----  \n",
      " 0   user_id       997107 non-null  int64  \n",
      " 1   funnel_stage  997107 non-null  object \n",
      " 2   timestamp     997107 non-null  int64  \n",
      " 3   profit        4877 non-null    float64\n",
      " 4   os            997107 non-null  object \n",
      " 5   ad_channel    997107 non-null  object \n",
      " 6   price         991739 non-null  float64\n",
      "dtypes: float64(2), int64(2), object(3)\n",
      "memory usage: 53.3+ MB\n"
     ]
    }
   ],
   "source": [
    "# Посмотрим содержание загруженного датасета, в котром в предыдущем разделе\n",
    "# удалены дубликаты и данные в колонке 'funnel_stage' приведены в нижний регистр\n",
    "df.info()"
   ]
  },
  {
   "cell_type": "markdown",
   "id": "3580cbe8",
   "metadata": {},
   "source": [
    "**Вывод:** В категориальных переменных нет пустых значений."
   ]
  },
  {
   "cell_type": "code",
   "execution_count": 4,
   "id": "6e36e2c3",
   "metadata": {
    "ExecuteTime": {
     "end_time": "2023-04-04T15:46:56.464204Z",
     "start_time": "2023-04-04T15:46:56.171858Z"
    }
   },
   "outputs": [
    {
     "name": "stdout",
     "output_type": "stream",
     "text": [
      "['interest' 'consideration' 'intent' 'purchase']\n",
      "['iOS' 'Android']\n",
      "['banner' 'search' 'video' 'native' 'organic_traffic' 'partner_network'\n",
      " 'other' 'rich']\n"
     ]
    }
   ],
   "source": [
    "# Проверим релевантность уникальных значений категориальных переменных\n",
    "for column in ['funnel_stage', 'os', 'ad_channel']:\n",
    "    print(df[column].unique())"
   ]
  },
  {
   "cell_type": "markdown",
   "id": "faf79137",
   "metadata": {},
   "source": [
    "**Вывод:** Набор уникальных данных в категориальных переменных - релевантен."
   ]
  },
  {
   "cell_type": "code",
   "execution_count": 5,
   "id": "1cf26b46",
   "metadata": {
    "ExecuteTime": {
     "end_time": "2023-04-04T15:46:56.690411Z",
     "start_time": "2023-04-04T15:46:56.673725Z"
    }
   },
   "outputs": [
    {
     "data": {
      "text/plain": [
       "array(['purchase'], dtype=object)"
      ]
     },
     "execution_count": 5,
     "metadata": {},
     "output_type": "execute_result"
    }
   ],
   "source": [
    "# Проверим что прибыль указана только в записях этапа 'покупка'\n",
    "df[~pd.isna(df.profit)].funnel_stage.unique()"
   ]
  },
  {
   "cell_type": "markdown",
   "id": "bc111b24",
   "metadata": {},
   "source": [
    "**Вывод:** Прибыль указана только в записях, соответсвующих этапу - покупка, что соответсвует бизнес-процессу."
   ]
  },
  {
   "cell_type": "code",
   "execution_count": 6,
   "id": "5df7a1bc",
   "metadata": {
    "ExecuteTime": {
     "end_time": "2023-04-04T15:46:56.963567Z",
     "start_time": "2023-04-04T15:46:56.949310Z"
    }
   },
   "outputs": [
    {
     "data": {
      "text/plain": [
       "array(['other'], dtype=object)"
      ]
     },
     "execution_count": 6,
     "metadata": {},
     "output_type": "execute_result"
    }
   ],
   "source": [
    "# Проверим что цена отсутствует только для канала 'other'\n",
    "df[pd.isna(df.price)].ad_channel.unique()"
   ]
  },
  {
   "cell_type": "code",
   "execution_count": 7,
   "id": "602ec79f",
   "metadata": {
    "ExecuteTime": {
     "end_time": "2023-04-04T15:46:57.289364Z",
     "start_time": "2023-04-04T15:46:57.220949Z"
    }
   },
   "outputs": [
    {
     "data": {
      "text/plain": [
       "0.005383574681553735"
      ]
     },
     "execution_count": 7,
     "metadata": {},
     "output_type": "execute_result"
    }
   ],
   "source": [
    "# Посчитаем долю записей в категории 'other'\n",
    "(df['user_id'][df['ad_channel'] == 'other'].count()) / (df['user_id'].count())"
   ]
  },
  {
   "cell_type": "markdown",
   "id": "1a283efd",
   "metadata": {
    "ExecuteTime": {
     "end_time": "2023-03-31T22:30:16.870601Z",
     "start_time": "2023-03-31T22:30:16.865349Z"
    }
   },
   "source": [
    "**Вывод:** Цена отсутсвует только в записях, соответсвующих каналу - 'other'. Всего записей соответсвующих каналу 'other' 0.54%. Соответсвенно мы можем удалить данные записи без риска потери значительного количества объектов в выборке."
   ]
  },
  {
   "cell_type": "code",
   "execution_count": 8,
   "id": "ca623921",
   "metadata": {
    "ExecuteTime": {
     "end_time": "2023-04-04T15:46:57.658932Z",
     "start_time": "2023-04-04T15:46:57.522365Z"
    }
   },
   "outputs": [],
   "source": [
    "# Удаляем строки канала 'other'\n",
    "df.dropna(subset=['price'], inplace=True)\n",
    "df.reset_index(drop=True, inplace=True)"
   ]
  },
  {
   "cell_type": "markdown",
   "id": "4ff14c96",
   "metadata": {},
   "source": [
    "**ВЫВОД: в данных датасета нет нерелевантных пропущенных значений и ошибок в названиях элементов колонок.**"
   ]
  },
  {
   "cell_type": "markdown",
   "id": "7ead7999",
   "metadata": {},
   "source": [
    "## 2.2. Проверка наличия строк, соответствующих каналу 'other'"
   ]
  },
  {
   "cell_type": "code",
   "execution_count": 9,
   "id": "a30d01b1",
   "metadata": {
    "ExecuteTime": {
     "end_time": "2023-04-04T15:46:57.980876Z",
     "start_time": "2023-04-04T15:46:57.906346Z"
    }
   },
   "outputs": [
    {
     "data": {
      "text/plain": [
       "0"
      ]
     },
     "execution_count": 9,
     "metadata": {},
     "output_type": "execute_result"
    }
   ],
   "source": [
    "# Считаем оставшиеся строки канала 'other'\n",
    "df['user_id'][df.ad_channel == 'other'].count()"
   ]
  },
  {
   "cell_type": "markdown",
   "id": "8b2852e4",
   "metadata": {},
   "source": [
    "***Вывод:*** Строк, соответсвующих каналу 'other' в выборке не осталось. "
   ]
  },
  {
   "cell_type": "markdown",
   "id": "3088f30a",
   "metadata": {},
   "source": [
    "## 2.3. Считаем, сколько уникальных пользователей зафиксировано по каждому рекламному каналу в разрезе этапов воронки продаж"
   ]
  },
  {
   "cell_type": "code",
   "execution_count": 10,
   "id": "73b33094",
   "metadata": {
    "ExecuteTime": {
     "end_time": "2023-04-04T15:46:58.258661Z",
     "start_time": "2023-04-04T15:46:58.252389Z"
    }
   },
   "outputs": [],
   "source": [
    "# Группируем данные по каналам продаж и этапам воронки с сортировкой по этапам воронки продаж\n",
    "def get_funnel_stage(df, channel):\n",
    "    return df[df.ad_channel == channel].\\\n",
    "                    groupby(['funnel_stage']).agg({'user_id': 'count'}).\\\n",
    "                    sort_values(by='user_id', ascending=True)\n",
    "\n",
    "# Cортируем кналы по наибольшему трафику на этапе 'interest'\n",
    "def get_columns_sort(df):\n",
    "    return df[df.funnel_stage == 'interest'].groupby('ad_channel').agg({'user_id': 'count'}).\\\n",
    "               sort_values(by='user_id', ascending=False).index\n",
    "\n",
    "# Рисуем диаграмму распределения трафика по каналам рекламы и по этапам вороонки продаж\n",
    "def build_diagram(df): \n",
    "    fig, axs = plt.subplots(figsize=(15, 6))\n",
    "    color = ['darkgreen', 'green', 'limegreen', 'darkred', 'red', 'salmon', 'pink']\n",
    "    index = np.arange(4)\n",
    "    plt.yticks(index, ['purchase', 'intent', 'consideration', 'interest'])\n",
    "    axs.set_title('Распределение трафика по каналам и этапам воронки продаж и по этапам, шт.')\n",
    "    for i, channel in enumerate(get_columns_sort(df)):\n",
    "        df_channel = get_funnel_stage(df, channel)\n",
    "        axs.barh(index-0.1*i, df_channel['user_id'], color=color[i], height=0.1,\n",
    "                 label=f\"{channel}\"\n",
    "                       f\"(CR={round((df_channel.loc['purchase', 'user_id'] / df_channel.loc['interest', 'user_id'])*100, 2)}%)\")\n",
    "    axs.legend()\n",
    "    plt.show()"
   ]
  },
  {
   "cell_type": "code",
   "execution_count": 11,
   "id": "0a811319",
   "metadata": {
    "ExecuteTime": {
     "end_time": "2023-04-04T15:46:59.763081Z",
     "start_time": "2023-04-04T15:46:58.509113Z"
    }
   },
   "outputs": [
    {
     "data": {
      "image/png": "[encoded data removed]",
      "text/plain": [
       "<Figure size 1500x600 with 1 Axes>"
      ]
     },
     "metadata": {},
     "output_type": "display_data"
    }
   ],
   "source": [
    "# Выводим диаграмму распределения трафика по всем данным\n",
    "build_diagram(df)"
   ]
  },
  {
   "cell_type": "markdown",
   "id": "69d6a9f7",
   "metadata": {},
   "source": [
    "**Вывод**: По каналам 'search', 'banner' - наибольшая коверсия трафика в покупки. По каналам 'organic_trafic', 'partner_network' - коверсия в 2-а раза ниже, но также близка к средней. Каналы 'native', 'rich' - имеют подозрительно низкую конверсию, а канал 'video'  самую низку (~ в 100 меньше средней конверсии по другим каналам). Особое внимание обращает на себя факт того что у канала 'video', в сравнении с другими каналами, резко снижается значение на этапе 'intent'. Таким образом, данные по последним трём упомянутым каналам целесообразно проверить на наличее аномальных значений и фрода."
   ]
  },
  {
   "cell_type": "markdown",
   "id": "d3f44306",
   "metadata": {},
   "source": [
    "## 2.4. Выявлене ботов  и иного фрода по каждому рекламному каналу"
   ]
  },
  {
   "cell_type": "code",
   "execution_count": 12,
   "id": "2287ce71",
   "metadata": {
    "ExecuteTime": {
     "end_time": "2023-04-04T15:47:00.134359Z",
     "start_time": "2023-04-04T15:46:59.967503Z"
    }
   },
   "outputs": [],
   "source": [
    "# Определим роботов, по повторяющемуся сочетанию 'user_id' и 'timestamp'\n",
    "robot_index = df[df.duplicated(['user_id', 'timestamp'], keep=False)].index"
   ]
  },
  {
   "cell_type": "code",
   "execution_count": 13,
   "id": "c21cae20",
   "metadata": {
    "ExecuteTime": {
     "end_time": "2023-04-04T15:47:00.373440Z",
     "start_time": "2023-04-04T15:47:00.369737Z"
    }
   },
   "outputs": [],
   "source": [
    "# Создадим признак фродовых записей, выполненных роботами\n",
    "df['fraud_robot'] = 0"
   ]
  },
  {
   "cell_type": "code",
   "execution_count": 14,
   "id": "72d5207f",
   "metadata": {
    "ExecuteTime": {
     "end_time": "2023-04-04T15:47:00.704395Z",
     "start_time": "2023-04-04T15:47:00.698919Z"
    }
   },
   "outputs": [
    {
     "name": "stderr",
     "output_type": "stream",
     "text": [
      "/var/folders/5h/1vkpjwr90l19cmzfgsfrcpvm0000gn/T/ipykernel_14747/2170662067.py:2: SettingWithCopyWarning: \n",
      "A value is trying to be set on a copy of a slice from a DataFrame\n",
      "\n",
      "See the caveats in the documentation: https://pandas.pydata.org/pandas-docs/stable/user_guide/indexing.html#returning-a-view-versus-a-copy\n",
      "  df['fraud_robot'].loc[robot_index] = 1\n"
     ]
    }
   ],
   "source": [
    "# Проставим признак роботности к соответствующим записям\n",
    "df['fraud_robot'].loc[robot_index] = 1"
   ]
  },
  {
   "cell_type": "code",
   "execution_count": 15,
   "id": "f02a6409",
   "metadata": {
    "ExecuteTime": {
     "end_time": "2023-04-04T15:47:01.195948Z",
     "start_time": "2023-04-04T15:47:01.088749Z"
    }
   },
   "outputs": [],
   "source": [
    "# Очищаем данные от записей с роботами\n",
    "df_clean = df[df['fraud_robot'] == 0]"
   ]
  },
  {
   "cell_type": "code",
   "execution_count": 16,
   "id": "64e03ce8",
   "metadata": {
    "ExecuteTime": {
     "end_time": "2023-04-04T15:47:03.235669Z",
     "start_time": "2023-04-04T15:47:02.151140Z"
    }
   },
   "outputs": [
    {
     "data": {
      "image/png": "[encoded data removed]",
      "text/plain": [
       "<Figure size 1500x600 with 1 Axes>"
      ]
     },
     "metadata": {},
     "output_type": "display_data"
    }
   ],
   "source": [
    "# Выводим диаграмму распределения трафика по данным без роботов\n",
    "build_diagram(df_clean)"
   ]
  },
  {
   "cell_type": "markdown",
   "id": "be1aa1df",
   "metadata": {},
   "source": [
    "## 2.5. Построение гистограммы числа действий, совершаемых пользователями в один момент времени"
   ]
  },
  {
   "cell_type": "code",
   "execution_count": 17,
   "id": "8f8c4387",
   "metadata": {
    "ExecuteTime": {
     "end_time": "2023-04-04T15:47:03.555783Z",
     "start_time": "2023-04-04T15:47:03.552239Z"
    }
   },
   "outputs": [],
   "source": [
    "from matplotlib.ticker import NullFormatter, FormatStrFormatter"
   ]
  },
  {
   "cell_type": "code",
   "execution_count": 18,
   "id": "4328d77f",
   "metadata": {
    "ExecuteTime": {
     "end_time": "2023-04-04T15:47:06.067335Z",
     "start_time": "2023-04-04T15:47:03.904673Z"
    }
   },
   "outputs": [
    {
     "name": "stderr",
     "output_type": "stream",
     "text": [
      "/Users/work/opt/anaconda3/lib/python3.9/site-packages/seaborn/distributions.py:2619: FutureWarning: `distplot` is a deprecated function and will be removed in a future version. Please adapt your code to use either `displot` (a figure-level function with similar flexibility) or `histplot` (an axes-level function for histograms).\n",
      "  warnings.warn(msg, FutureWarning)\n"
     ]
    },
    {
     "data": {
      "image/png": "[encoded data removed]",
      "text/plain": [
       "<Figure size 640x480 with 1 Axes>"
      ]
     },
     "metadata": {},
     "output_type": "display_data"
    }
   ],
   "source": [
    "# Распределение числа действий по времени\n",
    "ax = sns.distplot(df[df['fraud_robot'] == 1].timestamp.values)\n",
    "ax.yaxis.set_major_formatter(FormatStrFormatter('%.6f'))"
   ]
  },
  {
   "cell_type": "code",
   "execution_count": 19,
   "id": "4a7843e1",
   "metadata": {
    "ExecuteTime": {
     "end_time": "2023-04-04T15:47:07.389641Z",
     "start_time": "2023-04-04T15:47:06.444280Z"
    }
   },
   "outputs": [
    {
     "name": "stderr",
     "output_type": "stream",
     "text": [
      "/Users/work/opt/anaconda3/lib/python3.9/site-packages/seaborn/distributions.py:2619: FutureWarning: `distplot` is a deprecated function and will be removed in a future version. Please adapt your code to use either `displot` (a figure-level function with similar flexibility) or `histplot` (an axes-level function for histograms).\n",
      "  warnings.warn(msg, FutureWarning)\n",
      "/Users/work/opt/anaconda3/lib/python3.9/site-packages/seaborn/distributions.py:2619: FutureWarning: `distplot` is a deprecated function and will be removed in a future version. Please adapt your code to use either `displot` (a figure-level function with similar flexibility) or `histplot` (an axes-level function for histograms).\n",
      "  warnings.warn(msg, FutureWarning)\n",
      "/Users/work/opt/anaconda3/lib/python3.9/site-packages/seaborn/distributions.py:2619: FutureWarning: `distplot` is a deprecated function and will be removed in a future version. Please adapt your code to use either `displot` (a figure-level function with similar flexibility) or `histplot` (an axes-level function for histograms).\n",
      "  warnings.warn(msg, FutureWarning)\n",
      "/Users/work/opt/anaconda3/lib/python3.9/site-packages/seaborn/distributions.py:2619: FutureWarning: `distplot` is a deprecated function and will be removed in a future version. Please adapt your code to use either `displot` (a figure-level function with similar flexibility) or `histplot` (an axes-level function for histograms).\n",
      "  warnings.warn(msg, FutureWarning)\n",
      "/Users/work/opt/anaconda3/lib/python3.9/site-packages/seaborn/distributions.py:2619: FutureWarning: `distplot` is a deprecated function and will be removed in a future version. Please adapt your code to use either `displot` (a figure-level function with similar flexibility) or `histplot` (an axes-level function for histograms).\n",
      "  warnings.warn(msg, FutureWarning)\n",
      "/Users/work/opt/anaconda3/lib/python3.9/site-packages/seaborn/distributions.py:2619: FutureWarning: `distplot` is a deprecated function and will be removed in a future version. Please adapt your code to use either `displot` (a figure-level function with similar flexibility) or `histplot` (an axes-level function for histograms).\n",
      "  warnings.warn(msg, FutureWarning)\n",
      "/Users/work/opt/anaconda3/lib/python3.9/site-packages/seaborn/distributions.py:2619: FutureWarning: `distplot` is a deprecated function and will be removed in a future version. Please adapt your code to use either `displot` (a figure-level function with similar flexibility) or `histplot` (an axes-level function for histograms).\n",
      "  warnings.warn(msg, FutureWarning)\n"
     ]
    },
    {
     "data": {
      "text/plain": [
       "<matplotlib.legend.Legend at 0x7f9e7e9e1ac0>"
      ]
     },
     "execution_count": 19,
     "metadata": {},
     "output_type": "execute_result"
    },
    {
     "data": {
      "image/png": "[encoded data removed]",
      "text/plain": [
       "<Figure size 640x480 with 1 Axes>"
      ]
     },
     "metadata": {},
     "output_type": "display_data"
    }
   ],
   "source": [
    "# Распределение числа действий по времени в каналах\n",
    "for channel in list(df.ad_channel.unique()):\n",
    "    ax = sns.distplot(df[(df['fraud_robot'] == 1) & (df['ad_channel'] == channel)].timestamp.values, label=f\"{channel}\")\n",
    "ax.yaxis.set_major_formatter(FormatStrFormatter('%.6f'))\n",
    "plt.legend()"
   ]
  },
  {
   "cell_type": "markdown",
   "id": "9741c73b",
   "metadata": {},
   "source": [
    "**Вывод:** Практически в каждом канале были роботные клики, причём учитывая не унимодальность распределений одномоментных кликов во всех каналах - роботов в каналах было несколько. Наибольшее число роботных кликов было в канале 'search'. Однако общее количество роботных кликов небольшое."
   ]
  },
  {
   "cell_type": "markdown",
   "id": "4ecb7605",
   "metadata": {},
   "source": [
    "## 2.6. Расчёт процента фродовых пользователей от общего числа и сохранение фродовых данных в отдельную таблицу"
   ]
  },
  {
   "cell_type": "code",
   "execution_count": 20,
   "id": "9a4fe1e6",
   "metadata": {
    "ExecuteTime": {
     "end_time": "2023-04-04T15:47:08.893353Z",
     "start_time": "2023-04-04T15:47:08.885595Z"
    }
   },
   "outputs": [
    {
     "data": {
      "text/plain": [
       "1.0436213560220986"
      ]
     },
     "execution_count": 20,
     "metadata": {},
     "output_type": "execute_result"
    }
   ],
   "source": [
    "# Процент роботности\n",
    "(df['fraud_robot'].loc[robot_index].count() / df['user_id'].count()) * 100"
   ]
  },
  {
   "cell_type": "markdown",
   "id": "0ab05fd0",
   "metadata": {},
   "source": [
    "**Вывод:** Около 1% кликов совершено роботами. Данные записи удалены из датасета."
   ]
  },
  {
   "cell_type": "code",
   "execution_count": 21,
   "id": "f1eb78d4",
   "metadata": {
    "ExecuteTime": {
     "end_time": "2023-04-04T15:47:17.336507Z",
     "start_time": "2023-04-04T15:47:12.116699Z"
    }
   },
   "outputs": [
    {
     "name": "stdout",
     "output_type": "stream",
     "text": [
      "База данных подключена\n",
      "Таблицы заполнены\n",
      "Соединение с базой данных закрыто\n"
     ]
    }
   ],
   "source": [
    "# Создаём в базе SQLite3 хранилище и таблицу с данными по роботноости и обновление результирующего датасета\n",
    "connection = bd.connect('metrics.db')\n",
    "print(\"База данных подключена\")\n",
    "df[df['fraud_robot'] == 1].to_sql(\"robot_table_data\", connection, if_exists=\"replace\", index=False)\n",
    "df.to_sql(\"table_data_new\", connection, if_exists=\"replace\", index=False)\n",
    "connection.commit()\n",
    "print(\"Таблицы заполнены\")\n",
    "connection.close()\n",
    "print(\"Соединение с базой данных закрыто\")"
   ]
  },
  {
   "cell_type": "markdown",
   "id": "d1a9f58b",
   "metadata": {},
   "source": [
    "## 2.7. Дополнительно: выявление неконсистентных данных хроноологии этапов воронки продаж"
   ]
  },
  {
   "cell_type": "code",
   "execution_count": 22,
   "id": "33ae7554",
   "metadata": {
    "ExecuteTime": {
     "end_time": "2023-04-04T15:27:00.350745Z",
     "start_time": "2023-04-04T15:27:00.242781Z"
    },
    "code_folding": [],
    "scrolled": true
   },
   "outputs": [
    {
     "data": {
      "text/html": [
       "<div>\n",
       "<style scoped>\n",
       "    .dataframe tbody tr th:only-of-type {\n",
       "        vertical-align: middle;\n",
       "    }\n",
       "\n",
       "    .dataframe tbody tr th {\n",
       "        vertical-align: top;\n",
       "    }\n",
       "\n",
       "    .dataframe thead th {\n",
       "        text-align: right;\n",
       "    }\n",
       "</style>\n",
       "<table border=\"1\" class=\"dataframe\">\n",
       "  <thead>\n",
       "    <tr style=\"text-align: right;\">\n",
       "      <th></th>\n",
       "      <th>ad_channel</th>\n",
       "      <th>timestamp</th>\n",
       "      <th>time</th>\n",
       "      <th>user_id</th>\n",
       "      <th>funnel_stage</th>\n",
       "    </tr>\n",
       "  </thead>\n",
       "  <tbody>\n",
       "    <tr>\n",
       "      <th>66714</th>\n",
       "      <td>search</td>\n",
       "      <td>154762</td>\n",
       "      <td>1970-01-01 00:02:34.762</td>\n",
       "      <td>655671</td>\n",
       "      <td>intent</td>\n",
       "    </tr>\n",
       "    <tr>\n",
       "      <th>92568</th>\n",
       "      <td>banner</td>\n",
       "      <td>156346</td>\n",
       "      <td>1970-01-01 00:02:36.346</td>\n",
       "      <td>655671</td>\n",
       "      <td>interest</td>\n",
       "    </tr>\n",
       "    <tr>\n",
       "      <th>97261</th>\n",
       "      <td>search</td>\n",
       "      <td>156630</td>\n",
       "      <td>1970-01-01 00:02:36.630</td>\n",
       "      <td>655671</td>\n",
       "      <td>consideration</td>\n",
       "    </tr>\n",
       "    <tr>\n",
       "      <th>248874</th>\n",
       "      <td>banner</td>\n",
       "      <td>164654</td>\n",
       "      <td>1970-01-01 00:02:44.654</td>\n",
       "      <td>655671</td>\n",
       "      <td>intent</td>\n",
       "    </tr>\n",
       "    <tr>\n",
       "      <th>257925</th>\n",
       "      <td>partner_network</td>\n",
       "      <td>165117</td>\n",
       "      <td>1970-01-01 00:02:45.117</td>\n",
       "      <td>655671</td>\n",
       "      <td>consideration</td>\n",
       "    </tr>\n",
       "    <tr>\n",
       "      <th>279489</th>\n",
       "      <td>search</td>\n",
       "      <td>166212</td>\n",
       "      <td>1970-01-01 00:02:46.212</td>\n",
       "      <td>655671</td>\n",
       "      <td>interest</td>\n",
       "    </tr>\n",
       "    <tr>\n",
       "      <th>283960</th>\n",
       "      <td>banner</td>\n",
       "      <td>166438</td>\n",
       "      <td>1970-01-01 00:02:46.438</td>\n",
       "      <td>655671</td>\n",
       "      <td>consideration</td>\n",
       "    </tr>\n",
       "    <tr>\n",
       "      <th>325568</th>\n",
       "      <td>partner_network</td>\n",
       "      <td>168544</td>\n",
       "      <td>1970-01-01 00:02:48.544</td>\n",
       "      <td>655671</td>\n",
       "      <td>purchase</td>\n",
       "    </tr>\n",
       "    <tr>\n",
       "      <th>351542</th>\n",
       "      <td>search</td>\n",
       "      <td>169856</td>\n",
       "      <td>1970-01-01 00:02:49.856</td>\n",
       "      <td>655671</td>\n",
       "      <td>purchase</td>\n",
       "    </tr>\n",
       "    <tr>\n",
       "      <th>413722</th>\n",
       "      <td>banner</td>\n",
       "      <td>172989</td>\n",
       "      <td>1970-01-01 00:02:52.989</td>\n",
       "      <td>655671</td>\n",
       "      <td>purchase</td>\n",
       "    </tr>\n",
       "    <tr>\n",
       "      <th>458385</th>\n",
       "      <td>partner_network</td>\n",
       "      <td>175243</td>\n",
       "      <td>1970-01-01 00:02:55.243</td>\n",
       "      <td>655671</td>\n",
       "      <td>interest</td>\n",
       "    </tr>\n",
       "    <tr>\n",
       "      <th>482733</th>\n",
       "      <td>partner_network</td>\n",
       "      <td>176473</td>\n",
       "      <td>1970-01-01 00:02:56.473</td>\n",
       "      <td>655671</td>\n",
       "      <td>intent</td>\n",
       "    </tr>\n",
       "  </tbody>\n",
       "</table>\n",
       "</div>"
      ],
      "text/plain": [
       "             ad_channel  timestamp                    time  user_id  \\\n",
       "66714            search     154762 1970-01-01 00:02:34.762   655671   \n",
       "92568            banner     156346 1970-01-01 00:02:36.346   655671   \n",
       "97261            search     156630 1970-01-01 00:02:36.630   655671   \n",
       "248874           banner     164654 1970-01-01 00:02:44.654   655671   \n",
       "257925  partner_network     165117 1970-01-01 00:02:45.117   655671   \n",
       "279489           search     166212 1970-01-01 00:02:46.212   655671   \n",
       "283960           banner     166438 1970-01-01 00:02:46.438   655671   \n",
       "325568  partner_network     168544 1970-01-01 00:02:48.544   655671   \n",
       "351542           search     169856 1970-01-01 00:02:49.856   655671   \n",
       "413722           banner     172989 1970-01-01 00:02:52.989   655671   \n",
       "458385  partner_network     175243 1970-01-01 00:02:55.243   655671   \n",
       "482733  partner_network     176473 1970-01-01 00:02:56.473   655671   \n",
       "\n",
       "         funnel_stage  \n",
       "66714          intent  \n",
       "92568        interest  \n",
       "97261   consideration  \n",
       "248874         intent  \n",
       "257925  consideration  \n",
       "279489       interest  \n",
       "283960  consideration  \n",
       "325568       purchase  \n",
       "351542       purchase  \n",
       "413722       purchase  \n",
       "458385       interest  \n",
       "482733         intent  "
      ]
     },
     "execution_count": 22,
     "metadata": {},
     "output_type": "execute_result"
    }
   ],
   "source": [
    "# Метосхема отдельных записей\n",
    "df['time'] = pd.to_datetime(df['timestamp'], unit=\"ms\")\n",
    "df[['ad_channel', 'timestamp', 'time', 'user_id', 'funnel_stage']][df.user_id == 655671]"
   ]
  },
  {
   "cell_type": "markdown",
   "id": "d0748b1b",
   "metadata": {},
   "source": [
    "**Вывод:** По отдельным пользователям добавлены записи, которые нарушают бизнес-логику последовательности просмотра сайта.  \n",
    "В частности: у пользователей этап воронки продаж 'consideration' не может быть перед этапом 'interest' в одном и томже канале. То есть должна соблюдаться хронологическая последовательность прохождения пользователя через эжтапы воронки продаж."
   ]
  },
  {
   "cell_type": "markdown",
   "id": "d8ccae82",
   "metadata": {},
   "source": [
    "### 2.7.1. Последовательный расчёт по всему датасету (55 минут на Intel Core i7)"
   ]
  },
  {
   "cell_type": "code",
   "execution_count": 23,
   "id": "26a79731",
   "metadata": {
    "ExecuteTime": {
     "end_time": "2023-04-04T15:27:03.981659Z",
     "start_time": "2023-04-04T15:27:03.973247Z"
    }
   },
   "outputs": [],
   "source": [
    "# Сформируем хронологию функцию проверки хронологиии действий паользователя на этапах воронки продаж\n",
    "# для проверки адекватности времени каждого этапа у каждого пользователя\n",
    "def chekc_stage(df_start):\n",
    "    \n",
    "    # Список индексов записей, не прошедших проверку\n",
    "    index_fraud = []\n",
    "    \n",
    "    # Пройдёмся по всем каналам, через которые был трафик пользователя с уникальным id\n",
    "    for channel in list(df_start.ad_channel.unique()):\n",
    "        \n",
    "        # Зададим нормальную матрицу воронки продаж для проверки реальных воронок на адекватность времени эапов\n",
    "        df_norma = pd.DataFrame({'funnel_stage': ['interest', 'consideration', 'intent', 'purchase'],\n",
    "                             'timestamp': [999999999, 999999999, 999999999, 999999999]})\n",
    "        \n",
    "        # Пройдёмся по всем имеющимся в воронке этапам и зафиксируем их время\n",
    "        for stage in ['interest', 'consideration', 'intent', 'purchase']:\n",
    "            if stage in list(df_start[df_start.ad_channel == channel].funnel_stage):\n",
    "                df_norma['timestamp'].loc[df_norma['funnel_stage'] == stage] =\\\n",
    "                        df_start['timestamp'].loc[(df_start['funnel_stage'] == stage) &\\\n",
    "                                                   (df_start['ad_channel'] == channel)].values[0]\n",
    "        \n",
    "        # Проверяем полноту этапов и адекватность времени наступления\n",
    "        # каждого следующего этапа воронки продаж\n",
    "        times = list(df_norma['timestamp'])\n",
    "        if (times[1] - times[0] < 0) or (times[2] - times[1] < 0) or (times[3] - times[2] < 0):\n",
    "            index_fraud.extend(df_start[df_start.ad_channel == channel].index)\n",
    "            \n",
    "    return index_fraud"
   ]
  },
  {
   "cell_type": "code",
   "execution_count": 89,
   "id": "00ee2aa3",
   "metadata": {
    "ExecuteTime": {
     "end_time": "2023-04-04T12:16:29.616016Z",
     "start_time": "2023-04-04T11:20:37.922897Z"
    },
    "scrolled": true
   },
   "outputs": [
    {
     "name": "stderr",
     "output_type": "stream",
     "text": [
      "  0%|                                                | 0/529359 [00:00<?, ?it/s]/var/folders/5h/1vkpjwr90l19cmzfgsfrcpvm0000gn/T/ipykernel_11372/3696658415.py:18: SettingWithCopyWarning: \n",
      "A value is trying to be set on a copy of a slice from a DataFrame\n",
      "\n",
      "See the caveats in the documentation: https://pandas.pydata.org/pandas-docs/stable/user_guide/indexing.html#returning-a-view-versus-a-copy\n",
      "  df_norma['timestamp'].loc[df_norma['funnel_stage'] == stage] =\\\n",
      "100%|██████████████████████████████████| 529359/529359 [55:51<00:00, 157.94it/s]\n"
     ]
    }
   ],
   "source": [
    "# Определим фродовые записи с нарушенной хронологией\n",
    "chono_fraud_index = []\n",
    "for userid in tqdm(list(df.user_id.unique())):\n",
    "    chono_fraud_index.extend(chekc_stage(df[df.user_id == userid]))"
   ]
  },
  {
   "cell_type": "code",
   "execution_count": 31,
   "id": "b11ce473",
   "metadata": {
    "ExecuteTime": {
     "end_time": "2023-04-04T17:18:53.789537Z",
     "start_time": "2023-04-04T17:18:53.784636Z"
    }
   },
   "outputs": [
    {
     "data": {
      "text/plain": [
       "423021"
      ]
     },
     "execution_count": 31,
     "metadata": {},
     "output_type": "execute_result"
    }
   ],
   "source": [
    "# Количество записей, для которых нарушена хронолгия этапов воронки продаж\n",
    "len(chono_fraud_index)"
   ]
  },
  {
   "cell_type": "markdown",
   "id": "961467b8",
   "metadata": {},
   "source": [
    "### 2.7.2. Оптимизированный параллельный расчёт датасета на 7 ядрах CPU  (15 минут на Intel Core i7)"
   ]
  },
  {
   "cell_type": "code",
   "execution_count": 22,
   "id": "12144256",
   "metadata": {
    "ExecuteTime": {
     "end_time": "2023-04-04T15:47:22.535639Z",
     "start_time": "2023-04-04T15:47:22.480731Z"
    }
   },
   "outputs": [],
   "source": [
    "indexs = df.user_id.unique()"
   ]
  },
  {
   "cell_type": "code",
   "execution_count": 23,
   "id": "d148c506",
   "metadata": {
    "ExecuteTime": {
     "end_time": "2023-04-04T16:02:28.655282Z",
     "start_time": "2023-04-04T15:47:23.336423Z"
    }
   },
   "outputs": [
    {
     "name": "stdout",
     "output_type": "stream",
     "text": [
      "ВРЕМЯ СТАРТА РАСЧЁТА: 2023-04-04 18:47:23.358315 \n",
      "\n",
      "Количество доступных процессоров: 7\n",
      "Размеры подмассивов: 75622 \n",
      "\n"
     ]
    },
    {
     "name": "stderr",
     "output_type": "stream",
     "text": [
      "\r",
      "  0%|          | 0/75622 [00:00<?, ?it/s]/Users/work/Desktop/Project/Skillbox/DS/AnalystJunior/module_7/package2/preparation_functions.py:37: SettingWithCopyWarning: \n",
      "A value is trying to be set on a copy of a slice from a DataFrame\n",
      "\n",
      "See the caveats in the documentation: https://pandas.pydata.org/pandas-docs/stable/user_guide/indexing.html#returning-a-view-versus-a-copy\n",
      "  df_norma['timestamp'].loc[df_norma['funnel_stage'] == stage] =\\\n",
      "\r",
      "  0%|          | 16/75622 [00:00<08:03, 156.39it/s]\r",
      "  0%|          | 32/75622 [00:00<08:15, 152.67it/s]"
     ]
    },
    {
     "name": "stdout",
     "output_type": "stream",
     "text": [
      "75622 991739\n"
     ]
    },
    {
     "name": "stderr",
     "output_type": "stream",
     "text": [
      "  4%|▍         | 3043/75622 [00:18<08:00, 151.09it/s]"
     ]
    },
    {
     "name": "stdout",
     "output_type": "stream",
     "text": [
      "75622 991739\n"
     ]
    },
    {
     "name": "stderr",
     "output_type": "stream",
     "text": [
      "/Users/work/Desktop/Project/Skillbox/DS/AnalystJunior/module_7/package2/preparation_functions.py:37: SettingWithCopyWarning: \n",
      "A value is trying to be set on a copy of a slice from a DataFrame\n",
      "\n",
      "See the caveats in the documentation: https://pandas.pydata.org/pandas-docs/stable/user_guide/indexing.html#returning-a-view-versus-a-copy\n",
      "  df_norma['timestamp'].loc[df_norma['funnel_stage'] == stage] =\\\n",
      "  0%|          | 0/75622 [00:00<?, ?it/s]/Users/work/Desktop/Project/Skillbox/DS/AnalystJunior/module_7/package2/preparation_functions.py:37: SettingWithCopyWarning: \n",
      "A value is trying to be set on a copy of a slice from a DataFrame\n",
      "\n",
      "See the caveats in the documentation: https://pandas.pydata.org/pandas-docs/stable/user_guide/indexing.html#returning-a-view-versus-a-copy\n",
      "  df_norma['timestamp'].loc[df_norma['funnel_stage'] == stage] =\\\n",
      "  4%|▍         | 2965/75622 [00:17<07:47, 155.57it/s]"
     ]
    },
    {
     "name": "stdout",
     "output_type": "stream",
     "text": [
      "75622 991739\n"
     ]
    },
    {
     "name": "stderr",
     "output_type": "stream",
     "text": [
      "  0%|          | 0/75622 [00:00<?, ?it/s]/Users/work/Desktop/Project/Skillbox/DS/AnalystJunior/module_7/package2/preparation_functions.py:37: SettingWithCopyWarning: \n",
      "A value is trying to be set on a copy of a slice from a DataFrame\n",
      "\n",
      "See the caveats in the documentation: https://pandas.pydata.org/pandas-docs/stable/user_guide/indexing.html#returning-a-view-versus-a-copy\n",
      "  df_norma['timestamp'].loc[df_norma['funnel_stage'] == stage] =\\\n",
      "  4%|▍         | 3369/75622 [00:21<09:35, 125.49it/s]"
     ]
    },
    {
     "name": "stdout",
     "output_type": "stream",
     "text": [
      "75622 991739\n"
     ]
    },
    {
     "name": "stderr",
     "output_type": "stream",
     "text": [
      "  0%|          | 0/75622 [00:00<?, ?it/s]/Users/work/Desktop/Project/Skillbox/DS/AnalystJunior/module_7/package2/preparation_functions.py:37: SettingWithCopyWarning: \n",
      "A value is trying to be set on a copy of a slice from a DataFrame\n",
      "\n",
      "See the caveats in the documentation: https://pandas.pydata.org/pandas-docs/stable/user_guide/indexing.html#returning-a-view-versus-a-copy\n",
      "  df_norma['timestamp'].loc[df_norma['funnel_stage'] == stage] =\\\n",
      "  0%|          | 11/75622 [00:00<11:58, 105.25it/s]s]]"
     ]
    },
    {
     "name": "stdout",
     "output_type": "stream",
     "text": [
      "75622 991739\n"
     ]
    },
    {
     "name": "stderr",
     "output_type": "stream",
     "text": [
      "  0%|          | 0/75622 [00:00<?, ?it/s]/Users/work/Desktop/Project/Skillbox/DS/AnalystJunior/module_7/package2/preparation_functions.py:37: SettingWithCopyWarning: \n",
      "A value is trying to be set on a copy of a slice from a DataFrame\n",
      "\n",
      "See the caveats in the documentation: https://pandas.pydata.org/pandas-docs/stable/user_guide/indexing.html#returning-a-view-versus-a-copy\n",
      "  df_norma['timestamp'].loc[df_norma['funnel_stage'] == stage] =\\\n",
      "  0%|          | 9/75622 [00:00<15:07, 83.28it/s]it/s]"
     ]
    },
    {
     "name": "stdout",
     "output_type": "stream",
     "text": [
      "75622 991739\n"
     ]
    },
    {
     "name": "stderr",
     "output_type": "stream",
     "text": [
      " 19%|█▊        | 14106/75622 [01:46<10:14, 100.09it/s]/Users/work/Desktop/Project/Skillbox/DS/AnalystJunior/module_7/package2/preparation_functions.py:37: SettingWithCopyWarning: \n",
      "A value is trying to be set on a copy of a slice from a DataFrame\n",
      "\n",
      "See the caveats in the documentation: https://pandas.pydata.org/pandas-docs/stable/user_guide/indexing.html#returning-a-view-versus-a-copy\n",
      "  df_norma['timestamp'].loc[df_norma['funnel_stage'] == stage] =\\\n",
      " 22%|██▏       | 16822/75622 [02:04<10:46, 90.93it/s]]"
     ]
    },
    {
     "name": "stdout",
     "output_type": "stream",
     "text": [
      "75627 991739\n"
     ]
    },
    {
     "name": "stderr",
     "output_type": "stream",
     "text": [
      "100%|██████████| 75622/75622 [13:32<00:00, 93.13it/s]]  \n",
      "100%|██████████| 75622/75622 [13:24<00:00, 93.99it/s] \n",
      "100%|██████████| 75622/75622 [13:15<00:00, 95.04it/s] \n",
      "100%|██████████| 75622/75622 [13:04<00:00, 96.40it/s] \n",
      "100%|██████████| 75622/75622 [12:50<00:00, 98.15it/s] \n",
      "100%|██████████| 75622/75622 [12:30<00:00, 100.76it/s]\n",
      "100%|██████████| 75627/75627 [12:15<00:00, 102.86it/s]\n"
     ]
    },
    {
     "name": "stdout",
     "output_type": "stream",
     "text": [
      "\n",
      "\n",
      "ВРЕМЯ ОКОНЧАНИЯ РАСЧЁТА: 2023-04-04 19:02:28.649557\n",
      "ВРЕМЯ ВЫПОЛНЕНИЯ: 0:15:05.291242 \n",
      "\n",
      "\n"
     ]
    }
   ],
   "source": [
    "import multiprocessing\n",
    "from multiprocessing import Manager, Pool\n",
    "from package2.preparation_functions import *\n",
    "\n",
    "# Обработаем датасет в мультипроцессорном режиме с замером времени\n",
    "\n",
    "start_time = dt.datetime.now()\n",
    "print('ВРЕМЯ СТАРТА РАСЧЁТА:', start_time, '\\n')\n",
    "\n",
    "# Запарралелим расчёты между доступными ядрами процессора:\n",
    "\n",
    "# 1. рассчитываем количество ядер процесса, которые задействуем для вычислений\n",
    "#    (уменьшаем на 1 ядро, которое оставляем на системные потребности)\n",
    "n_cpu = multiprocessing.cpu_count() - 1\n",
    "print('Количество доступных процессоров:', n_cpu)\n",
    "\n",
    "# 2. Расчитаем размер обрабатываемого парралельно подмассива\n",
    "val_sub = int(len(indexs)/n_cpu)\n",
    "print('Размеры подмассивов:', val_sub, '\\n')\n",
    "\n",
    "# 3. Создаём менеджера парралельных процессов\n",
    "#    и его пространство имён для обмена данными между процессами\n",
    "if __name__ == '__main__':\n",
    "    with Manager() as mng:\n",
    "        ns = mng.Namespace()\n",
    "        ns.indexs = mng.list()\n",
    "        ns.dfs = df\n",
    "        # 4. Делим датасет на составляющие,\n",
    "        #    которые будут рассчитываться в парралельных процессах\n",
    "        for i in range(n_cpu - 1):\n",
    "            ns.indexs.append((indexs[val_sub*i:val_sub*(i+1)], df))\n",
    "        ns.indexs.append((indexs[(n_cpu-1)*val_sub:], df))\n",
    "\n",
    "        # 5. Запустим пул парралельных процессов вычислений\n",
    "        #    и объединим результат в единый датафрейм\n",
    "        with Pool(n_cpu) as p:\n",
    "            chono_fraud_index_1 = p.map(get_fraud_df, ns.indexs)\n",
    "\n",
    "finish_time = dt.datetime.now()\n",
    "print('\\n\\nВРЕМЯ ОКОНЧАНИЯ РАСЧЁТА:', finish_time)\n",
    "print('ВРЕМЯ ВЫПОЛНЕНИЯ:', finish_time - start_time, '\\n' * 2)"
   ]
  },
  {
   "cell_type": "code",
   "execution_count": 28,
   "id": "fe87b091",
   "metadata": {
    "ExecuteTime": {
     "end_time": "2023-04-04T17:16:32.095553Z",
     "start_time": "2023-04-04T17:16:32.084526Z"
    }
   },
   "outputs": [
    {
     "data": {
      "text/plain": [
       "423021"
      ]
     },
     "execution_count": 28,
     "metadata": {},
     "output_type": "execute_result"
    }
   ],
   "source": [
    "# Сформируем общий список индексов записей, для которых нарушена хронолгия этапов воронки продаж\n",
    "chono_fraud_index_2 = []\n",
    "for elem in chono_fraud_index_1:\n",
    "    chono_fraud_index_2.extend(elem)\n",
    "\n",
    "# Количество записей, для которых нарушена хронолгия этапов воронки продаж\n",
    "len(chono_fraud_index_2)"
   ]
  },
  {
   "cell_type": "code",
   "execution_count": 51,
   "id": "231a1c91",
   "metadata": {
    "ExecuteTime": {
     "end_time": "2023-04-04T17:50:59.006481Z",
     "start_time": "2023-04-04T17:50:58.714198Z"
    }
   },
   "outputs": [
    {
     "data": {
      "text/plain": [
       "991739"
      ]
     },
     "execution_count": 51,
     "metadata": {},
     "output_type": "execute_result"
    }
   ],
   "source": [
    "# Определим количество записей для пользователей\n",
    "df_number_user = df.groupby('user_id').agg({'timestamp': 'count'})\n",
    "number_user = df_number_user[df_number_user.timestamp > 0].timestamp.sum()\n",
    "number_user"
   ]
  },
  {
   "cell_type": "code",
   "execution_count": 54,
   "id": "550960b7",
   "metadata": {
    "ExecuteTime": {
     "end_time": "2023-04-04T17:53:24.475281Z",
     "start_time": "2023-04-04T17:53:24.462123Z"
    }
   },
   "outputs": [
    {
     "data": {
      "text/plain": [
       "(804205, 81.09038769272964)"
      ]
     },
     "execution_count": 54,
     "metadata": {},
     "output_type": "execute_result"
    }
   ],
   "source": [
    "# Определим количество и долю (в %) пользователей, которые прошли по нескольким этапам воронки продаж\n",
    "number_user_stages = df_number_user[df_number_user.timestamp > 1].timestamp.sum()\n",
    "number_user_stages, (number_user_stages / number_user * 100)"
   ]
  },
  {
   "cell_type": "code",
   "execution_count": 56,
   "id": "88c1f9e3",
   "metadata": {
    "ExecuteTime": {
     "end_time": "2023-04-04T17:58:18.051501Z",
     "start_time": "2023-04-04T17:58:18.045876Z"
    }
   },
   "outputs": [
    {
     "data": {
      "text/plain": [
       "42.65446856481393"
      ]
     },
     "execution_count": 56,
     "metadata": {},
     "output_type": "execute_result"
    }
   ],
   "source": [
    "# Определим долю (в %) записей, по которым нарушена проверка на хронологию этапов воронки продаж\n",
    "len(chono_fraud_index_2) / number_user * 100"
   ]
  },
  {
   "cell_type": "markdown",
   "id": "407d073e",
   "metadata": {},
   "source": [
    "**Вывод:** Для 42.6% записей, отображающих переходы пользователей по нескольким этапам воронки продаж нарушена хронологическая последовательность этапов воронки продаж (определено по параметру timestamp). Это свидетельствует о следующем:  \n",
    "- либо в бизне-схеме движения пользователя по этапам воронки продаж возможны ситуации с возвратом пользователя на предыдущие этапы и пропуска отдельных этапов (это возможно если пользователю, например, предоставляются прямые ссылки на последующие этапы, без обязательного просмотра предыдущих этапов),  \n",
    "- либо датасет содержит большое количество фальсифицированных записей.  \n",
    "> СООТВЕТСВЕННО - требуется дополнительная проверка бизнес-логики регистрации этапов воронки продаж и согласование с продуктовой командой трактовки данного факта при планировании иследований и формулировании выводов по исследованиям.  \n",
    "> Отдельно целесообразно рассмотреть возможна ли такая регистрация пользователей в бизнес-схеме, которая позволяла-бы пользователю заходит на сайт под одним и тем-же 'user_id' через разные рекламные каналы."
   ]
  },
  {
   "cell_type": "markdown",
   "id": "be426dce",
   "metadata": {},
   "source": [
    "# Раздел 3. Факторный анализ (модуль 9)"
   ]
  },
  {
   "cell_type": "code",
   "execution_count": 24,
   "id": "a3331017",
   "metadata": {
    "ExecuteTime": {
     "end_time": "2023-04-11T15:15:06.463088Z",
     "start_time": "2023-04-11T15:15:04.320935Z"
    }
   },
   "outputs": [
    {
     "data": {
      "text/html": [
       "<div>\n",
       "<style scoped>\n",
       "    .dataframe tbody tr th:only-of-type {\n",
       "        vertical-align: middle;\n",
       "    }\n",
       "\n",
       "    .dataframe tbody tr th {\n",
       "        vertical-align: top;\n",
       "    }\n",
       "\n",
       "    .dataframe thead th {\n",
       "        text-align: right;\n",
       "    }\n",
       "</style>\n",
       "<table border=\"1\" class=\"dataframe\">\n",
       "  <thead>\n",
       "    <tr style=\"text-align: right;\">\n",
       "      <th></th>\n",
       "      <th>user_id</th>\n",
       "      <th>funnel_stage</th>\n",
       "      <th>os</th>\n",
       "      <th>ad_channel</th>\n",
       "      <th>price</th>\n",
       "    </tr>\n",
       "  </thead>\n",
       "  <tbody>\n",
       "    <tr>\n",
       "      <th>0</th>\n",
       "      <td>928373</td>\n",
       "      <td>interest</td>\n",
       "      <td>iOS</td>\n",
       "      <td>banner</td>\n",
       "      <td>0.5</td>\n",
       "    </tr>\n",
       "    <tr>\n",
       "      <th>1</th>\n",
       "      <td>230119</td>\n",
       "      <td>interest</td>\n",
       "      <td>iOS</td>\n",
       "      <td>search</td>\n",
       "      <td>1.5</td>\n",
       "    </tr>\n",
       "    <tr>\n",
       "      <th>2</th>\n",
       "      <td>619571</td>\n",
       "      <td>consideration</td>\n",
       "      <td>iOS</td>\n",
       "      <td>search</td>\n",
       "      <td>1.5</td>\n",
       "    </tr>\n",
       "  </tbody>\n",
       "</table>\n",
       "</div>"
      ],
      "text/plain": [
       "   user_id   funnel_stage   os ad_channel  price\n",
       "0   928373       interest  iOS     banner    0.5\n",
       "1   230119       interest  iOS     search    1.5\n",
       "2   619571  consideration  iOS     search    1.5"
      ]
     },
     "execution_count": 24,
     "metadata": {},
     "output_type": "execute_result"
    }
   ],
   "source": [
    "# Прочитаем данные из базы данных\n",
    "connection = bd.connect('metrics.db')\n",
    "df = pd.read_sql(\"\"\"SELECT user_id, funnel_stage, os, ad_channel, price\n",
    "                    FROM table_data_new\n",
    "                    WHERE fraud_robot = 0\"\"\", connection)\n",
    "connection.close()\n",
    "df.head(3)"
   ]
  },
  {
   "cell_type": "markdown",
   "id": "4ae85bcc",
   "metadata": {},
   "source": [
    "## 3.1. Кодировка значений"
   ]
  },
  {
   "cell_type": "code",
   "execution_count": 25,
   "id": "5706a09e",
   "metadata": {
    "ExecuteTime": {
     "end_time": "2023-04-11T15:15:16.384591Z",
     "start_time": "2023-04-11T15:15:16.123358Z"
    }
   },
   "outputs": [],
   "source": [
    "# Кодируем тип операционной системы\n",
    "df_1 = pd.get_dummies(df, columns=[\"os\"])"
   ]
  },
  {
   "cell_type": "code",
   "execution_count": 26,
   "id": "7a58a2d8",
   "metadata": {
    "ExecuteTime": {
     "end_time": "2023-04-11T15:15:20.795903Z",
     "start_time": "2023-04-11T15:15:20.783164Z"
    }
   },
   "outputs": [
    {
     "data": {
      "text/html": [
       "<div>\n",
       "<style scoped>\n",
       "    .dataframe tbody tr th:only-of-type {\n",
       "        vertical-align: middle;\n",
       "    }\n",
       "\n",
       "    .dataframe tbody tr th {\n",
       "        vertical-align: top;\n",
       "    }\n",
       "\n",
       "    .dataframe thead th {\n",
       "        text-align: right;\n",
       "    }\n",
       "</style>\n",
       "<table border=\"1\" class=\"dataframe\">\n",
       "  <thead>\n",
       "    <tr style=\"text-align: right;\">\n",
       "      <th></th>\n",
       "      <th>user_id</th>\n",
       "      <th>funnel_stage</th>\n",
       "      <th>ad_channel</th>\n",
       "      <th>price</th>\n",
       "      <th>os_Android</th>\n",
       "      <th>os_iOS</th>\n",
       "    </tr>\n",
       "  </thead>\n",
       "  <tbody>\n",
       "    <tr>\n",
       "      <th>0</th>\n",
       "      <td>928373</td>\n",
       "      <td>interest</td>\n",
       "      <td>banner</td>\n",
       "      <td>0.5</td>\n",
       "      <td>0</td>\n",
       "      <td>1</td>\n",
       "    </tr>\n",
       "    <tr>\n",
       "      <th>1</th>\n",
       "      <td>230119</td>\n",
       "      <td>interest</td>\n",
       "      <td>search</td>\n",
       "      <td>1.5</td>\n",
       "      <td>0</td>\n",
       "      <td>1</td>\n",
       "    </tr>\n",
       "    <tr>\n",
       "      <th>2</th>\n",
       "      <td>619571</td>\n",
       "      <td>consideration</td>\n",
       "      <td>search</td>\n",
       "      <td>1.5</td>\n",
       "      <td>0</td>\n",
       "      <td>1</td>\n",
       "    </tr>\n",
       "    <tr>\n",
       "      <th>3</th>\n",
       "      <td>387356</td>\n",
       "      <td>interest</td>\n",
       "      <td>search</td>\n",
       "      <td>1.5</td>\n",
       "      <td>0</td>\n",
       "      <td>1</td>\n",
       "    </tr>\n",
       "    <tr>\n",
       "      <th>4</th>\n",
       "      <td>219687</td>\n",
       "      <td>interest</td>\n",
       "      <td>banner</td>\n",
       "      <td>0.5</td>\n",
       "      <td>1</td>\n",
       "      <td>0</td>\n",
       "    </tr>\n",
       "    <tr>\n",
       "      <th>...</th>\n",
       "      <td>...</td>\n",
       "      <td>...</td>\n",
       "      <td>...</td>\n",
       "      <td>...</td>\n",
       "      <td>...</td>\n",
       "      <td>...</td>\n",
       "    </tr>\n",
       "    <tr>\n",
       "      <th>981384</th>\n",
       "      <td>929180</td>\n",
       "      <td>intent</td>\n",
       "      <td>search</td>\n",
       "      <td>1.5</td>\n",
       "      <td>0</td>\n",
       "      <td>1</td>\n",
       "    </tr>\n",
       "    <tr>\n",
       "      <th>981385</th>\n",
       "      <td>1034498</td>\n",
       "      <td>intent</td>\n",
       "      <td>search</td>\n",
       "      <td>1.5</td>\n",
       "      <td>0</td>\n",
       "      <td>1</td>\n",
       "    </tr>\n",
       "    <tr>\n",
       "      <th>981386</th>\n",
       "      <td>947521</td>\n",
       "      <td>consideration</td>\n",
       "      <td>organic_traffic</td>\n",
       "      <td>0.0</td>\n",
       "      <td>1</td>\n",
       "      <td>0</td>\n",
       "    </tr>\n",
       "    <tr>\n",
       "      <th>981387</th>\n",
       "      <td>720354</td>\n",
       "      <td>purchase</td>\n",
       "      <td>organic_traffic</td>\n",
       "      <td>0.0</td>\n",
       "      <td>1</td>\n",
       "      <td>0</td>\n",
       "    </tr>\n",
       "    <tr>\n",
       "      <th>981388</th>\n",
       "      <td>151184</td>\n",
       "      <td>interest</td>\n",
       "      <td>search</td>\n",
       "      <td>1.5</td>\n",
       "      <td>0</td>\n",
       "      <td>1</td>\n",
       "    </tr>\n",
       "  </tbody>\n",
       "</table>\n",
       "<p>981389 rows × 6 columns</p>\n",
       "</div>"
      ],
      "text/plain": [
       "        user_id   funnel_stage       ad_channel  price  os_Android  os_iOS\n",
       "0        928373       interest           banner    0.5           0       1\n",
       "1        230119       interest           search    1.5           0       1\n",
       "2        619571  consideration           search    1.5           0       1\n",
       "3        387356       interest           search    1.5           0       1\n",
       "4        219687       interest           banner    0.5           1       0\n",
       "...         ...            ...              ...    ...         ...     ...\n",
       "981384   929180         intent           search    1.5           0       1\n",
       "981385  1034498         intent           search    1.5           0       1\n",
       "981386   947521  consideration  organic_traffic    0.0           1       0\n",
       "981387   720354       purchase  organic_traffic    0.0           1       0\n",
       "981388   151184       interest           search    1.5           0       1\n",
       "\n",
       "[981389 rows x 6 columns]"
      ]
     },
     "execution_count": 26,
     "metadata": {},
     "output_type": "execute_result"
    }
   ],
   "source": [
    "df_1"
   ]
  },
  {
   "cell_type": "code",
   "execution_count": 27,
   "id": "70a7bc1e",
   "metadata": {
    "ExecuteTime": {
     "end_time": "2023-04-11T15:15:40.342546Z",
     "start_time": "2023-04-11T15:15:39.368038Z"
    }
   },
   "outputs": [
    {
     "data": {
      "text/html": [
       "<div>\n",
       "<style scoped>\n",
       "    .dataframe tbody tr th:only-of-type {\n",
       "        vertical-align: middle;\n",
       "    }\n",
       "\n",
       "    .dataframe tbody tr th {\n",
       "        vertical-align: top;\n",
       "    }\n",
       "\n",
       "    .dataframe thead th {\n",
       "        text-align: right;\n",
       "    }\n",
       "</style>\n",
       "<table border=\"1\" class=\"dataframe\">\n",
       "  <thead>\n",
       "    <tr style=\"text-align: right;\">\n",
       "      <th></th>\n",
       "      <th>user_id</th>\n",
       "      <th>funnel_stage</th>\n",
       "      <th>ad_channel</th>\n",
       "      <th>price</th>\n",
       "      <th>os_Android</th>\n",
       "      <th>os_iOS</th>\n",
       "      <th>funnel_stage_cod</th>\n",
       "    </tr>\n",
       "  </thead>\n",
       "  <tbody>\n",
       "    <tr>\n",
       "      <th>0</th>\n",
       "      <td>928373</td>\n",
       "      <td>interest</td>\n",
       "      <td>banner</td>\n",
       "      <td>0.5</td>\n",
       "      <td>0</td>\n",
       "      <td>1</td>\n",
       "      <td>1</td>\n",
       "    </tr>\n",
       "    <tr>\n",
       "      <th>1</th>\n",
       "      <td>230119</td>\n",
       "      <td>interest</td>\n",
       "      <td>search</td>\n",
       "      <td>1.5</td>\n",
       "      <td>0</td>\n",
       "      <td>1</td>\n",
       "      <td>1</td>\n",
       "    </tr>\n",
       "    <tr>\n",
       "      <th>2</th>\n",
       "      <td>619571</td>\n",
       "      <td>consideration</td>\n",
       "      <td>search</td>\n",
       "      <td>1.5</td>\n",
       "      <td>0</td>\n",
       "      <td>1</td>\n",
       "      <td>2</td>\n",
       "    </tr>\n",
       "    <tr>\n",
       "      <th>3</th>\n",
       "      <td>387356</td>\n",
       "      <td>interest</td>\n",
       "      <td>search</td>\n",
       "      <td>1.5</td>\n",
       "      <td>0</td>\n",
       "      <td>1</td>\n",
       "      <td>1</td>\n",
       "    </tr>\n",
       "    <tr>\n",
       "      <th>4</th>\n",
       "      <td>219687</td>\n",
       "      <td>interest</td>\n",
       "      <td>banner</td>\n",
       "      <td>0.5</td>\n",
       "      <td>1</td>\n",
       "      <td>0</td>\n",
       "      <td>1</td>\n",
       "    </tr>\n",
       "    <tr>\n",
       "      <th>...</th>\n",
       "      <td>...</td>\n",
       "      <td>...</td>\n",
       "      <td>...</td>\n",
       "      <td>...</td>\n",
       "      <td>...</td>\n",
       "      <td>...</td>\n",
       "      <td>...</td>\n",
       "    </tr>\n",
       "    <tr>\n",
       "      <th>981384</th>\n",
       "      <td>929180</td>\n",
       "      <td>intent</td>\n",
       "      <td>search</td>\n",
       "      <td>1.5</td>\n",
       "      <td>0</td>\n",
       "      <td>1</td>\n",
       "      <td>3</td>\n",
       "    </tr>\n",
       "    <tr>\n",
       "      <th>981385</th>\n",
       "      <td>1034498</td>\n",
       "      <td>intent</td>\n",
       "      <td>search</td>\n",
       "      <td>1.5</td>\n",
       "      <td>0</td>\n",
       "      <td>1</td>\n",
       "      <td>3</td>\n",
       "    </tr>\n",
       "    <tr>\n",
       "      <th>981386</th>\n",
       "      <td>947521</td>\n",
       "      <td>consideration</td>\n",
       "      <td>organic_traffic</td>\n",
       "      <td>0.0</td>\n",
       "      <td>1</td>\n",
       "      <td>0</td>\n",
       "      <td>2</td>\n",
       "    </tr>\n",
       "    <tr>\n",
       "      <th>981387</th>\n",
       "      <td>720354</td>\n",
       "      <td>purchase</td>\n",
       "      <td>organic_traffic</td>\n",
       "      <td>0.0</td>\n",
       "      <td>1</td>\n",
       "      <td>0</td>\n",
       "      <td>4</td>\n",
       "    </tr>\n",
       "    <tr>\n",
       "      <th>981388</th>\n",
       "      <td>151184</td>\n",
       "      <td>interest</td>\n",
       "      <td>search</td>\n",
       "      <td>1.5</td>\n",
       "      <td>0</td>\n",
       "      <td>1</td>\n",
       "      <td>1</td>\n",
       "    </tr>\n",
       "  </tbody>\n",
       "</table>\n",
       "<p>981389 rows × 7 columns</p>\n",
       "</div>"
      ],
      "text/plain": [
       "        user_id   funnel_stage       ad_channel  price  os_Android  os_iOS  \\\n",
       "0        928373       interest           banner    0.5           0       1   \n",
       "1        230119       interest           search    1.5           0       1   \n",
       "2        619571  consideration           search    1.5           0       1   \n",
       "3        387356       interest           search    1.5           0       1   \n",
       "4        219687       interest           banner    0.5           1       0   \n",
       "...         ...            ...              ...    ...         ...     ...   \n",
       "981384   929180         intent           search    1.5           0       1   \n",
       "981385  1034498         intent           search    1.5           0       1   \n",
       "981386   947521  consideration  organic_traffic    0.0           1       0   \n",
       "981387   720354       purchase  organic_traffic    0.0           1       0   \n",
       "981388   151184       interest           search    1.5           0       1   \n",
       "\n",
       "        funnel_stage_cod  \n",
       "0                      1  \n",
       "1                      1  \n",
       "2                      2  \n",
       "3                      1  \n",
       "4                      1  \n",
       "...                  ...  \n",
       "981384                 3  \n",
       "981385                 3  \n",
       "981386                 2  \n",
       "981387                 4  \n",
       "981388                 1  \n",
       "\n",
       "[981389 rows x 7 columns]"
      ]
     },
     "execution_count": 27,
     "metadata": {},
     "output_type": "execute_result"
    }
   ],
   "source": [
    "# Кодируем этапы воронки продаж\n",
    "df_1['funnel_stage_cod'] = df_1['funnel_stage']\n",
    "funnel_stage_cod = {\"funnel_stage_cod\":     {\"interest\": 1, \"consideration\": 2, \"intent\": 3, \"purchase\": 4}}\n",
    "df_1 = df_1.replace(funnel_stage_cod)\n",
    "df_1"
   ]
  },
  {
   "cell_type": "markdown",
   "id": "d420d2c0",
   "metadata": {},
   "source": [
    "## 3.2. Расчёт корреляций"
   ]
  },
  {
   "cell_type": "code",
   "execution_count": 28,
   "id": "a61b55f1",
   "metadata": {
    "ExecuteTime": {
     "end_time": "2023-04-11T15:15:54.203684Z",
     "start_time": "2023-04-11T15:15:53.775508Z"
    }
   },
   "outputs": [
    {
     "data": {
      "text/html": [
       "<div>\n",
       "<style scoped>\n",
       "    .dataframe tbody tr th:only-of-type {\n",
       "        vertical-align: middle;\n",
       "    }\n",
       "\n",
       "    .dataframe tbody tr th {\n",
       "        vertical-align: top;\n",
       "    }\n",
       "\n",
       "    .dataframe thead th {\n",
       "        text-align: right;\n",
       "    }\n",
       "</style>\n",
       "<table border=\"1\" class=\"dataframe\">\n",
       "  <thead>\n",
       "    <tr style=\"text-align: right;\">\n",
       "      <th></th>\n",
       "      <th>user_id</th>\n",
       "      <th>funnel_stage</th>\n",
       "      <th>os</th>\n",
       "      <th>ad_channel</th>\n",
       "      <th>price</th>\n",
       "    </tr>\n",
       "  </thead>\n",
       "  <tbody>\n",
       "    <tr>\n",
       "      <th>0</th>\n",
       "      <td>0</td>\n",
       "      <td>0</td>\n",
       "      <td>0</td>\n",
       "      <td>0</td>\n",
       "      <td>0</td>\n",
       "    </tr>\n",
       "    <tr>\n",
       "      <th>1</th>\n",
       "      <td>1</td>\n",
       "      <td>0</td>\n",
       "      <td>0</td>\n",
       "      <td>1</td>\n",
       "      <td>1</td>\n",
       "    </tr>\n",
       "    <tr>\n",
       "      <th>2</th>\n",
       "      <td>2</td>\n",
       "      <td>1</td>\n",
       "      <td>0</td>\n",
       "      <td>1</td>\n",
       "      <td>1</td>\n",
       "    </tr>\n",
       "    <tr>\n",
       "      <th>3</th>\n",
       "      <td>3</td>\n",
       "      <td>0</td>\n",
       "      <td>0</td>\n",
       "      <td>1</td>\n",
       "      <td>1</td>\n",
       "    </tr>\n",
       "    <tr>\n",
       "      <th>4</th>\n",
       "      <td>4</td>\n",
       "      <td>0</td>\n",
       "      <td>1</td>\n",
       "      <td>0</td>\n",
       "      <td>0</td>\n",
       "    </tr>\n",
       "    <tr>\n",
       "      <th>...</th>\n",
       "      <td>...</td>\n",
       "      <td>...</td>\n",
       "      <td>...</td>\n",
       "      <td>...</td>\n",
       "      <td>...</td>\n",
       "    </tr>\n",
       "    <tr>\n",
       "      <th>981384</th>\n",
       "      <td>528644</td>\n",
       "      <td>2</td>\n",
       "      <td>0</td>\n",
       "      <td>1</td>\n",
       "      <td>1</td>\n",
       "    </tr>\n",
       "    <tr>\n",
       "      <th>981385</th>\n",
       "      <td>526284</td>\n",
       "      <td>2</td>\n",
       "      <td>0</td>\n",
       "      <td>1</td>\n",
       "      <td>1</td>\n",
       "    </tr>\n",
       "    <tr>\n",
       "      <th>981386</th>\n",
       "      <td>513647</td>\n",
       "      <td>1</td>\n",
       "      <td>1</td>\n",
       "      <td>4</td>\n",
       "      <td>4</td>\n",
       "    </tr>\n",
       "    <tr>\n",
       "      <th>981387</th>\n",
       "      <td>528596</td>\n",
       "      <td>3</td>\n",
       "      <td>1</td>\n",
       "      <td>4</td>\n",
       "      <td>4</td>\n",
       "    </tr>\n",
       "    <tr>\n",
       "      <th>981388</th>\n",
       "      <td>507611</td>\n",
       "      <td>0</td>\n",
       "      <td>0</td>\n",
       "      <td>1</td>\n",
       "      <td>1</td>\n",
       "    </tr>\n",
       "  </tbody>\n",
       "</table>\n",
       "<p>981389 rows × 5 columns</p>\n",
       "</div>"
      ],
      "text/plain": [
       "        user_id  funnel_stage  os  ad_channel  price\n",
       "0             0             0   0           0      0\n",
       "1             1             0   0           1      1\n",
       "2             2             1   0           1      1\n",
       "3             3             0   0           1      1\n",
       "4             4             0   1           0      0\n",
       "...         ...           ...  ..         ...    ...\n",
       "981384   528644             2   0           1      1\n",
       "981385   526284             2   0           1      1\n",
       "981386   513647             1   1           4      4\n",
       "981387   528596             3   1           4      4\n",
       "981388   507611             0   0           1      1\n",
       "\n",
       "[981389 rows x 5 columns]"
      ]
     },
     "execution_count": 28,
     "metadata": {},
     "output_type": "execute_result"
    }
   ],
   "source": [
    "# Фактаризуем исходный датасет\n",
    "df_2 = df.apply(lambda x: pd.factorize(x)[0])\n",
    "df_2"
   ]
  },
  {
   "cell_type": "code",
   "execution_count": 29,
   "id": "0fc84c5c",
   "metadata": {
    "ExecuteTime": {
     "end_time": "2023-04-11T15:16:14.682951Z",
     "start_time": "2023-04-11T15:16:14.534845Z"
    }
   },
   "outputs": [
    {
     "data": {
      "text/html": [
       "<div>\n",
       "<style scoped>\n",
       "    .dataframe tbody tr th:only-of-type {\n",
       "        vertical-align: middle;\n",
       "    }\n",
       "\n",
       "    .dataframe tbody tr th {\n",
       "        vertical-align: top;\n",
       "    }\n",
       "\n",
       "    .dataframe thead th {\n",
       "        text-align: right;\n",
       "    }\n",
       "</style>\n",
       "<table border=\"1\" class=\"dataframe\">\n",
       "  <thead>\n",
       "    <tr style=\"text-align: right;\">\n",
       "      <th></th>\n",
       "      <th>user_id</th>\n",
       "      <th>funnel_stage</th>\n",
       "      <th>os</th>\n",
       "      <th>ad_channel</th>\n",
       "      <th>price</th>\n",
       "    </tr>\n",
       "  </thead>\n",
       "  <tbody>\n",
       "    <tr>\n",
       "      <th>user_id</th>\n",
       "      <td>1.000000</td>\n",
       "      <td>-0.014731</td>\n",
       "      <td>0.009490</td>\n",
       "      <td>-0.024983</td>\n",
       "      <td>-0.024983</td>\n",
       "    </tr>\n",
       "    <tr>\n",
       "      <th>funnel_stage</th>\n",
       "      <td>-0.014731</td>\n",
       "      <td>1.000000</td>\n",
       "      <td>-0.013126</td>\n",
       "      <td>-0.023908</td>\n",
       "      <td>-0.023908</td>\n",
       "    </tr>\n",
       "    <tr>\n",
       "      <th>os</th>\n",
       "      <td>0.009490</td>\n",
       "      <td>-0.013126</td>\n",
       "      <td>1.000000</td>\n",
       "      <td>-0.018481</td>\n",
       "      <td>-0.018481</td>\n",
       "    </tr>\n",
       "    <tr>\n",
       "      <th>ad_channel</th>\n",
       "      <td>-0.024983</td>\n",
       "      <td>-0.023908</td>\n",
       "      <td>-0.018481</td>\n",
       "      <td>1.000000</td>\n",
       "      <td>1.000000</td>\n",
       "    </tr>\n",
       "    <tr>\n",
       "      <th>price</th>\n",
       "      <td>-0.024983</td>\n",
       "      <td>-0.023908</td>\n",
       "      <td>-0.018481</td>\n",
       "      <td>1.000000</td>\n",
       "      <td>1.000000</td>\n",
       "    </tr>\n",
       "  </tbody>\n",
       "</table>\n",
       "</div>"
      ],
      "text/plain": [
       "               user_id  funnel_stage        os  ad_channel     price\n",
       "user_id       1.000000     -0.014731  0.009490   -0.024983 -0.024983\n",
       "funnel_stage -0.014731      1.000000 -0.013126   -0.023908 -0.023908\n",
       "os            0.009490     -0.013126  1.000000   -0.018481 -0.018481\n",
       "ad_channel   -0.024983     -0.023908 -0.018481    1.000000  1.000000\n",
       "price        -0.024983     -0.023908 -0.018481    1.000000  1.000000"
      ]
     },
     "execution_count": 29,
     "metadata": {},
     "output_type": "execute_result"
    }
   ],
   "source": [
    "# Выведем матрицу корреляции факторизованного датафрейма\n",
    "df_2.corr()"
   ]
  },
  {
   "cell_type": "code",
   "execution_count": 38,
   "id": "64eeaeba",
   "metadata": {
    "ExecuteTime": {
     "end_time": "2023-04-11T16:06:11.117102Z",
     "start_time": "2023-04-11T16:06:10.723358Z"
    }
   },
   "outputs": [
    {
     "data": {
      "image/png": "[encoded data removed]",
      "text/plain": [
       "<Figure size 640x480 with 2 Axes>"
      ]
     },
     "metadata": {},
     "output_type": "display_data"
    }
   ],
   "source": [
    "# Строоим тепловую карту корреляции факторизованных переменных датафрейма\n",
    "sns.heatmap(df_2.corr(), cmap='Greens', center=0, square=True, linewidths=5);#"
   ]
  },
  {
   "cell_type": "code",
   "execution_count": 39,
   "id": "c5b6abc1",
   "metadata": {
    "ExecuteTime": {
     "end_time": "2023-04-11T16:08:14.666384Z",
     "start_time": "2023-04-11T16:08:14.604061Z"
    }
   },
   "outputs": [
    {
     "data": {
      "text/html": [
       "<div>\n",
       "<style scoped>\n",
       "    .dataframe tbody tr th:only-of-type {\n",
       "        vertical-align: middle;\n",
       "    }\n",
       "\n",
       "    .dataframe tbody tr th {\n",
       "        vertical-align: top;\n",
       "    }\n",
       "\n",
       "    .dataframe thead th {\n",
       "        text-align: right;\n",
       "    }\n",
       "</style>\n",
       "<table border=\"1\" class=\"dataframe\">\n",
       "  <thead>\n",
       "    <tr style=\"text-align: right;\">\n",
       "      <th></th>\n",
       "      <th>price</th>\n",
       "      <th>user_id</th>\n",
       "    </tr>\n",
       "  </thead>\n",
       "  <tbody>\n",
       "    <tr>\n",
       "      <th>price</th>\n",
       "      <td>1.000000</td>\n",
       "      <td>-0.024983</td>\n",
       "    </tr>\n",
       "    <tr>\n",
       "      <th>user_id</th>\n",
       "      <td>-0.024983</td>\n",
       "      <td>1.000000</td>\n",
       "    </tr>\n",
       "  </tbody>\n",
       "</table>\n",
       "</div>"
      ],
      "text/plain": [
       "            price   user_id\n",
       "price    1.000000 -0.024983\n",
       "user_id -0.024983  1.000000"
      ]
     },
     "execution_count": 39,
     "metadata": {},
     "output_type": "execute_result"
    }
   ],
   "source": [
    "df_2[['price', 'user_id']].corr()"
   ]
  },
  {
   "cell_type": "markdown",
   "id": "b0d335fe",
   "metadata": {},
   "source": [
    "**Вывод:** Все представленные в датафремйме признаки имеют низкую корреляцию, за исключением двух - \"price\" и \"ad_channel\". Признаки \"price\" и \"ad_channel\" имеют очень высокую корреляцию. Учитывая природу этих двух признаков можно утверждать что признак \"ad_channel\" фактически определяет признак \"price\"."
   ]
  },
  {
   "cell_type": "markdown",
   "id": "64f1be8b",
   "metadata": {},
   "source": [
    "## 3.3. Факторный анализ"
   ]
  },
  {
   "cell_type": "code",
   "execution_count": 46,
   "id": "429266d3",
   "metadata": {
    "ExecuteTime": {
     "end_time": "2023-04-11T17:28:58.437620Z",
     "start_time": "2023-04-11T17:28:58.433218Z"
    }
   },
   "outputs": [],
   "source": [
    "from sklearn.preprocessing import StandardScaler, LabelEncoder\n",
    "from factor_analyzer.factor_analyzer import calculate_bartlett_sphericity\n",
    "from factor_analyzer import FactorAnalyzer"
   ]
  },
  {
   "cell_type": "code",
   "execution_count": 47,
   "id": "a33a1e5b",
   "metadata": {
    "ExecuteTime": {
     "end_time": "2023-04-11T17:47:15.575960Z",
     "start_time": "2023-04-11T17:47:15.434782Z"
    }
   },
   "outputs": [
    {
     "data": {
      "text/html": [
       "<div>\n",
       "<style scoped>\n",
       "    .dataframe tbody tr th:only-of-type {\n",
       "        vertical-align: middle;\n",
       "    }\n",
       "\n",
       "    .dataframe tbody tr th {\n",
       "        vertical-align: top;\n",
       "    }\n",
       "\n",
       "    .dataframe thead th {\n",
       "        text-align: right;\n",
       "    }\n",
       "</style>\n",
       "<table border=\"1\" class=\"dataframe\">\n",
       "  <thead>\n",
       "    <tr style=\"text-align: right;\">\n",
       "      <th></th>\n",
       "      <th>user_id</th>\n",
       "      <th>funnel_stage</th>\n",
       "      <th>os</th>\n",
       "      <th>ad_channel</th>\n",
       "      <th>price</th>\n",
       "      <th>ad_channel_le</th>\n",
       "    </tr>\n",
       "  </thead>\n",
       "  <tbody>\n",
       "    <tr>\n",
       "      <th>0</th>\n",
       "      <td>0</td>\n",
       "      <td>0</td>\n",
       "      <td>0</td>\n",
       "      <td>0</td>\n",
       "      <td>0</td>\n",
       "      <td>0</td>\n",
       "    </tr>\n",
       "    <tr>\n",
       "      <th>1</th>\n",
       "      <td>1</td>\n",
       "      <td>0</td>\n",
       "      <td>0</td>\n",
       "      <td>1</td>\n",
       "      <td>1</td>\n",
       "      <td>1</td>\n",
       "    </tr>\n",
       "    <tr>\n",
       "      <th>2</th>\n",
       "      <td>2</td>\n",
       "      <td>1</td>\n",
       "      <td>0</td>\n",
       "      <td>1</td>\n",
       "      <td>1</td>\n",
       "      <td>1</td>\n",
       "    </tr>\n",
       "    <tr>\n",
       "      <th>3</th>\n",
       "      <td>3</td>\n",
       "      <td>0</td>\n",
       "      <td>0</td>\n",
       "      <td>1</td>\n",
       "      <td>1</td>\n",
       "      <td>1</td>\n",
       "    </tr>\n",
       "    <tr>\n",
       "      <th>4</th>\n",
       "      <td>4</td>\n",
       "      <td>0</td>\n",
       "      <td>1</td>\n",
       "      <td>0</td>\n",
       "      <td>0</td>\n",
       "      <td>0</td>\n",
       "    </tr>\n",
       "    <tr>\n",
       "      <th>...</th>\n",
       "      <td>...</td>\n",
       "      <td>...</td>\n",
       "      <td>...</td>\n",
       "      <td>...</td>\n",
       "      <td>...</td>\n",
       "      <td>...</td>\n",
       "    </tr>\n",
       "    <tr>\n",
       "      <th>981384</th>\n",
       "      <td>528644</td>\n",
       "      <td>2</td>\n",
       "      <td>0</td>\n",
       "      <td>1</td>\n",
       "      <td>1</td>\n",
       "      <td>1</td>\n",
       "    </tr>\n",
       "    <tr>\n",
       "      <th>981385</th>\n",
       "      <td>526284</td>\n",
       "      <td>2</td>\n",
       "      <td>0</td>\n",
       "      <td>1</td>\n",
       "      <td>1</td>\n",
       "      <td>1</td>\n",
       "    </tr>\n",
       "    <tr>\n",
       "      <th>981386</th>\n",
       "      <td>513647</td>\n",
       "      <td>1</td>\n",
       "      <td>1</td>\n",
       "      <td>4</td>\n",
       "      <td>4</td>\n",
       "      <td>4</td>\n",
       "    </tr>\n",
       "    <tr>\n",
       "      <th>981387</th>\n",
       "      <td>528596</td>\n",
       "      <td>3</td>\n",
       "      <td>1</td>\n",
       "      <td>4</td>\n",
       "      <td>4</td>\n",
       "      <td>4</td>\n",
       "    </tr>\n",
       "    <tr>\n",
       "      <th>981388</th>\n",
       "      <td>507611</td>\n",
       "      <td>0</td>\n",
       "      <td>0</td>\n",
       "      <td>1</td>\n",
       "      <td>1</td>\n",
       "      <td>1</td>\n",
       "    </tr>\n",
       "  </tbody>\n",
       "</table>\n",
       "<p>981389 rows × 6 columns</p>\n",
       "</div>"
      ],
      "text/plain": [
       "        user_id  funnel_stage  os  ad_channel  price  ad_channel_le\n",
       "0             0             0   0           0      0              0\n",
       "1             1             0   0           1      1              1\n",
       "2             2             1   0           1      1              1\n",
       "3             3             0   0           1      1              1\n",
       "4             4             0   1           0      0              0\n",
       "...         ...           ...  ..         ...    ...            ...\n",
       "981384   528644             2   0           1      1              1\n",
       "981385   526284             2   0           1      1              1\n",
       "981386   513647             1   1           4      4              4\n",
       "981387   528596             3   1           4      4              4\n",
       "981388   507611             0   0           1      1              1\n",
       "\n",
       "[981389 rows x 6 columns]"
      ]
     },
     "execution_count": 47,
     "metadata": {},
     "output_type": "execute_result"
    }
   ],
   "source": [
    "# Закодируем значения рекламных каналов (по-сути кодировка повторяет предыдущую)\n",
    "le = LabelEncoder()\n",
    "df_3 = df_2.copy()\n",
    "df_3['ad_channel_le'] = le.fit_transform(df_3['ad_channel'])\n",
    "df_3"
   ]
  },
  {
   "cell_type": "code",
   "execution_count": 60,
   "id": "fbe42673",
   "metadata": {
    "ExecuteTime": {
     "end_time": "2023-04-11T17:55:49.357257Z",
     "start_time": "2023-04-11T17:55:49.289422Z"
    }
   },
   "outputs": [
    {
     "data": {
      "text/plain": [
       "array([[-1.65736251, -0.74895352, -1.05381142, -1.1965464 ],\n",
       "       [-1.65735598, -0.74895352, -1.05381142, -0.59149263],\n",
       "       [-1.65734946,  0.87149223, -1.05381142, -0.59149263],\n",
       "       ...,\n",
       "       [ 1.69333844,  0.87149223,  0.94893638,  1.2236687 ],\n",
       "       [ 1.79085605,  4.11238374,  0.94893638,  1.2236687 ],\n",
       "       [ 1.65396348, -0.74895352, -1.05381142, -0.59149263]])"
      ]
     },
     "execution_count": 60,
     "metadata": {},
     "output_type": "execute_result"
    }
   ],
   "source": [
    "# Стандартизуем переменные\n",
    "sc = StandardScaler()\n",
    "X = sc.fit_transform(df_3.iloc[:, :-2])\n",
    "X"
   ]
  },
  {
   "cell_type": "code",
   "execution_count": 61,
   "id": "21958245",
   "metadata": {
    "ExecuteTime": {
     "end_time": "2023-04-11T17:55:50.771227Z",
     "start_time": "2023-04-11T17:55:50.768188Z"
    }
   },
   "outputs": [],
   "source": [
    "# Проведём факторный анализ\n",
    "fa = FactorAnalyzer(n_factors=3)"
   ]
  },
  {
   "cell_type": "code",
   "execution_count": 62,
   "id": "92692e05",
   "metadata": {
    "ExecuteTime": {
     "end_time": "2023-04-11T17:55:51.996900Z",
     "start_time": "2023-04-11T17:55:51.665196Z"
    }
   },
   "outputs": [
    {
     "data": {
      "text/plain": [
       "FactorAnalyzer(rotation_kwargs={})"
      ]
     },
     "execution_count": 62,
     "metadata": {},
     "output_type": "execute_result"
    }
   ],
   "source": [
    "# Получим значения факторов\n",
    "fa.fit(X)"
   ]
  },
  {
   "cell_type": "code",
   "execution_count": 63,
   "id": "e04b8c72",
   "metadata": {
    "ExecuteTime": {
     "end_time": "2023-04-11T17:57:22.038398Z",
     "start_time": "2023-04-11T17:57:22.034634Z"
    }
   },
   "outputs": [],
   "source": [
    "# Получим собственные значяения факторов\n",
    "ev, v = fa.get_eigenvalues()"
   ]
  },
  {
   "cell_type": "code",
   "execution_count": 65,
   "id": "6f5426b2",
   "metadata": {
    "ExecuteTime": {
     "end_time": "2023-04-11T17:58:43.022610Z",
     "start_time": "2023-04-11T17:58:42.848338Z"
    }
   },
   "outputs": [
    {
     "data": {
      "image/png": "[encoded data removed]",
      "text/plain": [
       "<Figure size 640x480 with 1 Axes>"
      ]
     },
     "metadata": {},
     "output_type": "display_data"
    }
   ],
   "source": [
    "# Построим график факторов\n",
    "sns.lineplot(data=ev);"
   ]
  },
  {
   "cell_type": "markdown",
   "id": "c332e709",
   "metadata": {},
   "source": [
    "**Вывод**: Только один фактор имеет знаяение больше 1. Значит значение n_factors необходимо задавать равным 1. "
   ]
  },
  {
   "cell_type": "code",
   "execution_count": 67,
   "id": "2f3f1721",
   "metadata": {
    "ExecuteTime": {
     "end_time": "2023-04-11T18:03:25.040340Z",
     "start_time": "2023-04-11T18:03:24.672555Z"
    }
   },
   "outputs": [
    {
     "name": "stderr",
     "output_type": "stream",
     "text": [
      "/Users/work/opt/anaconda3/lib/python3.9/site-packages/factor_analyzer/factor_analyzer.py:662: UserWarning: No rotation will be performed when the number of factors equals 1.\n",
      "  warnings.warn(\n"
     ]
    },
    {
     "data": {
      "text/plain": [
       "FactorAnalyzer(n_factors=1, rotation_kwargs={})"
      ]
     },
     "execution_count": 67,
     "metadata": {},
     "output_type": "execute_result"
    }
   ],
   "source": [
    "# Зададим значение n_factors равное 1\n",
    "fa = FactorAnalyzer(n_factors=1)\n",
    "fa.fit(X)"
   ]
  },
  {
   "cell_type": "code",
   "execution_count": 73,
   "id": "ada268b6",
   "metadata": {
    "ExecuteTime": {
     "end_time": "2023-04-11T18:11:36.939581Z",
     "start_time": "2023-04-11T18:11:36.934633Z"
    }
   },
   "outputs": [],
   "source": [
    "loadings = pd.DataFrame(fa.loadings_, index=df_3.iloc[:, :-2].columns, columns=['factors_{x}'.format(x=x+1) for x in range(1)])"
   ]
  },
  {
   "cell_type": "code",
   "execution_count": 74,
   "id": "8353a98c",
   "metadata": {
    "ExecuteTime": {
     "end_time": "2023-04-11T18:11:43.463751Z",
     "start_time": "2023-04-11T18:11:43.455651Z"
    }
   },
   "outputs": [
    {
     "data": {
      "text/html": [
       "<div>\n",
       "<style scoped>\n",
       "    .dataframe tbody tr th:only-of-type {\n",
       "        vertical-align: middle;\n",
       "    }\n",
       "\n",
       "    .dataframe tbody tr th {\n",
       "        vertical-align: top;\n",
       "    }\n",
       "\n",
       "    .dataframe thead th {\n",
       "        text-align: right;\n",
       "    }\n",
       "</style>\n",
       "<table border=\"1\" class=\"dataframe\">\n",
       "  <thead>\n",
       "    <tr style=\"text-align: right;\">\n",
       "      <th></th>\n",
       "      <th>factors_1</th>\n",
       "    </tr>\n",
       "  </thead>\n",
       "  <tbody>\n",
       "    <tr>\n",
       "      <th>user_id</th>\n",
       "      <td>-0.024854</td>\n",
       "    </tr>\n",
       "    <tr>\n",
       "      <th>funnel_stage</th>\n",
       "      <td>-0.023334</td>\n",
       "    </tr>\n",
       "    <tr>\n",
       "      <th>os</th>\n",
       "      <td>-0.018434</td>\n",
       "    </tr>\n",
       "    <tr>\n",
       "      <th>ad_channel</th>\n",
       "      <td>0.997508</td>\n",
       "    </tr>\n",
       "  </tbody>\n",
       "</table>\n",
       "</div>"
      ],
      "text/plain": [
       "              factors_1\n",
       "user_id       -0.024854\n",
       "funnel_stage  -0.023334\n",
       "os            -0.018434\n",
       "ad_channel     0.997508"
      ]
     },
     "execution_count": 74,
     "metadata": {},
     "output_type": "execute_result"
    }
   ],
   "source": [
    "loadings"
   ]
  },
  {
   "cell_type": "markdown",
   "id": "2b0368ff",
   "metadata": {},
   "source": [
    "**Вывод:** Факторный анализ подтвердил что факторов, близких к каналу обслуживания нет среди выбранных признаков."
   ]
  }
 ],
 "metadata": {
  "kernelspec": {
   "display_name": "Python 3 (ipykernel)",
   "language": "python",
   "name": "python3"
  },
  "language_info": {
   "codemirror_mode": {
    "name": "ipython",
    "version": 3
   },
   "file_extension": ".py",
   "mimetype": "text/x-python",
   "name": "python",
   "nbconvert_exporter": "python",
   "pygments_lexer": "ipython3",
   "version": "3.9.13"
  },
  "toc": {
   "base_numbering": 1,
   "nav_menu": {},
   "number_sections": false,
   "sideBar": true,
   "skip_h1_title": false,
   "title_cell": "СОДЕРЖАНИЕ",
   "title_sidebar": "Contents",
   "toc_cell": true,
   "toc_position": {},
   "toc_section_display": true,
   "toc_window_display": false
  },
  "varInspector": {
   "cols": {
    "lenName": 16,
    "lenType": 16,
    "lenVar": 40
   },
   "kernels_config": {
    "python": {
     "delete_cmd_postfix": "",
     "delete_cmd_prefix": "del ",
     "library": "var_list.py",
     "varRefreshCmd": "print(var_dic_list())"
    },
    "r": {
     "delete_cmd_postfix": ") ",
     "delete_cmd_prefix": "rm(",
     "library": "var_list.r",
     "varRefreshCmd": "cat(var_dic_list()) "
    }
   },
   "types_to_exclude": [
    "module",
    "function",
    "builtin_function_or_method",
    "instance",
    "_Feature"
   ],
   "window_display": false
  }
 },
 "nbformat": 4,
 "nbformat_minor": 5
}
