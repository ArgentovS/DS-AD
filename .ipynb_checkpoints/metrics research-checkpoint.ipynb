{
 "cells": [
  {
   "cell_type": "markdown",
   "id": "5b4f9bee",
   "metadata": {},
   "source": [
    "Ноутбук 03.03.23  \n",
    "*Построение и сследование метрик брендов*  \n",
    "Аргентов Сергей, г.Липецк  \n",
    "https://argentov.pro"
   ]
  },
  {
   "cell_type": "markdown",
   "id": "08a7f252",
   "metadata": {
    "toc": true
   },
   "source": [
    "<h1>СОДЕРЖАНИЕ<span class=\"tocSkip\"></span></h1>\n",
    "<div class=\"toc\"><ul class=\"toc-item\"><li><span><a href=\"#Раздел-0.-Загрузка-библиотек-и-написание-вспомогательных-функций\" data-toc-modified-id=\"Раздел-0.-Загрузка-библиотек-и-написание-вспомогательных-функций-1\">Раздел 0. Загрузка библиотек и написание вспомогательных функций</a></span></li><li><span><a href=\"#Раздел-1.-Формирование-объединённого-датасета-с-припарированными-данными\" data-toc-modified-id=\"Раздел-1.-Формирование-объединённого-датасета-с-припарированными-данными-2\">Раздел 1. Формирование объединённого датасета с припарированными данными</a></span><ul class=\"toc-item\"><li><span><a href=\"#1.1.-Загрузка-датасетов\" data-toc-modified-id=\"1.1.-Загрузка-датасетов-2.1\">1.1. Загрузка датасетов</a></span></li><li><span><a href=\"#1.2.-Профили-данных\" data-toc-modified-id=\"1.2.-Профили-данных-2.2\">1.2. Профили данных</a></span><ul class=\"toc-item\"><li><span><a href=\"#1.2.1.-Датасет-2020-года\" data-toc-modified-id=\"1.2.1.-Датасет-2020-года-2.2.1\">1.2.1. Датасет 2020 года</a></span></li><li><span><a href=\"#1.2.2.-Датасет-2021-года\" data-toc-modified-id=\"1.2.2.-Датасет-2021-года-2.2.2\">1.2.2. Датасет 2021 года</a></span></li><li><span><a href=\"#1.2.3.-Датасеты-2022-года\" data-toc-modified-id=\"1.2.3.-Датасеты-2022-года-2.2.3\">1.2.3. Датасеты 2022 года</a></span></li></ul></li><li><span><a href=\"#1.3.-План-коррекции,-объединения-данных-и-его-реализация\" data-toc-modified-id=\"1.3.-План-коррекции,-объединения-данных-и-его-реализация-2.3\">1.3. План коррекции, объединения данных и его реализация</a></span></li><li><span><a href=\"#1.4.-Запись-результатов-обработки-в-файл-Excel\" data-toc-modified-id=\"1.4.-Запись-результатов-обработки-в-файл-Excel-2.4\">1.4. Запись результатов обработки в файл Excel</a></span></li><li><span><a href=\"#1.5.-Создание-в-SQLite-хранилища-данных-для-подготовленного-датасета\" data-toc-modified-id=\"1.5.-Создание-в-SQLite-хранилища-данных-для-подготовленного-датасета-2.5\">1.5. Создание в SQLite хранилища данных для подготовленного датасета</a></span></li></ul></li><li><span><a href=\"#Раздел-2.-Построение-метрик-по-бренду-Green\" data-toc-modified-id=\"Раздел-2.-Построение-метрик-по-бренду-Green-3\">Раздел 2. Построение метрик по бренду Green</a></span><ul class=\"toc-item\"><li><span><a href=\"#2.1.-Исследование-годовых-динамик-2020-2022-гг.-по-бренду-Green\" data-toc-modified-id=\"2.1.-Исследование-годовых-динамик-2020-2022-гг.-по-бренду-Green-3.1\">2.1. Исследование годовых динамик 2020-2022 гг. по бренду Green</a></span></li><li><span><a href=\"#2.2.-Исследование-годовых-динамик-2020-2022-гг.-по-всему-рынку\" data-toc-modified-id=\"2.2.-Исследование-годовых-динамик-2020-2022-гг.-по-всему-рынку-3.2\">2.2. Исследование годовых динамик 2020-2022 гг. по всему рынку</a></span></li><li><span><a href=\"#2.3.-Расчёт-метрик-сравнения-бренда-Green-и-рынка\" data-toc-modified-id=\"2.3.-Расчёт-метрик-сравнения-бренда-Green-и-рынка-3.3\">2.3. Расчёт метрик сравнения бренда Green и рынка</a></span></li><li><span><a href=\"#2.5.-Формирование-рейтингов-брендов-по-2020-2021-гг.\" data-toc-modified-id=\"2.5.-Формирование-рейтингов-брендов-по-2020-2021-гг.-3.4\">2.5. Формирование рейтингов брендов по 2020-2021 гг.</a></span></li><li><span><a href=\"#2.6.-Запись-результатов-расчёта-метрик-в-файл-Excel\" data-toc-modified-id=\"2.6.-Запись-результатов-расчёта-метрик-в-файл-Excel-3.5\">2.6. Запись результатов расчёта метрик в файл Excel</a></span></li></ul></li><li><span><a href=\"#Раздел-3.-Оценка-метрик,-построенных-на-неотчищенных-данных,-и-построение-новых-метрик\" data-toc-modified-id=\"Раздел-3.-Оценка-метрик,-построенных-на-неотчищенных-данных,-и-построение-новых-метрик-4\">Раздел 3. Оценка метрик, построенных на неотчищенных данных, и построение новых метрик</a></span><ul class=\"toc-item\"><li><span><a href=\"#3.1.-Построение-метрик-из-пунктов-2.4,-2.5-на-неочищенных-данных\" data-toc-modified-id=\"3.1.-Построение-метрик-из-пунктов-2.4,-2.5-на-неочищенных-данных-4.1\">3.1. Построение метрик из пунктов 2.4, 2.5 на неочищенных данных</a></span></li><li><span><a href=\"#3.2.-Построение-дополнительных-метрик\" data-toc-modified-id=\"3.2.-Построение-дополнительных-метрик-4.2\">3.2. Построение дополнительных метрик</a></span><ul class=\"toc-item\"><li><span><a href=\"#3.2.1.-Топ-5-брендов-в-каждом-канале-продаж-(ГМ,-СС,-ММ)-в-денежном-выражении-в-2022-г.\" data-toc-modified-id=\"3.2.1.-Топ-5-брендов-в-каждом-канале-продаж-(ГМ,-СС,-ММ)-в-денежном-выражении-в-2022-г.-4.2.1\">3.2.1. Топ-5 брендов в каждом канале продаж (ГМ, СС, ММ) в денежном выражении в 2022 г.</a></span></li><li><span><a href=\"#3.2.2.-Рассчёт-годовой-доли-рынка-в-денежном-выражении-2022-г.-среди-брэндов,-объединенных-групп-weight-ranges-350-399G-в-канале-СМ\" data-toc-modified-id=\"3.2.2.-Рассчёт-годовой-доли-рынка-в-денежном-выражении-2022-г.-среди-брэндов,-объединенных-групп-weight-ranges-350-399G-в-канале-СМ-4.2.2\">3.2.2. Рассчёт годовой доли рынка в денежном выражении 2022 г. среди брэндов, объединенных групп weight ranges 350-399G в канале СМ</a></span></li><li><span><a href=\"#3.2.3.-Рассчёт-доли-рынка-в-денежном-выражении-на-каждый-месяц-за-последние-два-года-каждого-из-топ-5-брэндов-объединенных-групп-weight-ranges-350-399G-в-канале-СМ\" data-toc-modified-id=\"3.2.3.-Рассчёт-доли-рынка-в-денежном-выражении-на-каждый-месяц-за-последние-два-года-каждого-из-топ-5-брэндов-объединенных-групп-weight-ranges-350-399G-в-канале-СМ-4.2.3\">3.2.3. Рассчёт доли рынка в денежном выражении на каждый месяц за последние два года каждого из топ-5 брэндов объединенных групп weight ranges 350-399G в канале СМ</a></span></li><li><span><a href=\"#3.2.4.-Рассчёт-годового-роста-продаж-для-2021-и-2022-в-денежном-выражении-для-каждого-канала-(ГМ,-СМ,-ММ)-и-годовую-долю-рынка\" data-toc-modified-id=\"3.2.4.-Рассчёт-годового-роста-продаж-для-2021-и-2022-в-денежном-выражении-для-каждого-канала-(ГМ,-СМ,-ММ)-и-годовую-долю-рынка-4.2.4\">3.2.4. Рассчёт годового роста продаж для 2021 и 2022 в денежном выражении для каждого канала (ГМ, СМ, ММ) и годовую долю рынка</a></span></li><li><span><a href=\"#3.2.5.-Рассчёт-оффтейка-(средние-продажи-на-одну-точку)-в-штуках-для-брендов-«Green»-350-399G-и-«Blue»-400-599G-по-месяцам-2022-в-ГМ,-СМ-и-ММ\" data-toc-modified-id=\"3.2.5.-Рассчёт-оффтейка-(средние-продажи-на-одну-точку)-в-штуках-для-брендов-«Green»-350-399G-и-«Blue»-400-599G-по-месяцам-2022-в-ГМ,-СМ-и-ММ-4.2.5\">3.2.5. Рассчёт оффтейка (средние продажи на одну точку) в штуках для брендов «Green» 350-399G и «Blue» 400-599G по месяцам 2022 в ГМ, СМ и ММ</a></span></li><li><span><a href=\"#3.2.6.-Расчёт-среднемесячной-цены-для-брендов-«Green»-350-399G-и-«Blue»-400-599G-по-месяцам-2022-в-ГМ\" data-toc-modified-id=\"3.2.6.-Расчёт-среднемесячной-цены-для-брендов-«Green»-350-399G-и-«Blue»-400-599G-по-месяцам-2022-в-ГМ-4.2.6\">3.2.6. Расчёт среднемесячной цены для брендов «Green» 350-399G и «Blue» 400-599G по месяцам 2022 в ГМ</a></span></li></ul></li></ul></li><li><span><a href=\"#Раздел-4.-Построение-метрик-по-бренду-Green\" data-toc-modified-id=\"Раздел-4.-Построение-метрик-по-бренду-Green-5\">Раздел 4. Построение метрик по бренду Green</a></span><ul class=\"toc-item\"><li><span><a href=\"#4.1.-Построение-дополнительных-метрик-и-проверка-гипотез-по-заданным-вопросам\" data-toc-modified-id=\"4.1.-Построение-дополнительных-метрик-и-проверка-гипотез-по-заданным-вопросам-5.1\">4.1. Построение дополнительных метрик и проверка гипотез по заданным вопросам</a></span><ul class=\"toc-item\"><li><span><a href=\"#4.1.1.-Различается-ли-распределение-продаж-по-брендам-в-разрезе-каналов?\" data-toc-modified-id=\"4.1.1.-Различается-ли-распределение-продаж-по-брендам-в-разрезе-каналов?-5.1.1\">4.1.1. Различается ли распределение продаж по брендам в разрезе каналов?</a></span></li><li><span><a href=\"#4.1.2.-Почему-офтейк-на-точку-в-штуках-различается-по-каналам?\" data-toc-modified-id=\"4.1.2.-Почему-офтейк-на-точку-в-штуках-различается-по-каналам?-5.1.2\">4.1.2. Почему офтейк на точку в штуках различается по каналам?</a></span></li><li><span><a href=\"#4.1.3.-Как-различаются-цены-по-каналам?\" data-toc-modified-id=\"4.1.3.-Как-различаются-цены-по-каналам?-5.1.3\">4.1.3. Как различаются цены по каналам?</a></span></li><li><span><a href=\"#4.1.4.-Правда-ли,-что-стоимость-одного-грамма-у-группы-большего-веса-дешевле,-чем-у-меньшего?\" data-toc-modified-id=\"4.1.4.-Правда-ли,-что-стоимость-одного-грамма-у-группы-большего-веса-дешевле,-чем-у-меньшего?-5.1.4\">4.1.4. Правда ли, что стоимость одного грамма у группы большего веса дешевле, чем у меньшего?</a></span></li></ul></li><li><span><a href=\"#4.2.-Дополнительные-гипотезы-и-вопросы\" data-toc-modified-id=\"4.2.-Дополнительные-гипотезы-и-вопросы-5.2\">4.2. Дополнительные гипотезы и вопросы</a></span><ul class=\"toc-item\"><li><span><a href=\"#4.2.1.-Одинаково-распределение-продаж-по-месяцам-в-Гипермаркетах-и-Супермаркетах?\" data-toc-modified-id=\"4.2.1.-Одинаково-распределение-продаж-по-месяцам-в-Гипермаркетах-и-Супермаркетах?-5.2.1\">4.2.1. Одинаково распределение продаж по месяцам в Гипермаркетах и Супермаркетах?</a></span></li><li><span><a href=\"#4.2.2.-Снизились-ли-помесячные-продажи-в-Гипермаркетах-в-2022-году-относительно-2021-года?\" data-toc-modified-id=\"4.2.2.-Снизились-ли-помесячные-продажи-в-Гипермаркетах-в-2022-году-относительно-2021-года?-5.2.2\">4.2.2. Снизились ли помесячные продажи в Гипермаркетах в 2022 году относительно 2021 года?</a></span></li><li><span><a href=\"#4.2.3.-Равны-ли-месячные-продажи-по-количеству-товаров-в-1-полугодии-и-2-полугодии-в-2021-года-в-Минимаркетах?\" data-toc-modified-id=\"4.2.3.-Равны-ли-месячные-продажи-по-количеству-товаров-в-1-полугодии-и-2-полугодии-в-2021-года-в-Минимаркетах?-5.2.3\">4.2.3. Равны ли месячные продажи по количеству товаров в 1 полугодии и 2 полугодии в 2021 года в Минимаркетах?</a></span></li></ul></li></ul></li></ul></div>"
   ]
  },
  {
   "cell_type": "markdown",
   "id": "d034d351",
   "metadata": {},
   "source": [
    "  "
   ]
  },
  {
   "cell_type": "markdown",
   "id": "2920c111",
   "metadata": {},
   "source": [
    "# Раздел 0. Загрузка библиотек и написание вспомогательных функций"
   ]
  },
  {
   "cell_type": "code",
   "execution_count": 313,
   "id": "765b27b8",
   "metadata": {
    "ExecuteTime": {
     "end_time": "2023-03-16T10:29:01.494820Z",
     "start_time": "2023-03-16T10:29:01.490310Z"
    }
   },
   "outputs": [],
   "source": [
    "import pandas as pd\n",
    "import numpy as np\n",
    "import datetime as dt\n",
    "import matplotlib.pyplot as plt\n",
    "import matplotlib.ticker as mticker\n",
    "import sqlite3 as bd"
   ]
  },
  {
   "cell_type": "code",
   "execution_count": 153,
   "id": "fa886be1",
   "metadata": {
    "ExecuteTime": {
     "end_time": "2023-03-13T21:25:58.771538Z",
     "start_time": "2023-03-13T21:25:58.768053Z"
    }
   },
   "outputs": [],
   "source": [
    "# Функции, разработанные для визуализации\n",
    "from package1.visualization import *\n",
    "\n",
    "# Функции, разработанные для проверки гипотиз\n",
    "from package1.statistic_functions import *"
   ]
  },
  {
   "cell_type": "markdown",
   "id": "cfe4cce3",
   "metadata": {},
   "source": [
    "  "
   ]
  },
  {
   "cell_type": "markdown",
   "id": "8af58f6a",
   "metadata": {},
   "source": [
    "# Раздел 1. Формирование объединённого датасета с припарированными данными"
   ]
  },
  {
   "cell_type": "markdown",
   "id": "43fd1e13",
   "metadata": {},
   "source": [
    "## 1.1. Загрузка датасетов"
   ]
  },
  {
   "cell_type": "code",
   "execution_count": 154,
   "id": "d5a753fc",
   "metadata": {
    "ExecuteTime": {
     "end_time": "2023-03-13T21:26:00.937835Z",
     "start_time": "2023-03-13T21:26:00.929826Z"
    }
   },
   "outputs": [],
   "source": [
    "# Загружаем датасет 2020 года \n",
    "df_2020 = pd.read_csv('Копия 2020.csv')"
   ]
  },
  {
   "cell_type": "code",
   "execution_count": 155,
   "id": "ac95e095",
   "metadata": {
    "ExecuteTime": {
     "end_time": "2023-03-13T21:26:01.429575Z",
     "start_time": "2023-03-13T21:26:01.421595Z"
    }
   },
   "outputs": [],
   "source": [
    "# Загружаем датасет 2021 года, преобразованный из файла .accdb\n",
    "# (зададим название колонок, так как в файле они отсутсвуют)\n",
    "df_2021 = pd.read_csv('Копия 2021.csv',\n",
    "                      names=['Year', 'Month', 'Channel', 'Brand',\n",
    "                            'Weight range', 'Units (in 1000)',\n",
    "                            'Value (in 1000 rub)', 'Volume (in 1000 kg)',\n",
    "                            'Number of stores'])"
   ]
  },
  {
   "cell_type": "code",
   "execution_count": 156,
   "id": "2f05d298",
   "metadata": {
    "ExecuteTime": {
     "end_time": "2023-03-13T21:26:01.859491Z",
     "start_time": "2023-03-13T21:26:01.852027Z"
    },
    "scrolled": true
   },
   "outputs": [],
   "source": [
    "# Загружаем датасет 2022 года из файла .txt \n",
    "df_2022_txt = pd.read_csv('Копия 2022.txt', sep='\\t')"
   ]
  },
  {
   "cell_type": "code",
   "execution_count": 157,
   "id": "e19ad982",
   "metadata": {
    "ExecuteTime": {
     "end_time": "2023-03-13T21:26:02.269322Z",
     "start_time": "2023-03-13T21:26:02.207485Z"
    },
    "scrolled": true
   },
   "outputs": [],
   "source": [
    "# Загружаем датасет 2022 года из файла .xlsx \n",
    "df_2022_xlsx = pd.read_excel('Копия 2022.xlsx')"
   ]
  },
  {
   "cell_type": "markdown",
   "id": "7a1fdc29",
   "metadata": {},
   "source": [
    "## 1.2. Профили данных"
   ]
  },
  {
   "cell_type": "markdown",
   "id": "34a4cfb4",
   "metadata": {},
   "source": [
    "### 1.2.1. Датасет 2020 года"
   ]
  },
  {
   "cell_type": "code",
   "execution_count": 158,
   "id": "71508bd0",
   "metadata": {
    "ExecuteTime": {
     "end_time": "2023-03-13T21:26:04.056401Z",
     "start_time": "2023-03-13T21:26:04.040232Z"
    }
   },
   "outputs": [
    {
     "name": "stdout",
     "output_type": "stream",
     "text": [
      "<class 'pandas.core.frame.DataFrame'>\n",
      "RangeIndex: 1274 entries, 0 to 1273\n",
      "Data columns (total 9 columns):\n",
      " #   Column               Non-Null Count  Dtype  \n",
      "---  ------               --------------  -----  \n",
      " 0   Year                 1274 non-null   int64  \n",
      " 1   Month                1258 non-null   float64\n",
      " 2   Channel              1258 non-null   object \n",
      " 3   Brand                1258 non-null   object \n",
      " 4   Weight range         1274 non-null   object \n",
      " 5   Units (in 1000)      1274 non-null   float64\n",
      " 6   Value (in 1000 rub)  1274 non-null   float64\n",
      " 7   Volume (in 1000 kg)  1274 non-null   float64\n",
      " 8   Number of stores     668 non-null    float64\n",
      "dtypes: float64(5), int64(1), object(3)\n",
      "memory usage: 89.7+ KB\n"
     ]
    },
    {
     "data": {
      "text/plain": [
       "(None,\n",
       "       Year  Month       Channel  Brand Weight range  Units (in 1000)  \\\n",
       " 0     2020    1.0  Hypermarkets  Green     200-249G          16.3202   \n",
       " 1     2020    1.0  Hypermarkets  Green     350-399G          87.8634   \n",
       " 2     2020    1.0  Hypermarkets  Green     400-599G          35.7182   \n",
       " 3     2020    1.0  Hypermarkets  Green     600-899G           0.3580   \n",
       " 4     2020    1.0  Hypermarkets   Blue     400-599G          16.8368   \n",
       " ...    ...    ...           ...    ...          ...              ...   \n",
       " 1269  2019   12.0  Supermarkets  White        <200G         100.0000   \n",
       " 1270  2019   12.0  Supermarkets    Dim     350-399G         100.0000   \n",
       " 1271  2019   12.0  Supermarkets    Dim     400-599G         100.0000   \n",
       " 1272  2019   12.0  Supermarkets  Vivid        <200G         100.0000   \n",
       " 1273  2019   12.0  Supermarkets  Vivid     350-399G         100.0000   \n",
       " \n",
       "       Value (in 1000 rub)  Volume (in 1000 kg)  Number of stores  \n",
       " 0              936.803413               3.4272             477.0  \n",
       " 1             7019.116508              30.7522             754.0  \n",
       " 2             4166.453788              17.8592             629.0  \n",
       " 3               66.387690               0.2685              29.0  \n",
       " 4             3227.992656               6.7346             663.0  \n",
       " ...                   ...                  ...               ...  \n",
       " 1269         10000.000000            1000.0000               NaN  \n",
       " 1270         10000.000000            1000.0000               NaN  \n",
       " 1271         10000.000000            1000.0000               NaN  \n",
       " 1272         10000.000000            1000.0000               NaN  \n",
       " 1273         10000.000000            1000.0000               NaN  \n",
       " \n",
       " [1274 rows x 9 columns])"
      ]
     },
     "execution_count": 158,
     "metadata": {},
     "output_type": "execute_result"
    }
   ],
   "source": [
    "df_2020.info(), df_2020"
   ]
  },
  {
   "cell_type": "markdown",
   "id": "495cc562",
   "metadata": {},
   "source": [
    "### 1.2.2. Датасет 2021 года"
   ]
  },
  {
   "cell_type": "code",
   "execution_count": 159,
   "id": "043555d3",
   "metadata": {
    "ExecuteTime": {
     "end_time": "2023-03-13T21:26:04.842050Z",
     "start_time": "2023-03-13T21:26:04.823316Z"
    }
   },
   "outputs": [
    {
     "name": "stdout",
     "output_type": "stream",
     "text": [
      "<class 'pandas.core.frame.DataFrame'>\n",
      "RangeIndex: 675 entries, 0 to 674\n",
      "Data columns (total 9 columns):\n",
      " #   Column               Non-Null Count  Dtype  \n",
      "---  ------               --------------  -----  \n",
      " 0   Year                 675 non-null    float64\n",
      " 1   Month                675 non-null    float64\n",
      " 2   Channel              675 non-null    object \n",
      " 3   Brand                675 non-null    object \n",
      " 4   Weight range         675 non-null    object \n",
      " 5   Units (in 1000)      675 non-null    float64\n",
      " 6   Value (in 1000 rub)  675 non-null    float64\n",
      " 7   Volume (in 1000 kg)  675 non-null    float64\n",
      " 8   Number of stores     675 non-null    float64\n",
      "dtypes: float64(6), object(3)\n",
      "memory usage: 47.6+ KB\n"
     ]
    },
    {
     "data": {
      "text/plain": [
       "(None,\n",
       "        Year  Month       Channel      Brand Weight range  Units (in 1000)  \\\n",
       " 0    2021.0    1.0  Hypermarkets      Green     200-249G          12.7583   \n",
       " 1    2021.0    1.0  Hypermarkets  Greennn#!     350-399G          61.6034   \n",
       " 2    2021.0    1.0  Hypermarkets  Greennn#!     400-599G          47.7524   \n",
       " 3    2021.0    1.0  Hypermarkets  Greennn#!     600-899G           0.0017   \n",
       " 4    2021.0    1.0  Hypermarkets       Blue     200-249G           0.0509   \n",
       " ..      ...    ...           ...        ...          ...              ...   \n",
       " 670  2021.0   11.0   Minimarkets  Greennn#!     100-199G          11.4728   \n",
       " 671  2021.0   11.0  Supermarkets  Greennn#!     100-199G          17.9486   \n",
       " 672  2021.0   12.0  Hypermarkets  Greennn#!     100-199G          10.5903   \n",
       " 673  2021.0   12.0   Minimarkets  Greennn#!     100-199G           7.8182   \n",
       " 674  2021.0   12.0  Supermarkets  Greennn#!     100-199G          25.2956   \n",
       " \n",
       "      Value (in 1000 rub)  Volume (in 1000 kg)  Number of stores  \n",
       " 0             817789.128               2.6792             545.0  \n",
       " 1            5598975.814              21.5612             798.0  \n",
       " 2            4638537.271              23.8763             569.0  \n",
       " 3                123.992               0.0013               1.0  \n",
       " 4               5628.921               0.0101               6.0  \n",
       " ..                   ...                  ...               ...  \n",
       " 670           749057.600               2.2945            1710.0  \n",
       " 671          1339453.100               3.5896            2387.0  \n",
       " 672           748857.900               2.1180             428.0  \n",
       " 673           549344.300               1.5636            1053.0  \n",
       " 674          1721988.600               5.0591            2407.0  \n",
       " \n",
       " [675 rows x 9 columns])"
      ]
     },
     "execution_count": 159,
     "metadata": {},
     "output_type": "execute_result"
    }
   ],
   "source": [
    "df_2021.info(), df_2021"
   ]
  },
  {
   "cell_type": "markdown",
   "id": "87817b8c",
   "metadata": {},
   "source": [
    "### 1.2.3. Датасеты 2022 года"
   ]
  },
  {
   "cell_type": "code",
   "execution_count": 160,
   "id": "4990cf45",
   "metadata": {
    "ExecuteTime": {
     "end_time": "2023-03-13T21:26:06.252655Z",
     "start_time": "2023-03-13T21:26:06.236929Z"
    }
   },
   "outputs": [
    {
     "name": "stdout",
     "output_type": "stream",
     "text": [
      "<class 'pandas.core.frame.DataFrame'>\n",
      "RangeIndex: 681 entries, 0 to 680\n",
      "Data columns (total 9 columns):\n",
      " #   Column               Non-Null Count  Dtype  \n",
      "---  ------               --------------  -----  \n",
      " 0   Year                 681 non-null    int64  \n",
      " 1   Month                681 non-null    int64  \n",
      " 2   Channel              681 non-null    object \n",
      " 3   Brand                681 non-null    object \n",
      " 4   Weight range         681 non-null    object \n",
      " 5   Units (in 1000)      681 non-null    float64\n",
      " 6   Value (in 1000 rub)  681 non-null    object \n",
      " 7   Volume (in 1000 kg)  681 non-null    float64\n",
      " 8   Number of stores     681 non-null    int64  \n",
      "dtypes: float64(2), int64(3), object(4)\n",
      "memory usage: 48.0+ KB\n"
     ]
    },
    {
     "data": {
      "text/plain": [
       "(None,\n",
       "      Year  Month       Channel  Brand Weight range  Units (in 1000)  \\\n",
       " 0    2022      1  Hypermarkets  Green     200-249G          15.2249   \n",
       " 1    2022      1  Hypermarkets  Green     350-399G          58.2443   \n",
       " 2    2022      1  Hypermarkets  Green     400-599G          38.4102   \n",
       " 3    2022      1  Hypermarkets   Blue     200-249G           0.1327   \n",
       " 4    2022      1  Hypermarkets   Blue     400-599G          44.9287   \n",
       " ..    ...    ...           ...    ...          ...              ...   \n",
       " 676  2022     11   Minimarkets  Green     100-199G           1.1740   \n",
       " 677  2022     11  Supermarkets  Green     100-199G           4.2365   \n",
       " 678  2022     12  Hypermarkets  Green     100-199G           0.1749   \n",
       " 679  2022     12   Minimarkets  Green     100-199G           2.0995   \n",
       " 680  2022     12  Supermarkets  Green     100-199G           2.5092   \n",
       " \n",
       "     Value (in 1000 rub)  Volume (in 1000 kg)  Number of stores  \n",
       " 0            899.265493               3.1972               536  \n",
       " 1           5622.580442              20.3855               758  \n",
       " 2            4457.22479              19.2051               633  \n",
       " 3             15.948333               0.0265                10  \n",
       " 4           7611.563208              17.9715               728  \n",
       " ..                  ...                  ...               ...  \n",
       " 676             97.2256               0.2348               187  \n",
       " 677             353.291               0.8473               778  \n",
       " 678            14.3406+               0.0350                22  \n",
       " 679           123.6008+               0.4200               200  \n",
       " 680           223.1901+               0.5018               514  \n",
       " \n",
       " [681 rows x 9 columns])"
      ]
     },
     "execution_count": 160,
     "metadata": {},
     "output_type": "execute_result"
    }
   ],
   "source": [
    "df_2022_txt.info(), df_2022_txt"
   ]
  },
  {
   "cell_type": "code",
   "execution_count": 161,
   "id": "26f36cb3",
   "metadata": {
    "ExecuteTime": {
     "end_time": "2023-03-13T21:26:06.465250Z",
     "start_time": "2023-03-13T21:26:06.448554Z"
    }
   },
   "outputs": [
    {
     "name": "stdout",
     "output_type": "stream",
     "text": [
      "<class 'pandas.core.frame.DataFrame'>\n",
      "RangeIndex: 365 entries, 0 to 364\n",
      "Data columns (total 6 columns):\n",
      " #   Column       Non-Null Count  Dtype         \n",
      "---  ------       --------------  -----         \n",
      " 0   Date         365 non-null    datetime64[ns]\n",
      " 1   Year         365 non-null    int64         \n",
      " 2   MonthNum     365 non-null    int64         \n",
      " 3   WeekDayNum   365 non-null    int64         \n",
      " 4   WeekYearNum  365 non-null    int64         \n",
      " 5   MonthDayNum  365 non-null    int64         \n",
      "dtypes: datetime64[ns](1), int64(5)\n",
      "memory usage: 17.2 KB\n"
     ]
    },
    {
     "data": {
      "text/plain": [
       "(None,\n",
       "           Date  Year  MonthNum  WeekDayNum  WeekYearNum  MonthDayNum\n",
       " 0   2022-01-01  2022         1           7            1            1\n",
       " 1   2022-01-02  2022         1           1            2            2\n",
       " 2   2022-01-03  2022         1           2            2            3\n",
       " 3   2022-01-04  2022         1           3            2            4\n",
       " 4   2022-01-05  2022         1           4            2            5\n",
       " ..         ...   ...       ...         ...          ...          ...\n",
       " 360 2022-12-27  2022        12           3           53           27\n",
       " 361 2022-12-28  2022        12           4           53           28\n",
       " 362 2022-12-29  2022        12           5           53           29\n",
       " 363 2022-12-30  2022        12           6           53           30\n",
       " 364 2022-12-31  2022        12           7           53           31\n",
       " \n",
       " [365 rows x 6 columns])"
      ]
     },
     "execution_count": 161,
     "metadata": {},
     "output_type": "execute_result"
    }
   ],
   "source": [
    "df_2022_xlsx.info(), df_2022_xlsx"
   ]
  },
  {
   "cell_type": "markdown",
   "id": "ebf9f6ca",
   "metadata": {},
   "source": [
    "## 1.3. План коррекции, объединения данных и его реализация"
   ]
  },
  {
   "cell_type": "markdown",
   "id": "4c670364",
   "metadata": {},
   "source": [
    "1) Удаляем датафрейм так как в нём нет полезной информации - только даты, в том числе разложенные на составляющие.  \n",
    "2) Приводим типы данных 'Year', 'Month', 'Number of stores' к типу данных int, так эти характеристики измеряются в целых числах.  \n",
    "3) Устранение лишних символов \"+\" в датафрейме 2022 года в колонке \"Value (in 1000 rub)\".  \n",
    "4) Проверим текстовые значения в колонках 'Channel', 'Brand' и 'Weight range' на корректность записи, просматривая их уникальные значения.  \n",
    "5) Проверим и удалим дубликаты данных.  \n",
    "6) Проверим данные на соразмерность.\n",
    "7) Объединим датафреймы 2020, 2021, 2022 годов в единый.  \n",
    "> Пустые значения  пока не меняем на статистические, и не производим удеаление записей с путсыми значениями - так как не известно какие задачи придётся решать с данным, а соответственно не известно имеет ли смысл сейча:\n",
    ">- тратить ресурсы на преобразование данных,  \n",
    ">- избавляться от отдельных записей из-за части пустых знаxений в них, что приводит к потере полезной части информации."
   ]
  },
  {
   "cell_type": "code",
   "execution_count": 162,
   "id": "46ffbfc4",
   "metadata": {
    "ExecuteTime": {
     "end_time": "2023-03-13T21:26:08.218247Z",
     "start_time": "2023-03-13T21:26:08.209173Z"
    },
    "scrolled": true
   },
   "outputs": [],
   "source": [
    "# Меняем типы в колонках с целыми значениями на Int64 (в нём есть встроенный NaN)\n",
    "for df in [df_2020, df_2021, df_2022_txt]:\n",
    "    for col in ['Year', 'Month', 'Number of stores']:\n",
    "        df[col] = df[col].astype({col: 'Int64'})"
   ]
  },
  {
   "cell_type": "code",
   "execution_count": 163,
   "id": "a8569537",
   "metadata": {
    "ExecuteTime": {
     "end_time": "2023-03-13T21:26:08.844183Z",
     "start_time": "2023-03-13T21:26:08.838620Z"
    }
   },
   "outputs": [],
   "source": [
    "# Удаляем лишние знаки в колонке \"Value (in 1000 rub)\" в датафрейме 2022 года\n",
    "df_2022_txt['Value (in 1000 rub)'] =\\\n",
    "df_2022_txt['Value (in 1000 rub)'].apply(lambda x: float(x)\n",
    "                                         if list(str(x))[-1] != '+'\n",
    "                                         else float(''.join(list(str(x))[:-1])))"
   ]
  },
  {
   "cell_type": "code",
   "execution_count": 164,
   "id": "6ccbb4ef",
   "metadata": {
    "ExecuteTime": {
     "end_time": "2023-03-13T21:26:09.312329Z",
     "start_time": "2023-03-13T21:26:09.305920Z"
    }
   },
   "outputs": [
    {
     "name": "stdout",
     "output_type": "stream",
     "text": [
      "\n",
      "КОЛОНКА \"Channel\"\"\n",
      "Уникальные значения в 1: ['Hypermarkets', 'Minimarkets', 'Supermarkets', nan]\n",
      "Уникальные значения в 2: ['Hypermarkets', 'Minimarkets', 'Supermarkets']\n",
      "Уникальные значения в 3: ['Hypermarkets', 'Minimarkets', 'Supermarkets']\n",
      "\n",
      "КОЛОНКА \"Brand\"\"\n",
      "Уникальные значения в 1: ['Green', 'Blue', 'Black', 'White', 'Red', 'Yellow', 'Orange', 'Purple', 'Pink', 'Brown', 'Grey', 'Pale', 'Pastel', 'Mat', 'Deep', 'Dim', 'Vivid', 'Virulent', 'Moderate', 'Glossy', 'Delicate', 'Silver', 'Lime', 'Teal', 'Khaki', 'Golden', 'Beige', 'Salmon', nan, 'Cream']\n",
      "Уникальные значения в 2: ['Green', 'Greennn#!', 'Blue', 'Black', 'Yellow', 'White', 'Red', 'Orange', 'Purple', 'Brown', 'Pink', 'Golden', 'Grey', 'Vivid', 'Deep', 'Moderate', 'Pale', 'Dim', 'Lime', 'Virulent', 'Magenta', 'Rosy', 'Beige', 'Lilac', 'Cream', 'Cotton', 'Silver', 'Snow']\n",
      "Уникальные значения в 3: ['Green', 'Blue', 'White', 'Orange', 'Red', 'Yellow', 'Magenta', 'Purple', 'Pink', 'Cotton', 'Snow', 'Rosy', 'Lilac', 'Black', 'Deep', 'Vivid', 'Lime', 'Pearl', 'Dim', 'Macaroon', 'Rice', 'Linen', 'Bone', 'Daisy', 'Powder']\n",
      "\n",
      "КОЛОНКА \"Weight range\"\"\n",
      "Уникальные значения в 1: ['200-249G', '350-399G', '400-599G', '600-899G', '<200G', '250-299G', '300-349G', '100-199G']\n",
      "Уникальные значения в 2: ['200-249G', '350-399G', '400-599G', '600-899G', '<200G', '250-299G', '300-349G', '100-199G']\n",
      "Уникальные значения в 3: ['200-249G', '350-399G', '400-599G', '<200G', '250-299G', '300-349G', '600-899G', '100-199G']\n"
     ]
    }
   ],
   "source": [
    "# Прверяем корректность записи категориальных переменных\n",
    "for col in ['Channel', 'Brand', 'Weight range']:\n",
    "    print(f'\\nКОЛОНКА \"{col}\"\"')\n",
    "    for i, df in enumerate([df_2020, df_2021, df_2022_txt]):\n",
    "        print(f'Уникальные значения в {i+1}: {list((df[col].unique()))}')"
   ]
  },
  {
   "cell_type": "code",
   "execution_count": 165,
   "id": "16ae6cde",
   "metadata": {
    "ExecuteTime": {
     "end_time": "2023-03-13T21:26:09.794247Z",
     "start_time": "2023-03-13T21:26:09.789776Z"
    }
   },
   "outputs": [],
   "source": [
    "# Меняем во втором датафрейме в колонке \"Brand\"\n",
    "# не корректное значение 'Greennn#!' меняем на 'Green'\n",
    "df_2021['Brand'] = df_2021['Brand'].replace(['Greennn#!'], 'Green')"
   ]
  },
  {
   "cell_type": "code",
   "execution_count": 166,
   "id": "a3d78482",
   "metadata": {
    "ExecuteTime": {
     "end_time": "2023-03-13T21:26:10.000409Z",
     "start_time": "2023-03-13T21:26:09.980050Z"
    }
   },
   "outputs": [
    {
     "name": "stdout",
     "output_type": "stream",
     "text": [
      "Дубликаты в 1:      Year  Month Channel Brand Weight range  Units (in 1000)  \\\n",
      "646  2020   <NA>     NaN   NaN     400-599G         100000.0   \n",
      "648  2020   <NA>     NaN   NaN     350-399G         100000.0   \n",
      "649  2020   <NA>     NaN   NaN     400-599G         100000.0   \n",
      "651  2020   <NA>     NaN   NaN     200-249G         100000.0   \n",
      "652  2020   <NA>     NaN   NaN     400-599G         100000.0   \n",
      "653  2020   <NA>     NaN   NaN        <200G         100000.0   \n",
      "654  2020   <NA>     NaN   NaN     350-399G         100000.0   \n",
      "655  2020   <NA>     NaN   NaN     350-399G         100000.0   \n",
      "656  2020   <NA>     NaN   NaN     400-599G         100000.0   \n",
      "657  2020   <NA>     NaN   NaN     200-249G         100000.0   \n",
      "658  2020   <NA>     NaN   NaN     350-399G         100000.0   \n",
      "\n",
      "     Value (in 1000 rub)  Volume (in 1000 kg)  Number of stores  \n",
      "646             100000.0             100000.0            100000  \n",
      "648             100000.0             100000.0            100000  \n",
      "649             100000.0             100000.0            100000  \n",
      "651             100000.0             100000.0            100000  \n",
      "652             100000.0             100000.0            100000  \n",
      "653             100000.0             100000.0            100000  \n",
      "654             100000.0             100000.0            100000  \n",
      "655             100000.0             100000.0            100000  \n",
      "656             100000.0             100000.0            100000  \n",
      "657             100000.0             100000.0            100000  \n",
      "658             100000.0             100000.0            100000  \n",
      "Дубликаты в 2: Empty DataFrame\n",
      "Columns: [Year, Month, Channel, Brand, Weight range, Units (in 1000), Value (in 1000 rub), Volume (in 1000 kg), Number of stores]\n",
      "Index: []\n",
      "Дубликаты в 3: Empty DataFrame\n",
      "Columns: [Year, Month, Channel, Brand, Weight range, Units (in 1000), Value (in 1000 rub), Volume (in 1000 kg), Number of stores]\n",
      "Index: []\n"
     ]
    }
   ],
   "source": [
    "# Проверяем наличие дубликтов\n",
    "for _i, _df in enumerate([df_2020, df_2021, df_2022_txt]):\n",
    "    print(f'Дубликаты в {_i+1}: {_df[_df.duplicated()]}')"
   ]
  },
  {
   "cell_type": "code",
   "execution_count": 167,
   "id": "84e1327e",
   "metadata": {
    "ExecuteTime": {
     "end_time": "2023-03-13T21:26:10.622599Z",
     "start_time": "2023-03-13T21:26:10.616045Z"
    }
   },
   "outputs": [],
   "source": [
    "# Удаляем дубликаты\n",
    "df_2020.drop_duplicates(inplace=True)"
   ]
  },
  {
   "cell_type": "code",
   "execution_count": 168,
   "id": "e0cfd127",
   "metadata": {
    "ExecuteTime": {
     "end_time": "2023-03-13T21:26:11.053865Z",
     "start_time": "2023-03-13T21:26:11.044327Z"
    }
   },
   "outputs": [],
   "source": [
    "# Готовим годовые данные для проверки по годам на соразмерность\n",
    "df_2020_m = df_2020.groupby('Month').agg({'Value (in 1000 rub)': 'sum'})\n",
    "df_2021_m = df_2021.groupby('Month').agg({'Value (in 1000 rub)': 'sum'})\n",
    "df_2022_m = df_2022_txt.groupby('Month').agg({'Value (in 1000 rub)': 'sum'})"
   ]
  },
  {
   "cell_type": "code",
   "execution_count": 169,
   "id": "6595bf22",
   "metadata": {
    "ExecuteTime": {
     "end_time": "2023-03-13T21:26:11.852973Z",
     "start_time": "2023-03-13T21:26:11.543920Z"
    }
   },
   "outputs": [
    {
     "data": {
      "image/png": "[encoded data removed]",
      "text/plain": [
       "<Figure size 1500x900 with 3 Axes>"
      ]
     },
     "metadata": {},
     "output_type": "display_data"
    }
   ],
   "source": [
    "# Строим графики для визуальной оценки соразмерности данных\n",
    "fig, axs = plt.subplots(figsize=(15, 9), ncols=1, nrows=3)\n",
    "axs[0].set_title(\"Динамика по месяцам 2020 года\")\n",
    "axs[0].plot(df_2020_m.index, df_2020_m['Value (in 1000 rub)'], color='red')\n",
    "axs[1].set_title(\"Динамика по месяцам 2021 года\")\n",
    "axs[1].plot(df_2021_m.index, df_2021_m['Value (in 1000 rub)'], color='blue')\n",
    "axs[2].set_title(\"Динамика по месяцам 2022 года\")\n",
    "axs[2].plot(df_2022_m.index, df_2022_m['Value (in 1000 rub)'], color='green');"
   ]
  },
  {
   "cell_type": "markdown",
   "id": "80763cc5",
   "metadata": {},
   "source": [
    "**Вывод:** судя по значениям и кратному их различию - данные о продажах в 2021 году указаны в \"тыс.рубей\", а в 2020 и 2022 году в \"млн.рублей\". Для обеспечения соразмерности данных переведём данные за 2021 год в \"млн.рублей\"."
   ]
  },
  {
   "cell_type": "code",
   "execution_count": 170,
   "id": "680011b7",
   "metadata": {
    "ExecuteTime": {
     "end_time": "2023-03-13T21:26:12.851564Z",
     "start_time": "2023-03-13T21:26:12.835503Z"
    }
   },
   "outputs": [],
   "source": [
    "# Приводим данные о прдажах 2021 года к размерности \"млн.рублей\"\n",
    "df_2021['Value (in 1000 rub)'] = df_2021.apply(lambda x:\\\n",
    "                                      x['Value (in 1000 rub)'] / 1000\n",
    "                                      if x.Year == 2021\n",
    "                                      else x['Value (in 1000 rub)'],\n",
    "                                      axis=1)"
   ]
  },
  {
   "cell_type": "code",
   "execution_count": 171,
   "id": "570a44c7",
   "metadata": {
    "ExecuteTime": {
     "end_time": "2023-03-13T21:26:12.862080Z",
     "start_time": "2023-03-13T21:26:12.856470Z"
    }
   },
   "outputs": [],
   "source": [
    "# Объединим датафреймы\n",
    "df = pd.concat([df_2020, df_2021, df_2022_txt])\n",
    "df.reset_index(drop=True, inplace=True)"
   ]
  },
  {
   "cell_type": "code",
   "execution_count": 172,
   "id": "eea2d8da",
   "metadata": {
    "ExecuteTime": {
     "end_time": "2023-03-13T21:26:13.382036Z",
     "start_time": "2023-03-13T21:26:13.372210Z"
    }
   },
   "outputs": [
    {
     "name": "stdout",
     "output_type": "stream",
     "text": [
      "<class 'pandas.core.frame.DataFrame'>\n",
      "RangeIndex: 2619 entries, 0 to 2618\n",
      "Data columns (total 9 columns):\n",
      " #   Column               Non-Null Count  Dtype  \n",
      "---  ------               --------------  -----  \n",
      " 0   Year                 2619 non-null   Int64  \n",
      " 1   Month                2614 non-null   Int64  \n",
      " 2   Channel              2614 non-null   object \n",
      " 3   Brand                2614 non-null   object \n",
      " 4   Weight range         2619 non-null   object \n",
      " 5   Units (in 1000)      2619 non-null   float64\n",
      " 6   Value (in 1000 rub)  2619 non-null   float64\n",
      " 7   Volume (in 1000 kg)  2619 non-null   float64\n",
      " 8   Number of stores     2013 non-null   Int64  \n",
      "dtypes: Int64(3), float64(3), object(3)\n",
      "memory usage: 191.9+ KB\n"
     ]
    }
   ],
   "source": [
    "# Посмотрим пропущенные значения в датасете\n",
    "df.info()"
   ]
  },
  {
   "cell_type": "markdown",
   "id": "20e19166",
   "metadata": {},
   "source": [
    "В датасете в колонке с наименованием брэнда пропущено 5 значений, то есть только 0,2% от всех записей датасета. Соответственно, с учётом малого количества пропусков - целесообразно удалить такие записи."
   ]
  },
  {
   "cell_type": "code",
   "execution_count": 173,
   "id": "50ed6c33",
   "metadata": {
    "ExecuteTime": {
     "end_time": "2023-03-13T21:26:14.212828Z",
     "start_time": "2023-03-13T21:26:14.205179Z"
    }
   },
   "outputs": [],
   "source": [
    "# Удаление записей с пропусками данных в колонке наименования бренда\n",
    "df.dropna(subset=['Brand'], inplace=True)"
   ]
  },
  {
   "cell_type": "code",
   "execution_count": 174,
   "id": "df269a14",
   "metadata": {
    "ExecuteTime": {
     "end_time": "2023-03-13T21:26:15.286905Z",
     "start_time": "2023-03-13T21:26:15.276863Z"
    }
   },
   "outputs": [
    {
     "name": "stdout",
     "output_type": "stream",
     "text": [
      "<class 'pandas.core.frame.DataFrame'>\n",
      "Int64Index: 2614 entries, 0 to 2618\n",
      "Data columns (total 9 columns):\n",
      " #   Column               Non-Null Count  Dtype  \n",
      "---  ------               --------------  -----  \n",
      " 0   Year                 2614 non-null   Int64  \n",
      " 1   Month                2614 non-null   Int64  \n",
      " 2   Channel              2614 non-null   object \n",
      " 3   Brand                2614 non-null   object \n",
      " 4   Weight range         2614 non-null   object \n",
      " 5   Units (in 1000)      2614 non-null   float64\n",
      " 6   Value (in 1000 rub)  2614 non-null   float64\n",
      " 7   Volume (in 1000 kg)  2614 non-null   float64\n",
      " 8   Number of stores     2008 non-null   Int64  \n",
      "dtypes: Int64(3), float64(3), object(3)\n",
      "memory usage: 211.9+ KB\n"
     ]
    }
   ],
   "source": [
    "df.info()"
   ]
  },
  {
   "cell_type": "markdown",
   "id": "a07d09b9",
   "metadata": {},
   "source": [
    "В получившемся датасете 606 значений в колонке \"Number of stores\" имеют пустые значения. Проанализирем особенности таких значений:"
   ]
  },
  {
   "cell_type": "code",
   "execution_count": 175,
   "id": "6b8b3223",
   "metadata": {
    "ExecuteTime": {
     "end_time": "2023-03-13T21:26:16.412512Z",
     "start_time": "2023-03-13T21:26:16.400185Z"
    }
   },
   "outputs": [
    {
     "data": {
      "text/html": [
       "<div>\n",
       "<style scoped>\n",
       "    .dataframe tbody tr th:only-of-type {\n",
       "        vertical-align: middle;\n",
       "    }\n",
       "\n",
       "    .dataframe tbody tr th {\n",
       "        vertical-align: top;\n",
       "    }\n",
       "\n",
       "    .dataframe thead th {\n",
       "        text-align: right;\n",
       "    }\n",
       "</style>\n",
       "<table border=\"1\" class=\"dataframe\">\n",
       "  <thead>\n",
       "    <tr style=\"text-align: right;\">\n",
       "      <th></th>\n",
       "      <th>Year</th>\n",
       "      <th>Month</th>\n",
       "      <th>Channel</th>\n",
       "      <th>Brand</th>\n",
       "      <th>Weight range</th>\n",
       "      <th>Units (in 1000)</th>\n",
       "      <th>Value (in 1000 rub)</th>\n",
       "      <th>Volume (in 1000 kg)</th>\n",
       "      <th>Number of stores</th>\n",
       "    </tr>\n",
       "  </thead>\n",
       "  <tbody>\n",
       "    <tr>\n",
       "      <th>657</th>\n",
       "      <td>2019</td>\n",
       "      <td>1</td>\n",
       "      <td>Hypermarkets</td>\n",
       "      <td>Green</td>\n",
       "      <td>350-399G</td>\n",
       "      <td>100.0</td>\n",
       "      <td>10000.0</td>\n",
       "      <td>1000.0</td>\n",
       "      <td>&lt;NA&gt;</td>\n",
       "    </tr>\n",
       "    <tr>\n",
       "      <th>658</th>\n",
       "      <td>2019</td>\n",
       "      <td>1</td>\n",
       "      <td>Hypermarkets</td>\n",
       "      <td>Green</td>\n",
       "      <td>400-599G</td>\n",
       "      <td>100.0</td>\n",
       "      <td>10000.0</td>\n",
       "      <td>1000.0</td>\n",
       "      <td>&lt;NA&gt;</td>\n",
       "    </tr>\n",
       "    <tr>\n",
       "      <th>659</th>\n",
       "      <td>2019</td>\n",
       "      <td>1</td>\n",
       "      <td>Hypermarkets</td>\n",
       "      <td>Green</td>\n",
       "      <td>600-899G</td>\n",
       "      <td>100.0</td>\n",
       "      <td>10000.0</td>\n",
       "      <td>1000.0</td>\n",
       "      <td>&lt;NA&gt;</td>\n",
       "    </tr>\n",
       "    <tr>\n",
       "      <th>660</th>\n",
       "      <td>2019</td>\n",
       "      <td>1</td>\n",
       "      <td>Hypermarkets</td>\n",
       "      <td>Blue</td>\n",
       "      <td>400-599G</td>\n",
       "      <td>100.0</td>\n",
       "      <td>10000.0</td>\n",
       "      <td>1000.0</td>\n",
       "      <td>&lt;NA&gt;</td>\n",
       "    </tr>\n",
       "    <tr>\n",
       "      <th>661</th>\n",
       "      <td>2019</td>\n",
       "      <td>1</td>\n",
       "      <td>Hypermarkets</td>\n",
       "      <td>Black</td>\n",
       "      <td>200-249G</td>\n",
       "      <td>100.0</td>\n",
       "      <td>10000.0</td>\n",
       "      <td>1000.0</td>\n",
       "      <td>&lt;NA&gt;</td>\n",
       "    </tr>\n",
       "  </tbody>\n",
       "</table>\n",
       "</div>"
      ],
      "text/plain": [
       "     Year  Month       Channel  Brand Weight range  Units (in 1000)  \\\n",
       "657  2019      1  Hypermarkets  Green     350-399G            100.0   \n",
       "658  2019      1  Hypermarkets  Green     400-599G            100.0   \n",
       "659  2019      1  Hypermarkets  Green     600-899G            100.0   \n",
       "660  2019      1  Hypermarkets   Blue     400-599G            100.0   \n",
       "661  2019      1  Hypermarkets  Black     200-249G            100.0   \n",
       "\n",
       "     Value (in 1000 rub)  Volume (in 1000 kg)  Number of stores  \n",
       "657              10000.0               1000.0              <NA>  \n",
       "658              10000.0               1000.0              <NA>  \n",
       "659              10000.0               1000.0              <NA>  \n",
       "660              10000.0               1000.0              <NA>  \n",
       "661              10000.0               1000.0              <NA>  "
      ]
     },
     "execution_count": 175,
     "metadata": {},
     "output_type": "execute_result"
    }
   ],
   "source": [
    "df.loc[df['Number of stores'].isna()].head()"
   ]
  },
  {
   "cell_type": "code",
   "execution_count": 176,
   "id": "7299f569",
   "metadata": {
    "ExecuteTime": {
     "end_time": "2023-03-13T21:26:16.479949Z",
     "start_time": "2023-03-13T21:26:16.471370Z"
    },
    "scrolled": true
   },
   "outputs": [
    {
     "data": {
      "text/plain": [
       "Year                    1\n",
       "Month                  12\n",
       "Channel                 3\n",
       "Brand                  21\n",
       "Weight range            7\n",
       "Units (in 1000)         1\n",
       "Value (in 1000 rub)     1\n",
       "Volume (in 1000 kg)     1\n",
       "Number of stores        0\n",
       "dtype: int64"
      ]
     },
     "execution_count": 176,
     "metadata": {},
     "output_type": "execute_result"
    }
   ],
   "source": [
    "df.loc[df['Number of stores'].isna()].nunique()"
   ]
  },
  {
   "cell_type": "markdown",
   "id": "a9786d7e",
   "metadata": {},
   "source": [
    "Все нулевые значения относятся к 2019 году, значения которого используютя для определения динамики метрик в рублях. Соответственно пустые значения в этом столбце на этапе исследования в Разделе 4 - корректировать не целесообразно."
   ]
  },
  {
   "cell_type": "markdown",
   "id": "0431a709",
   "metadata": {
    "ExecuteTime": {
     "end_time": "2023-03-04T09:49:42.788094Z",
     "start_time": "2023-03-04T09:49:42.772476Z"
    }
   },
   "source": [
    "## 1.4. Запись результатов обработки в файл Excel"
   ]
  },
  {
   "cell_type": "code",
   "execution_count": 177,
   "id": "6be036d2",
   "metadata": {
    "ExecuteTime": {
     "end_time": "2023-03-13T21:26:20.042817Z",
     "start_time": "2023-03-13T21:26:18.662893Z"
    }
   },
   "outputs": [],
   "source": [
    "# Для возможности перерасчёта используем режим дозаписи\n",
    "with pd.ExcelWriter('Результаты по модулям.xlsx', mode='a',\n",
    "                   engine='openpyxl', if_sheet_exists='replace') as writer:\n",
    "    df.to_excel(writer, sheet_name='Данные (модуль 2)')"
   ]
  },
  {
   "cell_type": "markdown",
   "id": "63eb7c61",
   "metadata": {},
   "source": [
    "## 1.5. Создание в SQLite хранилища данных для подготовленного датасета"
   ]
  },
  {
   "cell_type": "code",
   "execution_count": 178,
   "id": "27f88b96",
   "metadata": {
    "ExecuteTime": {
     "end_time": "2023-03-13T21:26:20.067213Z",
     "start_time": "2023-03-13T21:26:20.047767Z"
    }
   },
   "outputs": [
    {
     "name": "stdout",
     "output_type": "stream",
     "text": [
      "База данных создана и подключена\n",
      "Таблица заполнена\n",
      "Соединение с базой данных закрыто\n"
     ]
    }
   ],
   "source": [
    "# Создаём в базе SQLite3 хранилище и таблицу с данными очищенного датасета\n",
    "connection = bd.connect('metrics.db')\n",
    "print(\"База данных создана и подключена\")\n",
    "df.to_sql(\"table_data\", connection, if_exists=\"replace\", index=False)\n",
    "connection.commit()\n",
    "print(\"Таблица заполнена\")\n",
    "connection.close()\n",
    "print(\"Соединение с базой данных закрыто\")"
   ]
  },
  {
   "cell_type": "code",
   "execution_count": 179,
   "id": "c814c738",
   "metadata": {
    "ExecuteTime": {
     "end_time": "2023-03-13T21:26:20.954494Z",
     "start_time": "2023-03-13T21:26:20.949242Z"
    }
   },
   "outputs": [],
   "source": [
    "# Определяем список загруженных датафреймов\n",
    "dfs = []\n",
    "for elem in locals().keys():\n",
    "    if 'df' in elem:\n",
    "        dfs.append(elem)\n",
    "# Удаляем не используемые датафреймы для оптимизации используемой памяти\n",
    "for elem in dfs:\n",
    "    del locals()[elem]"
   ]
  },
  {
   "cell_type": "markdown",
   "id": "a7f7fdca",
   "metadata": {},
   "source": [
    "  "
   ]
  },
  {
   "cell_type": "markdown",
   "id": "8c90f21d",
   "metadata": {},
   "source": [
    "# Раздел 2. Построение метрик по бренду Green"
   ]
  },
  {
   "cell_type": "markdown",
   "id": "b2a3e4af",
   "metadata": {},
   "source": [
    "## 2.1. Исследование годовых динамик 2020-2022 гг. по бренду Green"
   ]
  },
  {
   "cell_type": "code",
   "execution_count": 180,
   "id": "d175bd55",
   "metadata": {
    "ExecuteTime": {
     "end_time": "2023-03-13T21:26:22.935669Z",
     "start_time": "2023-03-13T21:26:22.204350Z"
    }
   },
   "outputs": [
    {
     "name": "stdout",
     "output_type": "stream",
     "text": [
      "База данных подключена\n",
      "Таблица считана\n",
      "Соединение с базой данных закрыто\n"
     ]
    },
    {
     "data": {
      "image/png": "[encoded data removed]",
      "text/plain": [
       "<Figure size 1500x600 with 2 Axes>"
      ]
     },
     "metadata": {},
     "output_type": "display_data"
    },
    {
     "data": {
      "image/png": "[encoded data removed]",
      "text/plain": [
       "<Figure size 1500x600 with 2 Axes>"
      ]
     },
     "metadata": {},
     "output_type": "display_data"
    },
    {
     "data": {
      "image/png": "[encoded data removed]",
      "text/plain": [
       "<Figure size 1500x600 with 2 Axes>"
      ]
     },
     "metadata": {},
     "output_type": "display_data"
    }
   ],
   "source": [
    "# Считываем данные из хранилища в датафрейм и стром графики\n",
    "connection = bd.connect('metrics.db')\n",
    "print(\"База данных подключена\")\n",
    "dfs_green = []\n",
    "for year in [2020, 2021, 2022]:\n",
    "    df = pd.read_sql(f'SELECT Year, Month, \"Value (in 1000 rub)\"\\\n",
    "                      FROM table_data\\\n",
    "                      WHERE Year = {year} AND Brand = \"Green\";', connection)\n",
    "    get_dynamics_year(df, year)\n",
    "    dfs_green.append(df)\n",
    "connection.commit()\n",
    "print(\"Таблица считана\")\n",
    "connection.close()\n",
    "print(\"Соединение с базой данных закрыто\")"
   ]
  },
  {
   "cell_type": "markdown",
   "id": "0dee872d",
   "metadata": {},
   "source": [
    "**Вывод:** Во всех годах по бренду явно выдлена сезонность, при этом в 2022 году продажи в конце года не восстанавливаются - это отрицательный факто, требует дополнительного исследования причин."
   ]
  },
  {
   "cell_type": "markdown",
   "id": "c0211eef",
   "metadata": {},
   "source": [
    "## 2.2. Исследование годовых динамик 2020-2022 гг. по всему рынку"
   ]
  },
  {
   "cell_type": "code",
   "execution_count": 181,
   "id": "355f3fa8",
   "metadata": {
    "ExecuteTime": {
     "end_time": "2023-03-13T21:26:24.639814Z",
     "start_time": "2023-03-13T21:26:23.945406Z"
    }
   },
   "outputs": [
    {
     "name": "stdout",
     "output_type": "stream",
     "text": [
      "База данных подключена\n",
      "Таблица считана\n",
      "Соединение с базой данных закрыто\n"
     ]
    },
    {
     "data": {
      "image/png": "[encoded data removed]",
      "text/plain": [
       "<Figure size 1500x600 with 2 Axes>"
      ]
     },
     "metadata": {},
     "output_type": "display_data"
    },
    {
     "data": {
      "image/png": "[encoded data removed]",
      "text/plain": [
       "<Figure size 1500x600 with 2 Axes>"
      ]
     },
     "metadata": {},
     "output_type": "display_data"
    },
    {
     "data": {
      "image/png": "[encoded data removed]",
      "text/plain": [
       "<Figure size 1500x600 with 2 Axes>"
      ]
     },
     "metadata": {},
     "output_type": "display_data"
    }
   ],
   "source": [
    "# Считываем данные из хранилища в датафрейм и стром графики\n",
    "connection = bd.connect('metrics.db')\n",
    "print(\"База данных подключена\")\n",
    "dfs_all =[]\n",
    "for year in [2020, 2021, 2022]:\n",
    "    _df = pd.read_sql(f'SELECT Year, Month, Brand, \"Value (in 1000 rub)\"\\\n",
    "                      FROM table_data\\\n",
    "                      WHERE Year = {year}', connection)\n",
    "    get_dynamics_year(_df, year)\n",
    "    dfs_all.append(_df)\n",
    "connection.commit()\n",
    "print(\"Таблица считана\")\n",
    "connection.close()\n",
    "print(\"Соединение с базой данных закрыто\")"
   ]
  },
  {
   "cell_type": "markdown",
   "id": "d7fe4828",
   "metadata": {
    "ExecuteTime": {
     "end_time": "2023-03-07T22:36:28.807902Z",
     "start_time": "2023-03-07T22:36:28.803044Z"
    }
   },
   "source": [
    "**Вывод:** Весь рынок также как бренд Green имеет явно выраженную сезонность и просел во втором полугодии 2022 года."
   ]
  },
  {
   "cell_type": "markdown",
   "id": "5fad5f04",
   "metadata": {},
   "source": [
    "## 2.3. Расчёт метрик сравнения бренда Green и рынка"
   ]
  },
  {
   "cell_type": "code",
   "execution_count": 182,
   "id": "b0b537b7",
   "metadata": {
    "ExecuteTime": {
     "end_time": "2023-03-13T21:26:25.663467Z",
     "start_time": "2023-03-13T21:26:25.648861Z"
    },
    "code_folding": []
   },
   "outputs": [],
   "source": [
    "# Динамика роста продаж в деньгах бренда Green за весь 2022 год\n",
    "df_metricsGreen = pd.DataFrame({\n",
    "    'ПОКАЗАТЕЛЬ': [\n",
    "                   'Green 2022/2021', 'Green 4кв.2022/4кв.2021',\n",
    "                   'Green дек.2022/дек.2021',\n",
    "                   'Рынок 2022/2021', 'Рынок 4кв.2022/4кв.2021',\n",
    "                   'Рынок дек.2022/дек.2021',\n",
    "                   'Green-Рынок 2022/2021', 'Green-Рынок 4кв.2022/4кв.2021',\n",
    "                   'Green-Рынок дек.2022/дек.2021'\n",
    "                  ],\n",
    "    'РАЗМЕРНОСТЬ': ['%', '%', '%', '%', '%', '%', 'пп', 'пп', 'пп'],\n",
    "    'ЗНАЧЕНИЕ': [\n",
    "                 round(((dfs_green[2]['Value (in 1000 rub)'].sum() / \n",
    "                  dfs_green[1]['Value (in 1000 rub)'].sum()) - 1) * 100, 2),\n",
    "                 \n",
    "                 round(((dfs_green[2].loc[dfs_green[2]['Month'].\n",
    "                  isin([10, 11, 12])]\\\n",
    "                  ['Value (in 1000 rub)'].sum() / \n",
    "                  dfs_green[1].loc[dfs_green[1]['Month'].\n",
    "                  isin([10, 11, 12])]\\\n",
    "                  ['Value (in 1000 rub)'].sum()) - 1) * 100, 2),\n",
    "                 \n",
    "                 round(((dfs_green[2].loc[dfs_green[2]['Month'] == 12]\\\n",
    "                  ['Value (in 1000 rub)'].sum() / \n",
    "                  dfs_green[1].loc[dfs_green[1]['Month'] == 12]\\\n",
    "                  ['Value (in 1000 rub)'].sum()) - 1) * 100, 2),\n",
    "                \n",
    "                 round(((dfs_all[2]['Value (in 1000 rub)'].sum() / \n",
    "                  dfs_all[1]['Value (in 1000 rub)'].sum()) - 1) * 100, 2),\n",
    "                 \n",
    "                 round(((dfs_all[2].loc[dfs_all[2]['Month'].\n",
    "                  isin([10, 11, 12])]\\\n",
    "                  ['Value (in 1000 rub)'].sum() / \n",
    "                  dfs_all[1].loc[dfs_all[1]['Month'].\n",
    "                  isin([10, 11, 12])]\\\n",
    "                  ['Value (in 1000 rub)'].sum()) - 1) * 100, 2),\n",
    "                 \n",
    "                 round(((dfs_all[2].loc[dfs_all[2]['Month'] == 12]\\\n",
    "                  ['Value (in 1000 rub)'].sum() / \n",
    "                  dfs_all[1].loc[dfs_all[1]['Month'] == 12]\\\n",
    "                  ['Value (in 1000 rub)'].sum()) - 1) * 100, 2),\n",
    "                 \n",
    "                 None, None, None\n",
    "                \n",
    "                ]\n",
    "})"
   ]
  },
  {
   "cell_type": "code",
   "execution_count": 183,
   "id": "650b88ec",
   "metadata": {
    "ExecuteTime": {
     "end_time": "2023-03-13T21:26:26.001924Z",
     "start_time": "2023-03-13T21:26:25.996446Z"
    }
   },
   "outputs": [],
   "source": [
    "for i in range(3):\n",
    "    df_metricsGreen.at[6+i, 'ЗНАЧЕНИЕ'] =\\\n",
    "            df_metricsGreen.at[0+i, 'ЗНАЧЕНИЕ'] -\\\n",
    "            df_metricsGreen.at[3+i, 'ЗНАЧЕНИЕ']"
   ]
  },
  {
   "cell_type": "code",
   "execution_count": 184,
   "id": "0b224092",
   "metadata": {
    "ExecuteTime": {
     "end_time": "2023-03-13T21:26:26.390062Z",
     "start_time": "2023-03-13T21:26:26.380547Z"
    }
   },
   "outputs": [
    {
     "data": {
      "text/html": [
       "<div>\n",
       "<style scoped>\n",
       "    .dataframe tbody tr th:only-of-type {\n",
       "        vertical-align: middle;\n",
       "    }\n",
       "\n",
       "    .dataframe tbody tr th {\n",
       "        vertical-align: top;\n",
       "    }\n",
       "\n",
       "    .dataframe thead th {\n",
       "        text-align: right;\n",
       "    }\n",
       "</style>\n",
       "<table border=\"1\" class=\"dataframe\">\n",
       "  <thead>\n",
       "    <tr style=\"text-align: right;\">\n",
       "      <th></th>\n",
       "      <th>ПОКАЗАТЕЛЬ</th>\n",
       "      <th>РАЗМЕРНОСТЬ</th>\n",
       "      <th>ЗНАЧЕНИЕ</th>\n",
       "    </tr>\n",
       "  </thead>\n",
       "  <tbody>\n",
       "    <tr>\n",
       "      <th>0</th>\n",
       "      <td>Green 2022/2021</td>\n",
       "      <td>%</td>\n",
       "      <td>-4.20</td>\n",
       "    </tr>\n",
       "    <tr>\n",
       "      <th>1</th>\n",
       "      <td>Green 4кв.2022/4кв.2021</td>\n",
       "      <td>%</td>\n",
       "      <td>-15.51</td>\n",
       "    </tr>\n",
       "    <tr>\n",
       "      <th>2</th>\n",
       "      <td>Green дек.2022/дек.2021</td>\n",
       "      <td>%</td>\n",
       "      <td>-19.62</td>\n",
       "    </tr>\n",
       "    <tr>\n",
       "      <th>3</th>\n",
       "      <td>Рынок 2022/2021</td>\n",
       "      <td>%</td>\n",
       "      <td>4.04</td>\n",
       "    </tr>\n",
       "    <tr>\n",
       "      <th>4</th>\n",
       "      <td>Рынок 4кв.2022/4кв.2021</td>\n",
       "      <td>%</td>\n",
       "      <td>-6.36</td>\n",
       "    </tr>\n",
       "    <tr>\n",
       "      <th>5</th>\n",
       "      <td>Рынок дек.2022/дек.2021</td>\n",
       "      <td>%</td>\n",
       "      <td>-7.50</td>\n",
       "    </tr>\n",
       "    <tr>\n",
       "      <th>6</th>\n",
       "      <td>Green-Рынок 2022/2021</td>\n",
       "      <td>пп</td>\n",
       "      <td>-8.24</td>\n",
       "    </tr>\n",
       "    <tr>\n",
       "      <th>7</th>\n",
       "      <td>Green-Рынок 4кв.2022/4кв.2021</td>\n",
       "      <td>пп</td>\n",
       "      <td>-9.15</td>\n",
       "    </tr>\n",
       "    <tr>\n",
       "      <th>8</th>\n",
       "      <td>Green-Рынок дек.2022/дек.2021</td>\n",
       "      <td>пп</td>\n",
       "      <td>-12.12</td>\n",
       "    </tr>\n",
       "  </tbody>\n",
       "</table>\n",
       "</div>"
      ],
      "text/plain": [
       "                      ПОКАЗАТЕЛЬ РАЗМЕРНОСТЬ  ЗНАЧЕНИЕ\n",
       "0                Green 2022/2021           %     -4.20\n",
       "1        Green 4кв.2022/4кв.2021           %    -15.51\n",
       "2        Green дек.2022/дек.2021           %    -19.62\n",
       "3                Рынок 2022/2021           %      4.04\n",
       "4        Рынок 4кв.2022/4кв.2021           %     -6.36\n",
       "5        Рынок дек.2022/дек.2021           %     -7.50\n",
       "6          Green-Рынок 2022/2021          пп     -8.24\n",
       "7  Green-Рынок 4кв.2022/4кв.2021          пп     -9.15\n",
       "8  Green-Рынок дек.2022/дек.2021          пп    -12.12"
      ]
     },
     "execution_count": 184,
     "metadata": {},
     "output_type": "execute_result"
    }
   ],
   "source": [
    "df_metricsGreen"
   ]
  },
  {
   "cell_type": "markdown",
   "id": "3a31ed38",
   "metadata": {},
   "source": [
    "**Вывод:** Продажи бренда Green в 2022 году упали на 4%. Кроме того падение продаж бренда Green в 2022 году не является общерыночной тенденцией, то есть бренд сработал на 8 пп хуже чем весь рынок. Отрицательная динамика продаж к концу 2022 году у бренда Green усилилась и это ухудшение опять же было больше чем по рынку на 4 пп {12пп(строка 9) - 8пп(строка 6)}.  \n",
    ">Таким образом бренду Green необходимо:  \n",
    ">1) проверить не ухудшилась ли работа подразделения продаж или качество продукции;  \n",
    ">2) проанализировать стратегии конкурентов, в которых могли появится новые составляющие, позволяющие конкурентам сглаживать влияние общенегативных рыночных факторов."
   ]
  },
  {
   "cell_type": "markdown",
   "id": "c040e252",
   "metadata": {},
   "source": [
    "## 2.5. Формирование рейтингов брендов по 2020-2021 гг."
   ]
  },
  {
   "cell_type": "code",
   "execution_count": 185,
   "id": "ea5b6378",
   "metadata": {
    "ExecuteTime": {
     "end_time": "2023-03-13T21:26:28.625364Z",
     "start_time": "2023-03-13T21:26:28.596832Z"
    }
   },
   "outputs": [],
   "source": [
    "# Формирование динамики продаж топ-брендов 2022 года\n",
    "for i, df_year in enumerate(dfs_all):\n",
    "    df_top_brand = df_year.groupby('Brand').\\\n",
    "                   agg({'Value (in 1000 rub)': 'sum'}).\\\n",
    "                   sort_values(by='Value (in 1000 rub)', ascending=False)\n",
    "    total_market = df_top_brand['Value (in 1000 rub)'].sum()\n",
    "    df_top_brand['БРЭНД'] = df_top_brand.index\n",
    "    df_top_brand.reset_index(drop=True, inplace=True)\n",
    "    df_top_brand.columns = [f'ПРОДАЖИ {2020+i}, млн.руб.', 'БРЭНД']\n",
    "    df_top_brand[f'РЭЙТИНГ {2020+i}'] = df_top_brand.index + 1\n",
    "    df_top_brand[f'РЭЙТИНГ {2020+i}'] = df_top_brand[f'РЭЙТИНГ {2020+i}'].\\\n",
    "                                        astype({f'РЭЙТИНГ {2020+i}': 'Int64'})\n",
    "    df_top_brand[f'ДОЛЯ РЫНКА {2020+i}, %'] = df_top_brand.apply(lambda x:\n",
    "                               round(x[f'ПРОДАЖИ {2020+i}, млн.руб.'] /\\\n",
    "                                     total_market * 100, 2),\n",
    "                               axis=1)\n",
    "    \n",
    "    if i == 0:\n",
    "        df_top = df_top_brand.copy()\n",
    "    else:\n",
    "        df_top = pd.merge(df_top, df_top_brand, on=('БРЭНД'), how='left')\n",
    "df_top = df_top[['БРЭНД',\n",
    "                 'ПРОДАЖИ 2020, млн.руб.', 'РЭЙТИНГ 2020', 'ДОЛЯ РЫНКА 2020, %',\n",
    "                 'ПРОДАЖИ 2021, млн.руб.', 'РЭЙТИНГ 2021', 'ДОЛЯ РЫНКА 2021, %',\n",
    "                 'ПРОДАЖИ 2022, млн.руб.', 'РЭЙТИНГ 2022', 'ДОЛЯ РЫНКА 2022, %']];"
   ]
  },
  {
   "cell_type": "code",
   "execution_count": 186,
   "id": "4ae07ffd",
   "metadata": {
    "ExecuteTime": {
     "end_time": "2023-03-13T21:26:29.243990Z",
     "start_time": "2023-03-13T21:26:29.226093Z"
    }
   },
   "outputs": [
    {
     "data": {
      "text/html": [
       "<div>\n",
       "<style scoped>\n",
       "    .dataframe tbody tr th:only-of-type {\n",
       "        vertical-align: middle;\n",
       "    }\n",
       "\n",
       "    .dataframe tbody tr th {\n",
       "        vertical-align: top;\n",
       "    }\n",
       "\n",
       "    .dataframe thead th {\n",
       "        text-align: right;\n",
       "    }\n",
       "</style>\n",
       "<table border=\"1\" class=\"dataframe\">\n",
       "  <thead>\n",
       "    <tr style=\"text-align: right;\">\n",
       "      <th></th>\n",
       "      <th>БРЭНД</th>\n",
       "      <th>ПРОДАЖИ 2020, млн.руб.</th>\n",
       "      <th>РЭЙТИНГ 2020</th>\n",
       "      <th>ДОЛЯ РЫНКА 2020, %</th>\n",
       "      <th>ПРОДАЖИ 2021, млн.руб.</th>\n",
       "      <th>РЭЙТИНГ 2021</th>\n",
       "      <th>ДОЛЯ РЫНКА 2021, %</th>\n",
       "      <th>ПРОДАЖИ 2022, млн.руб.</th>\n",
       "      <th>РЭЙТИНГ 2022</th>\n",
       "      <th>ДОЛЯ РЫНКА 2022, %</th>\n",
       "    </tr>\n",
       "  </thead>\n",
       "  <tbody>\n",
       "    <tr>\n",
       "      <th>0</th>\n",
       "      <td>Green</td>\n",
       "      <td>496393.397464</td>\n",
       "      <td>1</td>\n",
       "      <td>66.65</td>\n",
       "      <td>522684.061065</td>\n",
       "      <td>1</td>\n",
       "      <td>65.92</td>\n",
       "      <td>500728.413849</td>\n",
       "      <td>1</td>\n",
       "      <td>60.70</td>\n",
       "    </tr>\n",
       "    <tr>\n",
       "      <th>1</th>\n",
       "      <td>Blue</td>\n",
       "      <td>137428.510446</td>\n",
       "      <td>2</td>\n",
       "      <td>18.45</td>\n",
       "      <td>163431.952433</td>\n",
       "      <td>2</td>\n",
       "      <td>20.61</td>\n",
       "      <td>221366.502139</td>\n",
       "      <td>2</td>\n",
       "      <td>26.83</td>\n",
       "    </tr>\n",
       "    <tr>\n",
       "      <th>2</th>\n",
       "      <td>Yellow</td>\n",
       "      <td>37160.190296</td>\n",
       "      <td>3</td>\n",
       "      <td>4.99</td>\n",
       "      <td>31878.142958</td>\n",
       "      <td>3</td>\n",
       "      <td>4.02</td>\n",
       "      <td>31060.392490</td>\n",
       "      <td>3</td>\n",
       "      <td>3.76</td>\n",
       "    </tr>\n",
       "    <tr>\n",
       "      <th>3</th>\n",
       "      <td>Black</td>\n",
       "      <td>27664.037851</td>\n",
       "      <td>4</td>\n",
       "      <td>3.71</td>\n",
       "      <td>9420.765227</td>\n",
       "      <td>6</td>\n",
       "      <td>1.19</td>\n",
       "      <td>428.724487</td>\n",
       "      <td>17</td>\n",
       "      <td>0.05</td>\n",
       "    </tr>\n",
       "    <tr>\n",
       "      <th>4</th>\n",
       "      <td>Red</td>\n",
       "      <td>14288.243953</td>\n",
       "      <td>5</td>\n",
       "      <td>1.92</td>\n",
       "      <td>6131.249163</td>\n",
       "      <td>8</td>\n",
       "      <td>0.77</td>\n",
       "      <td>4388.815961</td>\n",
       "      <td>9</td>\n",
       "      <td>0.53</td>\n",
       "    </tr>\n",
       "    <tr>\n",
       "      <th>5</th>\n",
       "      <td>White</td>\n",
       "      <td>5797.283003</td>\n",
       "      <td>6</td>\n",
       "      <td>0.78</td>\n",
       "      <td>14061.567713</td>\n",
       "      <td>5</td>\n",
       "      <td>1.77</td>\n",
       "      <td>15712.971507</td>\n",
       "      <td>4</td>\n",
       "      <td>1.90</td>\n",
       "    </tr>\n",
       "    <tr>\n",
       "      <th>6</th>\n",
       "      <td>Deep</td>\n",
       "      <td>5688.706291</td>\n",
       "      <td>7</td>\n",
       "      <td>0.76</td>\n",
       "      <td>5259.931607</td>\n",
       "      <td>10</td>\n",
       "      <td>0.66</td>\n",
       "      <td>5900.447093</td>\n",
       "      <td>7</td>\n",
       "      <td>0.72</td>\n",
       "    </tr>\n",
       "    <tr>\n",
       "      <th>7</th>\n",
       "      <td>Pale</td>\n",
       "      <td>5471.250638</td>\n",
       "      <td>8</td>\n",
       "      <td>0.73</td>\n",
       "      <td>642.828237</td>\n",
       "      <td>16</td>\n",
       "      <td>0.08</td>\n",
       "      <td>NaN</td>\n",
       "      <td>&lt;NA&gt;</td>\n",
       "      <td>NaN</td>\n",
       "    </tr>\n",
       "    <tr>\n",
       "      <th>8</th>\n",
       "      <td>Delicate</td>\n",
       "      <td>2904.483765</td>\n",
       "      <td>9</td>\n",
       "      <td>0.39</td>\n",
       "      <td>NaN</td>\n",
       "      <td>&lt;NA&gt;</td>\n",
       "      <td>NaN</td>\n",
       "      <td>NaN</td>\n",
       "      <td>&lt;NA&gt;</td>\n",
       "      <td>NaN</td>\n",
       "    </tr>\n",
       "    <tr>\n",
       "      <th>9</th>\n",
       "      <td>Dim</td>\n",
       "      <td>2575.655467</td>\n",
       "      <td>10</td>\n",
       "      <td>0.35</td>\n",
       "      <td>2454.911386</td>\n",
       "      <td>12</td>\n",
       "      <td>0.31</td>\n",
       "      <td>1456.928428</td>\n",
       "      <td>12</td>\n",
       "      <td>0.18</td>\n",
       "    </tr>\n",
       "    <tr>\n",
       "      <th>10</th>\n",
       "      <td>Vivid</td>\n",
       "      <td>2027.173865</td>\n",
       "      <td>11</td>\n",
       "      <td>0.27</td>\n",
       "      <td>974.824571</td>\n",
       "      <td>14</td>\n",
       "      <td>0.12</td>\n",
       "      <td>1197.327576</td>\n",
       "      <td>13</td>\n",
       "      <td>0.15</td>\n",
       "    </tr>\n",
       "    <tr>\n",
       "      <th>11</th>\n",
       "      <td>Orange</td>\n",
       "      <td>1878.958324</td>\n",
       "      <td>12</td>\n",
       "      <td>0.25</td>\n",
       "      <td>2601.135625</td>\n",
       "      <td>11</td>\n",
       "      <td>0.33</td>\n",
       "      <td>15480.621320</td>\n",
       "      <td>5</td>\n",
       "      <td>1.88</td>\n",
       "    </tr>\n",
       "    <tr>\n",
       "      <th>12</th>\n",
       "      <td>Purple</td>\n",
       "      <td>1243.011330</td>\n",
       "      <td>13</td>\n",
       "      <td>0.17</td>\n",
       "      <td>469.844726</td>\n",
       "      <td>18</td>\n",
       "      <td>0.06</td>\n",
       "      <td>426.931837</td>\n",
       "      <td>18</td>\n",
       "      <td>0.05</td>\n",
       "    </tr>\n",
       "    <tr>\n",
       "      <th>13</th>\n",
       "      <td>Moderate</td>\n",
       "      <td>851.231589</td>\n",
       "      <td>14</td>\n",
       "      <td>0.11</td>\n",
       "      <td>913.036600</td>\n",
       "      <td>15</td>\n",
       "      <td>0.12</td>\n",
       "      <td>NaN</td>\n",
       "      <td>&lt;NA&gt;</td>\n",
       "      <td>NaN</td>\n",
       "    </tr>\n",
       "    <tr>\n",
       "      <th>14</th>\n",
       "      <td>Glossy</td>\n",
       "      <td>617.317575</td>\n",
       "      <td>15</td>\n",
       "      <td>0.08</td>\n",
       "      <td>NaN</td>\n",
       "      <td>&lt;NA&gt;</td>\n",
       "      <td>NaN</td>\n",
       "      <td>NaN</td>\n",
       "      <td>&lt;NA&gt;</td>\n",
       "      <td>NaN</td>\n",
       "    </tr>\n",
       "    <tr>\n",
       "      <th>15</th>\n",
       "      <td>Grey</td>\n",
       "      <td>492.137554</td>\n",
       "      <td>16</td>\n",
       "      <td>0.07</td>\n",
       "      <td>68.459953</td>\n",
       "      <td>25</td>\n",
       "      <td>0.01</td>\n",
       "      <td>NaN</td>\n",
       "      <td>&lt;NA&gt;</td>\n",
       "      <td>NaN</td>\n",
       "    </tr>\n",
       "    <tr>\n",
       "      <th>16</th>\n",
       "      <td>Pink</td>\n",
       "      <td>443.092283</td>\n",
       "      <td>17</td>\n",
       "      <td>0.06</td>\n",
       "      <td>141.740291</td>\n",
       "      <td>23</td>\n",
       "      <td>0.02</td>\n",
       "      <td>67.815393</td>\n",
       "      <td>23</td>\n",
       "      <td>0.01</td>\n",
       "    </tr>\n",
       "    <tr>\n",
       "      <th>17</th>\n",
       "      <td>Golden</td>\n",
       "      <td>407.432880</td>\n",
       "      <td>18</td>\n",
       "      <td>0.05</td>\n",
       "      <td>6901.273386</td>\n",
       "      <td>7</td>\n",
       "      <td>0.87</td>\n",
       "      <td>NaN</td>\n",
       "      <td>&lt;NA&gt;</td>\n",
       "      <td>NaN</td>\n",
       "    </tr>\n",
       "    <tr>\n",
       "      <th>18</th>\n",
       "      <td>Beige</td>\n",
       "      <td>397.949786</td>\n",
       "      <td>19</td>\n",
       "      <td>0.05</td>\n",
       "      <td>476.899625</td>\n",
       "      <td>17</td>\n",
       "      <td>0.06</td>\n",
       "      <td>NaN</td>\n",
       "      <td>&lt;NA&gt;</td>\n",
       "      <td>NaN</td>\n",
       "    </tr>\n",
       "    <tr>\n",
       "      <th>19</th>\n",
       "      <td>Lime</td>\n",
       "      <td>376.243831</td>\n",
       "      <td>20</td>\n",
       "      <td>0.05</td>\n",
       "      <td>230.077545</td>\n",
       "      <td>21</td>\n",
       "      <td>0.03</td>\n",
       "      <td>182.543653</td>\n",
       "      <td>21</td>\n",
       "      <td>0.02</td>\n",
       "    </tr>\n",
       "    <tr>\n",
       "      <th>20</th>\n",
       "      <td>Brown</td>\n",
       "      <td>206.927709</td>\n",
       "      <td>21</td>\n",
       "      <td>0.03</td>\n",
       "      <td>272.227583</td>\n",
       "      <td>19</td>\n",
       "      <td>0.03</td>\n",
       "      <td>NaN</td>\n",
       "      <td>&lt;NA&gt;</td>\n",
       "      <td>NaN</td>\n",
       "    </tr>\n",
       "    <tr>\n",
       "      <th>21</th>\n",
       "      <td>Pastel</td>\n",
       "      <td>164.014953</td>\n",
       "      <td>22</td>\n",
       "      <td>0.02</td>\n",
       "      <td>NaN</td>\n",
       "      <td>&lt;NA&gt;</td>\n",
       "      <td>NaN</td>\n",
       "      <td>NaN</td>\n",
       "      <td>&lt;NA&gt;</td>\n",
       "      <td>NaN</td>\n",
       "    </tr>\n",
       "    <tr>\n",
       "      <th>22</th>\n",
       "      <td>Mat</td>\n",
       "      <td>90.161598</td>\n",
       "      <td>23</td>\n",
       "      <td>0.01</td>\n",
       "      <td>NaN</td>\n",
       "      <td>&lt;NA&gt;</td>\n",
       "      <td>NaN</td>\n",
       "      <td>NaN</td>\n",
       "      <td>&lt;NA&gt;</td>\n",
       "      <td>NaN</td>\n",
       "    </tr>\n",
       "    <tr>\n",
       "      <th>23</th>\n",
       "      <td>Khaki</td>\n",
       "      <td>86.020452</td>\n",
       "      <td>24</td>\n",
       "      <td>0.01</td>\n",
       "      <td>NaN</td>\n",
       "      <td>&lt;NA&gt;</td>\n",
       "      <td>NaN</td>\n",
       "      <td>NaN</td>\n",
       "      <td>&lt;NA&gt;</td>\n",
       "      <td>NaN</td>\n",
       "    </tr>\n",
       "    <tr>\n",
       "      <th>24</th>\n",
       "      <td>Silver</td>\n",
       "      <td>58.388659</td>\n",
       "      <td>25</td>\n",
       "      <td>0.01</td>\n",
       "      <td>65.683320</td>\n",
       "      <td>26</td>\n",
       "      <td>0.01</td>\n",
       "      <td>NaN</td>\n",
       "      <td>&lt;NA&gt;</td>\n",
       "      <td>NaN</td>\n",
       "    </tr>\n",
       "    <tr>\n",
       "      <th>25</th>\n",
       "      <td>Teal</td>\n",
       "      <td>42.527850</td>\n",
       "      <td>26</td>\n",
       "      <td>0.01</td>\n",
       "      <td>NaN</td>\n",
       "      <td>&lt;NA&gt;</td>\n",
       "      <td>NaN</td>\n",
       "      <td>NaN</td>\n",
       "      <td>&lt;NA&gt;</td>\n",
       "      <td>NaN</td>\n",
       "    </tr>\n",
       "    <tr>\n",
       "      <th>26</th>\n",
       "      <td>Salmon</td>\n",
       "      <td>35.519099</td>\n",
       "      <td>27</td>\n",
       "      <td>0.00</td>\n",
       "      <td>NaN</td>\n",
       "      <td>&lt;NA&gt;</td>\n",
       "      <td>NaN</td>\n",
       "      <td>NaN</td>\n",
       "      <td>&lt;NA&gt;</td>\n",
       "      <td>NaN</td>\n",
       "    </tr>\n",
       "    <tr>\n",
       "      <th>27</th>\n",
       "      <td>Virulent</td>\n",
       "      <td>30.692946</td>\n",
       "      <td>28</td>\n",
       "      <td>0.00</td>\n",
       "      <td>50.093305</td>\n",
       "      <td>27</td>\n",
       "      <td>0.01</td>\n",
       "      <td>NaN</td>\n",
       "      <td>&lt;NA&gt;</td>\n",
       "      <td>NaN</td>\n",
       "    </tr>\n",
       "  </tbody>\n",
       "</table>\n",
       "</div>"
      ],
      "text/plain": [
       "       БРЭНД  ПРОДАЖИ 2020, млн.руб.  РЭЙТИНГ 2020  ДОЛЯ РЫНКА 2020, %  \\\n",
       "0      Green           496393.397464             1               66.65   \n",
       "1       Blue           137428.510446             2               18.45   \n",
       "2     Yellow            37160.190296             3                4.99   \n",
       "3      Black            27664.037851             4                3.71   \n",
       "4        Red            14288.243953             5                1.92   \n",
       "5      White             5797.283003             6                0.78   \n",
       "6       Deep             5688.706291             7                0.76   \n",
       "7       Pale             5471.250638             8                0.73   \n",
       "8   Delicate             2904.483765             9                0.39   \n",
       "9        Dim             2575.655467            10                0.35   \n",
       "10     Vivid             2027.173865            11                0.27   \n",
       "11    Orange             1878.958324            12                0.25   \n",
       "12    Purple             1243.011330            13                0.17   \n",
       "13  Moderate              851.231589            14                0.11   \n",
       "14    Glossy              617.317575            15                0.08   \n",
       "15      Grey              492.137554            16                0.07   \n",
       "16      Pink              443.092283            17                0.06   \n",
       "17    Golden              407.432880            18                0.05   \n",
       "18     Beige              397.949786            19                0.05   \n",
       "19      Lime              376.243831            20                0.05   \n",
       "20     Brown              206.927709            21                0.03   \n",
       "21    Pastel              164.014953            22                0.02   \n",
       "22       Mat               90.161598            23                0.01   \n",
       "23     Khaki               86.020452            24                0.01   \n",
       "24    Silver               58.388659            25                0.01   \n",
       "25      Teal               42.527850            26                0.01   \n",
       "26    Salmon               35.519099            27                0.00   \n",
       "27  Virulent               30.692946            28                0.00   \n",
       "\n",
       "    ПРОДАЖИ 2021, млн.руб.  РЭЙТИНГ 2021  ДОЛЯ РЫНКА 2021, %  \\\n",
       "0            522684.061065             1               65.92   \n",
       "1            163431.952433             2               20.61   \n",
       "2             31878.142958             3                4.02   \n",
       "3              9420.765227             6                1.19   \n",
       "4              6131.249163             8                0.77   \n",
       "5             14061.567713             5                1.77   \n",
       "6              5259.931607            10                0.66   \n",
       "7               642.828237            16                0.08   \n",
       "8                      NaN          <NA>                 NaN   \n",
       "9              2454.911386            12                0.31   \n",
       "10              974.824571            14                0.12   \n",
       "11             2601.135625            11                0.33   \n",
       "12              469.844726            18                0.06   \n",
       "13              913.036600            15                0.12   \n",
       "14                     NaN          <NA>                 NaN   \n",
       "15               68.459953            25                0.01   \n",
       "16              141.740291            23                0.02   \n",
       "17             6901.273386             7                0.87   \n",
       "18              476.899625            17                0.06   \n",
       "19              230.077545            21                0.03   \n",
       "20              272.227583            19                0.03   \n",
       "21                     NaN          <NA>                 NaN   \n",
       "22                     NaN          <NA>                 NaN   \n",
       "23                     NaN          <NA>                 NaN   \n",
       "24               65.683320            26                0.01   \n",
       "25                     NaN          <NA>                 NaN   \n",
       "26                     NaN          <NA>                 NaN   \n",
       "27               50.093305            27                0.01   \n",
       "\n",
       "    ПРОДАЖИ 2022, млн.руб.  РЭЙТИНГ 2022  ДОЛЯ РЫНКА 2022, %  \n",
       "0            500728.413849             1               60.70  \n",
       "1            221366.502139             2               26.83  \n",
       "2             31060.392490             3                3.76  \n",
       "3               428.724487            17                0.05  \n",
       "4              4388.815961             9                0.53  \n",
       "5             15712.971507             4                1.90  \n",
       "6              5900.447093             7                0.72  \n",
       "7                      NaN          <NA>                 NaN  \n",
       "8                      NaN          <NA>                 NaN  \n",
       "9              1456.928428            12                0.18  \n",
       "10             1197.327576            13                0.15  \n",
       "11            15480.621320             5                1.88  \n",
       "12              426.931837            18                0.05  \n",
       "13                     NaN          <NA>                 NaN  \n",
       "14                     NaN          <NA>                 NaN  \n",
       "15                     NaN          <NA>                 NaN  \n",
       "16               67.815393            23                0.01  \n",
       "17                     NaN          <NA>                 NaN  \n",
       "18                     NaN          <NA>                 NaN  \n",
       "19              182.543653            21                0.02  \n",
       "20                     NaN          <NA>                 NaN  \n",
       "21                     NaN          <NA>                 NaN  \n",
       "22                     NaN          <NA>                 NaN  \n",
       "23                     NaN          <NA>                 NaN  \n",
       "24                     NaN          <NA>                 NaN  \n",
       "25                     NaN          <NA>                 NaN  \n",
       "26                     NaN          <NA>                 NaN  \n",
       "27                     NaN          <NA>                 NaN  "
      ]
     },
     "execution_count": 186,
     "metadata": {},
     "output_type": "execute_result"
    }
   ],
   "source": [
    "df_top"
   ]
  },
  {
   "cell_type": "code",
   "execution_count": 187,
   "id": "17578d22",
   "metadata": {
    "ExecuteTime": {
     "end_time": "2023-03-13T21:26:29.840975Z",
     "start_time": "2023-03-13T21:26:29.819759Z"
    },
    "scrolled": false
   },
   "outputs": [
    {
     "data": {
      "text/html": [
       "<div>\n",
       "<style scoped>\n",
       "    .dataframe tbody tr th:only-of-type {\n",
       "        vertical-align: middle;\n",
       "    }\n",
       "\n",
       "    .dataframe tbody tr th {\n",
       "        vertical-align: top;\n",
       "    }\n",
       "\n",
       "    .dataframe thead th {\n",
       "        text-align: right;\n",
       "    }\n",
       "</style>\n",
       "<table border=\"1\" class=\"dataframe\">\n",
       "  <thead>\n",
       "    <tr style=\"text-align: right;\">\n",
       "      <th></th>\n",
       "      <th>БРЭНД</th>\n",
       "      <th>ПРОДАЖИ 2020, млн.руб.</th>\n",
       "      <th>РЭЙТИНГ 2020</th>\n",
       "      <th>ДОЛЯ РЫНКА 2020, %</th>\n",
       "      <th>ПРОДАЖИ 2021, млн.руб.</th>\n",
       "      <th>РЭЙТИНГ 2021</th>\n",
       "      <th>ДОЛЯ РЫНКА 2021, %</th>\n",
       "      <th>ПРОДАЖИ 2022, млн.руб.</th>\n",
       "      <th>РЭЙТИНГ 2022</th>\n",
       "      <th>ДОЛЯ РЫНКА 2022, %</th>\n",
       "    </tr>\n",
       "  </thead>\n",
       "  <tbody>\n",
       "    <tr>\n",
       "      <th>0</th>\n",
       "      <td>Green</td>\n",
       "      <td>496393.397464</td>\n",
       "      <td>1</td>\n",
       "      <td>66.65</td>\n",
       "      <td>522684.061065</td>\n",
       "      <td>1</td>\n",
       "      <td>65.92</td>\n",
       "      <td>500728.413849</td>\n",
       "      <td>1</td>\n",
       "      <td>60.70</td>\n",
       "    </tr>\n",
       "    <tr>\n",
       "      <th>1</th>\n",
       "      <td>Blue</td>\n",
       "      <td>137428.510446</td>\n",
       "      <td>2</td>\n",
       "      <td>18.45</td>\n",
       "      <td>163431.952433</td>\n",
       "      <td>2</td>\n",
       "      <td>20.61</td>\n",
       "      <td>221366.502139</td>\n",
       "      <td>2</td>\n",
       "      <td>26.83</td>\n",
       "    </tr>\n",
       "    <tr>\n",
       "      <th>2</th>\n",
       "      <td>Yellow</td>\n",
       "      <td>37160.190296</td>\n",
       "      <td>3</td>\n",
       "      <td>4.99</td>\n",
       "      <td>31878.142958</td>\n",
       "      <td>3</td>\n",
       "      <td>4.02</td>\n",
       "      <td>31060.392490</td>\n",
       "      <td>3</td>\n",
       "      <td>3.76</td>\n",
       "    </tr>\n",
       "    <tr>\n",
       "      <th>3</th>\n",
       "      <td>White</td>\n",
       "      <td>5797.283003</td>\n",
       "      <td>6</td>\n",
       "      <td>0.78</td>\n",
       "      <td>14061.567713</td>\n",
       "      <td>5</td>\n",
       "      <td>1.77</td>\n",
       "      <td>15712.971507</td>\n",
       "      <td>4</td>\n",
       "      <td>1.90</td>\n",
       "    </tr>\n",
       "    <tr>\n",
       "      <th>4</th>\n",
       "      <td>Orange</td>\n",
       "      <td>1878.958324</td>\n",
       "      <td>12</td>\n",
       "      <td>0.25</td>\n",
       "      <td>2601.135625</td>\n",
       "      <td>11</td>\n",
       "      <td>0.33</td>\n",
       "      <td>15480.621320</td>\n",
       "      <td>5</td>\n",
       "      <td>1.88</td>\n",
       "    </tr>\n",
       "  </tbody>\n",
       "</table>\n",
       "</div>"
      ],
      "text/plain": [
       "    БРЭНД  ПРОДАЖИ 2020, млн.руб.  РЭЙТИНГ 2020  ДОЛЯ РЫНКА 2020, %  \\\n",
       "0   Green           496393.397464             1               66.65   \n",
       "1    Blue           137428.510446             2               18.45   \n",
       "2  Yellow            37160.190296             3                4.99   \n",
       "3   White             5797.283003             6                0.78   \n",
       "4  Orange             1878.958324            12                0.25   \n",
       "\n",
       "   ПРОДАЖИ 2021, млн.руб.  РЭЙТИНГ 2021  ДОЛЯ РЫНКА 2021, %  \\\n",
       "0           522684.061065             1               65.92   \n",
       "1           163431.952433             2               20.61   \n",
       "2            31878.142958             3                4.02   \n",
       "3            14061.567713             5                1.77   \n",
       "4             2601.135625            11                0.33   \n",
       "\n",
       "   ПРОДАЖИ 2022, млн.руб.  РЭЙТИНГ 2022  ДОЛЯ РЫНКА 2022, %  \n",
       "0           500728.413849             1               60.70  \n",
       "1           221366.502139             2               26.83  \n",
       "2            31060.392490             3                3.76  \n",
       "3            15712.971507             4                1.90  \n",
       "4            15480.621320             5                1.88  "
      ]
     },
     "execution_count": 187,
     "metadata": {},
     "output_type": "execute_result"
    }
   ],
   "source": [
    "# Динамика рейтинга топ-5 брендов по продажам в 2020-2022 гг.\n",
    "df_top_5 = df_top.sort_values(by='ПРОДАЖИ 2022, млн.руб.', ascending=False)[:5].\\\n",
    "                                reset_index(drop=True)\n",
    "df_top_5"
   ]
  },
  {
   "cell_type": "code",
   "execution_count": 188,
   "id": "6ff65124",
   "metadata": {
    "ExecuteTime": {
     "end_time": "2023-03-13T21:26:30.888642Z",
     "start_time": "2023-03-13T21:26:30.742513Z"
    },
    "scrolled": false
   },
   "outputs": [
    {
     "data": {
      "image/png": "[encoded data removed]",
      "text/plain": [
       "<Figure size 1500x300 with 1 Axes>"
      ]
     },
     "metadata": {},
     "output_type": "display_data"
    }
   ],
   "source": [
    "# График динамики брендов, вошедших в 2022 году в рейтинг топ-5\n",
    "\n",
    "x_year = ['2020 год', '2021 год', '2022 год']\n",
    "\n",
    "brand1, brand2, brand3, brand4, brand5 = [], [], [], [], []\n",
    "for elem in ['ПРОДАЖИ 2020, млн.руб.',\n",
    "             'ПРОДАЖИ 2021, млн.руб.', 'ПРОДАЖИ 2022, млн.руб.']:\n",
    "    brand1.append(df_top_5[elem][0])\n",
    "    brand2.append(df_top_5[elem][1])\n",
    "    brand3.append(df_top_5[elem][2])\n",
    "    brand4.append(df_top_5[elem][3])\n",
    "    brand5.append(df_top_5[elem][4])\n",
    "\n",
    "width = 0.21\n",
    "\n",
    "x = np.arange(len(x_year))\n",
    "\n",
    "fig, ax = plt.subplots(figsize=(15,3))\n",
    "\n",
    "ax.bar(x + width/2, brand1, width, label='Green', color='green')\n",
    "ax.bar(x - width/1.5, brand2, width, label='Blue', color='royalblue')\n",
    "ax.bar(x - width/1.2, brand3, width, label='Yellow', color='yellow')\n",
    "ax.bar(x - width/0.9, brand4, width, label='White', color='silver')\n",
    "ax.bar(x - width/0.6, brand5, width, label='Orange', color='orange')\n",
    "\n",
    "ax.set_title('Динамика продаж брендов, вошедших в топ-5 по продажам в 2022 году, млн.руб.')\n",
    "ax.set_xticks(x)\n",
    "ax.set_xticklabels(x_year)\n",
    "ax.legend();"
   ]
  },
  {
   "cell_type": "markdown",
   "id": "c007e3d0",
   "metadata": {},
   "source": [
    "**Вывод:** Бренд Green на проятжении последних трёх лет уверенно лидирует на рынке, занимая не долю не менее 60%. Однако, необходимо обратить внимание на то что его доля за три года упла на 6 пп. Практически всё падение произошло в 2022 году. При этом на рынке в топ-5 появился бенд Orange, который за 3 года поднялся на 7 позиций в рейтинге. Соответственно целесообразно ознакомится со стратегией и особенностями продукции бренда Orange, и использовать полезные его свойства для усиления конкурентных преимуществ бренда Green. В такие приемущества могут входить: качетвенные и ценоовые характеристики продукции, новые целевые аудитории, новые рекламные и маркетинговые компании и т.п.  \n",
    "С учётом того что многие бренды ушли с рынка необходимо срочно проанализировать их продукцию для того что бы привлечь клиентов данных брендов для бренда Green."
   ]
  },
  {
   "cell_type": "markdown",
   "id": "bef506a9",
   "metadata": {},
   "source": [
    "## 2.6. Запись результатов расчёта метрик в файл Excel"
   ]
  },
  {
   "cell_type": "code",
   "execution_count": 189,
   "id": "69af9404",
   "metadata": {
    "ExecuteTime": {
     "end_time": "2023-03-13T21:26:33.122963Z",
     "start_time": "2023-03-13T21:26:32.107062Z"
    },
    "code_folding": []
   },
   "outputs": [],
   "source": [
    "# Для возможности перерасчёта используем режим дозаписи\n",
    "with pd.ExcelWriter('Результаты по модулям.xlsx', mode='a',\n",
    "                   engine='openpyxl', if_sheet_exists='overlay') as writer:\n",
    "    df_metricsGreen.to_excel(writer, sheet_name='Метрики Green (модуль 3)')\n",
    "    df_top.sort_values(by='ПРОДАЖИ 2022, млн.руб.', ascending=False).\\\n",
    "                to_excel(writer, sheet_name='Метрики Green (модуль 3)',\n",
    "                         startrow=len(df_metricsGreen)+6)"
   ]
  },
  {
   "cell_type": "markdown",
   "id": "aefdda11",
   "metadata": {},
   "source": [
    "  "
   ]
  },
  {
   "cell_type": "markdown",
   "id": "c47856b2",
   "metadata": {},
   "source": [
    "# Раздел 3. Оценка метрик, построенных на неотчищенных данных, и построение новых метрик"
   ]
  },
  {
   "cell_type": "markdown",
   "id": "3109b76a",
   "metadata": {},
   "source": [
    "## 3.1. Построение метрик из пунктов 2.4, 2.5 на неочищенных данных"
   ]
  },
  {
   "cell_type": "code",
   "execution_count": 190,
   "id": "4226b513",
   "metadata": {
    "ExecuteTime": {
     "end_time": "2023-03-13T21:26:34.657123Z",
     "start_time": "2023-03-13T21:26:34.634949Z"
    }
   },
   "outputs": [],
   "source": [
    "# Повторно объединим первоначальные датасеты без очистки данных\n",
    "df_1 = pd.read_csv('Копия 2020.csv')\n",
    "df_2 = df_2021 = pd.read_csv('Копия 2021.csv',\n",
    "                      names=['Year', 'Month', 'Channel', 'Brand',\n",
    "                            'Weight range', 'Units (in 1000)',\n",
    "                            'Value (in 1000 rub)', 'Volume (in 1000 kg)',\n",
    "                            'Number of stores'])\n",
    "df_3 = pd.read_csv('Копия 2022.txt', sep='\\t')\n",
    "\n",
    "# Удаляем лишние знаки в колонке \"Value (in 1000 rub)\" в датафрейме 2022 года\n",
    "df_3['Value (in 1000 rub)'] =\\\n",
    "df_3['Value (in 1000 rub)'].apply(lambda x: float(x)\n",
    "                                         if list(str(x))[-1] != '+'\n",
    "                                         else float(''.join(list(str(x))[:-1])))\n",
    "\n",
    "df_noncorrect = pd.concat([df_1, df_2, df_3])\n",
    "df_noncorrect.reset_index(drop=True, inplace=True)\n",
    "del df_1, df_2, df_3"
   ]
  },
  {
   "cell_type": "code",
   "execution_count": 191,
   "id": "cf487f39",
   "metadata": {
    "ExecuteTime": {
     "end_time": "2023-03-13T21:26:34.863017Z",
     "start_time": "2023-03-13T21:26:34.841810Z"
    }
   },
   "outputs": [
    {
     "name": "stderr",
     "output_type": "stream",
     "text": [
      "/var/folders/5h/1vkpjwr90l19cmzfgsfrcpvm0000gn/T/ipykernel_86590/2630864372.py:24: RuntimeWarning: divide by zero encountered in double_scalars\n",
      "  round(((df_Green_nc_2022.loc[df_Green_nc_2022['Month'].\n",
      "/var/folders/5h/1vkpjwr90l19cmzfgsfrcpvm0000gn/T/ipykernel_86590/2630864372.py:31: RuntimeWarning: divide by zero encountered in double_scalars\n",
      "  round(((df_Green_nc_2022.loc[df_Green_nc_2022['Month'] == 12]\\\n"
     ]
    }
   ],
   "source": [
    "# Построим метрики из п.2.4 на датасете без отчистки данных\n",
    "df_Green_nc_2020 = df_noncorrect.loc[((df_noncorrect.Brand == 'Green') & (df_noncorrect.Year == 2020))]\n",
    "df_Green_nc_2021 = df_noncorrect.loc[((df_noncorrect.Brand == 'Green') & (df_noncorrect.Year == 2021))]\n",
    "df_Green_nc_2022 = df_noncorrect.loc[((df_noncorrect.Brand == 'Green') & (df_noncorrect.Year == 2022))]\n",
    "df_nc_2020 = df_noncorrect.loc[df_noncorrect.Year == 2020]\n",
    "df_nc_2021 = df_noncorrect.loc[df_noncorrect.Year == 2021]\n",
    "df_nc_2022 = df_noncorrect.loc[df_noncorrect.Year == 2022]\n",
    "\n",
    "\n",
    "df_metricsGreen_noncorrect = pd.DataFrame({\n",
    "    'ПОКАЗАТЕЛЬ': [\n",
    "                   'Green 2022/2021', 'Green 4кв.2022/4кв.2021',\n",
    "                   'Green дек.2022/дек.2021',\n",
    "                   'Рынок 2022/2021', 'Рынок 4кв.2022/4кв.2021',\n",
    "                   'Рынок дек.2022/дек.2021',\n",
    "                   'Green-Рынок 2022/2021', 'Green-Рынок 4кв.2022/4кв.2021',\n",
    "                   'Green-Рынок дек.2022/дек.2021'\n",
    "                  ],\n",
    "    'РАЗМЕРНОСТЬ': ['%', '%', '%', '%', '%', '%', 'пп', 'пп', 'пп'],\n",
    "    'ЗНАЧЕНИЕ': [\n",
    "                 round((df_Green_nc_2022['Value (in 1000 rub)']).sum() / \n",
    "                  (df_Green_nc_2021['Value (in 1000 rub)'].sum() - 1) * 100, 2),\n",
    "                 \n",
    "                 round(((df_Green_nc_2022.loc[df_Green_nc_2022['Month'].\n",
    "                  isin([10, 11, 12])]\\\n",
    "                  ['Value (in 1000 rub)'].sum() / \n",
    "                  df_Green_nc_2021.loc[df_Green_nc_2021['Month'].\n",
    "                  isin([10, 11, 12])]\\\n",
    "                  ['Value (in 1000 rub)'].sum()) - 1) * 100, 2),\n",
    "                 \n",
    "                 round(((df_Green_nc_2022.loc[df_Green_nc_2022['Month'] == 12]\\\n",
    "                  ['Value (in 1000 rub)'].sum() / \n",
    "                  df_Green_nc_2021.loc[df_Green_nc_2021['Month'] == 12]\\\n",
    "                  ['Value (in 1000 rub)'].sum()) - 1) * 100, 2),\n",
    "                \n",
    "                 round(((df_nc_2022['Value (in 1000 rub)'].sum() / \n",
    "                  df_nc_2021['Value (in 1000 rub)'].sum()) - 1) * 100, 2),\n",
    "                 \n",
    "                 round(((df_nc_2022.loc[df_nc_2022['Month'].\n",
    "                  isin([10, 11, 12])]\\\n",
    "                  ['Value (in 1000 rub)'].sum() / \n",
    "                  df_nc_2021.loc[df_nc_2021['Month'].\n",
    "                  isin([10, 11, 12])]\\\n",
    "                  ['Value (in 1000 rub)'].sum()) - 1) * 100, 2),\n",
    "                 \n",
    "                 round(((df_nc_2022.loc[df_nc_2022['Month'] == 12]\\\n",
    "                  ['Value (in 1000 rub)'].sum() / \n",
    "                  df_nc_2021.loc[df_nc_2021['Month'] == 12]\\\n",
    "                  ['Value (in 1000 rub)'].sum()) - 1) * 100, 2),\n",
    "                 \n",
    "                 None, None, None\n",
    "                \n",
    "                ]\n",
    "})\n",
    "for i in range(3):\n",
    "    df_metricsGreen_noncorrect.at[6+i, 'ЗНАЧЕНИЕ'] =\\\n",
    "            df_metricsGreen_noncorrect.at[0+i, 'ЗНАЧЕНИЕ'] -\\\n",
    "            df_metricsGreen_noncorrect.at[3+i, 'ЗНАЧЕНИЕ']"
   ]
  },
  {
   "cell_type": "code",
   "execution_count": 192,
   "id": "80427a1d",
   "metadata": {
    "ExecuteTime": {
     "end_time": "2023-03-13T21:26:35.167358Z",
     "start_time": "2023-03-13T21:26:35.160483Z"
    }
   },
   "outputs": [
    {
     "name": "stdout",
     "output_type": "stream",
     "text": [
      "\n",
      "                       ПОКАЗАТЕЛЬ РАЗМЕРНОСТЬ  ЗНАЧЕНИЕ\n",
      "0                Green 2022/2021           %     -4.20\n",
      "1        Green 4кв.2022/4кв.2021           %    -15.51\n",
      "2        Green дек.2022/дек.2021           %    -19.62\n",
      "3                Рынок 2022/2021           %      4.04\n",
      "4        Рынок 4кв.2022/4кв.2021           %     -6.36\n",
      "5        Рынок дек.2022/дек.2021           %     -7.50\n",
      "6          Green-Рынок 2022/2021          пп     -8.24\n",
      "7  Green-Рынок 4кв.2022/4кв.2021          пп     -9.15\n",
      "8  Green-Рынок дек.2022/дек.2021          пп    -12.12\n",
      "\n",
      "                       ПОКАЗАТЕЛЬ РАЗМЕРНОСТЬ  ЗНАЧЕНИЕ\n",
      "0                Green 2022/2021           %     61.23\n",
      "1        Green 4кв.2022/4кв.2021           %       inf\n",
      "2        Green дек.2022/дек.2021           %       inf\n",
      "3                Рынок 2022/2021           %    -99.90\n",
      "4        Рынок 4кв.2022/4кв.2021           %    -99.91\n",
      "5        Рынок дек.2022/дек.2021           %    -99.91\n",
      "6          Green-Рынок 2022/2021          пп    161.13\n",
      "7  Green-Рынок 4кв.2022/4кв.2021          пп       inf\n",
      "8  Green-Рынок дек.2022/дек.2021          пп       inf\n"
     ]
    }
   ],
   "source": [
    "# Выведем две матрицы полученных метрик по п.2.4\n",
    "# первая на очищенных данных, вторая на неочищенных\n",
    "print('\\n', df_metricsGreen)\n",
    "print('\\n', df_metricsGreen_noncorrect)"
   ]
  },
  {
   "cell_type": "markdown",
   "id": "e53bbabb",
   "metadata": {},
   "source": [
    "**Вывод**: Метрики по п.2.4. полученные на неочищееных данных:  \n",
    " - во-первых, нельзя посчитать по отдельным позициям, так как приих расчёте происходило деление на 0;\n",
    " - во-вторых, значения отдельных метрик кратно отличаются от действительных, посчитанных на очищенных данных.\n",
    "\n",
    "**Последствия:** из неверно рассчитанных метрик получилось, что бренд Green увеличил продажи в 2022 году значительно больше чем весь рынок (см. строку 6 матрицы некорректно рассчитаных метрик). Ориентация на такое значение метрики приведёт к тому что меры по устранению недостатков продукции и продаж бренда Green - не будут приняты своевременно."
   ]
  },
  {
   "cell_type": "code",
   "execution_count": 193,
   "id": "412b89c3",
   "metadata": {
    "ExecuteTime": {
     "end_time": "2023-03-13T21:26:56.847235Z",
     "start_time": "2023-03-13T21:26:56.817235Z"
    }
   },
   "outputs": [],
   "source": [
    "# Построим метрики из п.2.5 на датасете без отчистки данных\n",
    "for year in [2020, 2021, 2022]:\n",
    "    df_top_brand_nc = df_noncorrect.loc[df_noncorrect.Year == year].groupby('Brand').\\\n",
    "                   agg({'Value (in 1000 rub)': 'sum'}).\\\n",
    "                   sort_values(by='Value (in 1000 rub)', ascending=False)\n",
    "    total_market_nc = df_top_brand_nc['Value (in 1000 rub)'].sum()\n",
    "    df_top_brand_nc['БРЭНД'] = df_top_brand_nc.index\n",
    "    df_top_brand_nc.reset_index(drop=True, inplace=True)\n",
    "    df_top_brand_nc.columns = [f'ПРОДАЖИ {year}, млн.руб.', 'БРЭНД']\n",
    "    df_top_brand_nc[f'РЭЙТИНГ {year}'] = df_top_brand_nc.index + 1\n",
    "    df_top_brand_nc[f'РЭЙТИНГ {year}'] = df_top_brand_nc[f'РЭЙТИНГ {year}'].\\\n",
    "                                        astype({f'РЭЙТИНГ {year}': 'Int64'})\n",
    "    df_top_brand_nc[f'ДОЛЯ РЫНКА {year}, %'] = df_top_brand_nc.apply(lambda x:\n",
    "                               round(x[f'ПРОДАЖИ {year}, млн.руб.'] /\\\n",
    "                                     total_market_nc * 100, 2),\n",
    "                               axis=1)\n",
    "    \n",
    "    if year == 2020:\n",
    "        df_top_nc = df_top_brand_nc.copy()\n",
    "    else:\n",
    "        df_top_nc = pd.merge(df_top_nc, df_top_brand_nc, on=('БРЭНД'), how='left')\n",
    "df_top_nc = df_top_nc[['БРЭНД',\n",
    "                 'ПРОДАЖИ 2020, млн.руб.', 'РЭЙТИНГ 2020', 'ДОЛЯ РЫНКА 2020, %',\n",
    "                 'ПРОДАЖИ 2021, млн.руб.', 'РЭЙТИНГ 2021', 'ДОЛЯ РЫНКА 2021, %',\n",
    "                 'ПРОДАЖИ 2022, млн.руб.', 'РЭЙТИНГ 2022', 'ДОЛЯ РЫНКА 2022, %']]\n",
    "# Динамика рейтинга топ-5 брендов по продажам в 2020-2022 гг.\n",
    "df_top_5_nc = df_top_nc.sort_values(by='ПРОДАЖИ 2022, млн.руб.',\n",
    "                                    ascending=False)[:5].reset_index(drop=True)"
   ]
  },
  {
   "cell_type": "code",
   "execution_count": 194,
   "id": "b9f1d30e",
   "metadata": {
    "ExecuteTime": {
     "end_time": "2023-03-13T21:27:26.355239Z",
     "start_time": "2023-03-13T21:27:26.337316Z"
    },
    "scrolled": true
   },
   "outputs": [
    {
     "data": {
      "text/html": [
       "<div>\n",
       "<style scoped>\n",
       "    .dataframe tbody tr th:only-of-type {\n",
       "        vertical-align: middle;\n",
       "    }\n",
       "\n",
       "    .dataframe tbody tr th {\n",
       "        vertical-align: top;\n",
       "    }\n",
       "\n",
       "    .dataframe thead th {\n",
       "        text-align: right;\n",
       "    }\n",
       "</style>\n",
       "<table border=\"1\" class=\"dataframe\">\n",
       "  <thead>\n",
       "    <tr style=\"text-align: right;\">\n",
       "      <th></th>\n",
       "      <th>БРЭНД</th>\n",
       "      <th>ПРОДАЖИ 2020, млн.руб.</th>\n",
       "      <th>РЭЙТИНГ 2020</th>\n",
       "      <th>ДОЛЯ РЫНКА 2020, %</th>\n",
       "      <th>ПРОДАЖИ 2021, млн.руб.</th>\n",
       "      <th>РЭЙТИНГ 2021</th>\n",
       "      <th>ДОЛЯ РЫНКА 2021, %</th>\n",
       "      <th>ПРОДАЖИ 2022, млн.руб.</th>\n",
       "      <th>РЭЙТИНГ 2022</th>\n",
       "      <th>ДОЛЯ РЫНКА 2022, %</th>\n",
       "    </tr>\n",
       "  </thead>\n",
       "  <tbody>\n",
       "    <tr>\n",
       "      <th>0</th>\n",
       "      <td>Green</td>\n",
       "      <td>496393.397464</td>\n",
       "      <td>1</td>\n",
       "      <td>66.65</td>\n",
       "      <td>522684.061065</td>\n",
       "      <td>1</td>\n",
       "      <td>65.92</td>\n",
       "      <td>500728.413849</td>\n",
       "      <td>1</td>\n",
       "      <td>60.70</td>\n",
       "    </tr>\n",
       "    <tr>\n",
       "      <th>1</th>\n",
       "      <td>Blue</td>\n",
       "      <td>137428.510446</td>\n",
       "      <td>2</td>\n",
       "      <td>18.45</td>\n",
       "      <td>163431.952433</td>\n",
       "      <td>2</td>\n",
       "      <td>20.61</td>\n",
       "      <td>221366.502139</td>\n",
       "      <td>2</td>\n",
       "      <td>26.83</td>\n",
       "    </tr>\n",
       "    <tr>\n",
       "      <th>2</th>\n",
       "      <td>Yellow</td>\n",
       "      <td>37160.190296</td>\n",
       "      <td>3</td>\n",
       "      <td>4.99</td>\n",
       "      <td>31878.142958</td>\n",
       "      <td>3</td>\n",
       "      <td>4.02</td>\n",
       "      <td>31060.392490</td>\n",
       "      <td>3</td>\n",
       "      <td>3.76</td>\n",
       "    </tr>\n",
       "    <tr>\n",
       "      <th>3</th>\n",
       "      <td>White</td>\n",
       "      <td>5797.283003</td>\n",
       "      <td>6</td>\n",
       "      <td>0.78</td>\n",
       "      <td>14061.567713</td>\n",
       "      <td>5</td>\n",
       "      <td>1.77</td>\n",
       "      <td>15712.971507</td>\n",
       "      <td>4</td>\n",
       "      <td>1.90</td>\n",
       "    </tr>\n",
       "    <tr>\n",
       "      <th>4</th>\n",
       "      <td>Orange</td>\n",
       "      <td>1878.958324</td>\n",
       "      <td>12</td>\n",
       "      <td>0.25</td>\n",
       "      <td>2601.135625</td>\n",
       "      <td>11</td>\n",
       "      <td>0.33</td>\n",
       "      <td>15480.621320</td>\n",
       "      <td>5</td>\n",
       "      <td>1.88</td>\n",
       "    </tr>\n",
       "  </tbody>\n",
       "</table>\n",
       "</div>"
      ],
      "text/plain": [
       "    БРЭНД  ПРОДАЖИ 2020, млн.руб.  РЭЙТИНГ 2020  ДОЛЯ РЫНКА 2020, %  \\\n",
       "0   Green           496393.397464             1               66.65   \n",
       "1    Blue           137428.510446             2               18.45   \n",
       "2  Yellow            37160.190296             3                4.99   \n",
       "3   White             5797.283003             6                0.78   \n",
       "4  Orange             1878.958324            12                0.25   \n",
       "\n",
       "   ПРОДАЖИ 2021, млн.руб.  РЭЙТИНГ 2021  ДОЛЯ РЫНКА 2021, %  \\\n",
       "0           522684.061065             1               65.92   \n",
       "1           163431.952433             2               20.61   \n",
       "2            31878.142958             3                4.02   \n",
       "3            14061.567713             5                1.77   \n",
       "4             2601.135625            11                0.33   \n",
       "\n",
       "   ПРОДАЖИ 2022, млн.руб.  РЭЙТИНГ 2022  ДОЛЯ РЫНКА 2022, %  \n",
       "0           500728.413849             1               60.70  \n",
       "1           221366.502139             2               26.83  \n",
       "2            31060.392490             3                3.76  \n",
       "3            15712.971507             4                1.90  \n",
       "4            15480.621320             5                1.88  "
      ]
     },
     "execution_count": 194,
     "metadata": {},
     "output_type": "execute_result"
    }
   ],
   "source": [
    "# Выведем две матрицы полученных метрик по п.2.5\n",
    "# первая на очищенных данных, вторая на неочищенных\n",
    "df_top_5"
   ]
  },
  {
   "cell_type": "code",
   "execution_count": 195,
   "id": "8e854d92",
   "metadata": {
    "ExecuteTime": {
     "end_time": "2023-03-13T21:27:31.103837Z",
     "start_time": "2023-03-13T21:27:31.090302Z"
    }
   },
   "outputs": [
    {
     "data": {
      "text/html": [
       "<div>\n",
       "<style scoped>\n",
       "    .dataframe tbody tr th:only-of-type {\n",
       "        vertical-align: middle;\n",
       "    }\n",
       "\n",
       "    .dataframe tbody tr th {\n",
       "        vertical-align: top;\n",
       "    }\n",
       "\n",
       "    .dataframe thead th {\n",
       "        text-align: right;\n",
       "    }\n",
       "</style>\n",
       "<table border=\"1\" class=\"dataframe\">\n",
       "  <thead>\n",
       "    <tr style=\"text-align: right;\">\n",
       "      <th></th>\n",
       "      <th>БРЭНД</th>\n",
       "      <th>ПРОДАЖИ 2020, млн.руб.</th>\n",
       "      <th>РЭЙТИНГ 2020</th>\n",
       "      <th>ДОЛЯ РЫНКА 2020, %</th>\n",
       "      <th>ПРОДАЖИ 2021, млн.руб.</th>\n",
       "      <th>РЭЙТИНГ 2021</th>\n",
       "      <th>ДОЛЯ РЫНКА 2021, %</th>\n",
       "      <th>ПРОДАЖИ 2022, млн.руб.</th>\n",
       "      <th>РЭЙТИНГ 2022</th>\n",
       "      <th>ДОЛЯ РЫНКА 2022, %</th>\n",
       "    </tr>\n",
       "  </thead>\n",
       "  <tbody>\n",
       "    <tr>\n",
       "      <th>0</th>\n",
       "      <td>Green</td>\n",
       "      <td>496393.397464</td>\n",
       "      <td>1</td>\n",
       "      <td>66.65</td>\n",
       "      <td>8.177891e+05</td>\n",
       "      <td>16</td>\n",
       "      <td>0.10</td>\n",
       "      <td>500728.413849</td>\n",
       "      <td>1</td>\n",
       "      <td>60.70</td>\n",
       "    </tr>\n",
       "    <tr>\n",
       "      <th>1</th>\n",
       "      <td>Blue</td>\n",
       "      <td>137428.510446</td>\n",
       "      <td>2</td>\n",
       "      <td>18.45</td>\n",
       "      <td>1.634320e+08</td>\n",
       "      <td>2</td>\n",
       "      <td>20.61</td>\n",
       "      <td>221366.502139</td>\n",
       "      <td>2</td>\n",
       "      <td>26.83</td>\n",
       "    </tr>\n",
       "    <tr>\n",
       "      <th>2</th>\n",
       "      <td>Yellow</td>\n",
       "      <td>37160.190296</td>\n",
       "      <td>3</td>\n",
       "      <td>4.99</td>\n",
       "      <td>3.187814e+07</td>\n",
       "      <td>3</td>\n",
       "      <td>4.02</td>\n",
       "      <td>31060.392490</td>\n",
       "      <td>3</td>\n",
       "      <td>3.76</td>\n",
       "    </tr>\n",
       "    <tr>\n",
       "      <th>3</th>\n",
       "      <td>White</td>\n",
       "      <td>5797.283003</td>\n",
       "      <td>6</td>\n",
       "      <td>0.78</td>\n",
       "      <td>1.406157e+07</td>\n",
       "      <td>5</td>\n",
       "      <td>1.77</td>\n",
       "      <td>15712.971507</td>\n",
       "      <td>4</td>\n",
       "      <td>1.90</td>\n",
       "    </tr>\n",
       "    <tr>\n",
       "      <th>4</th>\n",
       "      <td>Orange</td>\n",
       "      <td>1878.958324</td>\n",
       "      <td>12</td>\n",
       "      <td>0.25</td>\n",
       "      <td>2.601136e+06</td>\n",
       "      <td>11</td>\n",
       "      <td>0.33</td>\n",
       "      <td>15480.621320</td>\n",
       "      <td>5</td>\n",
       "      <td>1.88</td>\n",
       "    </tr>\n",
       "  </tbody>\n",
       "</table>\n",
       "</div>"
      ],
      "text/plain": [
       "    БРЭНД  ПРОДАЖИ 2020, млн.руб.  РЭЙТИНГ 2020  ДОЛЯ РЫНКА 2020, %  \\\n",
       "0   Green           496393.397464             1               66.65   \n",
       "1    Blue           137428.510446             2               18.45   \n",
       "2  Yellow            37160.190296             3                4.99   \n",
       "3   White             5797.283003             6                0.78   \n",
       "4  Orange             1878.958324            12                0.25   \n",
       "\n",
       "   ПРОДАЖИ 2021, млн.руб.  РЭЙТИНГ 2021  ДОЛЯ РЫНКА 2021, %  \\\n",
       "0            8.177891e+05            16                0.10   \n",
       "1            1.634320e+08             2               20.61   \n",
       "2            3.187814e+07             3                4.02   \n",
       "3            1.406157e+07             5                1.77   \n",
       "4            2.601136e+06            11                0.33   \n",
       "\n",
       "   ПРОДАЖИ 2022, млн.руб.  РЭЙТИНГ 2022  ДОЛЯ РЫНКА 2022, %  \n",
       "0           500728.413849             1               60.70  \n",
       "1           221366.502139             2               26.83  \n",
       "2            31060.392490             3                3.76  \n",
       "3            15712.971507             4                1.90  \n",
       "4            15480.621320             5                1.88  "
      ]
     },
     "execution_count": 195,
     "metadata": {},
     "output_type": "execute_result"
    }
   ],
   "source": [
    "df_top_5_nc"
   ]
  },
  {
   "cell_type": "markdown",
   "id": "8e2da199",
   "metadata": {},
   "source": [
    "**Вывод**: Метрики по п.2.5, полученные на неочищеных данных сильно искажены, так как данные за 2021 год в неотчищенном датасете не соизмеримы с данными из датасетов 2020 и 2022 годов.  \n",
    "\n",
    "**Последствия**: Передача другим подразделениям внутри компании таких некорректных метрик (с явной ошибкой расчёта по показателям 2021 года) приведёт к росту недоверия аналитическому отделу."
   ]
  },
  {
   "cell_type": "code",
   "execution_count": 196,
   "id": "0e5194a3",
   "metadata": {
    "ExecuteTime": {
     "end_time": "2023-03-13T21:27:33.415298Z",
     "start_time": "2023-03-13T21:27:32.884108Z"
    }
   },
   "outputs": [],
   "source": [
    "# Запишем результаты в файл Excel\n",
    "COUNT_ROW = 1 # Переменная смещения в фале записи начальных строк таблиц\n",
    "with pd.ExcelWriter('Результаты по модулям.xlsx', mode='a',\n",
    "                   engine='openpyxl', if_sheet_exists='overlay') as writer:\n",
    "    \n",
    "    df_metricsGreen_noncorrect.to_excel(writer, sheet_name='Расчёт метрик (модуль 4)')\n",
    "    COUNT_ROW += len(df_metricsGreen_noncorrect) + 3\n",
    "    df_top_5_nc.to_excel(writer, sheet_name='Расчёт метрик (модуль 4)',\n",
    "                         startrow=COUNT_ROW)\n",
    "    COUNT_ROW += len(df_top_5_nc) + 6"
   ]
  },
  {
   "cell_type": "markdown",
   "id": "72616dfb",
   "metadata": {},
   "source": [
    "## 3.2. Построение дополнительных метрик"
   ]
  },
  {
   "cell_type": "markdown",
   "id": "63274041",
   "metadata": {
    "ExecuteTime": {
     "end_time": "2023-03-08T20:17:06.099646Z",
     "start_time": "2023-03-08T20:17:06.096416Z"
    }
   },
   "source": [
    "### 3.2.1. Топ-5 брендов в каждом канале продаж (ГМ, СС, ММ) в денежном выражении в 2022 г."
   ]
  },
  {
   "cell_type": "code",
   "execution_count": 197,
   "id": "a0443b35",
   "metadata": {
    "ExecuteTime": {
     "end_time": "2023-03-13T21:27:37.355767Z",
     "start_time": "2023-03-13T21:27:37.347953Z"
    }
   },
   "outputs": [],
   "source": [
    "# Считываем данные из хранилища в датафрейм и стром графики\n",
    "connection = bd.connect('metrics.db')\n",
    "df = pd.read_sql(f'SELECT Year, Month, Brand,Channel,\\\n",
    "                   \"Weight range\", \"Value (in 1000 rub)\",\\\n",
    "                   \"Number of stores\", \"Units (in 1000)\"\\\n",
    "                      FROM table_data\\\n",
    "                      WHERE Year = 2022', connection)\n",
    "connection.close()"
   ]
  },
  {
   "cell_type": "code",
   "execution_count": 198,
   "id": "dbf23d8f",
   "metadata": {
    "ExecuteTime": {
     "end_time": "2023-03-13T21:27:41.872248Z",
     "start_time": "2023-03-13T21:27:38.927112Z"
    }
   },
   "outputs": [
    {
     "name": "stdout",
     "output_type": "stream",
     "text": [
      "\n",
      "\n",
      "КАНАЛ \"Hypermarkets\":\n",
      "   БРЭНД в Hypermarkets  ПРОДАЖИ, млн.руб.  РЭЙТИНГ  ДОЛЯ РЫНКА, %\n",
      "0                Green      118318.649170        1          53.65\n",
      "1                 Blue       87186.432142        2          39.53\n",
      "2               Orange        4990.221138        3           2.26\n",
      "3                White        3412.670835        4           1.55\n",
      "4               Yellow        2041.489811        5           0.93\n",
      "\n",
      "\n",
      "КАНАЛ \"Minimarkets\":\n",
      "   БРЭНД в Minimarkets  ПРОДАЖИ, млн.руб.  РЭЙТИНГ  ДОЛЯ РЫНКА, %\n",
      "0               Green      110107.780527        1          68.65\n",
      "1                Blue       28378.208834        2          17.69\n",
      "2              Yellow        7788.643905        3           4.86\n",
      "3               White        4424.632110        4           2.76\n",
      "4              Orange        1750.111846        5           1.09\n",
      "\n",
      "\n",
      "КАНАЛ \"Supermarkets\":\n",
      "   БРЭНД в Supermarkets  ПРОДАЖИ, млн.руб.  РЭЙТИНГ  ДОЛЯ РЫНКА, %\n",
      "0                Green      272301.984152        1          61.32\n",
      "1                 Blue      105801.861163        2          23.83\n",
      "2               Yellow       21230.258774        3           4.78\n",
      "3                Pearl       10974.992969        4           2.47\n",
      "4               Orange        8740.288336        5           1.97\n"
     ]
    }
   ],
   "source": [
    "# Агрегируем данные по каналам продаж (ГМ, СС, ММ) в 2022 году\n",
    "for channel in ['Hypermarkets', 'Minimarkets', 'Supermarkets']:\n",
    "    df_top_chennel = df.loc[(df.Channel == channel)].\\\n",
    "                    groupby('Brand').\\\n",
    "                    agg({'Value (in 1000 rub)': 'sum'}).\\\n",
    "                    sort_values(by='Value (in 1000 rub)', ascending=False)\n",
    "    total_market = df_top_chennel['Value (in 1000 rub)'].sum()\n",
    "    df_top_chennel[f'БРЭНД в {channel}'] = df_top_chennel.index\n",
    "    df_top_chennel.reset_index(drop=True, inplace=True)\n",
    "    df_top_chennel.columns = ['ПРОДАЖИ, млн.руб.', f'БРЭНД в {channel}']\n",
    "    df_top_chennel[f'РЭЙТИНГ'] = df_top_chennel.index + 1\n",
    "    df_top_chennel[f'РЭЙТИНГ'] = df_top_chennel[f'РЭЙТИНГ'].\\\n",
    "                                        astype({f'РЭЙТИНГ': 'Int64'})\n",
    "    df_top_chennel[f'ДОЛЯ РЫНКА, %'] = df_top_chennel.apply(lambda x:\n",
    "                               round(x['ПРОДАЖИ, млн.руб.'] /\\\n",
    "                                     total_market * 100, 2),\n",
    "                               axis=1)\n",
    "    df_top_chennel = df_top_chennel[[f'БРЭНД в {channel}', 'ПРОДАЖИ, млн.руб.',\n",
    "                                     'РЭЙТИНГ', 'ДОЛЯ РЫНКА, %']]\n",
    "    print(f'\\n\\nКАНАЛ \"{channel}\":\\n', df_top_chennel[:5])\n",
    "    # Запишем результаты в файл Excel\n",
    "    with pd.ExcelWriter('Результаты по модулям.xlsx', mode='a',\n",
    "                       engine='openpyxl', if_sheet_exists='overlay') as writer:\n",
    "\n",
    "        df_top_chennel.to_excel(writer, sheet_name='Расчёт метрик (модуль 4)',\n",
    "                             startrow=COUNT_ROW)\n",
    "        COUNT_ROW += len(df_top_chennel) + 3\n",
    "COUNT_ROW += 3"
   ]
  },
  {
   "cell_type": "markdown",
   "id": "43032daf",
   "metadata": {},
   "source": [
    "**Вывод:** Самые большые продажи происходят в \"Супермаркетах\". Брэнды \"Green\" и \"Blue\" лидируют во всех каналах продаж. При этом бренд \"Blue\" особенно сильно проседает в канале \"Минимаркеты\". В канале \"Гипермаркеты\" бренд \"Orange\" уступает пятую позицию в рейтинге бренду \"Yellow\"."
   ]
  },
  {
   "cell_type": "markdown",
   "id": "ff4f1b4f",
   "metadata": {},
   "source": [
    "### 3.2.2. Рассчёт годовой доли рынка в денежном выражении 2022 г. среди брэндов, объединенных групп weight ranges 350-399G в канале СМ"
   ]
  },
  {
   "cell_type": "code",
   "execution_count": 199,
   "id": "900842b2",
   "metadata": {
    "ExecuteTime": {
     "end_time": "2023-03-13T21:27:43.726073Z",
     "start_time": "2023-03-13T21:27:42.911200Z"
    },
    "code_folding": []
   },
   "outputs": [
    {
     "data": {
      "text/html": [
       "<div>\n",
       "<style scoped>\n",
       "    .dataframe tbody tr th:only-of-type {\n",
       "        vertical-align: middle;\n",
       "    }\n",
       "\n",
       "    .dataframe tbody tr th {\n",
       "        vertical-align: top;\n",
       "    }\n",
       "\n",
       "    .dataframe thead th {\n",
       "        text-align: right;\n",
       "    }\n",
       "</style>\n",
       "<table border=\"1\" class=\"dataframe\">\n",
       "  <thead>\n",
       "    <tr style=\"text-align: right;\">\n",
       "      <th></th>\n",
       "      <th>БРЭНД</th>\n",
       "      <th>ПРОДАЖИ, млн.руб.</th>\n",
       "      <th>РЭЙТИНГ</th>\n",
       "      <th>ДОЛЯ РЫНКА, %</th>\n",
       "    </tr>\n",
       "  </thead>\n",
       "  <tbody>\n",
       "    <tr>\n",
       "      <th>0</th>\n",
       "      <td>Green</td>\n",
       "      <td>173413.996797</td>\n",
       "      <td>1</td>\n",
       "      <td>81.69</td>\n",
       "    </tr>\n",
       "    <tr>\n",
       "      <th>1</th>\n",
       "      <td>Yellow</td>\n",
       "      <td>19343.022073</td>\n",
       "      <td>2</td>\n",
       "      <td>9.11</td>\n",
       "    </tr>\n",
       "    <tr>\n",
       "      <th>2</th>\n",
       "      <td>Pearl</td>\n",
       "      <td>10974.992969</td>\n",
       "      <td>3</td>\n",
       "      <td>5.17</td>\n",
       "    </tr>\n",
       "    <tr>\n",
       "      <th>3</th>\n",
       "      <td>Rosy</td>\n",
       "      <td>3503.900158</td>\n",
       "      <td>4</td>\n",
       "      <td>1.65</td>\n",
       "    </tr>\n",
       "    <tr>\n",
       "      <th>4</th>\n",
       "      <td>Red</td>\n",
       "      <td>2245.116342</td>\n",
       "      <td>5</td>\n",
       "      <td>1.06</td>\n",
       "    </tr>\n",
       "    <tr>\n",
       "      <th>5</th>\n",
       "      <td>Vivid</td>\n",
       "      <td>804.840283</td>\n",
       "      <td>6</td>\n",
       "      <td>0.38</td>\n",
       "    </tr>\n",
       "    <tr>\n",
       "      <th>6</th>\n",
       "      <td>Dim</td>\n",
       "      <td>701.899650</td>\n",
       "      <td>7</td>\n",
       "      <td>0.33</td>\n",
       "    </tr>\n",
       "    <tr>\n",
       "      <th>7</th>\n",
       "      <td>Rice</td>\n",
       "      <td>538.268012</td>\n",
       "      <td>8</td>\n",
       "      <td>0.25</td>\n",
       "    </tr>\n",
       "    <tr>\n",
       "      <th>8</th>\n",
       "      <td>Macaroon</td>\n",
       "      <td>344.140954</td>\n",
       "      <td>9</td>\n",
       "      <td>0.16</td>\n",
       "    </tr>\n",
       "    <tr>\n",
       "      <th>9</th>\n",
       "      <td>Snow</td>\n",
       "      <td>308.903722</td>\n",
       "      <td>10</td>\n",
       "      <td>0.15</td>\n",
       "    </tr>\n",
       "    <tr>\n",
       "      <th>10</th>\n",
       "      <td>Deep</td>\n",
       "      <td>104.191233</td>\n",
       "      <td>11</td>\n",
       "      <td>0.05</td>\n",
       "    </tr>\n",
       "  </tbody>\n",
       "</table>\n",
       "</div>"
      ],
      "text/plain": [
       "       БРЭНД  ПРОДАЖИ, млн.руб.  РЭЙТИНГ  ДОЛЯ РЫНКА, %\n",
       "0      Green      173413.996797        1          81.69\n",
       "1     Yellow       19343.022073        2           9.11\n",
       "2      Pearl       10974.992969        3           5.17\n",
       "3       Rosy        3503.900158        4           1.65\n",
       "4        Red        2245.116342        5           1.06\n",
       "5      Vivid         804.840283        6           0.38\n",
       "6        Dim         701.899650        7           0.33\n",
       "7       Rice         538.268012        8           0.25\n",
       "8   Macaroon         344.140954        9           0.16\n",
       "9       Snow         308.903722       10           0.15\n",
       "10      Deep         104.191233       11           0.05"
      ]
     },
     "execution_count": 199,
     "metadata": {},
     "output_type": "execute_result"
    }
   ],
   "source": [
    "# Агрегируем данные по брендам в группе 350-599G и каналу СС в 2022 году\n",
    "df_top_wg = df.loc[(df.Channel == 'Supermarkets') &\\\n",
    "                    (df['Weight range'] == '350-399G')].\\\n",
    "                    groupby('Brand').\\\n",
    "                    agg({'Value (in 1000 rub)': 'sum'}).\\\n",
    "                    sort_values(by='Value (in 1000 rub)', ascending=False)\n",
    "total_market = df_top_wg['Value (in 1000 rub)'].sum()\n",
    "df_top_wg['БРЭНД'] = df_top_wg.index\n",
    "df_top_wg.reset_index(drop=True, inplace=True)\n",
    "df_top_wg.columns = ['ПРОДАЖИ, млн.руб.', 'БРЭНД']\n",
    "df_top_wg[f'РЭЙТИНГ'] = df_top_wg.index + 1\n",
    "df_top_wg[f'РЭЙТИНГ'] = df_top_wg[f'РЭЙТИНГ'].astype({f'РЭЙТИНГ': 'Int64'})\n",
    "df_top_wg[f'ДОЛЯ РЫНКА, %'] = df_top_wg.apply(lambda x:\n",
    "                               round(x['ПРОДАЖИ, млн.руб.'] /\\\n",
    "                                     total_market * 100, 2),\n",
    "                               axis=1)\n",
    "df_top_wg = df_top_wg[['БРЭНД', 'ПРОДАЖИ, млн.руб.', 'РЭЙТИНГ', 'ДОЛЯ РЫНКА, %']]\n",
    "# Запишем результаты в файл Excel\n",
    "with pd.ExcelWriter('Результаты по модулям.xlsx', mode='a',\n",
    "                       engine='openpyxl', if_sheet_exists='overlay') as writer:\n",
    "\n",
    "    df_top_wg.to_excel(writer, sheet_name='Расчёт метрик (модуль 4)',\n",
    "                             startrow=COUNT_ROW)\n",
    "COUNT_ROW += len(df_top_wg) + 6\n",
    "\n",
    "df_top_wg"
   ]
  },
  {
   "cell_type": "markdown",
   "id": "fe79180d",
   "metadata": {},
   "source": [
    "**Вывод:** В данной группе в канале \"Супермаркеты\" представлено 11 брэндов. Самые большые продажи традиционно у брэнды \"Green\", однако следующий по всему рынку брэнд \"Blue\" отсутсвует в данном канале в \"Супермаркетах\". Значимую долю занимают бренды \"Yellow\" и \"Pearl\", остальные представленные в данной группе брэнды в канале \"Супермаркеты\" - имеют незначительную долю."
   ]
  },
  {
   "cell_type": "markdown",
   "id": "94eb441e",
   "metadata": {},
   "source": [
    "### 3.2.3. Рассчёт доли рынка в денежном выражении на каждый месяц за последние два года каждого из топ-5 брэндов объединенных групп weight ranges 350-399G в канале СМ"
   ]
  },
  {
   "cell_type": "code",
   "execution_count": 200,
   "id": "0eef75c6",
   "metadata": {
    "ExecuteTime": {
     "end_time": "2023-03-13T21:27:44.804551Z",
     "start_time": "2023-03-13T21:27:44.799212Z"
    }
   },
   "outputs": [
    {
     "data": {
      "text/plain": [
       "0     Green\n",
       "1    Yellow\n",
       "2     Pearl\n",
       "3      Rosy\n",
       "4       Red\n",
       "Name: БРЭНД, dtype: object"
      ]
     },
     "execution_count": 200,
     "metadata": {},
     "output_type": "execute_result"
    }
   ],
   "source": [
    "# Топ-5 брэндов объединенных групп weight ranges 350-399G в канале СМ\n",
    "df_top_wg['БРЭНД'][:5]"
   ]
  },
  {
   "cell_type": "code",
   "execution_count": 201,
   "id": "72f50158",
   "metadata": {
    "ExecuteTime": {
     "end_time": "2023-03-13T21:27:50.414596Z",
     "start_time": "2023-03-13T21:27:45.838889Z"
    }
   },
   "outputs": [
    {
     "name": "stdout",
     "output_type": "stream",
     "text": [
      "\n",
      "\n",
      "БРЭНД \"Green\":\n",
      "             ПРОДАЖИ, млн.руб.  ДОЛЯ РЫНКА Green, %\n",
      "Year Month                                        \n",
      "2022 1           50535.553419                10.09\n",
      "     2           47166.585859                 9.42\n",
      "     3           58961.403624                11.78\n",
      "     4           46472.727198                 9.28\n",
      "     5           42935.991587                 8.57\n",
      "     6           35427.072950                 7.08\n",
      "     7           37050.243842                 7.40\n",
      "     8           35029.654804                 7.00\n",
      "     9           32881.882497                 6.57\n",
      "     10          44702.156656                 8.93\n",
      "     11          34353.067849                 6.86\n",
      "     12          35212.073564                 7.03\n",
      "\n",
      "\n",
      "БРЭНД \"Yellow\":\n",
      "             ПРОДАЖИ, млн.руб.  ДОЛЯ РЫНКА Yellow, %\n",
      "Year Month                                         \n",
      "2022 1            2289.421522                  7.37\n",
      "     2            2628.893534                  8.46\n",
      "     3            3501.769546                 11.27\n",
      "     4            3085.268648                  9.93\n",
      "     5            2491.315409                  8.02\n",
      "     6            1708.145275                  5.50\n",
      "     7            2483.352183                  8.00\n",
      "     8            1967.307181                  6.33\n",
      "     9            2959.933073                  9.53\n",
      "     10           2277.353886                  7.33\n",
      "     11           2701.324162                  8.70\n",
      "     12           2966.308071                  9.55\n",
      "\n",
      "\n",
      "БРЭНД \"Pearl\":\n",
      "             ПРОДАЖИ, млн.руб.  ДОЛЯ РЫНКА Pearl, %\n",
      "Year Month                                        \n",
      "2022 2             410.970309                 3.06\n",
      "     3            1193.147840                 8.88\n",
      "     4            1182.402545                 8.80\n",
      "     5            1138.339313                 8.48\n",
      "     6             950.645932                 7.08\n",
      "     7            1034.220022                 7.70\n",
      "     8            1318.472872                 9.82\n",
      "     9            1317.359394                 9.81\n",
      "     10           1606.540311                11.96\n",
      "     11           1708.738383                12.72\n",
      "     12           1569.471373                11.69\n",
      "\n",
      "\n",
      "БРЭНД \"Rosy\":\n",
      "             ПРОДАЖИ, млн.руб.  ДОЛЯ РЫНКА Rosy, %\n",
      "Year Month                                       \n",
      "2022 1             615.117805               10.91\n",
      "     2             584.995356               10.38\n",
      "     3             659.142380               11.69\n",
      "     4             688.735043               12.22\n",
      "     5             538.503928                9.55\n",
      "     6             560.538430                9.94\n",
      "     7             525.428439                9.32\n",
      "     8             331.099413                5.87\n",
      "     9             463.803912                8.23\n",
      "     10            382.793015                6.79\n",
      "     11            243.284254                4.32\n",
      "     12             44.385878                0.79\n",
      "\n",
      "\n",
      "БРЭНД \"Red\":\n",
      "             ПРОДАЖИ, млн.руб.  ДОЛЯ РЫНКА Red, %\n",
      "Year Month                                      \n",
      "2022 1             453.830684              10.34\n",
      "     2             415.737119               9.47\n",
      "     3             278.073854               6.34\n",
      "     4             633.530270              14.44\n",
      "     5              88.075675               2.01\n",
      "     6             377.629298               8.60\n",
      "     7             264.469904               6.03\n",
      "     8             200.051505               4.56\n",
      "     9             358.079153               8.16\n",
      "     10            455.125376              10.37\n",
      "     11            412.853799               9.41\n",
      "     12            451.359324              10.28\n"
     ]
    }
   ],
   "source": [
    "# Агригируем данные по месцам и по брендам\n",
    "for brand in list(df_top_wg['БРЭНД'][:5]):\n",
    "    df_top_share = df.loc[(df.Brand == brand) &\\\n",
    "                    ((df.Year == 2021) | (df.Year == 2022))].\\\n",
    "                    groupby(['Year', 'Month']).\\\n",
    "                    agg({'Value (in 1000 rub)': 'sum'})\n",
    "    total_market = df_top_share['Value (in 1000 rub)'].sum()\n",
    "    df_top_share.columns = ['ПРОДАЖИ, млн.руб.']\n",
    "    df_top_share[f'ДОЛЯ РЫНКА {brand}, %'] = df_top_share.apply(lambda x:\n",
    "                               round(x['ПРОДАЖИ, млн.руб.'] /\\\n",
    "                                     total_market * 100, 2),\n",
    "                               axis=1)\n",
    "    print(f'\\n\\nБРЭНД \"{brand}\":\\n', df_top_share)\n",
    "    # Запишем результаты в файл Excel\n",
    "    with pd.ExcelWriter('Результаты по модулям.xlsx', mode='a',\n",
    "                       engine='openpyxl', if_sheet_exists='overlay') as writer:\n",
    "\n",
    "        df_top_share.to_excel(writer, sheet_name='Расчёт метрик (модуль 4)',\n",
    "                             startrow=COUNT_ROW)\n",
    "        COUNT_ROW += len(df_top_share) + 3\n",
    "COUNT_ROW += 3"
   ]
  },
  {
   "cell_type": "markdown",
   "id": "2b7cc2db",
   "metadata": {
    "ExecuteTime": {
     "end_time": "2023-03-09T06:35:07.885070Z",
     "start_time": "2023-03-09T06:35:07.879070Z"
    }
   },
   "source": [
    "**Вывод:** В 2022 году в данной группе в канале \"Супермаркеты\" появился брэнд \"Pearl\", который фактически забрал на себя основную долю рынка. Брэнду Green стоит проанализироовать положительные характеристики продукции и продаж данного бренда."
   ]
  },
  {
   "cell_type": "markdown",
   "id": "7f2db839",
   "metadata": {},
   "source": [
    "### 3.2.4. Рассчёт годового роста продаж для 2021 и 2022 в денежном выражении для каждого канала (ГМ, СМ, ММ) и годовую долю рынка"
   ]
  },
  {
   "cell_type": "code",
   "execution_count": 202,
   "id": "4a4b9445",
   "metadata": {
    "ExecuteTime": {
     "end_time": "2023-03-13T21:27:51.479546Z",
     "start_time": "2023-03-13T21:27:51.465843Z"
    }
   },
   "outputs": [],
   "source": [
    "# Считываем данные из хранилища в датафрейм\n",
    "connection = bd.connect('metrics.db')\n",
    "df = pd.read_sql(f'SELECT Year, Month, Brand,Channel,\\\n",
    "                   \"Weight range\", \"Value (in 1000 rub)\",\\\n",
    "                   \"Number of stores\", \"Units (in 1000)\"\\\n",
    "                      FROM table_data', connection)\n",
    "connection.close()"
   ]
  },
  {
   "cell_type": "code",
   "execution_count": 203,
   "id": "73db384b",
   "metadata": {
    "ExecuteTime": {
     "end_time": "2023-03-13T21:27:54.976170Z",
     "start_time": "2023-03-13T21:27:52.529054Z"
    }
   },
   "outputs": [
    {
     "name": "stdout",
     "output_type": "stream",
     "text": [
      "\n",
      "\n",
      "КАНАЛ \"Hypermarkets\":\n",
      "       ПРОДАЖИ, млн.руб.  ДИНАМИКА ПРОДАЖ, %  ДОЛЯ РЫНКА Hypermarkets, %\n",
      "Year                                                                   \n",
      "2021      216284.902859                6.27                        2.57\n",
      "2022      220552.820888                1.97                        2.62\n",
      "\n",
      "\n",
      "КАНАЛ \"Minimarkets\":\n",
      "       ПРОДАЖИ, млн.руб.  ДИНАМИКА ПРОДАЖ, %  ДОЛЯ РЫНКА Minimarkets, %\n",
      "Year                                                                  \n",
      "2021      163229.106989              -10.82                       1.94\n",
      "2022      160400.748352               -1.73                       1.90\n",
      "\n",
      "\n",
      "КАНАЛ \"Supermarkets\":\n",
      "       ПРОДАЖИ, млн.руб.  ДИНАМИКА ПРОДАЖ, %  ДОЛЯ РЫНКА Supermarkets, %\n",
      "Year                                                                   \n",
      "2021      413444.290336               15.41                        4.91\n",
      "2022      444037.413290                7.40                        5.27\n"
     ]
    }
   ],
   "source": [
    "# Агригируем данные по годам и по каналам\n",
    "for channel in ['Hypermarkets', 'Minimarkets', 'Supermarkets']:\n",
    "    df_share = df.loc[(df.Channel == channel)].\\\n",
    "                    groupby('Year').\\\n",
    "                    agg({'Value (in 1000 rub)': 'sum'})\n",
    "    total_market = df['Value (in 1000 rub)'].sum()\n",
    "    df_share.columns = ['ПРОДАЖИ, млн.руб.']\n",
    "    # Формируем динамику в %\n",
    "    for i, year in enumerate(list(df_share.index)):\n",
    "        if i > 1:\n",
    "            df_share.at[year, 'ДИНАМИКА ПРОДАЖ, %'] = \\\n",
    "            round(((df_share['ПРОДАЖИ, млн.руб.'].values[i] -\\\n",
    "            df_share['ПРОДАЖИ, млн.руб.'].values[i-1]) /\\\n",
    "            df_share['ПРОДАЖИ, млн.руб.'].values[i-1]) * 100, 2)\n",
    "    \n",
    "    df_share[f'ДОЛЯ РЫНКА {channel}, %'] = df_share.apply(lambda x:\n",
    "                                            round(x['ПРОДАЖИ, млн.руб.'] /\\\n",
    "                                            total_market * 100, 2),\n",
    "                                            axis=1)\n",
    "    print(f'\\n\\nКАНАЛ \"{channel}\":\\n', df_share[2:])\n",
    "    # Запишем результаты в файл Excel\n",
    "    with pd.ExcelWriter('Результаты по модулям.xlsx', mode='a',\n",
    "                       engine='openpyxl', if_sheet_exists='overlay') as writer:\n",
    "\n",
    "        df_share[2:].to_excel(writer, sheet_name='Расчёт метрик (модуль 4)',\n",
    "                             startrow=COUNT_ROW)\n",
    "        COUNT_ROW += len(df_share[2:]) + 3\n",
    "COUNT_ROW += 3"
   ]
  },
  {
   "cell_type": "markdown",
   "id": "42f4093a",
   "metadata": {},
   "source": [
    "**Вывод:** В 2021 в канале \"Минимаркеты\" значительно сократились продажи. При этом в канале \"Супермаркеты\" они значмтельно выросли. Общее снижение трендов продаж произошло в 2022 году. Необходимо обратить особое внимание на стимулирующие продажи акции, проводимые в канале \"Минимаркеты\" - так как в этом канале наблюдаетсся постоянное снижение продаж."
   ]
  },
  {
   "cell_type": "markdown",
   "id": "db2e7cb8",
   "metadata": {},
   "source": [
    "### 3.2.5. Рассчёт оффтейка (средние продажи на одну точку) в штуках для брендов «Green» 350-399G и «Blue» 400-599G по месяцам 2022 в ГМ, СМ и ММ"
   ]
  },
  {
   "cell_type": "code",
   "execution_count": 204,
   "id": "6d5b2e82",
   "metadata": {
    "ExecuteTime": {
     "end_time": "2023-03-13T21:28:01.250176Z",
     "start_time": "2023-03-13T21:27:56.103010Z"
    }
   },
   "outputs": [
    {
     "name": "stdout",
     "output_type": "stream",
     "text": [
      "\n",
      "\n",
      "КАНАЛ \"Hypermarkets, БРЭНД Green\":\n",
      " Month\n",
      "1      76.8\n",
      "2      63.3\n",
      "3     103.9\n",
      "4      79.9\n",
      "5      63.1\n",
      "6      83.5\n",
      "7      58.1\n",
      "8      48.1\n",
      "9      65.7\n",
      "10    104.3\n",
      "11     79.7\n",
      "12     44.3\n",
      "Name: ОФФЕТЙК Green в Hypermarkets, шт., dtype: float64\n",
      "\n",
      "\n",
      "КАНАЛ \"Minimarkets, БРЭНД Green\":\n",
      " Month\n",
      "1     6.2\n",
      "2     6.2\n",
      "3     6.8\n",
      "4     6.9\n",
      "5     7.1\n",
      "6     5.5\n",
      "7     6.2\n",
      "8     6.0\n",
      "9     6.7\n",
      "10    6.1\n",
      "11    4.0\n",
      "12    5.3\n",
      "Name: ОФФЕТЙК Green в Minimarkets, шт., dtype: float64\n",
      "\n",
      "\n",
      "КАНАЛ \"Supermarkets, БРЭНД Green\":\n",
      " Month\n",
      "1      9.2\n",
      "2      7.8\n",
      "3      9.0\n",
      "4      8.5\n",
      "5      7.7\n",
      "6      6.2\n",
      "7      8.2\n",
      "8      7.1\n",
      "9      6.0\n",
      "10    10.8\n",
      "11     6.3\n",
      "12     7.8\n",
      "Name: ОФФЕТЙК Green в Supermarkets, шт., dtype: float64\n",
      "\n",
      "\n",
      "КАНАЛ \"Hypermarkets, БРЭНД Blue\":\n",
      " Month\n",
      "1     61.7\n",
      "2     51.7\n",
      "3     67.0\n",
      "4     46.0\n",
      "5     52.7\n",
      "6     42.8\n",
      "7     64.6\n",
      "8     45.3\n",
      "9     62.6\n",
      "10    52.5\n",
      "11    82.4\n",
      "12    67.8\n",
      "Name: ОФФЕТЙК Blue в Hypermarkets, шт., dtype: float64\n",
      "\n",
      "\n",
      "КАНАЛ \"Minimarkets, БРЭНД Blue\":\n",
      " Month\n",
      "1     6.0\n",
      "2     7.1\n",
      "3     6.7\n",
      "4     7.5\n",
      "5     5.9\n",
      "6     5.8\n",
      "7     6.1\n",
      "8     5.6\n",
      "9     6.8\n",
      "10    6.9\n",
      "11    6.3\n",
      "12    5.5\n",
      "Name: ОФФЕТЙК Blue в Minimarkets, шт., dtype: float64\n",
      "\n",
      "\n",
      "КАНАЛ \"Supermarkets, БРЭНД Blue\":\n",
      " Month\n",
      "1     13.2\n",
      "2      7.4\n",
      "3     14.7\n",
      "4      9.2\n",
      "5      7.6\n",
      "6      7.1\n",
      "7     10.2\n",
      "8      9.2\n",
      "9      8.7\n",
      "10    14.4\n",
      "11     7.9\n",
      "12     6.0\n",
      "Name: ОФФЕТЙК Blue в Supermarkets, шт., dtype: float64\n"
     ]
    }
   ],
   "source": [
    "# Агригируем данные для каждого заданного брэнда и канала по месяцам 2022 года\n",
    "for elem in [('Green', '350-399G'), ('Blue', '400-599G')]:\n",
    "    for channel in list(df.Channel.unique()):\n",
    "        df_ot = df.loc[(df.Channel == channel) & (df.Year ==2022) &\\\n",
    "                    (df.Brand == elem[0]) & (df['Weight range'] == elem[1])].\\\n",
    "                    groupby('Month').\\\n",
    "                    agg({'Units (in 1000)': 'sum', 'Number of stores': 'sum'})\n",
    "        df_ot[f'ОФФЕТЙК {elem[0]} в {channel}, шт.'] = round(df_ot['Units (in 1000)'] * 1000 / \\\n",
    "                                 df_ot['Number of stores'], 1)\n",
    "        print(f'\\n\\nКАНАЛ \"{channel}, БРЭНД {elem[0]}\":\\n',\n",
    "              df_ot[f'ОФФЕТЙК {elem[0]} в {channel}, шт.'])\n",
    "        # Запишем результаты в файл Excel\n",
    "        with pd.ExcelWriter('Результаты по модулям.xlsx', mode='a',\n",
    "                       engine='openpyxl', if_sheet_exists='overlay') as writer:\n",
    "\n",
    "            df_ot[f'ОФФЕТЙК {elem[0]} в {channel}, шт.'].\\\n",
    "                 to_excel(writer, sheet_name='Расчёт метрик (модуль 4)',\\\n",
    "                 startrow=COUNT_ROW)\n",
    "        COUNT_ROW += len(df_ot[f'ОФФЕТЙК {elem[0]} в {channel}, шт.']) + 3\n",
    "COUNT_ROW += 3"
   ]
  },
  {
   "cell_type": "markdown",
   "id": "3200081a",
   "metadata": {},
   "source": [
    "**Вывод**: В \"Гипермаркетах\" и \"Минимаркетах\" у брэндов в рассматриваемых группах тооваров продаётся приблизительно одинаковое количесвто на точку. Однако, в канале \"Супермаркеты\" в отдельных месяцах (январь, март, июль, октябрь) продукция брэнда \"Blue\" продаётся лучше. Брэнду \"Green\" необходимо проанализировать сосбвенные продажи и продажи брэнда \"Blue\" в эти месяца, что бы улучшить качество своего товара или провести эффективные рекламные и маркетенговые компании."
   ]
  },
  {
   "cell_type": "markdown",
   "id": "2e6a81bd",
   "metadata": {},
   "source": [
    "### 3.2.6. Расчёт среднемесячной цены для брендов «Green» 350-399G и «Blue» 400-599G по месяцам 2022 в ГМ"
   ]
  },
  {
   "cell_type": "code",
   "execution_count": 205,
   "id": "b2061130",
   "metadata": {
    "ExecuteTime": {
     "end_time": "2023-03-13T21:28:04.519443Z",
     "start_time": "2023-03-13T21:28:02.833654Z"
    }
   },
   "outputs": [
    {
     "name": "stdout",
     "output_type": "stream",
     "text": [
      "\n",
      "\n",
      "БРЭНД Green\":\n",
      " Month\n",
      "1      96.5\n",
      "2      99.8\n",
      "3      99.8\n",
      "4     104.8\n",
      "5     106.9\n",
      "6      99.9\n",
      "7     105.3\n",
      "8     110.0\n",
      "9     100.0\n",
      "10     92.2\n",
      "11     91.5\n",
      "12    117.4\n",
      "Name: СРЕДНЯЯ ЦЕНА Green, руб./шт., dtype: float64\n",
      "\n",
      "\n",
      "БРЭНД Blue\":\n",
      " Month\n",
      "1     169.4\n",
      "2     166.3\n",
      "3     199.5\n",
      "4     216.4\n",
      "5     199.8\n",
      "6     206.0\n",
      "7     178.6\n",
      "8     205.4\n",
      "9     191.9\n",
      "10    205.8\n",
      "11    178.1\n",
      "12    191.5\n",
      "Name: СРЕДНЯЯ ЦЕНА Blue, руб./шт., dtype: float64\n"
     ]
    }
   ],
   "source": [
    "# Агригируем данные для каждого заданного брэнда и канала по месяцам 2022 года\n",
    "for elem in [('Green', '350-399G'), ('Blue', '400-599G')]:\n",
    "    df_price = df.loc[(df.Channel == 'Hypermarkets') & (df.Year ==2022) &\\\n",
    "                (df.Brand == elem[0]) & (df['Weight range'] == elem[1])].\\\n",
    "                groupby('Month').\\\n",
    "                agg({'Value (in 1000 rub)': 'sum', 'Units (in 1000)': 'sum'})\n",
    "    df_price[f'СРЕДНЯЯ ЦЕНА {elem[0]}, руб./шт.'] = round(df_price['Value (in 1000 rub)'] / \\\n",
    "                                         df_price['Units (in 1000)'], 1)\n",
    "    print(f'\\n\\nБРЭНД {elem[0]}\":\\n',\n",
    "          df_price[f'СРЕДНЯЯ ЦЕНА {elem[0]}, руб./шт.'])\n",
    "    # Запишем результаты в файл Excel\n",
    "    with pd.ExcelWriter('Результаты по модулям.xlsx', mode='a',\n",
    "                       engine='openpyxl', if_sheet_exists='overlay') as writer:\n",
    "\n",
    "        df_price[f'СРЕДНЯЯ ЦЕНА {elem[0]}, руб./шт.'].\\\n",
    "                        to_excel(writer, sheet_name='Расчёт метрик (модуль 4)',\\\n",
    "                        startrow=COUNT_ROW)\n",
    "        COUNT_ROW += len(df_price[f'СРЕДНЯЯ ЦЕНА {elem[0]}, руб./шт.']) + 3"
   ]
  },
  {
   "cell_type": "markdown",
   "id": "e2330f04",
   "metadata": {},
   "source": [
    "**Вывод**: У брэнда \"Blue\" средняя цена продаж значительно выше чему брэнда \"Green\". Брэнду \"Green\" целесообразно проанализировать перечень своих продуктов и продуктов конкурентов с целью добавления более дорогих товаров в свой асортимент, так как с большой вероятностью они могут быть более высокомаржинальные, при этом их продажи в штуках равны продажам более низкоценовых товаров брэнда \"Green\" (см. вывод по п.3.2.5)"
   ]
  },
  {
   "cell_type": "code",
   "execution_count": 206,
   "id": "6ea58e4b",
   "metadata": {
    "ExecuteTime": {
     "end_time": "2023-03-13T21:28:11.559232Z",
     "start_time": "2023-03-13T21:28:11.553586Z"
    }
   },
   "outputs": [],
   "source": [
    "# Определяем список загруженных датафреймов\n",
    "dfs = []\n",
    "for elem in locals().keys():\n",
    "    if 'df' in elem:\n",
    "        dfs.append(elem)\n",
    "# Удаляем не используемые датафреймы для оптимизации используемой памяти\n",
    "for elem in dfs:\n",
    "    del locals()[elem]"
   ]
  },
  {
   "cell_type": "markdown",
   "id": "31c643af",
   "metadata": {},
   "source": [
    "  "
   ]
  },
  {
   "cell_type": "markdown",
   "id": "f109c59b",
   "metadata": {},
   "source": [
    "# Раздел 4. Построение метрик по бренду Green"
   ]
  },
  {
   "cell_type": "markdown",
   "id": "e356dc29",
   "metadata": {},
   "source": [
    "## 4.1. Построение дополнительных метрик и проверка гипотез по заданным вопросам"
   ]
  },
  {
   "cell_type": "markdown",
   "id": "83f4fac2",
   "metadata": {},
   "source": [
    "### 4.1.1. Различается ли распределение продаж по брендам в разрезе каналов?"
   ]
  },
  {
   "cell_type": "code",
   "execution_count": 288,
   "id": "a25b77a7",
   "metadata": {
    "ExecuteTime": {
     "end_time": "2023-03-16T09:52:52.570291Z",
     "start_time": "2023-03-16T09:52:52.560395Z"
    }
   },
   "outputs": [],
   "source": [
    "# Считываем данные из хранилища в датафрейм\n",
    "connection = bd.connect('metrics.db')\n",
    "df = pd.read_sql(f'SELECT Brand, Channel, \"Value (in 1000 rub)\"\\\n",
    "                      FROM table_data', connection)\n",
    "connection.close()"
   ]
  },
  {
   "cell_type": "code",
   "execution_count": 344,
   "id": "e61778c6",
   "metadata": {
    "ExecuteTime": {
     "end_time": "2023-03-16T11:09:13.604274Z",
     "start_time": "2023-03-16T11:09:13.588847Z"
    }
   },
   "outputs": [],
   "source": [
    "# Сгруппируем распределение продаж брендов по каналам\n",
    "count_channel = 0\n",
    "for channel in df.Channel.unique():\n",
    "    df_channel = df.loc[df['Channel'] == channel].groupby('Brand').agg({'Value (in 1000 rub)': 'sum'})\n",
    "    df_channel.columns = [f'ПРОДАЖИ {channel}']\n",
    "    if count_channel == 0:\n",
    "        dfs_ch = df_channel.copy()\n",
    "        count_channel += 1\n",
    "    else:\n",
    "        dfs_ch = pd.concat([dfs_ch, df_channel], axis=1)\n",
    "dfs_ch = dfs_ch.fillna(0)"
   ]
  },
  {
   "cell_type": "code",
   "execution_count": 350,
   "id": "388c37f6",
   "metadata": {
    "ExecuteTime": {
     "end_time": "2023-03-16T11:13:07.956148Z",
     "start_time": "2023-03-16T11:13:07.287380Z"
    },
    "cell_style": "center",
    "scrolled": true
   },
   "outputs": [
    {
     "name": "stderr",
     "output_type": "stream",
     "text": [
      "/var/folders/5h/1vkpjwr90l19cmzfgsfrcpvm0000gn/T/ipykernel_86590/3569991995.py:13: UserWarning: FixedFormatter should only be used together with FixedLocator\n",
      "  axs[i].set_xticklabels(dfs_ch[f'ПРОДАЖИ {elem[0]}'].index, rotation=90, ha='right')\n"
     ]
    },
    {
     "data": {
      "image/png": "[encoded data removed]",
      "text/plain": [
       "<Figure size 1200x900 with 3 Axes>"
      ]
     },
     "metadata": {},
     "output_type": "display_data"
    }
   ],
   "source": [
    "# Построим графики распределений\n",
    "channels = ['Hypermarkets', 'Minimarkets', 'Supermarkets']\n",
    "colors = ['green', 'black', 'blue']\n",
    "fig, axs = plt.subplots(3, 1, figsize=(12,9))\n",
    "for i, elem in enumerate(zip(channels, colors)):\n",
    "    axs[i].set_title(f'ПРОДАЖИ в канале {elem[0]}, млн.руб.')\n",
    "    axs[i].bar(dfs_ch[f'ПРОДАЖИ {elem[0]}'].index, dfs_ch[f'ПРОДАЖИ {elem[0]}'], color=elem[1])\n",
    "    axs[i].yaxis.set_major_formatter(FormatStrFormatter('%.f'))\n",
    "    axs[i].set_ylim(0, 1400000)\n",
    "    if i != 2:\n",
    "        axs[i].set_xticks([])\n",
    "    else:\n",
    "        axs[i].set_xticklabels(dfs_ch[f'ПРОДАЖИ {elem[0]}'].index, rotation=90, ha='right')\n",
    "plt.show();"
   ]
  },
  {
   "cell_type": "markdown",
   "id": "cc982ebf",
   "metadata": {},
   "source": [
    "**Вывод:** распределение продаж в каналам похожи друг на друга по брендам, занимающим основную долю рынка. Однако по остальным брендам - распределения продаж визуально отличаются. Таким образом при визуальной оценке графиков установить сходство распределений продаж по брендам в разрезе каналов - затруднительно. Используем статистические криерии для более точно оценки.  \n",
    ">Зададимся гипотезами:  \n",
    "`H0` - проверяемые распределения не отличаются друг от друга.  \n",
    "`H1` - проверяемые распределения отличаются друг от друга."
   ]
  },
  {
   "cell_type": "code",
   "execution_count": 354,
   "id": "c1f8b99d",
   "metadata": {
    "ExecuteTime": {
     "end_time": "2023-03-16T11:29:57.352130Z",
     "start_time": "2023-03-16T11:29:57.345277Z"
    }
   },
   "outputs": [
    {
     "name": "stdout",
     "output_type": "stream",
     "text": [
      " ЗНАЧЕНИЯ pvalue ВЫБОРОК\n",
      "  на тесте Шапира-Уилка\n",
      "============================\n",
      " Первая выборка: 0.000000%\n",
      " Вторая выборка: 0.000000%\n",
      "----------------------------\n",
      "Выборки НЕПАРАМЕТРИЧЕСКИЕ (не распеределены по нормальному закону распределения)\n",
      "Выборки НЕ ЗАВИСИМЫЕ (парам в 1 выборке не соответствуют пары во 2 выборке)\n",
      "\n",
      "Выбранный тест: критерий Манна-Уитни\n",
      "\n",
      "pvalue = 17.494249%\n",
      "Выбираем гипотезу H0\n"
     ]
    }
   ],
   "source": [
    "# Проверка сходства распределений продаж в каналах Hypermarkets и Minimarkets\n",
    "choose_method(dfs_ch['ПРОДАЖИ Hypermarkets'],\n",
    "              dfs_ch['ПРОДАЖИ Minimarkets'], dependenceFlag=False);"
   ]
  },
  {
   "cell_type": "code",
   "execution_count": 356,
   "id": "7c74f0ac",
   "metadata": {
    "ExecuteTime": {
     "end_time": "2023-03-16T11:35:16.821739Z",
     "start_time": "2023-03-16T11:35:16.815070Z"
    }
   },
   "outputs": [
    {
     "name": "stdout",
     "output_type": "stream",
     "text": [
      " ЗНАЧЕНИЯ pvalue ВЫБОРОК\n",
      "  на тесте Шапира-Уилка\n",
      "============================\n",
      " Первая выборка: 0.000000%\n",
      " Вторая выборка: 0.000000%\n",
      "----------------------------\n",
      "Выборки НЕПАРАМЕТРИЧЕСКИЕ (не распеределены по нормальному закону распределения)\n",
      "Выборки НЕ ЗАВИСИМЫЕ (парам в 1 выборке не соответствуют пары во 2 выборке)\n",
      "\n",
      "Выбранный тест: критерий Манна-Уитни\n",
      "\n",
      "pvalue = 39.636579%\n",
      "Выбираем гипотезу H0\n"
     ]
    }
   ],
   "source": [
    "# Проверка сходства распределений продаж в каналах Hypermarkets и Supermarkets\n",
    "choose_method(dfs_ch['ПРОДАЖИ Hypermarkets'],\n",
    "              dfs_ch['ПРОДАЖИ Supermarkets'], dependenceFlag=False);"
   ]
  },
  {
   "cell_type": "code",
   "execution_count": 357,
   "id": "2d2444c1",
   "metadata": {
    "ExecuteTime": {
     "end_time": "2023-03-16T11:36:07.227955Z",
     "start_time": "2023-03-16T11:36:07.220383Z"
    }
   },
   "outputs": [
    {
     "name": "stdout",
     "output_type": "stream",
     "text": [
      " ЗНАЧЕНИЯ pvalue ВЫБОРОК\n",
      "  на тесте Шапира-Уилка\n",
      "============================\n",
      " Первая выборка: 0.000000%\n",
      " Вторая выборка: 0.000000%\n",
      "----------------------------\n",
      "Выборки НЕПАРАМЕТРИЧЕСКИЕ (не распеределены по нормальному закону распределения)\n",
      "Выборки НЕ ЗАВИСИМЫЕ (парам в 1 выборке не соответствуют пары во 2 выборке)\n",
      "\n",
      "Выбранный тест: критерий Манна-Уитни\n",
      "\n",
      "pvalue = 81.335698%\n",
      "Выбираем гипотезу H0\n"
     ]
    }
   ],
   "source": [
    "# Проверка сходства распределений продаж в каналах Minimarkets и Supermarkets\n",
    "choose_method(dfs_ch['ПРОДАЖИ Minimarkets'],\n",
    "              dfs_ch['ПРОДАЖИ Supermarkets'], dependenceFlag=False);"
   ]
  },
  {
   "cell_type": "markdown",
   "id": "af47d89d",
   "metadata": {},
   "source": [
    "**Вывод**: Проверка гипотез о схожести распределений продаж по брендам в каналах 'Hypermarkets', 'Minimarkets', 'Supermarkets' - подтвердила данные гипотезы. Значит распределение продаж по брендам в указанных каналах идентично."
   ]
  },
  {
   "cell_type": "markdown",
   "id": "ccebf54c",
   "metadata": {},
   "source": [
    "### 4.1.2. Почему офтейк на точку в штуках различается по каналам?"
   ]
  },
  {
   "cell_type": "code",
   "execution_count": 369,
   "id": "e05371b7",
   "metadata": {
    "ExecuteTime": {
     "end_time": "2023-03-16T11:54:13.871341Z",
     "start_time": "2023-03-16T11:54:13.864250Z"
    }
   },
   "outputs": [],
   "source": [
    "# Считываем данные из хранилища в датафрейм\n",
    "connection = bd.connect('metrics.db')\n",
    "df = pd.read_sql(f'SELECT Channel,\\\n",
    "                          SUM(\"Units (in 1000)\")  AS \"КОЛИЧЕСТВО ТОВАРА, тыс.шт.\",\\\n",
    "                          SUM(\"Number of stores\") AS \"КОЛИЧЕСТВО МАГАЗИНОВ, шт.\",\\\n",
    "                          SUM(\"Units (in 1000)\")/SUM(\"Number of stores\") * 1000 AS \"ОФФТЕЙК, шт./маг.\"\\\n",
    "                   FROM table_data GROUP BY Channel', connection)\n",
    "connection.close()"
   ]
  },
  {
   "cell_type": "code",
   "execution_count": 370,
   "id": "4ff40099",
   "metadata": {
    "ExecuteTime": {
     "end_time": "2023-03-16T11:54:14.760590Z",
     "start_time": "2023-03-16T11:54:14.751819Z"
    }
   },
   "outputs": [
    {
     "data": {
      "text/html": [
       "<div>\n",
       "<style scoped>\n",
       "    .dataframe tbody tr th:only-of-type {\n",
       "        vertical-align: middle;\n",
       "    }\n",
       "\n",
       "    .dataframe tbody tr th {\n",
       "        vertical-align: top;\n",
       "    }\n",
       "\n",
       "    .dataframe thead th {\n",
       "        text-align: right;\n",
       "    }\n",
       "</style>\n",
       "<table border=\"1\" class=\"dataframe\">\n",
       "  <thead>\n",
       "    <tr style=\"text-align: right;\">\n",
       "      <th></th>\n",
       "      <th>Channel</th>\n",
       "      <th>КОЛИЧЕСТВО ТОВАРА, тыс.шт.</th>\n",
       "      <th>КОЛИЧЕСТВО МАГАЗИНОВ, шт.</th>\n",
       "      <th>ОФФТЕЙК, шт./маг.</th>\n",
       "    </tr>\n",
       "  </thead>\n",
       "  <tbody>\n",
       "    <tr>\n",
       "      <th>0</th>\n",
       "      <td>Hypermarkets</td>\n",
       "      <td>23827.4143</td>\n",
       "      <td>142867</td>\n",
       "      <td>166.780392</td>\n",
       "    </tr>\n",
       "    <tr>\n",
       "      <th>1</th>\n",
       "      <td>Minimarkets</td>\n",
       "      <td>22745.8713</td>\n",
       "      <td>985247</td>\n",
       "      <td>23.086466</td>\n",
       "    </tr>\n",
       "    <tr>\n",
       "      <th>2</th>\n",
       "      <td>Supermarkets</td>\n",
       "      <td>38424.4966</td>\n",
       "      <td>1561321</td>\n",
       "      <td>24.610248</td>\n",
       "    </tr>\n",
       "  </tbody>\n",
       "</table>\n",
       "</div>"
      ],
      "text/plain": [
       "        Channel  КОЛИЧЕСТВО ТОВАРА, тыс.шт.  КОЛИЧЕСТВО МАГАЗИНОВ, шт.  \\\n",
       "0  Hypermarkets                  23827.4143                     142867   \n",
       "1   Minimarkets                  22745.8713                     985247   \n",
       "2  Supermarkets                  38424.4966                    1561321   \n",
       "\n",
       "   ОФФТЕЙК, шт./маг.  \n",
       "0         166.780392  \n",
       "1          23.086466  \n",
       "2          24.610248  "
      ]
     },
     "execution_count": 370,
     "metadata": {},
     "output_type": "execute_result"
    }
   ],
   "source": [
    "df"
   ]
  },
  {
   "cell_type": "markdown",
   "id": "d1d07400",
   "metadata": {},
   "source": [
    "**Вывод:** В 'Minimarkets' и 'Supermarkets' офтейк практически одинаковый - и количесвто точек (в шт.), и количесвто продаж (в шт.) в 'Minimarkets' в ~1,6 раза меньше чем в 'Supermarkets'. При этом в канале 'Hypermarkets' количество продаж на одной точке ~7 раз больше чем в 'Minimarkets' или в 'Supermarkets'.  \n",
    "Гипермаркеты продают большее количество товаров в связи с большей уневерсальностью и веротно большим объёмом бизнеса таких точек и меньшими расходами на содержание торговых залов. Эти факторы дают возможность клиентам Гипермаркетов покупать больше разнообразного товара за один приход клиента и по меньшим ценам:\n",
    ">Гипермаркеты до 50% продаж - непродовольственные товары.  \n",
    "> Супермаркеты до 20% продаж - непродовольственные товары.  \n",
    "https://thedifference.ru/chem-otlichaetsya-gipermarket-ot-supermarketa/#h2_2"
   ]
  },
  {
   "cell_type": "markdown",
   "id": "d6fb4530",
   "metadata": {
    "ExecuteTime": {
     "end_time": "2023-03-16T12:09:16.636026Z",
     "start_time": "2023-03-16T12:09:16.633210Z"
    }
   },
   "source": [
    "### 4.1.3. Как различаются цены по каналам?"
   ]
  },
  {
   "cell_type": "code",
   "execution_count": 375,
   "id": "400e835b",
   "metadata": {
    "ExecuteTime": {
     "end_time": "2023-03-16T12:23:50.208499Z",
     "start_time": "2023-03-16T12:23:50.199687Z"
    }
   },
   "outputs": [],
   "source": [
    "# Считываем данные из хранилища в датафрейм\n",
    "connection = bd.connect('metrics.db')\n",
    "df = pd.read_sql(f'SELECT Channel,\\\n",
    "                          SUM(\"Value (in 1000 rub)\") AS \"ПРОДАЖИ, млн.руб.\",\\\n",
    "                          SUM(\"Units (in 1000)\")  AS \"КОЛИЧЕСТВО ТОВАРА, тыс.шт.\",\\\n",
    "                          SUM(\"Value (in 1000 rub)\") / SUM(\"Units (in 1000)\") / 1000 AS \"ЦЕНА, руб./шт.\"\\\n",
    "                   FROM table_data GROUP BY Channel', connection)\n",
    "connection.close()"
   ]
  },
  {
   "cell_type": "code",
   "execution_count": 376,
   "id": "c3a66e47",
   "metadata": {
    "ExecuteTime": {
     "end_time": "2023-03-16T12:23:52.542925Z",
     "start_time": "2023-03-16T12:23:52.533987Z"
    },
    "cell_style": "center"
   },
   "outputs": [
    {
     "data": {
      "text/html": [
       "<div>\n",
       "<style scoped>\n",
       "    .dataframe tbody tr th:only-of-type {\n",
       "        vertical-align: middle;\n",
       "    }\n",
       "\n",
       "    .dataframe tbody tr th {\n",
       "        vertical-align: top;\n",
       "    }\n",
       "\n",
       "    .dataframe thead th {\n",
       "        text-align: right;\n",
       "    }\n",
       "</style>\n",
       "<table border=\"1\" class=\"dataframe\">\n",
       "  <thead>\n",
       "    <tr style=\"text-align: right;\">\n",
       "      <th></th>\n",
       "      <th>Channel</th>\n",
       "      <th>ПРОДАЖИ, млн.руб.</th>\n",
       "      <th>КОЛИЧЕСТВО ТОВАРА, тыс.шт.</th>\n",
       "      <th>ЦЕНА, руб./шт.</th>\n",
       "    </tr>\n",
       "  </thead>\n",
       "  <tbody>\n",
       "    <tr>\n",
       "      <th>0</th>\n",
       "      <td>Hypermarkets</td>\n",
       "      <td>2.440367e+06</td>\n",
       "      <td>23827.4143</td>\n",
       "      <td>0.102418</td>\n",
       "    </tr>\n",
       "    <tr>\n",
       "      <th>1</th>\n",
       "      <td>Minimarkets</td>\n",
       "      <td>2.216667e+06</td>\n",
       "      <td>22745.8713</td>\n",
       "      <td>0.097454</td>\n",
       "    </tr>\n",
       "    <tr>\n",
       "      <th>2</th>\n",
       "      <td>Supermarkets</td>\n",
       "      <td>3.765736e+06</td>\n",
       "      <td>38424.4966</td>\n",
       "      <td>0.098004</td>\n",
       "    </tr>\n",
       "  </tbody>\n",
       "</table>\n",
       "</div>"
      ],
      "text/plain": [
       "        Channel  ПРОДАЖИ, млн.руб.  КОЛИЧЕСТВО ТОВАРА, тыс.шт.  ЦЕНА, руб./шт.\n",
       "0  Hypermarkets       2.440367e+06                  23827.4143        0.102418\n",
       "1   Minimarkets       2.216667e+06                  22745.8713        0.097454\n",
       "2  Supermarkets       3.765736e+06                  38424.4966        0.098004"
      ]
     },
     "execution_count": 376,
     "metadata": {},
     "output_type": "execute_result"
    }
   ],
   "source": [
    "df\n",
    "\n",
    "**Вывод:** Цены в каналах практически идентичные. В Гипермаркетах цена чуть выше так как покупатели, скорее всего, склонны брать бОльшее количесвто товаров (в т.ч. более дорогого чем среднистатистический товар в чеке) в точках с бОльшим ассортиментом, которыми и являются Гипермаркеты."
   ]
  },
  {
   "cell_type": "markdown",
   "id": "a8196b26",
   "metadata": {},
   "source": [
    "**Вывод:** Цены в каналах практически идентичные. В Гипермаркетах цена чуть выше так как покупатели, скорее всего, склонны брать бОльшее количесвто товаров (в т.ч. более дорогого чем среднистатистический товар в чеке) в точках с бОльшим ассортиментом, которыми и являются Гипермаркеты."
   ]
  },
  {
   "cell_type": "markdown",
   "id": "b912261f",
   "metadata": {},
   "source": [
    "### 4.1.4. Правда ли, что стоимость одного грамма у группы большего веса дешевле, чем у меньшего?"
   ]
  },
  {
   "cell_type": "code",
   "execution_count": 378,
   "id": "49255d8e",
   "metadata": {
    "ExecuteTime": {
     "end_time": "2023-03-16T12:27:31.124777Z",
     "start_time": "2023-03-16T12:27:31.118165Z"
    }
   },
   "outputs": [],
   "source": [
    "# Считываем данные из хранилища в датафрейм\n",
    "connection = bd.connect('metrics.db')\n",
    "df = pd.read_sql(f'SELECT \"Weight range\",\\\n",
    "                          SUM(\"Value (in 1000 rub)\") AS \"ПРОДАЖИ, млн.руб.\",\\\n",
    "                          SUM(\"Volume (in 1000 kg)\")  AS \"ВЕС, кг.\",\\\n",
    "                          SUM(\"Value (in 1000 rub)\") / SUM(\"Volume (in 1000 kg)\") / 1000 AS \"ЦЕНА ЗА ГРАММ, руб./гр.\"\\\n",
    "                   FROM table_data GROUP BY \"Weight range\"', connection)\n",
    "connection.close()"
   ]
  },
  {
   "cell_type": "code",
   "execution_count": 379,
   "id": "1f88bccb",
   "metadata": {
    "ExecuteTime": {
     "end_time": "2023-03-16T12:27:43.096686Z",
     "start_time": "2023-03-16T12:27:43.086058Z"
    }
   },
   "outputs": [
    {
     "data": {
      "text/html": [
       "<div>\n",
       "<style scoped>\n",
       "    .dataframe tbody tr th:only-of-type {\n",
       "        vertical-align: middle;\n",
       "    }\n",
       "\n",
       "    .dataframe tbody tr th {\n",
       "        vertical-align: top;\n",
       "    }\n",
       "\n",
       "    .dataframe thead th {\n",
       "        text-align: right;\n",
       "    }\n",
       "</style>\n",
       "<table border=\"1\" class=\"dataframe\">\n",
       "  <thead>\n",
       "    <tr style=\"text-align: right;\">\n",
       "      <th></th>\n",
       "      <th>Weight range</th>\n",
       "      <th>ПРОДАЖИ, млн.руб.</th>\n",
       "      <th>ВЕС, кг.</th>\n",
       "      <th>ЦЕНА ЗА ГРАММ, руб./гр.</th>\n",
       "    </tr>\n",
       "  </thead>\n",
       "  <tbody>\n",
       "    <tr>\n",
       "      <th>0</th>\n",
       "      <td>100-199G</td>\n",
       "      <td>7.956468e+04</td>\n",
       "      <td>240.3376</td>\n",
       "      <td>0.331054</td>\n",
       "    </tr>\n",
       "    <tr>\n",
       "      <th>1</th>\n",
       "      <td>200-249G</td>\n",
       "      <td>1.129572e+06</td>\n",
       "      <td>76317.2390</td>\n",
       "      <td>0.014801</td>\n",
       "    </tr>\n",
       "    <tr>\n",
       "      <th>2</th>\n",
       "      <td>250-299G</td>\n",
       "      <td>2.244001e+05</td>\n",
       "      <td>22016.8812</td>\n",
       "      <td>0.010192</td>\n",
       "    </tr>\n",
       "    <tr>\n",
       "      <th>3</th>\n",
       "      <td>300-349G</td>\n",
       "      <td>1.986379e+05</td>\n",
       "      <td>19035.2540</td>\n",
       "      <td>0.010435</td>\n",
       "    </tr>\n",
       "    <tr>\n",
       "      <th>4</th>\n",
       "      <td>350-399G</td>\n",
       "      <td>2.278330e+06</td>\n",
       "      <td>129934.4867</td>\n",
       "      <td>0.017534</td>\n",
       "    </tr>\n",
       "    <tr>\n",
       "      <th>5</th>\n",
       "      <td>400-599G</td>\n",
       "      <td>3.015988e+06</td>\n",
       "      <td>222267.8576</td>\n",
       "      <td>0.013569</td>\n",
       "    </tr>\n",
       "    <tr>\n",
       "      <th>6</th>\n",
       "      <td>600-899G</td>\n",
       "      <td>4.631188e+05</td>\n",
       "      <td>46014.9220</td>\n",
       "      <td>0.010065</td>\n",
       "    </tr>\n",
       "    <tr>\n",
       "      <th>7</th>\n",
       "      <td>&lt;200G</td>\n",
       "      <td>1.033159e+06</td>\n",
       "      <td>98080.6608</td>\n",
       "      <td>0.010534</td>\n",
       "    </tr>\n",
       "  </tbody>\n",
       "</table>\n",
       "</div>"
      ],
      "text/plain": [
       "  Weight range  ПРОДАЖИ, млн.руб.     ВЕС, кг.  ЦЕНА ЗА ГРАММ, руб./гр.\n",
       "0     100-199G       7.956468e+04     240.3376                 0.331054\n",
       "1     200-249G       1.129572e+06   76317.2390                 0.014801\n",
       "2     250-299G       2.244001e+05   22016.8812                 0.010192\n",
       "3     300-349G       1.986379e+05   19035.2540                 0.010435\n",
       "4     350-399G       2.278330e+06  129934.4867                 0.017534\n",
       "5     400-599G       3.015988e+06  222267.8576                 0.013569\n",
       "6     600-899G       4.631188e+05   46014.9220                 0.010065\n",
       "7        <200G       1.033159e+06   98080.6608                 0.010534"
      ]
     },
     "execution_count": 379,
     "metadata": {},
     "output_type": "execute_result"
    }
   ],
   "source": [
    "df"
   ]
  },
  {
   "cell_type": "code",
   "execution_count": 385,
   "id": "c854a791",
   "metadata": {
    "ExecuteTime": {
     "end_time": "2023-03-16T12:34:12.937148Z",
     "start_time": "2023-03-16T12:34:12.785770Z"
    }
   },
   "outputs": [
    {
     "name": "stderr",
     "output_type": "stream",
     "text": [
      "/var/folders/5h/1vkpjwr90l19cmzfgsfrcpvm0000gn/T/ipykernel_86590/1240449174.py:5: UserWarning: FixedFormatter should only be used together with FixedLocator\n",
      "  ax.set_xticklabels(df['Weight range'], rotation=90, ha='right')\n"
     ]
    },
    {
     "data": {
      "image/png": "[encoded data removed]",
      "text/plain": [
       "<Figure size 1200x600 with 1 Axes>"
      ]
     },
     "metadata": {},
     "output_type": "display_data"
    }
   ],
   "source": [
    "fig, ax = plt.subplots(figsize=(12,6))\n",
    "ax.set_title(f'Цена группы за 1 грамм, руб./гр.')\n",
    "ax.bar(df['Weight range'], df['ЦЕНА ЗА ГРАММ, руб./гр.'])\n",
    "ax.yaxis.set_major_formatter(FormatStrFormatter('%.2f'))\n",
    "ax.set_xticklabels(df['Weight range'], rotation=90, ha='right')\n",
    "plt.show();"
   ]
  },
  {
   "cell_type": "markdown",
   "id": "80853ecb",
   "metadata": {},
   "source": [
    "**Вывод:** У наиболее группы с наиболее лёгким весом '100-199G' цена за грамм значительно выше, чем у других групп.  \n",
    "При этом у других групп цена менее значительно отличается  друг от друга. Тренд снижения цен при росте веса товара наблюдается от группы '200-249G' до группы '250-299G', а также от группы '350-399G' до группы '600-899G'."
   ]
  },
  {
   "cell_type": "markdown",
   "id": "58a88f81",
   "metadata": {},
   "source": [
    "## 4.2. Дополнительные гипотезы и вопросы"
   ]
  },
  {
   "cell_type": "markdown",
   "id": "f1a5ab47",
   "metadata": {},
   "source": [
    "### 4.2.1. Одинаково распределение продаж по месяцам в Гипермаркетах и Супермаркетах?"
   ]
  },
  {
   "cell_type": "code",
   "execution_count": 386,
   "id": "2b8e571f",
   "metadata": {
    "ExecuteTime": {
     "end_time": "2023-03-16T12:45:44.350945Z",
     "start_time": "2023-03-16T12:45:44.339526Z"
    }
   },
   "outputs": [],
   "source": [
    "# Считываем данные из хранилища в датафрейм\n",
    "connection = bd.connect('metrics.db')\n",
    "df = pd.read_sql(f'SELECT Month, Channel, \"Value (in 1000 rub)\"\\\n",
    "                      FROM table_data', connection)\n",
    "connection.close()"
   ]
  },
  {
   "cell_type": "code",
   "execution_count": 387,
   "id": "bd2fa9c8",
   "metadata": {
    "ExecuteTime": {
     "end_time": "2023-03-16T12:48:26.455047Z",
     "start_time": "2023-03-16T12:48:26.433090Z"
    }
   },
   "outputs": [],
   "source": [
    "# Сгруппируем распределение продаж среди месяцев по Гипермаркетам и Супермаркетам\n",
    "count_channel = 0\n",
    "for channel in ['Hypermarkets', 'Supermarkets']:\n",
    "    df_channel = df.loc[df['Channel'] == channel].groupby('Month').agg({'Value (in 1000 rub)': 'sum'})\n",
    "    df_channel.columns = [f'ПРОДАЖИ {channel}']\n",
    "    if count_channel == 0:\n",
    "        dfs_ch = df_channel.copy()\n",
    "        count_channel += 1\n",
    "    else:\n",
    "        dfs_ch = pd.concat([dfs_ch, df_channel], axis=1)\n",
    "dfs_ch = dfs_ch.fillna(0)"
   ]
  },
  {
   "cell_type": "code",
   "execution_count": 389,
   "id": "2dccc559",
   "metadata": {
    "ExecuteTime": {
     "end_time": "2023-03-16T12:49:14.167937Z",
     "start_time": "2023-03-16T12:49:14.159361Z"
    }
   },
   "outputs": [
    {
     "data": {
      "text/html": [
       "<div>\n",
       "<style scoped>\n",
       "    .dataframe tbody tr th:only-of-type {\n",
       "        vertical-align: middle;\n",
       "    }\n",
       "\n",
       "    .dataframe tbody tr th {\n",
       "        vertical-align: top;\n",
       "    }\n",
       "\n",
       "    .dataframe thead th {\n",
       "        text-align: right;\n",
       "    }\n",
       "</style>\n",
       "<table border=\"1\" class=\"dataframe\">\n",
       "  <thead>\n",
       "    <tr style=\"text-align: right;\">\n",
       "      <th></th>\n",
       "      <th>ПРОДАЖИ Hypermarkets</th>\n",
       "      <th>ПРОДАЖИ Supermarkets</th>\n",
       "    </tr>\n",
       "    <tr>\n",
       "      <th>Month</th>\n",
       "      <th></th>\n",
       "      <th></th>\n",
       "    </tr>\n",
       "  </thead>\n",
       "  <tbody>\n",
       "    <tr>\n",
       "      <th>1</th>\n",
       "      <td>198061.998576</td>\n",
       "      <td>327542.107636</td>\n",
       "    </tr>\n",
       "    <tr>\n",
       "      <th>2</th>\n",
       "      <td>192413.750315</td>\n",
       "      <td>309603.004576</td>\n",
       "    </tr>\n",
       "    <tr>\n",
       "      <th>3</th>\n",
       "      <td>217776.961768</td>\n",
       "      <td>349090.732386</td>\n",
       "    </tr>\n",
       "    <tr>\n",
       "      <th>4</th>\n",
       "      <td>200076.532678</td>\n",
       "      <td>295368.633501</td>\n",
       "    </tr>\n",
       "    <tr>\n",
       "      <th>5</th>\n",
       "      <td>212854.426427</td>\n",
       "      <td>295172.377309</td>\n",
       "    </tr>\n",
       "    <tr>\n",
       "      <th>6</th>\n",
       "      <td>197280.365124</td>\n",
       "      <td>283642.505542</td>\n",
       "    </tr>\n",
       "    <tr>\n",
       "      <th>7</th>\n",
       "      <td>209791.298477</td>\n",
       "      <td>321486.745742</td>\n",
       "    </tr>\n",
       "    <tr>\n",
       "      <th>8</th>\n",
       "      <td>204736.319723</td>\n",
       "      <td>308969.115285</td>\n",
       "    </tr>\n",
       "    <tr>\n",
       "      <th>9</th>\n",
       "      <td>197151.870020</td>\n",
       "      <td>315116.236856</td>\n",
       "    </tr>\n",
       "    <tr>\n",
       "      <th>10</th>\n",
       "      <td>195717.638808</td>\n",
       "      <td>332656.784108</td>\n",
       "    </tr>\n",
       "    <tr>\n",
       "      <th>11</th>\n",
       "      <td>207670.427053</td>\n",
       "      <td>325770.844629</td>\n",
       "    </tr>\n",
       "    <tr>\n",
       "      <th>12</th>\n",
       "      <td>206835.770699</td>\n",
       "      <td>301316.823978</td>\n",
       "    </tr>\n",
       "  </tbody>\n",
       "</table>\n",
       "</div>"
      ],
      "text/plain": [
       "       ПРОДАЖИ Hypermarkets  ПРОДАЖИ Supermarkets\n",
       "Month                                            \n",
       "1             198061.998576         327542.107636\n",
       "2             192413.750315         309603.004576\n",
       "3             217776.961768         349090.732386\n",
       "4             200076.532678         295368.633501\n",
       "5             212854.426427         295172.377309\n",
       "6             197280.365124         283642.505542\n",
       "7             209791.298477         321486.745742\n",
       "8             204736.319723         308969.115285\n",
       "9             197151.870020         315116.236856\n",
       "10            195717.638808         332656.784108\n",
       "11            207670.427053         325770.844629\n",
       "12            206835.770699         301316.823978"
      ]
     },
     "execution_count": 389,
     "metadata": {},
     "output_type": "execute_result"
    }
   ],
   "source": [
    "dfs_ch"
   ]
  },
  {
   "cell_type": "code",
   "execution_count": 392,
   "id": "6cccea27",
   "metadata": {
    "ExecuteTime": {
     "end_time": "2023-03-16T12:53:04.133748Z",
     "start_time": "2023-03-16T12:53:03.901249Z"
    }
   },
   "outputs": [
    {
     "data": {
      "image/png": "[encoded data removed]",
      "text/plain": [
       "<Figure size 1200x600 with 2 Axes>"
      ]
     },
     "metadata": {},
     "output_type": "display_data"
    }
   ],
   "source": [
    "# Построим графики распределений\n",
    "channels = ['Hypermarkets', 'Supermarkets']\n",
    "colors = ['green', 'blue']\n",
    "fig, axs = plt.subplots(2, 1, figsize=(12,6))\n",
    "for i, elem in enumerate(zip(channels, colors)):\n",
    "    axs[i].set_title(f'ПРОДАЖИ в канале {elem[0]}, млн.руб.')\n",
    "    axs[i].bar(dfs_ch[f'ПРОДАЖИ {elem[0]}'].index, dfs_ch[f'ПРОДАЖИ {elem[0]}'], color=elem[1])\n",
    "    axs[i].yaxis.set_major_formatter(FormatStrFormatter('%.f'))\n",
    "    axs[i].set_ylim(0, 400000)\n",
    "    if i != 2:\n",
    "        axs[i].set_xticks([])\n",
    "    else:\n",
    "        axs[i].set_xticklabels(dfs_ch[f'ПРОДАЖИ {elem[0]}'].index, rotation=90, ha='right')\n",
    "plt.show();"
   ]
  },
  {
   "cell_type": "markdown",
   "id": "1bc16732",
   "metadata": {},
   "source": [
    "**Вывод:** распределение продаж в каналах похожи друг на друга, но при визуальной оценке графиков установить сходство распределений продаж в разрезе каналов - затруднительно. Используем статистические криерии для более точно оценки.  \n",
    ">Зададимся гипотезами:  \n",
    "`H0` - проверяемые распределения не отличаются друг от друга.  \n",
    "`H1` - проверяемые распределения отличаются друг от друга."
   ]
  },
  {
   "cell_type": "code",
   "execution_count": 393,
   "id": "a391fe30",
   "metadata": {
    "ExecuteTime": {
     "end_time": "2023-03-16T12:53:21.756151Z",
     "start_time": "2023-03-16T12:53:21.737190Z"
    }
   },
   "outputs": [
    {
     "name": "stdout",
     "output_type": "stream",
     "text": [
      " ЗНАЧЕНИЯ pvalue ВЫБОРОК\n",
      "  на тесте Шапира-Уилка\n",
      "============================\n",
      " Первая выборка: 66.630685%\n",
      " Вторая выборка: 99.527103%\n",
      "----------------------------\n",
      "Выборки ПАРАМЕТРИЧЕСКИЕ (распеределены по нормальному закону распределения)\n",
      "Выборки НЕ ЗАВИСИМЫЕ (парам в 1 выборке не соответствуют пары во 2 выборке)\n",
      "\n",
      "ДИСПЕРСИИ выборок - неравны\n",
      "Выбранный тест: Т-критерий Уэлча\n",
      "\n",
      "pvalue = 0.000000%\n",
      "Выбираем гипотезу H1\n"
     ]
    }
   ],
   "source": [
    "# Проверка сходства распределений продаж в каналах Hypermarkets и Supermarkets\n",
    "choose_method(dfs_ch['ПРОДАЖИ Hypermarkets'],\n",
    "              dfs_ch['ПРОДАЖИ Supermarkets'], dependenceFlag=False);"
   ]
  },
  {
   "cell_type": "markdown",
   "id": "e5331289",
   "metadata": {},
   "source": [
    "**Вывод:** Проверка гипотезы о схожести распределений продаж в каналах 'Hypermarkets' и 'Supermarkets' - не подтвердила эту гипотезу. Значит распределение продаж по месяцам в указанных каналах не идентично."
   ]
  },
  {
   "cell_type": "markdown",
   "id": "ec449b36",
   "metadata": {},
   "source": [
    "### 4.2.2. Снизились ли помесячные продажи в Гипермаркетах в 2022 году относительно 2021 года?"
   ]
  },
  {
   "cell_type": "code",
   "execution_count": 411,
   "id": "24f5a98d",
   "metadata": {
    "ExecuteTime": {
     "end_time": "2023-03-16T13:10:01.495570Z",
     "start_time": "2023-03-16T13:10:01.489742Z"
    },
    "code_folding": []
   },
   "outputs": [],
   "source": [
    "# Считываем данные из хранилища в датафрейм\n",
    "connection = bd.connect('metrics.db')\n",
    "df = pd.read_sql(f'SELECT Month, Year, \"Value (in 1000 rub)\" AS \"ПРОДАЖИ, млн.руб.\"\\\n",
    "                      FROM table_data\\\n",
    "                      WHERE Channel = \"Hypermarkets\"\\\n",
    "                      AND Year in (2021, 2022);', connection)\n",
    "connection.close()"
   ]
  },
  {
   "cell_type": "code",
   "execution_count": 418,
   "id": "ebc318eb",
   "metadata": {
    "ExecuteTime": {
     "end_time": "2023-03-16T13:13:14.126318Z",
     "start_time": "2023-03-16T13:13:14.120349Z"
    }
   },
   "outputs": [],
   "source": [
    "# Группируем данные о продажах по месяцам в 2021 и 2022 годах\n",
    "df_2021 = df.loc[df.Year == 2021].groupby('Month').\\\n",
    "                                  agg({'ПРОДАЖИ, млн.руб.': 'sum'})\n",
    "df_2022 = df.loc[df.Year == 2022].groupby('Month').\\\n",
    "                                  agg({'ПРОДАЖИ, млн.руб.': 'sum'})"
   ]
  },
  {
   "cell_type": "code",
   "execution_count": 422,
   "id": "0dee3705",
   "metadata": {
    "ExecuteTime": {
     "end_time": "2023-03-16T13:28:32.837684Z",
     "start_time": "2023-03-16T13:28:32.830717Z"
    }
   },
   "outputs": [
    {
     "name": "stdout",
     "output_type": "stream",
     "text": [
      "Гипотеза HO - подтвердилась\n"
     ]
    }
   ],
   "source": [
    "# Проверим ГИПОТЕЗУ (H0):\n",
    "# Помесячные продажи в 2022 году относительно продаж в 2021 - снизились?\n",
    "if choose_method(df_2021['ПРОДАЖИ, млн.руб.'], df_2022['ПРОДАЖИ, млн.руб.'],\n",
    "              dependenceFlag=False, check='less') > 0.05:\n",
    "    print('Гипотеза HO - подтвердилась')\n",
    "else:\n",
    "    print('Гипотеза HO - не подтвердилась')"
   ]
  },
  {
   "cell_type": "markdown",
   "id": "48d93de5",
   "metadata": {},
   "source": [
    "**Вывод:** Гипотеза о том что помесячные продажи снизились в 2022 году относительно 2021 года - подтвердилась."
   ]
  },
  {
   "cell_type": "markdown",
   "id": "1270e475",
   "metadata": {},
   "source": [
    "### 4.2.3. Равны ли месячные продажи по количеству товаров в 1 полугодии и 2 полугодии в 2021 года в Минимаркетах?"
   ]
  },
  {
   "cell_type": "code",
   "execution_count": 427,
   "id": "38186d1c",
   "metadata": {
    "ExecuteTime": {
     "end_time": "2023-03-16T13:38:32.411727Z",
     "start_time": "2023-03-16T13:38:32.405902Z"
    }
   },
   "outputs": [],
   "source": [
    "# Считываем данные из хранилища в датафрейм\n",
    "connection = bd.connect('metrics.db')\n",
    "df = pd.read_sql(f'SELECT Month, \"Units (in 1000)\" AS \"КОЛИЧЕСВТО ТОВАРА, тыс.шт.\"\\\n",
    "                      FROM table_data\\\n",
    "                      WHERE Channel = \"Minimarkets\" AND Year = 2021', connection)\n",
    "connection.close()"
   ]
  },
  {
   "cell_type": "code",
   "execution_count": 439,
   "id": "5c714667",
   "metadata": {
    "ExecuteTime": {
     "end_time": "2023-03-16T13:46:59.343674Z",
     "start_time": "2023-03-16T13:46:59.330439Z"
    }
   },
   "outputs": [],
   "source": [
    "# сгруппируем количесвто продаж по полугодиям 2021 года\n",
    "df_1 = df.loc[df.Month < 7].groupby('Month').\\\n",
    "                agg({'КОЛИЧЕСВТО ТОВАРА, тыс.шт.': 'sum'})\n",
    "df_2 = df.loc[df.Month > 6].groupby('Month').\\\n",
    "                agg({'КОЛИЧЕСВТО ТОВАРА, тыс.шт.': 'sum'})"
   ]
  },
  {
   "cell_type": "code",
   "execution_count": 442,
   "id": "d1c9f6cf",
   "metadata": {
    "ExecuteTime": {
     "end_time": "2023-03-16T13:50:27.579683Z",
     "start_time": "2023-03-16T13:50:27.546276Z"
    }
   },
   "outputs": [
    {
     "name": "stdout",
     "output_type": "stream",
     "text": [
      " ЗНАЧЕНИЯ pvalue ВЫБОРОК\n",
      "  на тесте Шапира-Уилка\n",
      "============================\n",
      " Первая выборка: 72.652292%\n",
      " Вторая выборка: 42.014426%\n",
      "----------------------------\n",
      "Выборки ПАРАМЕТРИЧЕСКИЕ (распеределены по нормальному закону распределения)\n",
      "Выборки НЕ ЗАВИСИМЫЕ (парам в 1 выборке не соответствуют пары во 2 выборке)\n",
      "\n",
      "ДИСПЕРСИИ выборок - равны\n",
      "Выбранный тест: Т-критерий Стьюдента\n",
      "\n",
      "pvalue = 41.555554%\n",
      "Выбираем гипотезу H0\n"
     ]
    }
   ],
   "source": [
    "# Проверка ГИПОТЕЗЫ (H0):\n",
    "# Помесячные продажи в 1 и 2 полугодии 2021 года в Минимаркетах не отличаются\n",
    "choose_method(df_1['КОЛИЧЕСВТО ТОВАРА, тыс.шт.'],\n",
    "              df_2['КОЛИЧЕСВТО ТОВАРА, тыс.шт.'], dependenceFlag=False);"
   ]
  },
  {
   "cell_type": "markdown",
   "id": "b3fe385f",
   "metadata": {},
   "source": [
    "**Вывод:** Гипотеза о том что помесячные продажи в 1 полугодии 2021 года не отличаются от помесячных продаж во 2 полугодии 2021 года - подтвердилась."
   ]
  },
  {
   "cell_type": "code",
   "execution_count": 443,
   "id": "573e9147",
   "metadata": {
    "ExecuteTime": {
     "end_time": "2023-03-16T13:54:26.938398Z",
     "start_time": "2023-03-16T13:54:26.800349Z"
    }
   },
   "outputs": [],
   "source": [
    "# Определяем список загруженных датафреймов\n",
    "dfs = []\n",
    "for elem in locals().keys():\n",
    "    if 'df' in elem:\n",
    "        dfs.append(elem)\n",
    "# Удаляем не используемые датафреймы для оптимизации используемой памяти\n",
    "for elem in dfs:\n",
    "    del locals()[elem]"
   ]
  },
  {
   "cell_type": "code",
   "execution_count": null,
   "id": "856096f5",
   "metadata": {},
   "outputs": [],
   "source": []
  }
 ],
 "metadata": {
  "kernelspec": {
   "display_name": "Python 3 (ipykernel)",
   "language": "python",
   "name": "python3"
  },
  "language_info": {
   "codemirror_mode": {
    "name": "ipython",
    "version": 3
   },
   "file_extension": ".py",
   "mimetype": "text/x-python",
   "name": "python",
   "nbconvert_exporter": "python",
   "pygments_lexer": "ipython3",
   "version": "3.9.13"
  },
  "toc": {
   "base_numbering": 1,
   "nav_menu": {},
   "number_sections": false,
   "sideBar": true,
   "skip_h1_title": false,
   "title_cell": "СОДЕРЖАНИЕ",
   "title_sidebar": "Contents",
   "toc_cell": true,
   "toc_position": {},
   "toc_section_display": true,
   "toc_window_display": false
  },
  "varInspector": {
   "cols": {
    "lenName": 16,
    "lenType": 16,
    "lenVar": 40
   },
   "kernels_config": {
    "python": {
     "delete_cmd_postfix": "",
     "delete_cmd_prefix": "del ",
     "library": "var_list.py",
     "varRefreshCmd": "print(var_dic_list())"
    },
    "r": {
     "delete_cmd_postfix": ") ",
     "delete_cmd_prefix": "rm(",
     "library": "var_list.r",
     "varRefreshCmd": "cat(var_dic_list()) "
    }
   },
   "types_to_exclude": [
    "module",
    "function",
    "builtin_function_or_method",
    "instance",
    "_Feature"
   ],
   "window_display": false
  }
 },
 "nbformat": 4,
 "nbformat_minor": 5
}
