{
 "cells": [
  {
   "cell_type": "markdown",
   "id": "2cfc6984",
   "metadata": {
    "toc": true
   },
   "source": [
    "<h1>Table of Contents<span class=\"tocSkip\"></span></h1>\n",
    "<div class=\"toc\"><ul class=\"toc-item\"><li><span><a href=\"#1.-Загрузка-библиотек-и-дадасетов\" data-toc-modified-id=\"1.-Загрузка-библиотек-и-дадасетов-1\">1. Загрузка библиотек и дадасетов</a></span></li><li><span><a href=\"#2.-Профили-данных\" data-toc-modified-id=\"2.-Профили-данных-2\">2. Профили данных</a></span><ul class=\"toc-item\"><li><span><a href=\"#2.1.-Датасет-2020-года\" data-toc-modified-id=\"2.1.-Датасет-2020-года-2.1\">2.1. Датасет 2020 года</a></span></li><li><span><a href=\"#2.2.-Датасет-2021-года\" data-toc-modified-id=\"2.2.-Датасет-2021-года-2.2\">2.2. Датасет 2021 года</a></span></li><li><span><a href=\"#2.3.-Датасеты-2022-года\" data-toc-modified-id=\"2.3.-Датасеты-2022-года-2.3\">2.3. Датасеты 2022 года</a></span></li></ul></li><li><span><a href=\"#3.-План-коррекции,-объединения-данных-и-его-реализация\" data-toc-modified-id=\"3.-План-коррекции,-объединения-данных-и-его-реализация-3\">3. План коррекции, объединения данных и его реализация</a></span></li></ul></div>"
   ]
  },
  {
   "cell_type": "markdown",
   "id": "9cba05a0",
   "metadata": {},
   "source": [
    "# 1. Загрузка библиотек и дадасетов"
   ]
  },
  {
   "cell_type": "code",
   "execution_count": 139,
   "id": "6298fbfe",
   "metadata": {
    "ExecuteTime": {
     "end_time": "2023-03-03T21:49:59.064229Z",
     "start_time": "2023-03-03T21:49:59.061248Z"
    }
   },
   "outputs": [],
   "source": [
    "import pandas as pd"
   ]
  },
  {
   "cell_type": "code",
   "execution_count": 140,
   "id": "ea8eb200",
   "metadata": {
    "ExecuteTime": {
     "end_time": "2023-03-03T21:49:59.468179Z",
     "start_time": "2023-03-03T21:49:59.460608Z"
    }
   },
   "outputs": [],
   "source": [
    "# Загружаем датасет 2020 года \n",
    "df_2020 = pd.read_csv('Копия 2020.csv')"
   ]
  },
  {
   "cell_type": "code",
   "execution_count": 141,
   "id": "7a83b148",
   "metadata": {
    "ExecuteTime": {
     "end_time": "2023-03-03T21:49:59.628057Z",
     "start_time": "2023-03-03T21:49:59.620513Z"
    }
   },
   "outputs": [],
   "source": [
    "# Загружаем датасет 2021 года, преобразованный из файла .accdb\n",
    "#  зададим название колонок, так как в файле они отсутсвуют\n",
    "df_2021 = pd.read_csv('Копия 2021.csv',\n",
    "                      names=['Year', 'Month', 'Channel', 'Brand',\n",
    "                            'Weight range', 'Units (in 1000)',\n",
    "                            'Value (in 1000 rub)', 'Volume (in 1000 kg)',\n",
    "                            'Number of stores'])"
   ]
  },
  {
   "cell_type": "code",
   "execution_count": 142,
   "id": "5513c30d",
   "metadata": {
    "ExecuteTime": {
     "end_time": "2023-03-03T21:49:59.776409Z",
     "start_time": "2023-03-03T21:49:59.768520Z"
    },
    "scrolled": true
   },
   "outputs": [],
   "source": [
    "# Загружаем датасет 2022 года из файла .txt \n",
    "df_2022_txt = pd.read_csv('Копия 2022.txt', sep='\\t')"
   ]
  },
  {
   "cell_type": "code",
   "execution_count": 143,
   "id": "22e40260",
   "metadata": {
    "ExecuteTime": {
     "end_time": "2023-03-03T21:49:59.973731Z",
     "start_time": "2023-03-03T21:49:59.894624Z"
    },
    "scrolled": true
   },
   "outputs": [
    {
     "name": "stdout",
     "output_type": "stream",
     "text": [
      "<class 'pandas.core.frame.DataFrame'>\n",
      "RangeIndex: 365 entries, 0 to 364\n",
      "Data columns (total 6 columns):\n",
      " #   Column       Non-Null Count  Dtype         \n",
      "---  ------       --------------  -----         \n",
      " 0   Date         365 non-null    datetime64[ns]\n",
      " 1   Year         365 non-null    int64         \n",
      " 2   MonthNum     365 non-null    int64         \n",
      " 3   WeekDayNum   365 non-null    int64         \n",
      " 4   WeekYearNum  365 non-null    int64         \n",
      " 5   MonthDayNum  365 non-null    int64         \n",
      "dtypes: datetime64[ns](1), int64(5)\n",
      "memory usage: 17.2 KB\n"
     ]
    },
    {
     "data": {
      "text/plain": [
       "(None,\n",
       "           Date  Year  MonthNum  WeekDayNum  WeekYearNum  MonthDayNum\n",
       " 0   2022-01-01  2022         1           7            1            1\n",
       " 1   2022-01-02  2022         1           1            2            2\n",
       " 2   2022-01-03  2022         1           2            2            3\n",
       " 3   2022-01-04  2022         1           3            2            4\n",
       " 4   2022-01-05  2022         1           4            2            5\n",
       " ..         ...   ...       ...         ...          ...          ...\n",
       " 360 2022-12-27  2022        12           3           53           27\n",
       " 361 2022-12-28  2022        12           4           53           28\n",
       " 362 2022-12-29  2022        12           5           53           29\n",
       " 363 2022-12-30  2022        12           6           53           30\n",
       " 364 2022-12-31  2022        12           7           53           31\n",
       " \n",
       " [365 rows x 6 columns])"
      ]
     },
     "execution_count": 143,
     "metadata": {},
     "output_type": "execute_result"
    }
   ],
   "source": [
    "# Загружаем датасет 2022 года из файла .xlsx \n",
    "df_2022_xlsx = pd.read_excel('Копия 2022.xlsx')\n",
    "df_2022_xlsx.info(), df_2022_xlsx"
   ]
  },
  {
   "cell_type": "markdown",
   "id": "dd2db18d",
   "metadata": {},
   "source": [
    "# 2. Профили данных"
   ]
  },
  {
   "cell_type": "markdown",
   "id": "e1db66a5",
   "metadata": {},
   "source": [
    "## 2.1. Датасет 2020 года"
   ]
  },
  {
   "cell_type": "code",
   "execution_count": 144,
   "id": "9aa343e3",
   "metadata": {
    "ExecuteTime": {
     "end_time": "2023-03-03T21:50:00.477848Z",
     "start_time": "2023-03-03T21:50:00.449943Z"
    }
   },
   "outputs": [
    {
     "name": "stdout",
     "output_type": "stream",
     "text": [
      "<class 'pandas.core.frame.DataFrame'>\n",
      "RangeIndex: 1274 entries, 0 to 1273\n",
      "Data columns (total 9 columns):\n",
      " #   Column               Non-Null Count  Dtype  \n",
      "---  ------               --------------  -----  \n",
      " 0   Year                 1274 non-null   int64  \n",
      " 1   Month                1258 non-null   float64\n",
      " 2   Channel              1258 non-null   object \n",
      " 3   Brand                1258 non-null   object \n",
      " 4   Weight range         1274 non-null   object \n",
      " 5   Units (in 1000)      1274 non-null   float64\n",
      " 6   Value (in 1000 rub)  1274 non-null   float64\n",
      " 7   Volume (in 1000 kg)  1274 non-null   float64\n",
      " 8   Number of stores     668 non-null    float64\n",
      "dtypes: float64(5), int64(1), object(3)\n",
      "memory usage: 89.7+ KB\n"
     ]
    },
    {
     "data": {
      "text/plain": [
       "(None,\n",
       "       Year  Month       Channel  Brand Weight range  Units (in 1000)  \\\n",
       " 0     2020    1.0  Hypermarkets  Green     200-249G          16.3202   \n",
       " 1     2020    1.0  Hypermarkets  Green     350-399G          87.8634   \n",
       " 2     2020    1.0  Hypermarkets  Green     400-599G          35.7182   \n",
       " 3     2020    1.0  Hypermarkets  Green     600-899G           0.3580   \n",
       " 4     2020    1.0  Hypermarkets   Blue     400-599G          16.8368   \n",
       " ...    ...    ...           ...    ...          ...              ...   \n",
       " 1269  2019   12.0  Supermarkets  White        <200G         100.0000   \n",
       " 1270  2019   12.0  Supermarkets    Dim     350-399G         100.0000   \n",
       " 1271  2019   12.0  Supermarkets    Dim     400-599G         100.0000   \n",
       " 1272  2019   12.0  Supermarkets  Vivid        <200G         100.0000   \n",
       " 1273  2019   12.0  Supermarkets  Vivid     350-399G         100.0000   \n",
       " \n",
       "       Value (in 1000 rub)  Volume (in 1000 kg)  Number of stores  \n",
       " 0              936.803413               3.4272             477.0  \n",
       " 1             7019.116508              30.7522             754.0  \n",
       " 2             4166.453788              17.8592             629.0  \n",
       " 3               66.387690               0.2685              29.0  \n",
       " 4             3227.992656               6.7346             663.0  \n",
       " ...                   ...                  ...               ...  \n",
       " 1269         10000.000000            1000.0000               NaN  \n",
       " 1270         10000.000000            1000.0000               NaN  \n",
       " 1271         10000.000000            1000.0000               NaN  \n",
       " 1272         10000.000000            1000.0000               NaN  \n",
       " 1273         10000.000000            1000.0000               NaN  \n",
       " \n",
       " [1274 rows x 9 columns])"
      ]
     },
     "execution_count": 144,
     "metadata": {},
     "output_type": "execute_result"
    }
   ],
   "source": [
    "df_2020.info(),df_2020"
   ]
  },
  {
   "cell_type": "markdown",
   "id": "26bed99d",
   "metadata": {},
   "source": [
    "## 2.2. Датасет 2021 года"
   ]
  },
  {
   "cell_type": "code",
   "execution_count": 145,
   "id": "d44d6549",
   "metadata": {
    "ExecuteTime": {
     "end_time": "2023-03-03T21:50:00.765839Z",
     "start_time": "2023-03-03T21:50:00.743037Z"
    }
   },
   "outputs": [
    {
     "name": "stdout",
     "output_type": "stream",
     "text": [
      "<class 'pandas.core.frame.DataFrame'>\n",
      "RangeIndex: 675 entries, 0 to 674\n",
      "Data columns (total 9 columns):\n",
      " #   Column               Non-Null Count  Dtype  \n",
      "---  ------               --------------  -----  \n",
      " 0   Year                 675 non-null    float64\n",
      " 1   Month                675 non-null    float64\n",
      " 2   Channel              675 non-null    object \n",
      " 3   Brand                675 non-null    object \n",
      " 4   Weight range         675 non-null    object \n",
      " 5   Units (in 1000)      675 non-null    float64\n",
      " 6   Value (in 1000 rub)  675 non-null    float64\n",
      " 7   Volume (in 1000 kg)  675 non-null    float64\n",
      " 8   Number of stores     675 non-null    float64\n",
      "dtypes: float64(6), object(3)\n",
      "memory usage: 47.6+ KB\n"
     ]
    },
    {
     "data": {
      "text/plain": [
       "(None,\n",
       "        Year  Month       Channel      Brand Weight range  Units (in 1000)  \\\n",
       " 0    2021.0    1.0  Hypermarkets      Green     200-249G          12.7583   \n",
       " 1    2021.0    1.0  Hypermarkets  Greennn#!     350-399G          61.6034   \n",
       " 2    2021.0    1.0  Hypermarkets  Greennn#!     400-599G          47.7524   \n",
       " 3    2021.0    1.0  Hypermarkets  Greennn#!     600-899G           0.0017   \n",
       " 4    2021.0    1.0  Hypermarkets       Blue     200-249G           0.0509   \n",
       " ..      ...    ...           ...        ...          ...              ...   \n",
       " 670  2021.0   11.0   Minimarkets  Greennn#!     100-199G          11.4728   \n",
       " 671  2021.0   11.0  Supermarkets  Greennn#!     100-199G          17.9486   \n",
       " 672  2021.0   12.0  Hypermarkets  Greennn#!     100-199G          10.5903   \n",
       " 673  2021.0   12.0   Minimarkets  Greennn#!     100-199G           7.8182   \n",
       " 674  2021.0   12.0  Supermarkets  Greennn#!     100-199G          25.2956   \n",
       " \n",
       "      Value (in 1000 rub)  Volume (in 1000 kg)  Number of stores  \n",
       " 0             817789.128               2.6792             545.0  \n",
       " 1            5598975.814              21.5612             798.0  \n",
       " 2            4638537.271              23.8763             569.0  \n",
       " 3                123.992               0.0013               1.0  \n",
       " 4               5628.921               0.0101               6.0  \n",
       " ..                   ...                  ...               ...  \n",
       " 670           749057.600               2.2945            1710.0  \n",
       " 671          1339453.100               3.5896            2387.0  \n",
       " 672           748857.900               2.1180             428.0  \n",
       " 673           549344.300               1.5636            1053.0  \n",
       " 674          1721988.600               5.0591            2407.0  \n",
       " \n",
       " [675 rows x 9 columns])"
      ]
     },
     "execution_count": 145,
     "metadata": {},
     "output_type": "execute_result"
    }
   ],
   "source": [
    "df_2021.info(), df_2021"
   ]
  },
  {
   "cell_type": "markdown",
   "id": "ac1c1930",
   "metadata": {},
   "source": [
    "## 2.3. Датасеты 2022 года"
   ]
  },
  {
   "cell_type": "code",
   "execution_count": 146,
   "id": "2b34c901",
   "metadata": {
    "ExecuteTime": {
     "end_time": "2023-03-03T21:50:01.120947Z",
     "start_time": "2023-03-03T21:50:01.103016Z"
    }
   },
   "outputs": [
    {
     "name": "stdout",
     "output_type": "stream",
     "text": [
      "<class 'pandas.core.frame.DataFrame'>\n",
      "RangeIndex: 681 entries, 0 to 680\n",
      "Data columns (total 9 columns):\n",
      " #   Column               Non-Null Count  Dtype  \n",
      "---  ------               --------------  -----  \n",
      " 0   Year                 681 non-null    int64  \n",
      " 1   Month                681 non-null    int64  \n",
      " 2   Channel              681 non-null    object \n",
      " 3   Brand                681 non-null    object \n",
      " 4   Weight range         681 non-null    object \n",
      " 5   Units (in 1000)      681 non-null    float64\n",
      " 6   Value (in 1000 rub)  681 non-null    object \n",
      " 7   Volume (in 1000 kg)  681 non-null    float64\n",
      " 8   Number of stores     681 non-null    int64  \n",
      "dtypes: float64(2), int64(3), object(4)\n",
      "memory usage: 48.0+ KB\n"
     ]
    },
    {
     "data": {
      "text/plain": [
       "(None,\n",
       "      Year  Month       Channel  Brand Weight range  Units (in 1000)  \\\n",
       " 0    2022      1  Hypermarkets  Green     200-249G          15.2249   \n",
       " 1    2022      1  Hypermarkets  Green     350-399G          58.2443   \n",
       " 2    2022      1  Hypermarkets  Green     400-599G          38.4102   \n",
       " 3    2022      1  Hypermarkets   Blue     200-249G           0.1327   \n",
       " 4    2022      1  Hypermarkets   Blue     400-599G          44.9287   \n",
       " ..    ...    ...           ...    ...          ...              ...   \n",
       " 676  2022     11   Minimarkets  Green     100-199G           1.1740   \n",
       " 677  2022     11  Supermarkets  Green     100-199G           4.2365   \n",
       " 678  2022     12  Hypermarkets  Green     100-199G           0.1749   \n",
       " 679  2022     12   Minimarkets  Green     100-199G           2.0995   \n",
       " 680  2022     12  Supermarkets  Green     100-199G           2.5092   \n",
       " \n",
       "     Value (in 1000 rub)  Volume (in 1000 kg)  Number of stores  \n",
       " 0            899.265493               3.1972               536  \n",
       " 1           5622.580442              20.3855               758  \n",
       " 2            4457.22479              19.2051               633  \n",
       " 3             15.948333               0.0265                10  \n",
       " 4           7611.563208              17.9715               728  \n",
       " ..                  ...                  ...               ...  \n",
       " 676             97.2256               0.2348               187  \n",
       " 677             353.291               0.8473               778  \n",
       " 678            14.3406+               0.0350                22  \n",
       " 679           123.6008+               0.4200               200  \n",
       " 680           223.1901+               0.5018               514  \n",
       " \n",
       " [681 rows x 9 columns])"
      ]
     },
     "execution_count": 146,
     "metadata": {},
     "output_type": "execute_result"
    }
   ],
   "source": [
    "df_2022_txt.info(), df_2022_txt"
   ]
  },
  {
   "cell_type": "code",
   "execution_count": 147,
   "id": "2d7ce47f",
   "metadata": {
    "ExecuteTime": {
     "end_time": "2023-03-03T21:50:01.276066Z",
     "start_time": "2023-03-03T21:50:01.260178Z"
    }
   },
   "outputs": [
    {
     "name": "stdout",
     "output_type": "stream",
     "text": [
      "<class 'pandas.core.frame.DataFrame'>\n",
      "RangeIndex: 365 entries, 0 to 364\n",
      "Data columns (total 6 columns):\n",
      " #   Column       Non-Null Count  Dtype         \n",
      "---  ------       --------------  -----         \n",
      " 0   Date         365 non-null    datetime64[ns]\n",
      " 1   Year         365 non-null    int64         \n",
      " 2   MonthNum     365 non-null    int64         \n",
      " 3   WeekDayNum   365 non-null    int64         \n",
      " 4   WeekYearNum  365 non-null    int64         \n",
      " 5   MonthDayNum  365 non-null    int64         \n",
      "dtypes: datetime64[ns](1), int64(5)\n",
      "memory usage: 17.2 KB\n"
     ]
    },
    {
     "data": {
      "text/plain": [
       "(None,\n",
       "           Date  Year  MonthNum  WeekDayNum  WeekYearNum  MonthDayNum\n",
       " 0   2022-01-01  2022         1           7            1            1\n",
       " 1   2022-01-02  2022         1           1            2            2\n",
       " 2   2022-01-03  2022         1           2            2            3\n",
       " 3   2022-01-04  2022         1           3            2            4\n",
       " 4   2022-01-05  2022         1           4            2            5\n",
       " ..         ...   ...       ...         ...          ...          ...\n",
       " 360 2022-12-27  2022        12           3           53           27\n",
       " 361 2022-12-28  2022        12           4           53           28\n",
       " 362 2022-12-29  2022        12           5           53           29\n",
       " 363 2022-12-30  2022        12           6           53           30\n",
       " 364 2022-12-31  2022        12           7           53           31\n",
       " \n",
       " [365 rows x 6 columns])"
      ]
     },
     "execution_count": 147,
     "metadata": {},
     "output_type": "execute_result"
    }
   ],
   "source": [
    "df_2022_xlsx.info(), df_2022_xlsx"
   ]
  },
  {
   "cell_type": "markdown",
   "id": "c17bc562",
   "metadata": {},
   "source": [
    "# 3. План коррекции, объединения данных и его реализация\n",
    "1) Удаляем датафрейм так как в нём нет полезной информации - только даты, в том числе разложенные на составляющие.  \n",
    "2) Приводим типы данных 'Year', 'Month', 'Number of stores' к типу данных int, так эти характеристики измеряются в целых числах.  \n",
    "3) Проверка и удаление дубликатов данных.  \n",
    "4) Объединеняем датафреймы 2020, 2021, 2022 годов в единый.  \n",
    "> Пустые значения  пока не меняем на статистические, и не производим удеаление записей с путсыми значениями - так как не известно какие задачи придётся решать с данным, а соответственно не известно имеет ли смысл сейча:\n",
    ">- тратить ресурсы на преобразование данных,  \n",
    ">- избавляться от отдельных записей из-за части пустых знаxений в них, что приводит к потере полезной части информации."
   ]
  },
  {
   "cell_type": "code",
   "execution_count": 148,
   "id": "0f6d4c5f",
   "metadata": {
    "ExecuteTime": {
     "end_time": "2023-03-03T21:50:02.471740Z",
     "start_time": "2023-03-03T21:50:02.468337Z"
    }
   },
   "outputs": [],
   "source": [
    "del df_2022_xlsx"
   ]
  },
  {
   "cell_type": "code",
   "execution_count": 154,
   "id": "2ef0215c",
   "metadata": {
    "ExecuteTime": {
     "end_time": "2023-03-03T21:51:17.773569Z",
     "start_time": "2023-03-03T21:51:17.748431Z"
    }
   },
   "outputs": [
    {
     "ename": "ValueError",
     "evalue": "cannot convert float NaN to integer",
     "output_type": "error",
     "traceback": [
      "\u001b[0;31m---------------------------------------------------------------------------\u001b[0m",
      "\u001b[0;31mValueError\u001b[0m                                Traceback (most recent call last)",
      "\u001b[0;32m/var/folders/5h/1vkpjwr90l19cmzfgsfrcpvm0000gn/T/ipykernel_2774/920545521.py\u001b[0m in \u001b[0;36m<module>\u001b[0;34m\u001b[0m\n\u001b[1;32m      1\u001b[0m \u001b[0;32mfor\u001b[0m \u001b[0mdf\u001b[0m \u001b[0;32min\u001b[0m \u001b[0;34m[\u001b[0m\u001b[0mdf_2020\u001b[0m\u001b[0;34m,\u001b[0m \u001b[0mdf_2021\u001b[0m\u001b[0;34m,\u001b[0m \u001b[0mdf_2022_txt\u001b[0m\u001b[0;34m]\u001b[0m\u001b[0;34m:\u001b[0m\u001b[0;34m\u001b[0m\u001b[0;34m\u001b[0m\u001b[0m\n\u001b[1;32m      2\u001b[0m     \u001b[0;32mfor\u001b[0m \u001b[0mcol\u001b[0m \u001b[0;32min\u001b[0m \u001b[0;34m[\u001b[0m\u001b[0;34m'Year'\u001b[0m\u001b[0;34m,\u001b[0m \u001b[0;34m'Month'\u001b[0m\u001b[0;34m,\u001b[0m \u001b[0;34m'Number of stores'\u001b[0m\u001b[0;34m]\u001b[0m\u001b[0;34m:\u001b[0m\u001b[0;34m\u001b[0m\u001b[0;34m\u001b[0m\u001b[0m\n\u001b[0;32m----> 3\u001b[0;31m             df[col] = df[col].apply(lambda x: int(x)\n\u001b[0m\u001b[1;32m      4\u001b[0m                                     \u001b[0;32mif\u001b[0m \u001b[0misinstance\u001b[0m\u001b[0;34m(\u001b[0m\u001b[0mx\u001b[0m\u001b[0;34m,\u001b[0m \u001b[0mfloat\u001b[0m\u001b[0;34m)\u001b[0m\u001b[0;34m\u001b[0m\u001b[0;34m\u001b[0m\u001b[0m\n\u001b[1;32m      5\u001b[0m                                     else np.nan)\n",
      "\u001b[0;32m~/opt/anaconda3/lib/python3.9/site-packages/pandas/core/series.py\u001b[0m in \u001b[0;36mapply\u001b[0;34m(self, func, convert_dtype, args, **kwargs)\u001b[0m\n\u001b[1;32m   4431\u001b[0m         \u001b[0mdtype\u001b[0m\u001b[0;34m:\u001b[0m \u001b[0mfloat64\u001b[0m\u001b[0;34m\u001b[0m\u001b[0;34m\u001b[0m\u001b[0m\n\u001b[1;32m   4432\u001b[0m         \"\"\"\n\u001b[0;32m-> 4433\u001b[0;31m         \u001b[0;32mreturn\u001b[0m \u001b[0mSeriesApply\u001b[0m\u001b[0;34m(\u001b[0m\u001b[0mself\u001b[0m\u001b[0;34m,\u001b[0m \u001b[0mfunc\u001b[0m\u001b[0;34m,\u001b[0m \u001b[0mconvert_dtype\u001b[0m\u001b[0;34m,\u001b[0m \u001b[0margs\u001b[0m\u001b[0;34m,\u001b[0m \u001b[0mkwargs\u001b[0m\u001b[0;34m)\u001b[0m\u001b[0;34m.\u001b[0m\u001b[0mapply\u001b[0m\u001b[0;34m(\u001b[0m\u001b[0;34m)\u001b[0m\u001b[0;34m\u001b[0m\u001b[0;34m\u001b[0m\u001b[0m\n\u001b[0m\u001b[1;32m   4434\u001b[0m \u001b[0;34m\u001b[0m\u001b[0m\n\u001b[1;32m   4435\u001b[0m     def _reduce(\n",
      "\u001b[0;32m~/opt/anaconda3/lib/python3.9/site-packages/pandas/core/apply.py\u001b[0m in \u001b[0;36mapply\u001b[0;34m(self)\u001b[0m\n\u001b[1;32m   1086\u001b[0m             \u001b[0;32mreturn\u001b[0m \u001b[0mself\u001b[0m\u001b[0;34m.\u001b[0m\u001b[0mapply_str\u001b[0m\u001b[0;34m(\u001b[0m\u001b[0;34m)\u001b[0m\u001b[0;34m\u001b[0m\u001b[0;34m\u001b[0m\u001b[0m\n\u001b[1;32m   1087\u001b[0m \u001b[0;34m\u001b[0m\u001b[0m\n\u001b[0;32m-> 1088\u001b[0;31m         \u001b[0;32mreturn\u001b[0m \u001b[0mself\u001b[0m\u001b[0;34m.\u001b[0m\u001b[0mapply_standard\u001b[0m\u001b[0;34m(\u001b[0m\u001b[0;34m)\u001b[0m\u001b[0;34m\u001b[0m\u001b[0;34m\u001b[0m\u001b[0m\n\u001b[0m\u001b[1;32m   1089\u001b[0m \u001b[0;34m\u001b[0m\u001b[0m\n\u001b[1;32m   1090\u001b[0m     \u001b[0;32mdef\u001b[0m \u001b[0magg\u001b[0m\u001b[0;34m(\u001b[0m\u001b[0mself\u001b[0m\u001b[0;34m)\u001b[0m\u001b[0;34m:\u001b[0m\u001b[0;34m\u001b[0m\u001b[0;34m\u001b[0m\u001b[0m\n",
      "\u001b[0;32m~/opt/anaconda3/lib/python3.9/site-packages/pandas/core/apply.py\u001b[0m in \u001b[0;36mapply_standard\u001b[0;34m(self)\u001b[0m\n\u001b[1;32m   1141\u001b[0m                 \u001b[0;31m# List[Union[Callable[..., Any], str]]]]]\"; expected\u001b[0m\u001b[0;34m\u001b[0m\u001b[0;34m\u001b[0m\u001b[0m\n\u001b[1;32m   1142\u001b[0m                 \u001b[0;31m# \"Callable[[Any], Any]\"\u001b[0m\u001b[0;34m\u001b[0m\u001b[0;34m\u001b[0m\u001b[0m\n\u001b[0;32m-> 1143\u001b[0;31m                 mapped = lib.map_infer(\n\u001b[0m\u001b[1;32m   1144\u001b[0m                     \u001b[0mvalues\u001b[0m\u001b[0;34m,\u001b[0m\u001b[0;34m\u001b[0m\u001b[0;34m\u001b[0m\u001b[0m\n\u001b[1;32m   1145\u001b[0m                     \u001b[0mf\u001b[0m\u001b[0;34m,\u001b[0m  \u001b[0;31m# type: ignore[arg-type]\u001b[0m\u001b[0;34m\u001b[0m\u001b[0;34m\u001b[0m\u001b[0m\n",
      "\u001b[0;32m~/opt/anaconda3/lib/python3.9/site-packages/pandas/_libs/lib.pyx\u001b[0m in \u001b[0;36mpandas._libs.lib.map_infer\u001b[0;34m()\u001b[0m\n",
      "\u001b[0;32m/var/folders/5h/1vkpjwr90l19cmzfgsfrcpvm0000gn/T/ipykernel_2774/920545521.py\u001b[0m in \u001b[0;36m<lambda>\u001b[0;34m(x)\u001b[0m\n\u001b[1;32m      1\u001b[0m \u001b[0;32mfor\u001b[0m \u001b[0mdf\u001b[0m \u001b[0;32min\u001b[0m \u001b[0;34m[\u001b[0m\u001b[0mdf_2020\u001b[0m\u001b[0;34m,\u001b[0m \u001b[0mdf_2021\u001b[0m\u001b[0;34m,\u001b[0m \u001b[0mdf_2022_txt\u001b[0m\u001b[0;34m]\u001b[0m\u001b[0;34m:\u001b[0m\u001b[0;34m\u001b[0m\u001b[0;34m\u001b[0m\u001b[0m\n\u001b[1;32m      2\u001b[0m     \u001b[0;32mfor\u001b[0m \u001b[0mcol\u001b[0m \u001b[0;32min\u001b[0m \u001b[0;34m[\u001b[0m\u001b[0;34m'Year'\u001b[0m\u001b[0;34m,\u001b[0m \u001b[0;34m'Month'\u001b[0m\u001b[0;34m,\u001b[0m \u001b[0;34m'Number of stores'\u001b[0m\u001b[0;34m]\u001b[0m\u001b[0;34m:\u001b[0m\u001b[0;34m\u001b[0m\u001b[0;34m\u001b[0m\u001b[0m\n\u001b[0;32m----> 3\u001b[0;31m             df[col] = df[col].apply(lambda x: int(x)\n\u001b[0m\u001b[1;32m      4\u001b[0m                                     \u001b[0;32mif\u001b[0m \u001b[0misinstance\u001b[0m\u001b[0;34m(\u001b[0m\u001b[0mx\u001b[0m\u001b[0;34m,\u001b[0m \u001b[0mfloat\u001b[0m\u001b[0;34m)\u001b[0m\u001b[0;34m\u001b[0m\u001b[0;34m\u001b[0m\u001b[0m\n\u001b[1;32m      5\u001b[0m                                     else np.nan)\n",
      "\u001b[0;31mValueError\u001b[0m: cannot convert float NaN to integer"
     ]
    }
   ],
   "source": [
    "for df in [df_2020, df_2021, df_2022_txt]:\n",
    "    for col in ['Year', 'Month', 'Number of stores']:\n",
    "            df[col] = df[col].apply(lambda x: int(x)\n",
    "                                    if isinstance(x, float)\n",
    "                                    else np.nan)"
   ]
  },
  {
   "cell_type": "code",
   "execution_count": 137,
   "id": "6b224982",
   "metadata": {
    "ExecuteTime": {
     "end_time": "2023-03-03T21:49:26.211659Z",
     "start_time": "2023-03-03T21:49:26.206165Z"
    }
   },
   "outputs": [
    {
     "data": {
      "text/plain": [
       "numpy.float64"
      ]
     },
     "execution_count": 137,
     "metadata": {},
     "output_type": "execute_result"
    }
   ],
   "source": [
    "type(df_2020['Number of stores'][671])"
   ]
  },
  {
   "cell_type": "code",
   "execution_count": 138,
   "id": "a85023ec",
   "metadata": {
    "ExecuteTime": {
     "end_time": "2023-03-03T21:49:35.479200Z",
     "start_time": "2023-03-03T21:49:35.470674Z"
    }
   },
   "outputs": [
    {
     "name": "stdout",
     "output_type": "stream",
     "text": [
      "nan  nan  nan  nan  nan  nan  nan  nan  nan  nan  nan  nan  nan  nan  nan  nan  nan  nan  nan  nan  nan  nan  nan  nan  nan  nan  nan  nan  nan  nan  nan  nan  nan  nan  nan  nan  nan  nan  nan  nan  nan  nan  nan  nan  nan  nan  nan  nan  nan  nan  nan  nan  nan  nan  nan  nan  nan  nan  nan  nan  nan  nan  nan  nan  nan  nan  nan  nan  nan  nan  nan  nan  nan  nan  nan  nan  nan  nan  nan  nan  nan  nan  nan  nan  nan  nan  nan  nan  nan  nan  nan  nan  nan  nan  nan  nan  nan  nan  nan  nan  nan  nan  nan  nan  nan  nan  nan  nan  nan  nan  nan  nan  nan  nan  nan  nan  nan  nan  nan  nan  nan  nan  nan  nan  nan  nan  nan  nan  nan  nan  nan  nan  nan  nan  nan  nan  nan  nan  nan  nan  nan  nan  nan  nan  nan  nan  nan  nan  nan  nan  nan  nan  nan  nan  nan  nan  nan  nan  nan  nan  nan  nan  nan  nan  nan  nan  nan  nan  nan  nan  nan  nan  nan  nan  nan  nan  nan  nan  nan  nan  nan  nan  nan  nan  nan  nan  nan  nan  nan  nan  nan  nan  nan  nan  nan  nan  nan  nan  nan  nan  nan  nan  nan  nan  nan  nan  nan  nan  nan  nan  nan  nan  nan  nan  nan  nan  nan  nan  nan  nan  nan  nan  nan  nan  nan  nan  nan  nan  nan  nan  nan  nan  nan  nan  nan  nan  nan  nan  nan  nan  nan  nan  nan  nan  nan  nan  nan  nan  nan  nan  nan  nan  nan  nan  nan  nan  nan  nan  nan  nan  nan  nan  nan  nan  nan  nan  nan  nan  nan  nan  nan  nan  nan  nan  nan  nan  nan  nan  nan  nan  nan  nan  nan  nan  nan  nan  nan  nan  nan  nan  nan  nan  nan  nan  nan  nan  nan  nan  nan  nan  nan  nan  nan  nan  nan  nan  nan  nan  nan  nan  nan  nan  nan  nan  nan  nan  nan  nan  nan  nan  nan  nan  nan  nan  nan  nan  nan  nan  nan  nan  nan  nan  nan  nan  nan  nan  nan  nan  nan  nan  nan  nan  nan  nan  nan  nan  nan  nan  nan  nan  nan  nan  nan  nan  nan  nan  nan  nan  nan  nan  nan  nan  nan  nan  nan  nan  nan  nan  nan  nan  nan  nan  nan  nan  nan  nan  nan  nan  nan  nan  nan  nan  nan  nan  nan  nan  nan  nan  nan  nan  nan  nan  nan  nan  nan  nan  nan  nan  nan  nan  nan  nan  nan  nan  nan  nan  nan  nan  nan  nan  nan  nan  nan  nan  nan  nan  nan  nan  nan  nan  nan  nan  nan  nan  nan  nan  nan  nan  nan  nan  nan  nan  nan  nan  nan  nan  nan  nan  nan  nan  nan  nan  nan  nan  nan  nan  nan  nan  nan  nan  nan  nan  nan  nan  nan  nan  nan  nan  nan  nan  nan  nan  nan  nan  nan  nan  nan  nan  nan  nan  nan  nan  nan  nan  nan  nan  nan  nan  nan  nan  nan  nan  nan  nan  nan  nan  nan  nan  nan  nan  nan  nan  nan  nan  nan  nan  nan  nan  nan  nan  nan  nan  nan  nan  nan  nan  nan  nan  nan  nan  nan  nan  nan  nan  nan  nan  nan  nan  nan  nan  nan  nan  nan  nan  nan  nan  nan  nan  nan  nan  nan  nan  nan  nan  nan  nan  nan  nan  nan  nan  nan  nan  nan  nan  nan  nan  nan  nan  nan  nan  nan  nan  nan  nan  nan  nan  nan  nan  nan  nan  nan  nan  nan  nan  nan  nan  nan  nan  nan  nan  nan  nan  nan  nan  nan  nan  nan  nan  nan  nan  nan  nan  nan  nan  nan  nan  nan  nan  nan  nan  nan  nan  nan  nan  nan  nan  nan  nan  nan  nan  nan  nan  nan  nan  nan  nan  nan  nan  nan  nan  nan  nan  nan  nan  nan  nan  nan  nan  nan  nan  nan  nan  nan  nan  nan  nan  nan  nan  nan  nan  nan  nan  nan  nan  nan  nan  nan  nan  nan  nan  nan  nan  nan  nan  nan  nan  nan  nan  nan  nan  nan  nan  nan  nan  nan  nan  nan  nan  nan  nan  nan  nan  nan  nan  nan  nan  nan  nan  nan  nan  nan  nan  nan  nan  nan  nan  nan  nan  nan  nan  nan  nan  nan  nan  nan  nan  nan  nan  nan  nan  nan  nan  nan  nan  nan  nan  nan  nan  nan  nan  nan  nan  nan  nan  nan  nan  nan  nan  nan  nan  nan  nan  nan  nan  nan  nan  nan  nan  nan  nan  nan  nan  nan  nan  nan  nan  nan  nan  nan  nan  nan  nan  nan  nan  nan  nan  nan  nan  nan  nan  nan  nan  nan  nan  nan  nan  nan  nan  nan  nan  nan  nan  nan  nan  nan  nan  nan  nan  nan  nan  nan  nan  nan  nan  nan  nan  nan  nan  nan  nan  nan  nan  nan  nan  nan  nan  nan  nan  nan  nan  nan  nan  nan  nan  nan  nan  nan  nan  nan  nan  nan  nan  nan  nan  nan  nan  nan  nan  nan  nan  nan  nan  nan  nan  nan  nan  nan  nan  nan  nan  nan  nan  nan  nan  nan  nan  nan  nan  nan  nan  nan  nan  nan  nan  nan  nan  nan  nan  nan  nan  nan  nan  nan  nan  nan  nan  nan  nan  nan  nan  nan  nan  nan  nan  nan  nan  nan  nan  nan  nan  nan  nan  nan  nan  nan  nan  nan  nan  nan  nan  nan  nan  nan  nan  nan  nan  nan  nan  nan  nan  nan  nan  nan  nan  nan  nan  nan  nan  nan  nan  nan  nan  nan  nan  nan  nan  nan  nan  nan  nan  nan  nan  nan  nan  nan  nan  nan  nan  nan  nan  nan  nan  nan  nan  nan  nan  nan  nan  nan  nan  nan  nan  nan  nan  nan  nan  nan  nan  nan  nan  nan  nan  nan  nan  nan  nan  nan  nan  nan  nan  nan  nan  nan  nan  nan  nan  nan  nan  nan  nan  nan  nan  nan  nan  nan  nan  nan  nan  nan  nan  nan  nan  nan  nan  nan  nan  nan  nan  nan  nan  nan  nan  nan  nan  nan  nan  nan  nan  nan  nan  nan  nan  nan  nan  nan  nan  nan  nan  nan  nan  nan  nan  nan  nan  nan  nan  nan  nan  nan  nan  nan  nan  nan  nan  nan  nan  nan  nan  nan  nan  nan  nan  nan  nan  nan  nan  nan  nan  nan  nan  nan  nan  nan  nan  nan  nan  nan  nan  nan  nan  nan  nan  nan  nan  nan  nan  nan  nan  nan  nan  nan  nan  nan  nan  nan  nan  nan  nan  nan  nan  nan  nan  nan  nan  nan  nan  nan  nan  nan  nan  nan  nan  nan  nan  nan  nan  nan  nan  nan  nan  nan  nan  nan  nan  nan  nan  nan  nan  nan  nan  nan  nan  nan  nan  nan  nan  nan  nan  nan  nan  nan  nan  nan  nan  nan  nan  nan  nan  nan  nan  nan  nan  nan  nan  nan  nan  nan  nan  nan  nan  nan  nan  nan  nan  nan  nan  nan  nan  nan  nan  nan  nan  nan  nan  nan  nan  nan  nan  nan  nan  nan  nan  nan  nan  nan  nan  nan  nan  nan  nan  nan  nan  nan  nan  nan  nan  nan  nan  nan  nan  nan  nan  nan  nan  nan  nan  nan  nan  nan  nan  nan  nan  nan  nan  nan  nan  nan  nan  nan  nan  nan  nan  nan  nan  nan  nan  nan  nan  nan  nan  nan  nan  nan  nan  nan  nan  nan  nan  nan  nan  nan  nan  nan  nan  nan  nan  nan  nan  nan  nan  nan  nan  nan  nan  nan  nan  nan  nan  nan  nan  nan  nan  nan  nan  nan  nan  nan  nan  nan  nan  nan  nan  nan  nan  nan  nan  nan  nan  nan  nan  nan  nan  nan  nan  nan  nan  nan  nan  nan  nan  nan  nan  nan  nan  nan  nan  nan  nan  nan  nan  nan  nan  nan  nan  nan  nan  nan  nan  nan  nan  nan  nan  nan  nan  nan  nan  nan  nan  nan  nan  nan  nan  nan  nan  nan  nan  nan  nan  nan  nan  nan  nan  nan  nan  "
     ]
    }
   ],
   "source": [
    "for elem in df_2020['Month']:\n",
    "    print(elem, end='  ')"
   ]
  },
  {
   "cell_type": "markdown",
   "id": "bae591e9",
   "metadata": {
    "ExecuteTime": {
     "end_time": "2023-03-03T21:31:14.005404Z",
     "start_time": "2023-03-03T21:31:13.986464Z"
    }
   },
   "source": []
  },
  {
   "cell_type": "code",
   "execution_count": null,
   "id": "942c7ebe",
   "metadata": {},
   "outputs": [],
   "source": []
  }
 ],
 "metadata": {
  "kernelspec": {
   "display_name": "Python 3 (ipykernel)",
   "language": "python",
   "name": "python3"
  },
  "language_info": {
   "codemirror_mode": {
    "name": "ipython",
    "version": 3
   },
   "file_extension": ".py",
   "mimetype": "text/x-python",
   "name": "python",
   "nbconvert_exporter": "python",
   "pygments_lexer": "ipython3",
   "version": "3.9.13"
  },
  "toc": {
   "base_numbering": 1,
   "nav_menu": {},
   "number_sections": false,
   "sideBar": true,
   "skip_h1_title": false,
   "title_cell": "Table of Contents",
   "title_sidebar": "Contents",
   "toc_cell": true,
   "toc_position": {},
   "toc_section_display": true,
   "toc_window_display": false
  },
  "varInspector": {
   "cols": {
    "lenName": 16,
    "lenType": 16,
    "lenVar": 40
   },
   "kernels_config": {
    "python": {
     "delete_cmd_postfix": "",
     "delete_cmd_prefix": "del ",
     "library": "var_list.py",
     "varRefreshCmd": "print(var_dic_list())"
    },
    "r": {
     "delete_cmd_postfix": ") ",
     "delete_cmd_prefix": "rm(",
     "library": "var_list.r",
     "varRefreshCmd": "cat(var_dic_list()) "
    }
   },
   "types_to_exclude": [
    "module",
    "function",
    "builtin_function_or_method",
    "instance",
    "_Feature"
   ],
   "window_display": false
  }
 },
 "nbformat": 4,
 "nbformat_minor": 5
}
