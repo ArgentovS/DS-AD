{
 "cells": [
  {
   "cell_type": "markdown",
   "id": "189549eb",
   "metadata": {
    "toc": true
   },
   "source": [
    "<h1>СОДЕРЖАНИЕ<span class=\"tocSkip\"></span></h1>\n",
    "<div class=\"toc\"><ul class=\"toc-item\"><li><span><a href=\"#1.-Загрузка-библиотек-и-дадасетов\" data-toc-modified-id=\"1.-Загрузка-библиотек-и-дадасетов-1\">1. Загрузка библиотек и дадасетов</a></span></li><li><span><a href=\"#2.-Профили-данных\" data-toc-modified-id=\"2.-Профили-данных-2\">2. Профили данных</a></span><ul class=\"toc-item\"><li><span><a href=\"#2.1.-Датасет-2020-года\" data-toc-modified-id=\"2.1.-Датасет-2020-года-2.1\">2.1. Датасет 2020 года</a></span></li><li><span><a href=\"#2.2.-Датасет-2021-года\" data-toc-modified-id=\"2.2.-Датасет-2021-года-2.2\">2.2. Датасет 2021 года</a></span></li><li><span><a href=\"#2.3.-Датасеты-2022-года\" data-toc-modified-id=\"2.3.-Датасеты-2022-года-2.3\">2.3. Датасеты 2022 года</a></span></li></ul></li><li><span><a href=\"#3.-План-коррекции,-объединения-данных-и-его-реализация\" data-toc-modified-id=\"3.-План-коррекции,-объединения-данных-и-его-реализация-3\">3. План коррекции, объединения данных и его реализация</a></span></li><li><span><a href=\"#4.-Запись-результатов-обработки-в-файл-Excel\" data-toc-modified-id=\"4.-Запись-результатов-обработки-в-файл-Excel-4\">4. Запись результатов обработки в файл Excel</a></span></li></ul></div>"
   ]
  },
  {
   "cell_type": "markdown",
   "id": "6aa54181",
   "metadata": {},
   "source": [
    "  "
   ]
  },
  {
   "cell_type": "markdown",
   "id": "f948facb",
   "metadata": {},
   "source": [
    "# 1. Загрузка библиотек и дадасетов"
   ]
  },
  {
   "cell_type": "code",
   "execution_count": 488,
   "id": "ac7e2c1b",
   "metadata": {
    "ExecuteTime": {
     "end_time": "2023-03-04T08:56:56.783782Z",
     "start_time": "2023-03-04T08:56:56.780696Z"
    }
   },
   "outputs": [],
   "source": [
    "import pandas as pd\n",
    "import numpy as np"
   ]
  },
  {
   "cell_type": "code",
   "execution_count": 489,
   "id": "55ec7d42",
   "metadata": {
    "ExecuteTime": {
     "end_time": "2023-03-04T08:56:56.968021Z",
     "start_time": "2023-03-04T08:56:56.955146Z"
    }
   },
   "outputs": [],
   "source": [
    "# Загружаем датасет 2020 года \n",
    "df_2020 = pd.read_csv('Копия 2020.csv')"
   ]
  },
  {
   "cell_type": "code",
   "execution_count": 490,
   "id": "34e1ef0c",
   "metadata": {
    "ExecuteTime": {
     "end_time": "2023-03-04T08:56:57.128578Z",
     "start_time": "2023-03-04T08:56:57.115318Z"
    }
   },
   "outputs": [],
   "source": [
    "# Загружаем датасет 2021 года, преобразованный из файла .accdb\n",
    "#  зададим название колонок, так как в файле они отсутсвуют\n",
    "df_2021 = pd.read_csv('Копия 2021.csv',\n",
    "                      names=['Year', 'Month', 'Channel', 'Brand',\n",
    "                            'Weight range', 'Units (in 1000)',\n",
    "                            'Value (in 1000 rub)', 'Volume (in 1000 kg)',\n",
    "                            'Number of stores'])"
   ]
  },
  {
   "cell_type": "code",
   "execution_count": 491,
   "id": "6010e209",
   "metadata": {
    "ExecuteTime": {
     "end_time": "2023-03-04T08:56:57.284787Z",
     "start_time": "2023-03-04T08:56:57.277102Z"
    },
    "scrolled": true
   },
   "outputs": [],
   "source": [
    "# Загружаем датасет 2022 года из файла .txt \n",
    "df_2022_txt = pd.read_csv('Копия 2022.txt', sep='\\t')"
   ]
  },
  {
   "cell_type": "code",
   "execution_count": 528,
   "id": "6ae4f793",
   "metadata": {
    "ExecuteTime": {
     "end_time": "2023-03-04T09:43:55.650964Z",
     "start_time": "2023-03-04T09:43:55.585157Z"
    },
    "scrolled": true
   },
   "outputs": [],
   "source": [
    "# Загружаем датасет 2022 года из файла .xlsx \n",
    "df_2022_xlsx = pd.read_excel('Копия 2022.xlsx')"
   ]
  },
  {
   "cell_type": "markdown",
   "id": "5254dadc",
   "metadata": {},
   "source": [
    "# 2. Профили данных"
   ]
  },
  {
   "cell_type": "markdown",
   "id": "24bb2203",
   "metadata": {},
   "source": [
    "## 2.1. Датасет 2020 года"
   ]
  },
  {
   "cell_type": "code",
   "execution_count": 493,
   "id": "f5f8fcc4",
   "metadata": {
    "ExecuteTime": {
     "end_time": "2023-03-04T08:56:58.024627Z",
     "start_time": "2023-03-04T08:56:58.000259Z"
    }
   },
   "outputs": [
    {
     "name": "stdout",
     "output_type": "stream",
     "text": [
      "<class 'pandas.core.frame.DataFrame'>\n",
      "RangeIndex: 1274 entries, 0 to 1273\n",
      "Data columns (total 9 columns):\n",
      " #   Column               Non-Null Count  Dtype  \n",
      "---  ------               --------------  -----  \n",
      " 0   Year                 1274 non-null   int64  \n",
      " 1   Month                1258 non-null   float64\n",
      " 2   Channel              1258 non-null   object \n",
      " 3   Brand                1258 non-null   object \n",
      " 4   Weight range         1274 non-null   object \n",
      " 5   Units (in 1000)      1274 non-null   float64\n",
      " 6   Value (in 1000 rub)  1274 non-null   float64\n",
      " 7   Volume (in 1000 kg)  1274 non-null   float64\n",
      " 8   Number of stores     668 non-null    float64\n",
      "dtypes: float64(5), int64(1), object(3)\n",
      "memory usage: 89.7+ KB\n"
     ]
    },
    {
     "data": {
      "text/plain": [
       "(None,\n",
       "       Year  Month       Channel  Brand Weight range  Units (in 1000)  \\\n",
       " 0     2020    1.0  Hypermarkets  Green     200-249G          16.3202   \n",
       " 1     2020    1.0  Hypermarkets  Green     350-399G          87.8634   \n",
       " 2     2020    1.0  Hypermarkets  Green     400-599G          35.7182   \n",
       " 3     2020    1.0  Hypermarkets  Green     600-899G           0.3580   \n",
       " 4     2020    1.0  Hypermarkets   Blue     400-599G          16.8368   \n",
       " ...    ...    ...           ...    ...          ...              ...   \n",
       " 1269  2019   12.0  Supermarkets  White        <200G         100.0000   \n",
       " 1270  2019   12.0  Supermarkets    Dim     350-399G         100.0000   \n",
       " 1271  2019   12.0  Supermarkets    Dim     400-599G         100.0000   \n",
       " 1272  2019   12.0  Supermarkets  Vivid        <200G         100.0000   \n",
       " 1273  2019   12.0  Supermarkets  Vivid     350-399G         100.0000   \n",
       " \n",
       "       Value (in 1000 rub)  Volume (in 1000 kg)  Number of stores  \n",
       " 0              936.803413               3.4272             477.0  \n",
       " 1             7019.116508              30.7522             754.0  \n",
       " 2             4166.453788              17.8592             629.0  \n",
       " 3               66.387690               0.2685              29.0  \n",
       " 4             3227.992656               6.7346             663.0  \n",
       " ...                   ...                  ...               ...  \n",
       " 1269         10000.000000            1000.0000               NaN  \n",
       " 1270         10000.000000            1000.0000               NaN  \n",
       " 1271         10000.000000            1000.0000               NaN  \n",
       " 1272         10000.000000            1000.0000               NaN  \n",
       " 1273         10000.000000            1000.0000               NaN  \n",
       " \n",
       " [1274 rows x 9 columns])"
      ]
     },
     "execution_count": 493,
     "metadata": {},
     "output_type": "execute_result"
    }
   ],
   "source": [
    "df_2020.info(),df_2020"
   ]
  },
  {
   "cell_type": "markdown",
   "id": "69a6253b",
   "metadata": {},
   "source": [
    "## 2.2. Датасет 2021 года"
   ]
  },
  {
   "cell_type": "code",
   "execution_count": 494,
   "id": "6a3c5d0e",
   "metadata": {
    "ExecuteTime": {
     "end_time": "2023-03-04T08:56:58.348204Z",
     "start_time": "2023-03-04T08:56:58.323863Z"
    }
   },
   "outputs": [
    {
     "name": "stdout",
     "output_type": "stream",
     "text": [
      "<class 'pandas.core.frame.DataFrame'>\n",
      "RangeIndex: 675 entries, 0 to 674\n",
      "Data columns (total 9 columns):\n",
      " #   Column               Non-Null Count  Dtype  \n",
      "---  ------               --------------  -----  \n",
      " 0   Year                 675 non-null    float64\n",
      " 1   Month                675 non-null    float64\n",
      " 2   Channel              675 non-null    object \n",
      " 3   Brand                675 non-null    object \n",
      " 4   Weight range         675 non-null    object \n",
      " 5   Units (in 1000)      675 non-null    float64\n",
      " 6   Value (in 1000 rub)  675 non-null    float64\n",
      " 7   Volume (in 1000 kg)  675 non-null    float64\n",
      " 8   Number of stores     675 non-null    float64\n",
      "dtypes: float64(6), object(3)\n",
      "memory usage: 47.6+ KB\n"
     ]
    },
    {
     "data": {
      "text/plain": [
       "(None,\n",
       "        Year  Month       Channel      Brand Weight range  Units (in 1000)  \\\n",
       " 0    2021.0    1.0  Hypermarkets      Green     200-249G          12.7583   \n",
       " 1    2021.0    1.0  Hypermarkets  Greennn#!     350-399G          61.6034   \n",
       " 2    2021.0    1.0  Hypermarkets  Greennn#!     400-599G          47.7524   \n",
       " 3    2021.0    1.0  Hypermarkets  Greennn#!     600-899G           0.0017   \n",
       " 4    2021.0    1.0  Hypermarkets       Blue     200-249G           0.0509   \n",
       " ..      ...    ...           ...        ...          ...              ...   \n",
       " 670  2021.0   11.0   Minimarkets  Greennn#!     100-199G          11.4728   \n",
       " 671  2021.0   11.0  Supermarkets  Greennn#!     100-199G          17.9486   \n",
       " 672  2021.0   12.0  Hypermarkets  Greennn#!     100-199G          10.5903   \n",
       " 673  2021.0   12.0   Minimarkets  Greennn#!     100-199G           7.8182   \n",
       " 674  2021.0   12.0  Supermarkets  Greennn#!     100-199G          25.2956   \n",
       " \n",
       "      Value (in 1000 rub)  Volume (in 1000 kg)  Number of stores  \n",
       " 0             817789.128               2.6792             545.0  \n",
       " 1            5598975.814              21.5612             798.0  \n",
       " 2            4638537.271              23.8763             569.0  \n",
       " 3                123.992               0.0013               1.0  \n",
       " 4               5628.921               0.0101               6.0  \n",
       " ..                   ...                  ...               ...  \n",
       " 670           749057.600               2.2945            1710.0  \n",
       " 671          1339453.100               3.5896            2387.0  \n",
       " 672           748857.900               2.1180             428.0  \n",
       " 673           549344.300               1.5636            1053.0  \n",
       " 674          1721988.600               5.0591            2407.0  \n",
       " \n",
       " [675 rows x 9 columns])"
      ]
     },
     "execution_count": 494,
     "metadata": {},
     "output_type": "execute_result"
    }
   ],
   "source": [
    "df_2021.info(), df_2021"
   ]
  },
  {
   "cell_type": "markdown",
   "id": "3abeaa95",
   "metadata": {},
   "source": [
    "## 2.3. Датасеты 2022 года"
   ]
  },
  {
   "cell_type": "code",
   "execution_count": 495,
   "id": "2d49599b",
   "metadata": {
    "ExecuteTime": {
     "end_time": "2023-03-04T08:56:58.694361Z",
     "start_time": "2023-03-04T08:56:58.675451Z"
    }
   },
   "outputs": [
    {
     "name": "stdout",
     "output_type": "stream",
     "text": [
      "<class 'pandas.core.frame.DataFrame'>\n",
      "RangeIndex: 681 entries, 0 to 680\n",
      "Data columns (total 9 columns):\n",
      " #   Column               Non-Null Count  Dtype  \n",
      "---  ------               --------------  -----  \n",
      " 0   Year                 681 non-null    int64  \n",
      " 1   Month                681 non-null    int64  \n",
      " 2   Channel              681 non-null    object \n",
      " 3   Brand                681 non-null    object \n",
      " 4   Weight range         681 non-null    object \n",
      " 5   Units (in 1000)      681 non-null    float64\n",
      " 6   Value (in 1000 rub)  681 non-null    object \n",
      " 7   Volume (in 1000 kg)  681 non-null    float64\n",
      " 8   Number of stores     681 non-null    int64  \n",
      "dtypes: float64(2), int64(3), object(4)\n",
      "memory usage: 48.0+ KB\n"
     ]
    },
    {
     "data": {
      "text/plain": [
       "(None,\n",
       "      Year  Month       Channel  Brand Weight range  Units (in 1000)  \\\n",
       " 0    2022      1  Hypermarkets  Green     200-249G          15.2249   \n",
       " 1    2022      1  Hypermarkets  Green     350-399G          58.2443   \n",
       " 2    2022      1  Hypermarkets  Green     400-599G          38.4102   \n",
       " 3    2022      1  Hypermarkets   Blue     200-249G           0.1327   \n",
       " 4    2022      1  Hypermarkets   Blue     400-599G          44.9287   \n",
       " ..    ...    ...           ...    ...          ...              ...   \n",
       " 676  2022     11   Minimarkets  Green     100-199G           1.1740   \n",
       " 677  2022     11  Supermarkets  Green     100-199G           4.2365   \n",
       " 678  2022     12  Hypermarkets  Green     100-199G           0.1749   \n",
       " 679  2022     12   Minimarkets  Green     100-199G           2.0995   \n",
       " 680  2022     12  Supermarkets  Green     100-199G           2.5092   \n",
       " \n",
       "     Value (in 1000 rub)  Volume (in 1000 kg)  Number of stores  \n",
       " 0            899.265493               3.1972               536  \n",
       " 1           5622.580442              20.3855               758  \n",
       " 2            4457.22479              19.2051               633  \n",
       " 3             15.948333               0.0265                10  \n",
       " 4           7611.563208              17.9715               728  \n",
       " ..                  ...                  ...               ...  \n",
       " 676             97.2256               0.2348               187  \n",
       " 677             353.291               0.8473               778  \n",
       " 678            14.3406+               0.0350                22  \n",
       " 679           123.6008+               0.4200               200  \n",
       " 680           223.1901+               0.5018               514  \n",
       " \n",
       " [681 rows x 9 columns])"
      ]
     },
     "execution_count": 495,
     "metadata": {},
     "output_type": "execute_result"
    }
   ],
   "source": [
    "df_2022_txt.info(), df_2022_txt"
   ]
  },
  {
   "cell_type": "code",
   "execution_count": 496,
   "id": "a49955c7",
   "metadata": {
    "ExecuteTime": {
     "end_time": "2023-03-04T08:56:58.863672Z",
     "start_time": "2023-03-04T08:56:58.842515Z"
    }
   },
   "outputs": [
    {
     "name": "stdout",
     "output_type": "stream",
     "text": [
      "<class 'pandas.core.frame.DataFrame'>\n",
      "RangeIndex: 365 entries, 0 to 364\n",
      "Data columns (total 6 columns):\n",
      " #   Column       Non-Null Count  Dtype         \n",
      "---  ------       --------------  -----         \n",
      " 0   Date         365 non-null    datetime64[ns]\n",
      " 1   Year         365 non-null    int64         \n",
      " 2   MonthNum     365 non-null    int64         \n",
      " 3   WeekDayNum   365 non-null    int64         \n",
      " 4   WeekYearNum  365 non-null    int64         \n",
      " 5   MonthDayNum  365 non-null    int64         \n",
      "dtypes: datetime64[ns](1), int64(5)\n",
      "memory usage: 17.2 KB\n"
     ]
    },
    {
     "data": {
      "text/plain": [
       "(None,\n",
       "           Date  Year  MonthNum  WeekDayNum  WeekYearNum  MonthDayNum\n",
       " 0   2022-01-01  2022         1           7            1            1\n",
       " 1   2022-01-02  2022         1           1            2            2\n",
       " 2   2022-01-03  2022         1           2            2            3\n",
       " 3   2022-01-04  2022         1           3            2            4\n",
       " 4   2022-01-05  2022         1           4            2            5\n",
       " ..         ...   ...       ...         ...          ...          ...\n",
       " 360 2022-12-27  2022        12           3           53           27\n",
       " 361 2022-12-28  2022        12           4           53           28\n",
       " 362 2022-12-29  2022        12           5           53           29\n",
       " 363 2022-12-30  2022        12           6           53           30\n",
       " 364 2022-12-31  2022        12           7           53           31\n",
       " \n",
       " [365 rows x 6 columns])"
      ]
     },
     "execution_count": 496,
     "metadata": {},
     "output_type": "execute_result"
    }
   ],
   "source": [
    "df_2022_xlsx.info(), df_2022_xlsx"
   ]
  },
  {
   "cell_type": "markdown",
   "id": "44e778fc",
   "metadata": {},
   "source": [
    "# 3. План коррекции, объединения данных и его реализация\n",
    "1) Удаляем датафрейм так как в нём нет полезной информации - только даты, в том числе разложенные на составляющие.  \n",
    "2) Приводим типы данных 'Year', 'Month', 'Number of stores' к типу данных int, так эти характеристики измеряются в целых числах.  \n",
    "3) Устранение лишних символов \"+\" в датафрейме 2022 года в колонке \"Value (in 1000 rub)\".  \n",
    "4) Проверим текстовые значения в колонках 'Channel', 'Brand' и 'Weight range' на корректность записи, просматривая их уникальные значения.  \n",
    "5) Проверка и удаление дубликатов данных.  \n",
    "6) Объединеняем датафреймы 2020, 2021, 2022 годов в единый.  \n",
    "> Пустые значения  пока не меняем на статистические, и не производим удеаление записей с путсыми значениями - так как не известно какие задачи придётся решать с данным, а соответственно не известно имеет ли смысл сейча:\n",
    ">- тратить ресурсы на преобразование данных,  \n",
    ">- избавляться от отдельных записей из-за части пустых знаxений в них, что приводит к потере полезной части информации."
   ]
  },
  {
   "cell_type": "code",
   "execution_count": 497,
   "id": "d5184870",
   "metadata": {
    "ExecuteTime": {
     "end_time": "2023-03-04T08:56:59.127676Z",
     "start_time": "2023-03-04T08:56:59.124538Z"
    }
   },
   "outputs": [],
   "source": [
    "# Удаляем не используемый датафрейм\n",
    "del df_2022_xlsx"
   ]
  },
  {
   "cell_type": "code",
   "execution_count": 498,
   "id": "1c444f30",
   "metadata": {
    "ExecuteTime": {
     "end_time": "2023-03-04T08:56:59.695952Z",
     "start_time": "2023-03-04T08:56:59.685910Z"
    },
    "scrolled": true
   },
   "outputs": [],
   "source": [
    "# Меняем типы в колонках с целыми значениями на Int64 (в нём есть встроенный NaN)\n",
    "for df in [df_2020, df_2021, df_2022_txt]:\n",
    "    for col in ['Year', 'Month', 'Number of stores']:\n",
    "        df[col] = df[col].astype({col: 'Int64'})"
   ]
  },
  {
   "cell_type": "code",
   "execution_count": 504,
   "id": "5297b317",
   "metadata": {
    "ExecuteTime": {
     "end_time": "2023-03-04T08:59:49.408218Z",
     "start_time": "2023-03-04T08:59:49.401975Z"
    }
   },
   "outputs": [],
   "source": [
    "# Удаляем лишние знаки в колонке \"Value (in 1000 rub)\" в датафрейме 2022 года\n",
    "df_2022_txt['Value (in 1000 rub)'] =\\\n",
    "df_2022_txt['Value (in 1000 rub)'].apply(lambda x: float(x)\n",
    "                                         if list(str(x))[-1] != '+'\n",
    "                                         else float(''.join(list(str(x))[:-1])))"
   ]
  },
  {
   "cell_type": "code",
   "execution_count": 526,
   "id": "6f6320a9",
   "metadata": {
    "ExecuteTime": {
     "end_time": "2023-03-04T09:36:44.530425Z",
     "start_time": "2023-03-04T09:36:44.524034Z"
    }
   },
   "outputs": [
    {
     "name": "stdout",
     "output_type": "stream",
     "text": [
      "\n",
      "КОЛОНКА \"Channel\"\"\n",
      "Уникальные значения в 1: ['Hypermarkets', 'Minimarkets', 'Supermarkets', nan]\n",
      "Уникальные значения в 2: ['Hypermarkets', 'Minimarkets', 'Supermarkets']\n",
      "Уникальные значения в 3: ['Hypermarkets', 'Minimarkets', 'Supermarkets']\n",
      "\n",
      "КОЛОНКА \"Brand\"\"\n",
      "Уникальные значения в 1: ['Green', 'Blue', 'Black', 'White', 'Red', 'Yellow', 'Orange', 'Purple', 'Pink', 'Brown', 'Grey', 'Pale', 'Pastel', 'Mat', 'Deep', 'Dim', 'Vivid', 'Virulent', 'Moderate', 'Glossy', 'Delicate', 'Silver', 'Lime', 'Teal', 'Khaki', 'Golden', 'Beige', 'Salmon', nan, 'Cream']\n",
      "Уникальные значения в 2: ['Green', 'Blue', 'Black', 'Yellow', 'White', 'Red', 'Orange', 'Purple', 'Brown', 'Pink', 'Golden', 'Grey', 'Vivid', 'Deep', 'Moderate', 'Pale', 'Dim', 'Lime', 'Virulent', 'Magenta', 'Rosy', 'Beige', 'Lilac', 'Cream', 'Cotton', 'Silver', 'Snow']\n",
      "Уникальные значения в 3: ['Green', 'Blue', 'White', 'Orange', 'Red', 'Yellow', 'Magenta', 'Purple', 'Pink', 'Cotton', 'Snow', 'Rosy', 'Lilac', 'Black', 'Deep', 'Vivid', 'Lime', 'Pearl', 'Dim', 'Macaroon', 'Rice', 'Linen', 'Bone', 'Daisy', 'Powder']\n",
      "\n",
      "КОЛОНКА \"Weight range\"\"\n",
      "Уникальные значения в 1: ['200-249G', '350-399G', '400-599G', '600-899G', '<200G', '250-299G', '300-349G', '100-199G']\n",
      "Уникальные значения в 2: ['200-249G', '350-399G', '400-599G', '600-899G', '<200G', '250-299G', '300-349G', '100-199G']\n",
      "Уникальные значения в 3: ['200-249G', '350-399G', '400-599G', '<200G', '250-299G', '300-349G', '600-899G', '100-199G']\n"
     ]
    }
   ],
   "source": [
    "# Прверяем корректность записи категориальных меременных\n",
    "for col in ['Channel', 'Brand', 'Weight range']:\n",
    "    print(f'\\nКОЛОНКА \"{col}\"\"')\n",
    "    for i, df in enumerate([df_2020, df_2021, df_2022_txt]):\n",
    "        print(f'Уникальные значения в {i+1}: {list((df[col].unique()))}')"
   ]
  },
  {
   "cell_type": "code",
   "execution_count": 524,
   "id": "4d2941e2",
   "metadata": {
    "ExecuteTime": {
     "end_time": "2023-03-04T09:35:05.931088Z",
     "start_time": "2023-03-04T09:35:05.926277Z"
    }
   },
   "outputs": [],
   "source": [
    "# Меняем во втором датафрейме в колонке \"Brand\"\n",
    "# не корректное значение 'Greennn#!' меняем на 'Green'\n",
    "df_2021['Brand'] = df_2021['Brand'].replace(['Greennn#!'], 'Green')"
   ]
  },
  {
   "cell_type": "code",
   "execution_count": 527,
   "id": "dc6dddc2",
   "metadata": {
    "ExecuteTime": {
     "end_time": "2023-03-04T09:38:39.146949Z",
     "start_time": "2023-03-04T09:38:39.118217Z"
    }
   },
   "outputs": [
    {
     "name": "stdout",
     "output_type": "stream",
     "text": [
      "Дубликаты в 1:      Year  Month Channel Brand Weight range  Units (in 1000)  \\\n",
      "646  2020   <NA>     NaN   NaN     400-599G         100000.0   \n",
      "648  2020   <NA>     NaN   NaN     350-399G         100000.0   \n",
      "649  2020   <NA>     NaN   NaN     400-599G         100000.0   \n",
      "651  2020   <NA>     NaN   NaN     200-249G         100000.0   \n",
      "652  2020   <NA>     NaN   NaN     400-599G         100000.0   \n",
      "653  2020   <NA>     NaN   NaN        <200G         100000.0   \n",
      "654  2020   <NA>     NaN   NaN     350-399G         100000.0   \n",
      "655  2020   <NA>     NaN   NaN     350-399G         100000.0   \n",
      "656  2020   <NA>     NaN   NaN     400-599G         100000.0   \n",
      "657  2020   <NA>     NaN   NaN     200-249G         100000.0   \n",
      "658  2020   <NA>     NaN   NaN     350-399G         100000.0   \n",
      "\n",
      "     Value (in 1000 rub)  Volume (in 1000 kg)  Number of stores  \n",
      "646             100000.0             100000.0            100000  \n",
      "648             100000.0             100000.0            100000  \n",
      "649             100000.0             100000.0            100000  \n",
      "651             100000.0             100000.0            100000  \n",
      "652             100000.0             100000.0            100000  \n",
      "653             100000.0             100000.0            100000  \n",
      "654             100000.0             100000.0            100000  \n",
      "655             100000.0             100000.0            100000  \n",
      "656             100000.0             100000.0            100000  \n",
      "657             100000.0             100000.0            100000  \n",
      "658             100000.0             100000.0            100000  \n",
      "Дубликаты в 2: Empty DataFrame\n",
      "Columns: [Year, Month, Channel, Brand, Weight range, Units (in 1000), Value (in 1000 rub), Volume (in 1000 kg), Number of stores]\n",
      "Index: []\n",
      "Дубликаты в 3: Empty DataFrame\n",
      "Columns: [Year, Month, Channel, Brand, Weight range, Units (in 1000), Value (in 1000 rub), Volume (in 1000 kg), Number of stores]\n",
      "Index: []\n"
     ]
    }
   ],
   "source": [
    "# Проверяем наличие дубликтов\n",
    "for i, df in enumerate([df_2020, df_2021, df_2022_txt]):\n",
    "    print(f'Дубликаты в {i+1}: {df[df.duplicated()]}')"
   ]
  },
  {
   "cell_type": "markdown",
   "id": "cb888403",
   "metadata": {},
   "source": [
    "ВЫВОД: Все выявленные 11 строк в первом датафрейме имеют не заполненные значения - значит могут быть не дубликатами, а не полностью заполненными уникальными записями. Таким образом на данном этапе удалять их не целесообразно."
   ]
  },
  {
   "cell_type": "code",
   "execution_count": 529,
   "id": "c7fe916a",
   "metadata": {
    "ExecuteTime": {
     "end_time": "2023-03-04T09:49:15.965620Z",
     "start_time": "2023-03-04T09:49:15.959199Z"
    }
   },
   "outputs": [],
   "source": [
    "# Объединим датафреймы\n",
    "df = pd.concat([df_2020, df_2021, df_2022_txt])"
   ]
  },
  {
   "cell_type": "code",
   "execution_count": 530,
   "id": "67507a4e",
   "metadata": {
    "ExecuteTime": {
     "end_time": "2023-03-04T09:49:24.186856Z",
     "start_time": "2023-03-04T09:49:24.175689Z"
    }
   },
   "outputs": [
    {
     "name": "stdout",
     "output_type": "stream",
     "text": [
      "<class 'pandas.core.frame.DataFrame'>\n",
      "Int64Index: 2630 entries, 0 to 680\n",
      "Data columns (total 9 columns):\n",
      " #   Column               Non-Null Count  Dtype  \n",
      "---  ------               --------------  -----  \n",
      " 0   Year                 2630 non-null   Int64  \n",
      " 1   Month                2614 non-null   Int64  \n",
      " 2   Channel              2614 non-null   object \n",
      " 3   Brand                2614 non-null   object \n",
      " 4   Weight range         2630 non-null   object \n",
      " 5   Units (in 1000)      2630 non-null   float64\n",
      " 6   Value (in 1000 rub)  2630 non-null   float64\n",
      " 7   Volume (in 1000 kg)  2630 non-null   float64\n",
      " 8   Number of stores     2024 non-null   Int64  \n",
      "dtypes: Int64(3), float64(3), object(3)\n",
      "memory usage: 213.2+ KB\n"
     ]
    }
   ],
   "source": [
    "df.info()"
   ]
  },
  {
   "cell_type": "markdown",
   "id": "c4c899af",
   "metadata": {
    "ExecuteTime": {
     "end_time": "2023-03-04T09:49:42.788094Z",
     "start_time": "2023-03-04T09:49:42.772476Z"
    }
   },
   "source": [
    "# 4. Запись результатов обработки в файл Excel"
   ]
  },
  {
   "cell_type": "code",
   "execution_count": null,
   "id": "4be4efc6",
   "metadata": {},
   "outputs": [],
   "source": [
    "df.to_excel('')"
   ]
  }
 ],
 "metadata": {
  "kernelspec": {
   "display_name": "Python 3 (ipykernel)",
   "language": "python",
   "name": "python3"
  },
  "language_info": {
   "codemirror_mode": {
    "name": "ipython",
    "version": 3
   },
   "file_extension": ".py",
   "mimetype": "text/x-python",
   "name": "python",
   "nbconvert_exporter": "python",
   "pygments_lexer": "ipython3",
   "version": "3.9.13"
  },
  "toc": {
   "base_numbering": 1,
   "nav_menu": {},
   "number_sections": false,
   "sideBar": true,
   "skip_h1_title": false,
   "title_cell": "СОДЕРЖАНИЕ",
   "title_sidebar": "Contents",
   "toc_cell": true,
   "toc_position": {},
   "toc_section_display": true,
   "toc_window_display": false
  },
  "varInspector": {
   "cols": {
    "lenName": 16,
    "lenType": 16,
    "lenVar": 40
   },
   "kernels_config": {
    "python": {
     "delete_cmd_postfix": "",
     "delete_cmd_prefix": "del ",
     "library": "var_list.py",
     "varRefreshCmd": "print(var_dic_list())"
    },
    "r": {
     "delete_cmd_postfix": ") ",
     "delete_cmd_prefix": "rm(",
     "library": "var_list.r",
     "varRefreshCmd": "cat(var_dic_list()) "
    }
   },
   "types_to_exclude": [
    "module",
    "function",
    "builtin_function_or_method",
    "instance",
    "_Feature"
   ],
   "window_display": false
  }
 },
 "nbformat": 4,
 "nbformat_minor": 5
}
